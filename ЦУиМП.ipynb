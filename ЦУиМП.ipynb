{
  "nbformat": 4,
  "nbformat_minor": 0,
  "metadata": {
    "colab": {
      "name": "ЦУиМП.ipynb",
      "provenance": [],
      "collapsed_sections": [
        "gGMu_vr0JOQb",
        "21Jc8Ua3JUFr",
        "T1srm3Y-JX3w",
        "qqSznqtKJdAx",
        "HLXDFyrdT4fY",
        "BLNrMEVviucz"
      ],
      "authorship_tag": "ABX9TyOu8g24PEol/HJd9vdxfqHg",
      "include_colab_link": true
    },
    "kernelspec": {
      "name": "python3",
      "display_name": "Python 3"
    },
    "language_info": {
      "name": "python"
    }
  },
  "cells": [
    {
      "cell_type": "markdown",
      "metadata": {
        "id": "view-in-github",
        "colab_type": "text"
      },
      "source": [
        "<a href=\"https://colab.research.google.com/github/AlfaIV/Electronics-and-Circuitry/blob/main/%D0%A6%D0%A3%D0%B8%D0%9C%D0%9F.ipynb\" target=\"_parent\"><img src=\"https://colab.research.google.com/assets/colab-badge.svg\" alt=\"Open In Colab\"/></a>"
      ]
    },
    {
      "cell_type": "code",
      "source": [
        "!pip install schemdraw"
      ],
      "metadata": {
        "colab": {
          "base_uri": "https://localhost:8080/"
        },
        "id": "vfNZkAGhU5eP",
        "outputId": "86fcb1a5-e8c9-4363-845e-b491a1a0f2ba"
      },
      "execution_count": null,
      "outputs": [
        {
          "output_type": "stream",
          "name": "stdout",
          "text": [
            "Requirement already satisfied: schemdraw in /usr/local/lib/python3.7/dist-packages (0.14)\n",
            "Requirement already satisfied: typing-extensions in /usr/local/lib/python3.7/dist-packages (from schemdraw) (3.10.0.2)\n"
          ]
        }
      ]
    },
    {
      "cell_type": "code",
      "source": [
        "import pandas as pd\n",
        "import sympy as sym\n",
        "import schemdraw.logic as logic"
      ],
      "metadata": {
        "id": "I6B8u832BnCQ"
      },
      "execution_count": null,
      "outputs": []
    },
    {
      "cell_type": "code",
      "source": [
        "Q1,Q2,Q3,Q4= sym.symbols(\"Q1,Q2,Q3,Q4\")"
      ],
      "metadata": {
        "id": "hLwROzzI6zR7"
      },
      "execution_count": null,
      "outputs": []
    },
    {
      "cell_type": "markdown",
      "source": [
        "# ДОМАШНЕЕ ЗАДАНИЕ №1\n",
        "# ПО КУРСУ \"ЦИФРОВЫЕ УСТРОЙСТВА И МИКРОПРОЦЕССОРЫ\".\n",
        "\n",
        "Спроектировать логическую устройство (счетчик на любой модуль счета), реализующий заданную последовательность состояний. \n",
        "\n",
        "1.\tСоставить таблицу истинности согласно заданной последовательности состояний.\n",
        "2.\tЗаписать логические функции, используя СНДФ. \n",
        "3.\tПроизвести минимизацию функций по правилам алгебры логики.\n",
        "4.\tМинимизировать функции с помощью карт Карно. \n",
        "5.\tСогласно минимизированным логическим функциям построить комбинационную логическую схему.\n",
        "6.\tРазработать логическую устройство, соединив в одной схеме комбинационную логическую схему и триггеры счетчика.\n",
        "7.\tПроверить работу счетчика с помощью программ моделирования МС или Multisim\n",
        "8.\tСоставить принципиальную схему цифрового устройства, используя реальные логические интегральные схемы  ТТЛ-логики. Минимизировать количество корпусов микросхем. \n",
        "9.\tОформить задание и принципиальную схему с соблюдением ГОСТ.\n",
        "\n",
        "Справочник по ТТЛ МС автор Козак Виктор Романович можно найти по ссылке \n",
        "http://www.qrz.ru/reference/kozak/ttl/ttlh00.shtml\n"
      ],
      "metadata": {
        "id": "U1gMTdiJ-2TG"
      }
    },
    {
      "cell_type": "markdown",
      "source": [
        "| Номер варианта |\tСостояния счетчика     |\n",
        "|----------------|:------------------------|\n",
        "| 58\t           | 7- 4- 5- 6- 8- 12- 2- 3 |"
      ],
      "metadata": {
        "id": "59DBUw0bAIjC"
      }
    },
    {
      "cell_type": "markdown",
      "source": [
        "# Ввод начальных условий"
      ],
      "metadata": {
        "id": "nhPcAwFNN19w"
      }
    },
    {
      "cell_type": "code",
      "execution_count": null,
      "metadata": {
        "colab": {
          "base_uri": "https://localhost:8080/"
        },
        "id": "NsWUjNu7-Qo8",
        "outputId": "98ec9b36-5d49-4527-9b60-2671598e158b"
      },
      "outputs": [
        {
          "output_type": "execute_result",
          "data": {
            "text/plain": [
              "8"
            ]
          },
          "metadata": {},
          "execution_count": 125
        }
      ],
      "source": [
        "In = [7,4,5,6,8,12,2,3]\n",
        "len(In)"
      ]
    },
    {
      "cell_type": "code",
      "source": [
        "len(bin(max(In))[2:])"
      ],
      "metadata": {
        "colab": {
          "base_uri": "https://localhost:8080/"
        },
        "id": "Bu1lGe3Tp-fM",
        "outputId": "173a510c-3046-458a-8aa9-9468f72b56b9"
      },
      "execution_count": null,
      "outputs": [
        {
          "output_type": "execute_result",
          "data": {
            "text/plain": [
              "4"
            ]
          },
          "metadata": {},
          "execution_count": 126
        }
      ]
    },
    {
      "cell_type": "code",
      "source": [
        "N = 2**len(bin(max(In))[2:])\n",
        "notorder = list({i for i in range(N)}.difference(set(In)))\n",
        "notorder"
      ],
      "metadata": {
        "colab": {
          "base_uri": "https://localhost:8080/"
        },
        "id": "BlIxHukLe0lu",
        "outputId": "04a96056-c4d8-4aa5-b955-c3c3df3b3a31"
      },
      "execution_count": null,
      "outputs": [
        {
          "output_type": "execute_result",
          "data": {
            "text/plain": [
              "[0, 1, 9, 10, 11, 13, 14, 15]"
            ]
          },
          "metadata": {},
          "execution_count": 127
        }
      ]
    },
    {
      "cell_type": "markdown",
      "source": [
        "Перевод в двоичную систему счисления"
      ],
      "metadata": {
        "id": "C7gqX3Y8N5Fe"
      }
    },
    {
      "cell_type": "code",
      "source": [
        "In_byte = [bin(i)[2:] for i in In]\n",
        "In_byte"
      ],
      "metadata": {
        "colab": {
          "base_uri": "https://localhost:8080/"
        },
        "id": "9x6Ey87RA9w5",
        "outputId": "6a9745b9-0cff-4ba7-8109-109246e3b6e3"
      },
      "execution_count": null,
      "outputs": [
        {
          "output_type": "execute_result",
          "data": {
            "text/plain": [
              "['111', '100', '101', '110', '1000', '1100', '10', '11']"
            ]
          },
          "metadata": {},
          "execution_count": 128
        }
      ]
    },
    {
      "cell_type": "code",
      "source": [
        "notorder_byte = [bin(i)[2:] for i in notorder]\n",
        "notorder_byte"
      ],
      "metadata": {
        "colab": {
          "base_uri": "https://localhost:8080/"
        },
        "id": "etRGJ7o-oiJ8",
        "outputId": "56a9bee6-4609-4b9b-c9e0-aa2bf2c15f0c"
      },
      "execution_count": null,
      "outputs": [
        {
          "output_type": "execute_result",
          "data": {
            "text/plain": [
              "['0', '1', '1001', '1010', '1011', '1101', '1110', '1111']"
            ]
          },
          "metadata": {},
          "execution_count": 129
        }
      ]
    },
    {
      "cell_type": "code",
      "source": [
        "len(notorder_byte)"
      ],
      "metadata": {
        "colab": {
          "base_uri": "https://localhost:8080/"
        },
        "id": "n-pulxUbwZnR",
        "outputId": "3e67d82e-c234-4d99-ecdf-00437781036b"
      },
      "execution_count": null,
      "outputs": [
        {
          "output_type": "execute_result",
          "data": {
            "text/plain": [
              "8"
            ]
          },
          "metadata": {},
          "execution_count": 171
        }
      ]
    },
    {
      "cell_type": "markdown",
      "source": [
        "Функция дозаполнения 0-ми до нужной разрядности двоичной записи числа"
      ],
      "metadata": {
        "id": "Z4-Yg6iBN_Ri"
      }
    },
    {
      "cell_type": "code",
      "source": [
        "def To_N_Byte(n,byte):\n",
        "  if len(byte) < n:\n",
        "    #ret_byte = [0 for i in range(n - len(byte))]\n",
        "    #print(ret_byte)\n",
        "    #print([i for i in byte])\n",
        "    #print(ret_byte + [i for i in byte])\n",
        "    return [0 for i in range(n - len(byte))] + [int(i) for i in byte]\n",
        "  else:\n",
        "    return [int(i) for i in byte]\n",
        "To_N_Byte(4,In_byte[0])"
      ],
      "metadata": {
        "colab": {
          "base_uri": "https://localhost:8080/"
        },
        "id": "xL9wWqpuLvQ0",
        "outputId": "b43f28ef-d4f3-49a3-b4db-d05275d24ed3"
      },
      "execution_count": null,
      "outputs": [
        {
          "output_type": "execute_result",
          "data": {
            "text/plain": [
              "[0, 1, 1, 1]"
            ]
          },
          "metadata": {},
          "execution_count": 130
        }
      ]
    },
    {
      "cell_type": "markdown",
      "source": [
        "Логика переходов задает последовательность изменения состояний, а число триггеров определено модулем счета счетчика. В данном случае максимальным числом, который должен показывать счетчик «1011» десятичный эквивалент «11». Это число в двоичном коде представляется 4 разрядами, следовательно, необходимо не менее 4 триггеров для двоичного счетчика.\n",
        "\n",
        "Первое состояние 110 (D=6) с выхода КЛС (D1,D2,D3,D4) подается на установочный вход D-триггеров и появится на выходе триггеров (Q1,Q2,Q3,Q4) после прихода тактового импульса на вход «Т». С выходов триггеров 110 одновременно подаются на вход КЛС, которая должна сгенерировать на выходах (D1,D2,D3) следующее состояние 1011. С приходом тактового импульса на выходе триггеров установится это состояние. КЛС далее должна сгенерировать следующее состояние 11 и так далее. Этой логике работы соответствует таблица истинности, представленная ниже в таблице 1.\n"
      ],
      "metadata": {
        "id": "rEGOvM6DF9VW"
      }
    },
    {
      "cell_type": "code",
      "source": [
        "index_pd_frame = [[str(i)] for i in In]\n",
        "value_pd_frame = [To_N_Byte(4,In_byte[i]) for i in range(len(In))]\n",
        "[index_pd_frame[i].extend(value_pd_frame[i]) for i in range(len(In))]\n",
        "column_name = [\"N\",\"Q1\",\"Q2\",\"Q3\",\"Q4\"]\n",
        "index_pd_frame"
      ],
      "metadata": {
        "colab": {
          "base_uri": "https://localhost:8080/"
        },
        "id": "V-DJfrcvez9l",
        "outputId": "ce32754b-ff7a-4d16-a464-04faeb161a4b"
      },
      "execution_count": null,
      "outputs": [
        {
          "output_type": "execute_result",
          "data": {
            "text/plain": [
              "[['7', 0, 1, 1, 1],\n",
              " ['4', 0, 1, 0, 0],\n",
              " ['5', 0, 1, 0, 1],\n",
              " ['6', 0, 1, 1, 0],\n",
              " ['8', 1, 0, 0, 0],\n",
              " ['12', 1, 1, 0, 0],\n",
              " ['2', 0, 0, 1, 0],\n",
              " ['3', 0, 0, 1, 1]]"
            ]
          },
          "metadata": {},
          "execution_count": 131
        }
      ]
    },
    {
      "cell_type": "markdown",
      "source": [
        "Таблица 1\n",
        "\n",
        "Текущее состояние счетчика"
      ],
      "metadata": {
        "id": "BNKKxhNvOiXc"
      }
    },
    {
      "cell_type": "code",
      "source": [
        "Table1 = pd.DataFrame(index_pd_frame,\n",
        "                      columns=column_name)\n",
        "Table1"
      ],
      "metadata": {
        "colab": {
          "base_uri": "https://localhost:8080/",
          "height": 300
        },
        "id": "ZdHqI3ZXLfTw",
        "outputId": "a0795ab3-2d4c-41e9-b0c7-a3d1077a49c1"
      },
      "execution_count": null,
      "outputs": [
        {
          "output_type": "execute_result",
          "data": {
            "text/html": [
              "\n",
              "  <div id=\"df-3ef97323-75b2-4452-9c11-98452ae47b49\">\n",
              "    <div class=\"colab-df-container\">\n",
              "      <div>\n",
              "<style scoped>\n",
              "    .dataframe tbody tr th:only-of-type {\n",
              "        vertical-align: middle;\n",
              "    }\n",
              "\n",
              "    .dataframe tbody tr th {\n",
              "        vertical-align: top;\n",
              "    }\n",
              "\n",
              "    .dataframe thead th {\n",
              "        text-align: right;\n",
              "    }\n",
              "</style>\n",
              "<table border=\"1\" class=\"dataframe\">\n",
              "  <thead>\n",
              "    <tr style=\"text-align: right;\">\n",
              "      <th></th>\n",
              "      <th>N</th>\n",
              "      <th>Q1</th>\n",
              "      <th>Q2</th>\n",
              "      <th>Q3</th>\n",
              "      <th>Q4</th>\n",
              "    </tr>\n",
              "  </thead>\n",
              "  <tbody>\n",
              "    <tr>\n",
              "      <th>0</th>\n",
              "      <td>7</td>\n",
              "      <td>0</td>\n",
              "      <td>1</td>\n",
              "      <td>1</td>\n",
              "      <td>1</td>\n",
              "    </tr>\n",
              "    <tr>\n",
              "      <th>1</th>\n",
              "      <td>4</td>\n",
              "      <td>0</td>\n",
              "      <td>1</td>\n",
              "      <td>0</td>\n",
              "      <td>0</td>\n",
              "    </tr>\n",
              "    <tr>\n",
              "      <th>2</th>\n",
              "      <td>5</td>\n",
              "      <td>0</td>\n",
              "      <td>1</td>\n",
              "      <td>0</td>\n",
              "      <td>1</td>\n",
              "    </tr>\n",
              "    <tr>\n",
              "      <th>3</th>\n",
              "      <td>6</td>\n",
              "      <td>0</td>\n",
              "      <td>1</td>\n",
              "      <td>1</td>\n",
              "      <td>0</td>\n",
              "    </tr>\n",
              "    <tr>\n",
              "      <th>4</th>\n",
              "      <td>8</td>\n",
              "      <td>1</td>\n",
              "      <td>0</td>\n",
              "      <td>0</td>\n",
              "      <td>0</td>\n",
              "    </tr>\n",
              "    <tr>\n",
              "      <th>5</th>\n",
              "      <td>12</td>\n",
              "      <td>1</td>\n",
              "      <td>1</td>\n",
              "      <td>0</td>\n",
              "      <td>0</td>\n",
              "    </tr>\n",
              "    <tr>\n",
              "      <th>6</th>\n",
              "      <td>2</td>\n",
              "      <td>0</td>\n",
              "      <td>0</td>\n",
              "      <td>1</td>\n",
              "      <td>0</td>\n",
              "    </tr>\n",
              "    <tr>\n",
              "      <th>7</th>\n",
              "      <td>3</td>\n",
              "      <td>0</td>\n",
              "      <td>0</td>\n",
              "      <td>1</td>\n",
              "      <td>1</td>\n",
              "    </tr>\n",
              "  </tbody>\n",
              "</table>\n",
              "</div>\n",
              "      <button class=\"colab-df-convert\" onclick=\"convertToInteractive('df-3ef97323-75b2-4452-9c11-98452ae47b49')\"\n",
              "              title=\"Convert this dataframe to an interactive table.\"\n",
              "              style=\"display:none;\">\n",
              "        \n",
              "  <svg xmlns=\"http://www.w3.org/2000/svg\" height=\"24px\"viewBox=\"0 0 24 24\"\n",
              "       width=\"24px\">\n",
              "    <path d=\"M0 0h24v24H0V0z\" fill=\"none\"/>\n",
              "    <path d=\"M18.56 5.44l.94 2.06.94-2.06 2.06-.94-2.06-.94-.94-2.06-.94 2.06-2.06.94zm-11 1L8.5 8.5l.94-2.06 2.06-.94-2.06-.94L8.5 2.5l-.94 2.06-2.06.94zm10 10l.94 2.06.94-2.06 2.06-.94-2.06-.94-.94-2.06-.94 2.06-2.06.94z\"/><path d=\"M17.41 7.96l-1.37-1.37c-.4-.4-.92-.59-1.43-.59-.52 0-1.04.2-1.43.59L10.3 9.45l-7.72 7.72c-.78.78-.78 2.05 0 2.83L4 21.41c.39.39.9.59 1.41.59.51 0 1.02-.2 1.41-.59l7.78-7.78 2.81-2.81c.8-.78.8-2.07 0-2.86zM5.41 20L4 18.59l7.72-7.72 1.47 1.35L5.41 20z\"/>\n",
              "  </svg>\n",
              "      </button>\n",
              "      \n",
              "  <style>\n",
              "    .colab-df-container {\n",
              "      display:flex;\n",
              "      flex-wrap:wrap;\n",
              "      gap: 12px;\n",
              "    }\n",
              "\n",
              "    .colab-df-convert {\n",
              "      background-color: #E8F0FE;\n",
              "      border: none;\n",
              "      border-radius: 50%;\n",
              "      cursor: pointer;\n",
              "      display: none;\n",
              "      fill: #1967D2;\n",
              "      height: 32px;\n",
              "      padding: 0 0 0 0;\n",
              "      width: 32px;\n",
              "    }\n",
              "\n",
              "    .colab-df-convert:hover {\n",
              "      background-color: #E2EBFA;\n",
              "      box-shadow: 0px 1px 2px rgba(60, 64, 67, 0.3), 0px 1px 3px 1px rgba(60, 64, 67, 0.15);\n",
              "      fill: #174EA6;\n",
              "    }\n",
              "\n",
              "    [theme=dark] .colab-df-convert {\n",
              "      background-color: #3B4455;\n",
              "      fill: #D2E3FC;\n",
              "    }\n",
              "\n",
              "    [theme=dark] .colab-df-convert:hover {\n",
              "      background-color: #434B5C;\n",
              "      box-shadow: 0px 1px 3px 1px rgba(0, 0, 0, 0.15);\n",
              "      filter: drop-shadow(0px 1px 2px rgba(0, 0, 0, 0.3));\n",
              "      fill: #FFFFFF;\n",
              "    }\n",
              "  </style>\n",
              "\n",
              "      <script>\n",
              "        const buttonEl =\n",
              "          document.querySelector('#df-3ef97323-75b2-4452-9c11-98452ae47b49 button.colab-df-convert');\n",
              "        buttonEl.style.display =\n",
              "          google.colab.kernel.accessAllowed ? 'block' : 'none';\n",
              "\n",
              "        async function convertToInteractive(key) {\n",
              "          const element = document.querySelector('#df-3ef97323-75b2-4452-9c11-98452ae47b49');\n",
              "          const dataTable =\n",
              "            await google.colab.kernel.invokeFunction('convertToInteractive',\n",
              "                                                     [key], {});\n",
              "          if (!dataTable) return;\n",
              "\n",
              "          const docLinkHtml = 'Like what you see? Visit the ' +\n",
              "            '<a target=\"_blank\" href=https://colab.research.google.com/notebooks/data_table.ipynb>data table notebook</a>'\n",
              "            + ' to learn more about interactive tables.';\n",
              "          element.innerHTML = '';\n",
              "          dataTable['output_type'] = 'display_data';\n",
              "          await google.colab.output.renderOutput(dataTable, element);\n",
              "          const docLink = document.createElement('div');\n",
              "          docLink.innerHTML = docLinkHtml;\n",
              "          element.appendChild(docLink);\n",
              "        }\n",
              "      </script>\n",
              "    </div>\n",
              "  </div>\n",
              "  "
            ],
            "text/plain": [
              "    N  Q1  Q2  Q3  Q4\n",
              "0   7   0   1   1   1\n",
              "1   4   0   1   0   0\n",
              "2   5   0   1   0   1\n",
              "3   6   0   1   1   0\n",
              "4   8   1   0   0   0\n",
              "5  12   1   1   0   0\n",
              "6   2   0   0   1   0\n",
              "7   3   0   0   1   1"
            ]
          },
          "metadata": {},
          "execution_count": 132
        }
      ]
    },
    {
      "cell_type": "code",
      "source": [
        "value_pd_frame2 = value_pd_frame[1:]\n",
        "value_pd_frame2.append(value_pd_frame[0])\n",
        "index_pd_frame2 = index_pd_frame[1:]\n",
        "index_pd_frame2.append(index_pd_frame[0])\n",
        "#[index_pd_frame2[i].extend(value_pd_frame2[i]) for i in range(len(In))]\n",
        "column_name2 = [\"N\",\"D1\",\"D2\",\"D3\",\"D4\"]\n",
        "index_pd_frame2\n"
      ],
      "metadata": {
        "colab": {
          "base_uri": "https://localhost:8080/"
        },
        "id": "SwhVgZ2mePfi",
        "outputId": "b6e94c30-5367-4917-d881-7e622e9987b3"
      },
      "execution_count": null,
      "outputs": [
        {
          "output_type": "execute_result",
          "data": {
            "text/plain": [
              "[['4', 0, 1, 0, 0],\n",
              " ['5', 0, 1, 0, 1],\n",
              " ['6', 0, 1, 1, 0],\n",
              " ['8', 1, 0, 0, 0],\n",
              " ['12', 1, 1, 0, 0],\n",
              " ['2', 0, 0, 1, 0],\n",
              " ['3', 0, 0, 1, 1],\n",
              " ['7', 0, 1, 1, 1]]"
            ]
          },
          "metadata": {},
          "execution_count": 133
        }
      ]
    },
    {
      "cell_type": "markdown",
      "source": [
        "Последующее состояние счетчика"
      ],
      "metadata": {
        "id": "-HScTi8MRKZE"
      }
    },
    {
      "cell_type": "code",
      "source": [
        "Table1_2 = pd.DataFrame(index_pd_frame2,\n",
        "                        columns=column_name2)\n",
        "Table1_2"
      ],
      "metadata": {
        "colab": {
          "base_uri": "https://localhost:8080/",
          "height": 300
        },
        "id": "F-MftaMibCY-",
        "outputId": "775ec3aa-1c2b-46f8-87f0-9e7d2112f5ad"
      },
      "execution_count": null,
      "outputs": [
        {
          "output_type": "execute_result",
          "data": {
            "text/html": [
              "\n",
              "  <div id=\"df-60ea7e3c-2d1b-40fc-91ce-9da15f3a48e6\">\n",
              "    <div class=\"colab-df-container\">\n",
              "      <div>\n",
              "<style scoped>\n",
              "    .dataframe tbody tr th:only-of-type {\n",
              "        vertical-align: middle;\n",
              "    }\n",
              "\n",
              "    .dataframe tbody tr th {\n",
              "        vertical-align: top;\n",
              "    }\n",
              "\n",
              "    .dataframe thead th {\n",
              "        text-align: right;\n",
              "    }\n",
              "</style>\n",
              "<table border=\"1\" class=\"dataframe\">\n",
              "  <thead>\n",
              "    <tr style=\"text-align: right;\">\n",
              "      <th></th>\n",
              "      <th>N</th>\n",
              "      <th>D1</th>\n",
              "      <th>D2</th>\n",
              "      <th>D3</th>\n",
              "      <th>D4</th>\n",
              "    </tr>\n",
              "  </thead>\n",
              "  <tbody>\n",
              "    <tr>\n",
              "      <th>0</th>\n",
              "      <td>4</td>\n",
              "      <td>0</td>\n",
              "      <td>1</td>\n",
              "      <td>0</td>\n",
              "      <td>0</td>\n",
              "    </tr>\n",
              "    <tr>\n",
              "      <th>1</th>\n",
              "      <td>5</td>\n",
              "      <td>0</td>\n",
              "      <td>1</td>\n",
              "      <td>0</td>\n",
              "      <td>1</td>\n",
              "    </tr>\n",
              "    <tr>\n",
              "      <th>2</th>\n",
              "      <td>6</td>\n",
              "      <td>0</td>\n",
              "      <td>1</td>\n",
              "      <td>1</td>\n",
              "      <td>0</td>\n",
              "    </tr>\n",
              "    <tr>\n",
              "      <th>3</th>\n",
              "      <td>8</td>\n",
              "      <td>1</td>\n",
              "      <td>0</td>\n",
              "      <td>0</td>\n",
              "      <td>0</td>\n",
              "    </tr>\n",
              "    <tr>\n",
              "      <th>4</th>\n",
              "      <td>12</td>\n",
              "      <td>1</td>\n",
              "      <td>1</td>\n",
              "      <td>0</td>\n",
              "      <td>0</td>\n",
              "    </tr>\n",
              "    <tr>\n",
              "      <th>5</th>\n",
              "      <td>2</td>\n",
              "      <td>0</td>\n",
              "      <td>0</td>\n",
              "      <td>1</td>\n",
              "      <td>0</td>\n",
              "    </tr>\n",
              "    <tr>\n",
              "      <th>6</th>\n",
              "      <td>3</td>\n",
              "      <td>0</td>\n",
              "      <td>0</td>\n",
              "      <td>1</td>\n",
              "      <td>1</td>\n",
              "    </tr>\n",
              "    <tr>\n",
              "      <th>7</th>\n",
              "      <td>7</td>\n",
              "      <td>0</td>\n",
              "      <td>1</td>\n",
              "      <td>1</td>\n",
              "      <td>1</td>\n",
              "    </tr>\n",
              "  </tbody>\n",
              "</table>\n",
              "</div>\n",
              "      <button class=\"colab-df-convert\" onclick=\"convertToInteractive('df-60ea7e3c-2d1b-40fc-91ce-9da15f3a48e6')\"\n",
              "              title=\"Convert this dataframe to an interactive table.\"\n",
              "              style=\"display:none;\">\n",
              "        \n",
              "  <svg xmlns=\"http://www.w3.org/2000/svg\" height=\"24px\"viewBox=\"0 0 24 24\"\n",
              "       width=\"24px\">\n",
              "    <path d=\"M0 0h24v24H0V0z\" fill=\"none\"/>\n",
              "    <path d=\"M18.56 5.44l.94 2.06.94-2.06 2.06-.94-2.06-.94-.94-2.06-.94 2.06-2.06.94zm-11 1L8.5 8.5l.94-2.06 2.06-.94-2.06-.94L8.5 2.5l-.94 2.06-2.06.94zm10 10l.94 2.06.94-2.06 2.06-.94-2.06-.94-.94-2.06-.94 2.06-2.06.94z\"/><path d=\"M17.41 7.96l-1.37-1.37c-.4-.4-.92-.59-1.43-.59-.52 0-1.04.2-1.43.59L10.3 9.45l-7.72 7.72c-.78.78-.78 2.05 0 2.83L4 21.41c.39.39.9.59 1.41.59.51 0 1.02-.2 1.41-.59l7.78-7.78 2.81-2.81c.8-.78.8-2.07 0-2.86zM5.41 20L4 18.59l7.72-7.72 1.47 1.35L5.41 20z\"/>\n",
              "  </svg>\n",
              "      </button>\n",
              "      \n",
              "  <style>\n",
              "    .colab-df-container {\n",
              "      display:flex;\n",
              "      flex-wrap:wrap;\n",
              "      gap: 12px;\n",
              "    }\n",
              "\n",
              "    .colab-df-convert {\n",
              "      background-color: #E8F0FE;\n",
              "      border: none;\n",
              "      border-radius: 50%;\n",
              "      cursor: pointer;\n",
              "      display: none;\n",
              "      fill: #1967D2;\n",
              "      height: 32px;\n",
              "      padding: 0 0 0 0;\n",
              "      width: 32px;\n",
              "    }\n",
              "\n",
              "    .colab-df-convert:hover {\n",
              "      background-color: #E2EBFA;\n",
              "      box-shadow: 0px 1px 2px rgba(60, 64, 67, 0.3), 0px 1px 3px 1px rgba(60, 64, 67, 0.15);\n",
              "      fill: #174EA6;\n",
              "    }\n",
              "\n",
              "    [theme=dark] .colab-df-convert {\n",
              "      background-color: #3B4455;\n",
              "      fill: #D2E3FC;\n",
              "    }\n",
              "\n",
              "    [theme=dark] .colab-df-convert:hover {\n",
              "      background-color: #434B5C;\n",
              "      box-shadow: 0px 1px 3px 1px rgba(0, 0, 0, 0.15);\n",
              "      filter: drop-shadow(0px 1px 2px rgba(0, 0, 0, 0.3));\n",
              "      fill: #FFFFFF;\n",
              "    }\n",
              "  </style>\n",
              "\n",
              "      <script>\n",
              "        const buttonEl =\n",
              "          document.querySelector('#df-60ea7e3c-2d1b-40fc-91ce-9da15f3a48e6 button.colab-df-convert');\n",
              "        buttonEl.style.display =\n",
              "          google.colab.kernel.accessAllowed ? 'block' : 'none';\n",
              "\n",
              "        async function convertToInteractive(key) {\n",
              "          const element = document.querySelector('#df-60ea7e3c-2d1b-40fc-91ce-9da15f3a48e6');\n",
              "          const dataTable =\n",
              "            await google.colab.kernel.invokeFunction('convertToInteractive',\n",
              "                                                     [key], {});\n",
              "          if (!dataTable) return;\n",
              "\n",
              "          const docLinkHtml = 'Like what you see? Visit the ' +\n",
              "            '<a target=\"_blank\" href=https://colab.research.google.com/notebooks/data_table.ipynb>data table notebook</a>'\n",
              "            + ' to learn more about interactive tables.';\n",
              "          element.innerHTML = '';\n",
              "          dataTable['output_type'] = 'display_data';\n",
              "          await google.colab.output.renderOutput(dataTable, element);\n",
              "          const docLink = document.createElement('div');\n",
              "          docLink.innerHTML = docLinkHtml;\n",
              "          element.appendChild(docLink);\n",
              "        }\n",
              "      </script>\n",
              "    </div>\n",
              "  </div>\n",
              "  "
            ],
            "text/plain": [
              "    N  D1  D2  D3  D4\n",
              "0   4   0   1   0   0\n",
              "1   5   0   1   0   1\n",
              "2   6   0   1   1   0\n",
              "3   8   1   0   0   0\n",
              "4  12   1   1   0   0\n",
              "5   2   0   0   1   0\n",
              "6   3   0   0   1   1\n",
              "7   7   0   1   1   1"
            ]
          },
          "metadata": {},
          "execution_count": 134
        }
      ]
    },
    {
      "cell_type": "markdown",
      "source": [
        "|Текущее состояние счетчика |\tПоследующее состояние счетчика|\n",
        "|---------------------------|-------------------------------|"
      ],
      "metadata": {
        "id": "0ofaKaPXb1lJ"
      }
    },
    {
      "cell_type": "code",
      "source": [
        "Table1_3 = pd.concat([Table1,Table1_2],axis=1)\n",
        "Table1_3"
      ],
      "metadata": {
        "colab": {
          "base_uri": "https://localhost:8080/",
          "height": 300
        },
        "id": "LEwvpUDGTlTG",
        "outputId": "8190122e-e268-441a-fbc2-19c306f6cfee"
      },
      "execution_count": null,
      "outputs": [
        {
          "output_type": "execute_result",
          "data": {
            "text/html": [
              "\n",
              "  <div id=\"df-292a278c-f2fc-4928-a9f7-6201440ae654\">\n",
              "    <div class=\"colab-df-container\">\n",
              "      <div>\n",
              "<style scoped>\n",
              "    .dataframe tbody tr th:only-of-type {\n",
              "        vertical-align: middle;\n",
              "    }\n",
              "\n",
              "    .dataframe tbody tr th {\n",
              "        vertical-align: top;\n",
              "    }\n",
              "\n",
              "    .dataframe thead th {\n",
              "        text-align: right;\n",
              "    }\n",
              "</style>\n",
              "<table border=\"1\" class=\"dataframe\">\n",
              "  <thead>\n",
              "    <tr style=\"text-align: right;\">\n",
              "      <th></th>\n",
              "      <th>N</th>\n",
              "      <th>Q1</th>\n",
              "      <th>Q2</th>\n",
              "      <th>Q3</th>\n",
              "      <th>Q4</th>\n",
              "      <th>N</th>\n",
              "      <th>D1</th>\n",
              "      <th>D2</th>\n",
              "      <th>D3</th>\n",
              "      <th>D4</th>\n",
              "    </tr>\n",
              "  </thead>\n",
              "  <tbody>\n",
              "    <tr>\n",
              "      <th>0</th>\n",
              "      <td>7</td>\n",
              "      <td>0</td>\n",
              "      <td>1</td>\n",
              "      <td>1</td>\n",
              "      <td>1</td>\n",
              "      <td>4</td>\n",
              "      <td>0</td>\n",
              "      <td>1</td>\n",
              "      <td>0</td>\n",
              "      <td>0</td>\n",
              "    </tr>\n",
              "    <tr>\n",
              "      <th>1</th>\n",
              "      <td>4</td>\n",
              "      <td>0</td>\n",
              "      <td>1</td>\n",
              "      <td>0</td>\n",
              "      <td>0</td>\n",
              "      <td>5</td>\n",
              "      <td>0</td>\n",
              "      <td>1</td>\n",
              "      <td>0</td>\n",
              "      <td>1</td>\n",
              "    </tr>\n",
              "    <tr>\n",
              "      <th>2</th>\n",
              "      <td>5</td>\n",
              "      <td>0</td>\n",
              "      <td>1</td>\n",
              "      <td>0</td>\n",
              "      <td>1</td>\n",
              "      <td>6</td>\n",
              "      <td>0</td>\n",
              "      <td>1</td>\n",
              "      <td>1</td>\n",
              "      <td>0</td>\n",
              "    </tr>\n",
              "    <tr>\n",
              "      <th>3</th>\n",
              "      <td>6</td>\n",
              "      <td>0</td>\n",
              "      <td>1</td>\n",
              "      <td>1</td>\n",
              "      <td>0</td>\n",
              "      <td>8</td>\n",
              "      <td>1</td>\n",
              "      <td>0</td>\n",
              "      <td>0</td>\n",
              "      <td>0</td>\n",
              "    </tr>\n",
              "    <tr>\n",
              "      <th>4</th>\n",
              "      <td>8</td>\n",
              "      <td>1</td>\n",
              "      <td>0</td>\n",
              "      <td>0</td>\n",
              "      <td>0</td>\n",
              "      <td>12</td>\n",
              "      <td>1</td>\n",
              "      <td>1</td>\n",
              "      <td>0</td>\n",
              "      <td>0</td>\n",
              "    </tr>\n",
              "    <tr>\n",
              "      <th>5</th>\n",
              "      <td>12</td>\n",
              "      <td>1</td>\n",
              "      <td>1</td>\n",
              "      <td>0</td>\n",
              "      <td>0</td>\n",
              "      <td>2</td>\n",
              "      <td>0</td>\n",
              "      <td>0</td>\n",
              "      <td>1</td>\n",
              "      <td>0</td>\n",
              "    </tr>\n",
              "    <tr>\n",
              "      <th>6</th>\n",
              "      <td>2</td>\n",
              "      <td>0</td>\n",
              "      <td>0</td>\n",
              "      <td>1</td>\n",
              "      <td>0</td>\n",
              "      <td>3</td>\n",
              "      <td>0</td>\n",
              "      <td>0</td>\n",
              "      <td>1</td>\n",
              "      <td>1</td>\n",
              "    </tr>\n",
              "    <tr>\n",
              "      <th>7</th>\n",
              "      <td>3</td>\n",
              "      <td>0</td>\n",
              "      <td>0</td>\n",
              "      <td>1</td>\n",
              "      <td>1</td>\n",
              "      <td>7</td>\n",
              "      <td>0</td>\n",
              "      <td>1</td>\n",
              "      <td>1</td>\n",
              "      <td>1</td>\n",
              "    </tr>\n",
              "  </tbody>\n",
              "</table>\n",
              "</div>\n",
              "      <button class=\"colab-df-convert\" onclick=\"convertToInteractive('df-292a278c-f2fc-4928-a9f7-6201440ae654')\"\n",
              "              title=\"Convert this dataframe to an interactive table.\"\n",
              "              style=\"display:none;\">\n",
              "        \n",
              "  <svg xmlns=\"http://www.w3.org/2000/svg\" height=\"24px\"viewBox=\"0 0 24 24\"\n",
              "       width=\"24px\">\n",
              "    <path d=\"M0 0h24v24H0V0z\" fill=\"none\"/>\n",
              "    <path d=\"M18.56 5.44l.94 2.06.94-2.06 2.06-.94-2.06-.94-.94-2.06-.94 2.06-2.06.94zm-11 1L8.5 8.5l.94-2.06 2.06-.94-2.06-.94L8.5 2.5l-.94 2.06-2.06.94zm10 10l.94 2.06.94-2.06 2.06-.94-2.06-.94-.94-2.06-.94 2.06-2.06.94z\"/><path d=\"M17.41 7.96l-1.37-1.37c-.4-.4-.92-.59-1.43-.59-.52 0-1.04.2-1.43.59L10.3 9.45l-7.72 7.72c-.78.78-.78 2.05 0 2.83L4 21.41c.39.39.9.59 1.41.59.51 0 1.02-.2 1.41-.59l7.78-7.78 2.81-2.81c.8-.78.8-2.07 0-2.86zM5.41 20L4 18.59l7.72-7.72 1.47 1.35L5.41 20z\"/>\n",
              "  </svg>\n",
              "      </button>\n",
              "      \n",
              "  <style>\n",
              "    .colab-df-container {\n",
              "      display:flex;\n",
              "      flex-wrap:wrap;\n",
              "      gap: 12px;\n",
              "    }\n",
              "\n",
              "    .colab-df-convert {\n",
              "      background-color: #E8F0FE;\n",
              "      border: none;\n",
              "      border-radius: 50%;\n",
              "      cursor: pointer;\n",
              "      display: none;\n",
              "      fill: #1967D2;\n",
              "      height: 32px;\n",
              "      padding: 0 0 0 0;\n",
              "      width: 32px;\n",
              "    }\n",
              "\n",
              "    .colab-df-convert:hover {\n",
              "      background-color: #E2EBFA;\n",
              "      box-shadow: 0px 1px 2px rgba(60, 64, 67, 0.3), 0px 1px 3px 1px rgba(60, 64, 67, 0.15);\n",
              "      fill: #174EA6;\n",
              "    }\n",
              "\n",
              "    [theme=dark] .colab-df-convert {\n",
              "      background-color: #3B4455;\n",
              "      fill: #D2E3FC;\n",
              "    }\n",
              "\n",
              "    [theme=dark] .colab-df-convert:hover {\n",
              "      background-color: #434B5C;\n",
              "      box-shadow: 0px 1px 3px 1px rgba(0, 0, 0, 0.15);\n",
              "      filter: drop-shadow(0px 1px 2px rgba(0, 0, 0, 0.3));\n",
              "      fill: #FFFFFF;\n",
              "    }\n",
              "  </style>\n",
              "\n",
              "      <script>\n",
              "        const buttonEl =\n",
              "          document.querySelector('#df-292a278c-f2fc-4928-a9f7-6201440ae654 button.colab-df-convert');\n",
              "        buttonEl.style.display =\n",
              "          google.colab.kernel.accessAllowed ? 'block' : 'none';\n",
              "\n",
              "        async function convertToInteractive(key) {\n",
              "          const element = document.querySelector('#df-292a278c-f2fc-4928-a9f7-6201440ae654');\n",
              "          const dataTable =\n",
              "            await google.colab.kernel.invokeFunction('convertToInteractive',\n",
              "                                                     [key], {});\n",
              "          if (!dataTable) return;\n",
              "\n",
              "          const docLinkHtml = 'Like what you see? Visit the ' +\n",
              "            '<a target=\"_blank\" href=https://colab.research.google.com/notebooks/data_table.ipynb>data table notebook</a>'\n",
              "            + ' to learn more about interactive tables.';\n",
              "          element.innerHTML = '';\n",
              "          dataTable['output_type'] = 'display_data';\n",
              "          await google.colab.output.renderOutput(dataTable, element);\n",
              "          const docLink = document.createElement('div');\n",
              "          docLink.innerHTML = docLinkHtml;\n",
              "          element.appendChild(docLink);\n",
              "        }\n",
              "      </script>\n",
              "    </div>\n",
              "  </div>\n",
              "  "
            ],
            "text/plain": [
              "    N  Q1  Q2  Q3  Q4   N  D1  D2  D3  D4\n",
              "0   7   0   1   1   1   4   0   1   0   0\n",
              "1   4   0   1   0   0   5   0   1   0   1\n",
              "2   5   0   1   0   1   6   0   1   1   0\n",
              "3   6   0   1   1   0   8   1   0   0   0\n",
              "4   8   1   0   0   0  12   1   1   0   0\n",
              "5  12   1   1   0   0   2   0   0   1   0\n",
              "6   2   0   0   1   0   3   0   0   1   1\n",
              "7   3   0   0   1   1   7   0   1   1   1"
            ]
          },
          "metadata": {},
          "execution_count": 135
        }
      ]
    },
    {
      "cell_type": "markdown",
      "source": [
        "# Расчет и упрощение логических функций"
      ],
      "metadata": {
        "id": "Zd6485oRCfpE"
      }
    },
    {
      "cell_type": "markdown",
      "source": [
        "Составим логические функции согласно этой таблице истинности для D1, D2, D3, D4 от Q1, Q2, Q3, Q4 используя совершенные СНДФ."
      ],
      "metadata": {
        "id": "XbCMcdXeeCPR"
      }
    },
    {
      "cell_type": "code",
      "source": [
        "def Parse(data, order):\n",
        "  Kmap_str = \"\"\n",
        "  for i in order:\n",
        "    if(data[int(i) - 1] == 1):\n",
        "      Kmap_str += \"0\"\n",
        "    else:\n",
        "      Kmap_str += \"1\"\n",
        "\n",
        "  return Kmap_str\n",
        "#Parse(minterms_D1[0],'1324')\n",
        "#Parse(To_N_Byte(4,notorder_byte[1]),'1324')\n"
      ],
      "metadata": {
        "id": "6VFhx2wesW5H"
      },
      "execution_count": null,
      "outputs": []
    },
    {
      "cell_type": "markdown",
      "source": [
        "Каждую функцию минимизируем с помощью карт Карно."
      ],
      "metadata": {
        "id": "ui0bA0GA4SRa"
      }
    },
    {
      "cell_type": "markdown",
      "source": [
        "## D1"
      ],
      "metadata": {
        "id": "gGMu_vr0JOQb"
      }
    },
    {
      "cell_type": "code",
      "source": [
        "Table1_3[Table1_3[\"D1\"] == 1][[\"Q1\",\"Q2\",\"Q3\",\"Q4\"]]"
      ],
      "metadata": {
        "colab": {
          "base_uri": "https://localhost:8080/"
        },
        "id": "zFALO54_cIIv",
        "outputId": "c5b058c1-8dea-4c81-bdf4-3941619c41db"
      },
      "execution_count": null,
      "outputs": [
        {
          "output_type": "execute_result",
          "data": {
            "text/html": [
              "\n",
              "  <div id=\"df-5eee1d54-cda7-4ff7-84ed-e6448e6654f8\">\n",
              "    <div class=\"colab-df-container\">\n",
              "      <div>\n",
              "<style scoped>\n",
              "    .dataframe tbody tr th:only-of-type {\n",
              "        vertical-align: middle;\n",
              "    }\n",
              "\n",
              "    .dataframe tbody tr th {\n",
              "        vertical-align: top;\n",
              "    }\n",
              "\n",
              "    .dataframe thead th {\n",
              "        text-align: right;\n",
              "    }\n",
              "</style>\n",
              "<table border=\"1\" class=\"dataframe\">\n",
              "  <thead>\n",
              "    <tr style=\"text-align: right;\">\n",
              "      <th></th>\n",
              "      <th>Q1</th>\n",
              "      <th>Q2</th>\n",
              "      <th>Q3</th>\n",
              "      <th>Q4</th>\n",
              "    </tr>\n",
              "  </thead>\n",
              "  <tbody>\n",
              "    <tr>\n",
              "      <th>3</th>\n",
              "      <td>0</td>\n",
              "      <td>1</td>\n",
              "      <td>1</td>\n",
              "      <td>0</td>\n",
              "    </tr>\n",
              "    <tr>\n",
              "      <th>4</th>\n",
              "      <td>1</td>\n",
              "      <td>0</td>\n",
              "      <td>0</td>\n",
              "      <td>0</td>\n",
              "    </tr>\n",
              "  </tbody>\n",
              "</table>\n",
              "</div>\n",
              "      <button class=\"colab-df-convert\" onclick=\"convertToInteractive('df-5eee1d54-cda7-4ff7-84ed-e6448e6654f8')\"\n",
              "              title=\"Convert this dataframe to an interactive table.\"\n",
              "              style=\"display:none;\">\n",
              "        \n",
              "  <svg xmlns=\"http://www.w3.org/2000/svg\" height=\"24px\"viewBox=\"0 0 24 24\"\n",
              "       width=\"24px\">\n",
              "    <path d=\"M0 0h24v24H0V0z\" fill=\"none\"/>\n",
              "    <path d=\"M18.56 5.44l.94 2.06.94-2.06 2.06-.94-2.06-.94-.94-2.06-.94 2.06-2.06.94zm-11 1L8.5 8.5l.94-2.06 2.06-.94-2.06-.94L8.5 2.5l-.94 2.06-2.06.94zm10 10l.94 2.06.94-2.06 2.06-.94-2.06-.94-.94-2.06-.94 2.06-2.06.94z\"/><path d=\"M17.41 7.96l-1.37-1.37c-.4-.4-.92-.59-1.43-.59-.52 0-1.04.2-1.43.59L10.3 9.45l-7.72 7.72c-.78.78-.78 2.05 0 2.83L4 21.41c.39.39.9.59 1.41.59.51 0 1.02-.2 1.41-.59l7.78-7.78 2.81-2.81c.8-.78.8-2.07 0-2.86zM5.41 20L4 18.59l7.72-7.72 1.47 1.35L5.41 20z\"/>\n",
              "  </svg>\n",
              "      </button>\n",
              "      \n",
              "  <style>\n",
              "    .colab-df-container {\n",
              "      display:flex;\n",
              "      flex-wrap:wrap;\n",
              "      gap: 12px;\n",
              "    }\n",
              "\n",
              "    .colab-df-convert {\n",
              "      background-color: #E8F0FE;\n",
              "      border: none;\n",
              "      border-radius: 50%;\n",
              "      cursor: pointer;\n",
              "      display: none;\n",
              "      fill: #1967D2;\n",
              "      height: 32px;\n",
              "      padding: 0 0 0 0;\n",
              "      width: 32px;\n",
              "    }\n",
              "\n",
              "    .colab-df-convert:hover {\n",
              "      background-color: #E2EBFA;\n",
              "      box-shadow: 0px 1px 2px rgba(60, 64, 67, 0.3), 0px 1px 3px 1px rgba(60, 64, 67, 0.15);\n",
              "      fill: #174EA6;\n",
              "    }\n",
              "\n",
              "    [theme=dark] .colab-df-convert {\n",
              "      background-color: #3B4455;\n",
              "      fill: #D2E3FC;\n",
              "    }\n",
              "\n",
              "    [theme=dark] .colab-df-convert:hover {\n",
              "      background-color: #434B5C;\n",
              "      box-shadow: 0px 1px 3px 1px rgba(0, 0, 0, 0.15);\n",
              "      filter: drop-shadow(0px 1px 2px rgba(0, 0, 0, 0.3));\n",
              "      fill: #FFFFFF;\n",
              "    }\n",
              "  </style>\n",
              "\n",
              "      <script>\n",
              "        const buttonEl =\n",
              "          document.querySelector('#df-5eee1d54-cda7-4ff7-84ed-e6448e6654f8 button.colab-df-convert');\n",
              "        buttonEl.style.display =\n",
              "          google.colab.kernel.accessAllowed ? 'block' : 'none';\n",
              "\n",
              "        async function convertToInteractive(key) {\n",
              "          const element = document.querySelector('#df-5eee1d54-cda7-4ff7-84ed-e6448e6654f8');\n",
              "          const dataTable =\n",
              "            await google.colab.kernel.invokeFunction('convertToInteractive',\n",
              "                                                     [key], {});\n",
              "          if (!dataTable) return;\n",
              "\n",
              "          const docLinkHtml = 'Like what you see? Visit the ' +\n",
              "            '<a target=\"_blank\" href=https://colab.research.google.com/notebooks/data_table.ipynb>data table notebook</a>'\n",
              "            + ' to learn more about interactive tables.';\n",
              "          element.innerHTML = '';\n",
              "          dataTable['output_type'] = 'display_data';\n",
              "          await google.colab.output.renderOutput(dataTable, element);\n",
              "          const docLink = document.createElement('div');\n",
              "          docLink.innerHTML = docLinkHtml;\n",
              "          element.appendChild(docLink);\n",
              "        }\n",
              "      </script>\n",
              "    </div>\n",
              "  </div>\n",
              "  "
            ],
            "text/plain": [
              "   Q1  Q2  Q3  Q4\n",
              "3   0   1   1   0\n",
              "4   1   0   0   0"
            ]
          },
          "metadata": {},
          "execution_count": 137
        }
      ]
    },
    {
      "cell_type": "code",
      "source": [
        "#notorder = [11,3,8,7,0,4]\n",
        "minterms_D1 = Table1_3[Table1_3[\"D1\"] == 1][[\"Q1\",\"Q2\",\"Q3\",\"Q4\"]].to_numpy()\n",
        "minterms_D1 = minterms_D1.tolist()\n",
        "#minterms = Table1_3[Table1_3[\"D1\"] == \"1\"][[\"Q1\",\"Q2\",\"Q3\",\"Q4\"]].to_dict()\n",
        "print(minterms_D1)\n",
        "#type(minterms)"
      ],
      "metadata": {
        "colab": {
          "base_uri": "https://localhost:8080/"
        },
        "id": "fimQdsgwNakQ",
        "outputId": "558e63a0-a687-462a-b329-070becf2d796"
      },
      "execution_count": null,
      "outputs": [
        {
          "output_type": "stream",
          "name": "stdout",
          "text": [
            "[[0, 1, 1, 0], [1, 0, 0, 0]]\n"
          ]
        }
      ]
    },
    {
      "cell_type": "code",
      "source": [
        "D1 = sym.logic.boolalg.SOPform([Q1,Q2,Q3,Q4], minterms_D1, dontcares = notorder)\n",
        "print(D1)"
      ],
      "metadata": {
        "colab": {
          "base_uri": "https://localhost:8080/"
        },
        "id": "p6DI6CgmNYNV",
        "outputId": "2b1ac75c-4329-4817-b31d-ce5537e034c9"
      },
      "execution_count": null,
      "outputs": [
        {
          "output_type": "stream",
          "name": "stdout",
          "text": [
            "(~Q2 & ~Q3) | (Q2 & Q3 & ~Q4)\n"
          ]
        }
      ]
    },
    {
      "cell_type": "code",
      "source": [
        "D1"
      ],
      "metadata": {
        "colab": {
          "base_uri": "https://localhost:8080/"
        },
        "id": "Q0RkOu7qVb-W",
        "outputId": "4c0eb569-1b51-4ebd-f1e8-8c85f0df2353"
      },
      "execution_count": null,
      "outputs": [
        {
          "output_type": "execute_result",
          "data": {
            "text/latex": "$\\displaystyle \\left(\\neg Q_{2} \\wedge \\neg Q_{3}\\right) \\vee \\left(Q_{2} \\wedge Q_{3} \\wedge \\neg Q_{4}\\right)$",
            "text/plain": [
              "(~Q2 & ~Q3) | (Q2 & Q3 & ~Q4)"
            ]
          },
          "metadata": {},
          "execution_count": 140
        }
      ]
    },
    {
      "cell_type": "code",
      "source": [
        "#D1 = ~Q1&Q2&Q3&~Q4 | ~Q1&Q2&~Q3&Q4\n",
        "#print(D1)"
      ],
      "metadata": {
        "id": "WEgRHW-pbZNY"
      },
      "execution_count": null,
      "outputs": []
    },
    {
      "cell_type": "code",
      "source": [
        "#D1_S = sym.simplify_logic(D1, form =\"dnf\")\n",
        "#print(D1_S)"
      ],
      "metadata": {
        "id": "6c2oCperlFmo"
      },
      "execution_count": null,
      "outputs": []
    },
    {
      "cell_type": "code",
      "source": [
        "logic.Kmap(names='1324',\n",
        "           truthtable=[(Parse(To_N_Byte(4,notorder_byte[0]),'1324'),\"X\"),\n",
        "                       (Parse(To_N_Byte(4,notorder_byte[1]),'1324'),\"X\"),\n",
        "                       (Parse(To_N_Byte(4,notorder_byte[2]),'1324'),\"X\"),\n",
        "                       (Parse(To_N_Byte(4,notorder_byte[3]),'1324'),\"X\"),\n",
        "                       (Parse(To_N_Byte(4,notorder_byte[4]),'1324'),\"X\"),\n",
        "                       (Parse(To_N_Byte(4,notorder_byte[5]),'1324'),\"X\"),\n",
        "                       (Parse(To_N_Byte(4,notorder_byte[6]),'1324'),\"X\"),\n",
        "                       (Parse(To_N_Byte(4,notorder_byte[7]),'1324'),\"X\"),\n",
        "\n",
        "                       \n",
        "                       (Parse(minterms_D1[0],'1324'),\"1\"),\n",
        "                       (Parse(minterms_D1[1],'1324'),\"1\")],\n",
        "           \n",
        "            groups={'.11.':{\"color\":\"red\"},\n",
        "                    '.001':{\"color\":\"blue\"},\n",
        "                   }\n",
        "          )"
      ],
      "metadata": {
        "id": "KINQBNJROdh8",
        "colab": {
          "base_uri": "https://localhost:8080/"
        },
        "outputId": "89a42f1c-a274-4244-bd57-301a6565c77a"
      },
      "execution_count": null,
      "outputs": [
        {
          "output_type": "execute_result",
          "data": {
            "image/png": "[encoded data removed]",
            "text/plain": [
              "<schemdraw.logic.kmap.Kmap at 0x7fb5e0161390>"
            ],
            "image/svg+xml": "<?xml version=\"1.0\" encoding=\"utf-8\" standalone=\"no\"?>\n<!DOCTYPE svg PUBLIC \"-//W3C//DTD SVG 1.1//EN\"\n  \"http://www.w3.org/Graphics/SVG/1.1/DTD/svg11.dtd\">\n<!-- Created with matplotlib (https://matplotlib.org/) -->\n<svg height=\"179.548101pt\" version=\"1.1\" viewBox=\"0 0 179.956101 179.548101\" width=\"179.956101pt\" xmlns=\"http://www.w3.org/2000/svg\" xmlns:xlink=\"http://www.w3.org/1999/xlink\">\n <defs>\n  <style type=\"text/css\">\n*{stroke-linecap:butt;stroke-linejoin:round;}\n  </style>\n </defs>\n <g id=\"figure_1\">\n  <g id=\"patch_1\">\n   <path d=\"M 0 179.548101 \nL 179.956101 179.548101 \nL 179.956101 0 \nL 0 0 \nz\n\" style=\"fill:#ffffff;\"/>\n  </g>\n  <g id=\"axes_1\">\n   <g id=\"patch_2\">\n    <path clip-path=\"url(#p71786f8e88)\" d=\"M 125.326101 166.228101 \nL 125.447475 166.227138 \nL 125.568819 166.224249 \nL 125.690102 166.219436 \nL 125.811294 166.212699 \nL 125.932363 166.20404 \nL 126.053279 166.193461 \nL 126.174013 166.180965 \nL 126.294533 166.166555 \nL 126.414809 166.150235 \nL 126.534811 166.132008 \nL 126.654509 166.11188 \nL 126.773873 166.089855 \nL 126.892872 166.065939 \nL 127.011476 166.040138 \nL 127.129656 166.012459 \nL 127.247383 165.982908 \nL 127.364625 165.951493 \nL 127.481355 165.918222 \nL 127.597541 165.883103 \nL 127.713156 165.846145 \nL 127.828171 165.807357 \nL 127.942555 165.766749 \nL 128.05628 165.724332 \nL 128.169318 165.680115 \nL 128.281641 165.634111 \nL 128.393219 165.58633 \nL 128.504025 165.536785 \nL 128.614032 165.485489 \nL 128.72321 165.432453 \nL 128.831534 165.377692 \nL 128.938974 165.321219 \nL 129.045506 165.263048 \nL 129.151101 165.203195 \nL 129.255733 165.141674 \nL 129.359375 165.0785 \nL 129.462003 165.01369 \nL 129.563589 164.94726 \nL 129.664109 164.879226 \nL 129.763536 164.809607 \nL 129.861846 164.738418 \nL 129.959015 164.665679 \nL 130.055017 164.591407 \nL 130.149829 164.515621 \nL 130.243426 164.438341 \nL 130.335785 164.359585 \nL 130.426883 164.279374 \nL 130.516698 164.197727 \nL 130.605205 164.114666 \nL 130.692384 164.030211 \nL 130.778211 163.944384 \nL 130.862666 163.857205 \nL 130.945727 163.768698 \nL 131.027374 163.678883 \nL 131.107585 163.587785 \nL 131.186341 163.495426 \nL 131.263621 163.401829 \nL 131.339407 163.307017 \nL 131.413679 163.211015 \nL 131.486418 163.113846 \nL 131.557607 163.015536 \nL 131.627226 162.916109 \nL 131.69526 162.815589 \nL 131.76169 162.714003 \nL 131.8265 162.611375 \nL 131.889674 162.507733 \nL 131.951195 162.403101 \nL 132.011048 162.297506 \nL 132.069219 162.190974 \nL 132.125692 162.083534 \nL 132.180453 161.97521 \nL 132.233489 161.866032 \nL 132.284785 161.756025 \nL 132.33433 161.645219 \nL 132.382111 161.533641 \nL 132.428115 161.421318 \nL 132.472332 161.30828 \nL 132.514749 161.194555 \nL 132.555357 161.080171 \nL 132.594145 160.965156 \nL 132.631103 160.849541 \nL 132.666222 160.733355 \nL 132.699493 160.616625 \nL 132.730908 160.499383 \nL 132.760459 160.381656 \nL 132.788138 160.263476 \nL 132.813939 160.144872 \nL 132.837855 160.025873 \nL 132.85988 159.906509 \nL 132.880008 159.786811 \nL 132.898235 159.666809 \nL 132.914555 159.546533 \nL 132.928965 159.426013 \nL 132.941461 159.305279 \nL 132.95204 159.184363 \nL 132.960699 159.063294 \nL 132.967436 158.942102 \nL 132.972249 158.820819 \nL 132.975138 158.699475 \nL 132.976101 158.578101 \nL 132.976101 118.798101 \nL 132.975138 118.676726 \nL 132.972249 118.555382 \nL 132.967436 118.434099 \nL 132.960699 118.312908 \nL 132.95204 118.191838 \nL 132.941461 118.070922 \nL 132.928965 117.950188 \nL 132.914555 117.829668 \nL 132.898235 117.709392 \nL 132.880008 117.58939 \nL 132.85988 117.469692 \nL 132.837855 117.350329 \nL 132.813939 117.23133 \nL 132.788138 117.112725 \nL 132.760459 116.994545 \nL 132.730908 116.876819 \nL 132.699493 116.759576 \nL 132.666222 116.642847 \nL 132.631103 116.52666 \nL 132.594145 116.411045 \nL 132.555357 116.296031 \nL 132.514749 116.181647 \nL 132.472332 116.067921 \nL 132.428115 115.954883 \nL 132.382111 115.84256 \nL 132.33433 115.730982 \nL 132.284785 115.620176 \nL 132.233489 115.51017 \nL 132.180453 115.400991 \nL 132.125692 115.292668 \nL 132.069219 115.185227 \nL 132.011048 115.078696 \nL 131.951195 114.973101 \nL 131.889674 114.868469 \nL 131.8265 114.764826 \nL 131.76169 114.662198 \nL 131.69526 114.560612 \nL 131.627226 114.460093 \nL 131.557607 114.360665 \nL 131.486418 114.262355 \nL 131.413679 114.165187 \nL 131.339407 114.069184 \nL 131.263621 113.974373 \nL 131.186341 113.880775 \nL 131.107585 113.788416 \nL 131.027374 113.697318 \nL 130.945727 113.607504 \nL 130.862666 113.518996 \nL 130.778211 113.431818 \nL 130.692384 113.34599 \nL 130.605205 113.261535 \nL 130.516698 113.178474 \nL 130.426883 113.096828 \nL 130.335785 113.016616 \nL 130.243426 112.937861 \nL 130.149829 112.86058 \nL 130.055017 112.784794 \nL 129.959015 112.710523 \nL 129.861846 112.637783 \nL 129.763536 112.566595 \nL 129.664109 112.496975 \nL 129.563589 112.428941 \nL 129.462003 112.362511 \nL 129.359375 112.297701 \nL 129.255733 112.234528 \nL 129.151101 112.173006 \nL 129.045506 112.113153 \nL 128.938974 112.054982 \nL 128.831534 111.998509 \nL 128.72321 111.943748 \nL 128.614032 111.890713 \nL 128.504025 111.839416 \nL 128.393219 111.789871 \nL 128.281641 111.74209 \nL 128.169318 111.696086 \nL 128.05628 111.651869 \nL 127.942555 111.609452 \nL 127.828171 111.568844 \nL 127.713156 111.530057 \nL 127.597541 111.493098 \nL 127.481355 111.457979 \nL 127.364625 111.424708 \nL 127.247383 111.393293 \nL 127.129656 111.363742 \nL 127.011476 111.336063 \nL 126.892872 111.310262 \nL 126.773873 111.286346 \nL 126.654509 111.264321 \nL 126.534811 111.244193 \nL 126.414809 111.225967 \nL 126.294533 111.209646 \nL 126.174013 111.195236 \nL 126.053279 111.18274 \nL 125.932363 111.172162 \nL 125.811294 111.163503 \nL 125.690102 111.156765 \nL 125.568819 111.151952 \nL 125.447475 111.149064 \nL 125.326101 111.148101 \nL 85.546101 111.148101 \nL 85.424726 111.149064 \nL 85.303382 111.151952 \nL 85.182099 111.156765 \nL 85.060908 111.163503 \nL 84.939838 111.172162 \nL 84.818922 111.18274 \nL 84.698188 111.195236 \nL 84.577668 111.209646 \nL 84.457392 111.225967 \nL 84.33739 111.244193 \nL 84.217692 111.264321 \nL 84.098329 111.286346 \nL 83.97933 111.310262 \nL 83.860725 111.336063 \nL 83.742545 111.363742 \nL 83.624819 111.393293 \nL 83.507576 111.424708 \nL 83.390847 111.457979 \nL 83.27466 111.493098 \nL 83.159045 111.530057 \nL 83.044031 111.568844 \nL 82.929647 111.609452 \nL 82.815921 111.651869 \nL 82.702883 111.696086 \nL 82.59056 111.74209 \nL 82.478982 111.789871 \nL 82.368176 111.839416 \nL 82.25817 111.890713 \nL 82.148991 111.943748 \nL 82.040668 111.998509 \nL 81.933227 112.054982 \nL 81.826696 112.113153 \nL 81.721101 112.173006 \nL 81.616469 112.234528 \nL 81.512826 112.297701 \nL 81.410198 112.362511 \nL 81.308612 112.428941 \nL 81.208093 112.496975 \nL 81.108665 112.566595 \nL 81.010355 112.637783 \nL 80.913187 112.710523 \nL 80.817184 112.784794 \nL 80.722373 112.86058 \nL 80.628775 112.937861 \nL 80.536416 113.016616 \nL 80.445318 113.096828 \nL 80.355504 113.178474 \nL 80.266996 113.261535 \nL 80.179818 113.34599 \nL 80.09399 113.431818 \nL 80.009535 113.518996 \nL 79.926474 113.607504 \nL 79.844828 113.697318 \nL 79.764616 113.788416 \nL 79.685861 113.880775 \nL 79.60858 113.974373 \nL 79.532794 114.069184 \nL 79.458523 114.165187 \nL 79.385783 114.262355 \nL 79.314595 114.360665 \nL 79.244975 114.460093 \nL 79.176941 114.560612 \nL 79.110511 114.662198 \nL 79.045701 114.764826 \nL 78.982528 114.868469 \nL 78.921006 114.973101 \nL 78.861153 115.078696 \nL 78.802982 115.185227 \nL 78.746509 115.292668 \nL 78.691748 115.400991 \nL 78.638713 115.51017 \nL 78.587416 115.620176 \nL 78.537871 115.730982 \nL 78.49009 115.84256 \nL 78.444086 115.954883 \nL 78.399869 116.067921 \nL 78.357452 116.181647 \nL 78.316844 116.296031 \nL 78.278057 116.411045 \nL 78.241098 116.52666 \nL 78.205979 116.642847 \nL 78.172708 116.759576 \nL 78.141293 116.876819 \nL 78.111742 116.994545 \nL 78.084063 117.112725 \nL 78.058262 117.23133 \nL 78.034346 117.350329 \nL 78.012321 117.469692 \nL 77.992193 117.58939 \nL 77.973967 117.709392 \nL 77.957646 117.829668 \nL 77.943236 117.950188 \nL 77.93074 118.070922 \nL 77.920162 118.191838 \nL 77.911503 118.312908 \nL 77.904765 118.434099 \nL 77.899952 118.555382 \nL 77.897064 118.676726 \nL 77.896101 118.798101 \nL 77.896101 158.578101 \nL 77.897064 158.699475 \nL 77.899952 158.820819 \nL 77.904765 158.942102 \nL 77.911503 159.063294 \nL 77.920162 159.184363 \nL 77.93074 159.305279 \nL 77.943236 159.426013 \nL 77.957646 159.546533 \nL 77.973967 159.666809 \nL 77.992193 159.786811 \nL 78.012321 159.906509 \nL 78.034346 160.025873 \nL 78.058262 160.144872 \nL 78.084063 160.263476 \nL 78.111742 160.381656 \nL 78.141293 160.499383 \nL 78.172708 160.616625 \nL 78.205979 160.733355 \nL 78.241098 160.849541 \nL 78.278057 160.965156 \nL 78.316844 161.080171 \nL 78.357452 161.194555 \nL 78.399869 161.30828 \nL 78.444086 161.421318 \nL 78.49009 161.533641 \nL 78.537871 161.645219 \nL 78.587416 161.756025 \nL 78.638713 161.866032 \nL 78.691748 161.97521 \nL 78.746509 162.083534 \nL 78.802982 162.190974 \nL 78.861153 162.297506 \nL 78.921006 162.403101 \nL 78.982528 162.507733 \nL 79.045701 162.611375 \nL 79.110511 162.714003 \nL 79.176941 162.815589 \nL 79.244975 162.916109 \nL 79.314595 163.015536 \nL 79.385783 163.113846 \nL 79.458523 163.211015 \nL 79.532794 163.307017 \nL 79.60858 163.401829 \nL 79.685861 163.495426 \nL 79.764616 163.587785 \nL 79.844828 163.678883 \nL 79.926474 163.768698 \nL 80.009535 163.857205 \nL 80.09399 163.944384 \nL 80.179818 164.030211 \nL 80.266996 164.114666 \nL 80.355504 164.197727 \nL 80.445318 164.279374 \nL 80.536416 164.359585 \nL 80.628775 164.438341 \nL 80.722373 164.515621 \nL 80.817184 164.591407 \nL 80.913187 164.665679 \nL 81.010355 164.738418 \nL 81.108665 164.809607 \nL 81.208093 164.879226 \nL 81.308612 164.94726 \nL 81.410198 165.01369 \nL 81.512826 165.0785 \nL 81.616469 165.141674 \nL 81.721101 165.203195 \nL 81.826696 165.263048 \nL 81.933227 165.321219 \nL 82.040668 165.377692 \nL 82.148991 165.432453 \nL 82.25817 165.485489 \nL 82.368176 165.536785 \nL 82.478982 165.58633 \nL 82.59056 165.634111 \nL 82.702883 165.680115 \nL 82.815921 165.724332 \nL 82.929647 165.766749 \nL 83.044031 165.807357 \nL 83.159045 165.846145 \nL 83.27466 165.883103 \nL 83.390847 165.918222 \nL 83.507576 165.951493 \nL 83.624819 165.982908 \nL 83.742545 166.012459 \nL 83.860725 166.040138 \nL 83.97933 166.065939 \nL 84.098329 166.089855 \nL 84.217692 166.11188 \nL 84.33739 166.132008 \nL 84.457392 166.150235 \nL 84.577668 166.166555 \nL 84.698188 166.180965 \nL 84.818922 166.193461 \nL 84.939838 166.20404 \nL 85.060908 166.212699 \nL 85.182099 166.219436 \nL 85.303382 166.224249 \nL 85.424726 166.227138 \nL 85.546101 166.228101 \nz\n\" style=\"fill:none;stroke:#ff0000;stroke-linecap:round;\"/>\n   </g>\n   <g id=\"patch_3\">\n    <path clip-path=\"url(#p71786f8e88)\" d=\"M 162.046101 105.028101 \nL 162.167475 105.027138 \nL 162.288819 105.024249 \nL 162.410102 105.019436 \nL 162.531294 105.012699 \nL 162.652363 105.00404 \nL 162.773279 104.993461 \nL 162.894013 104.980965 \nL 163.014533 104.966555 \nL 163.134809 104.950235 \nL 163.254811 104.932008 \nL 163.374509 104.91188 \nL 163.493873 104.889855 \nL 163.612872 104.865939 \nL 163.731476 104.840138 \nL 163.849656 104.812459 \nL 163.967383 104.782908 \nL 164.084625 104.751493 \nL 164.201355 104.718222 \nL 164.317541 104.683103 \nL 164.433156 104.646145 \nL 164.548171 104.607357 \nL 164.662555 104.566749 \nL 164.77628 104.524332 \nL 164.889318 104.480115 \nL 165.001641 104.434111 \nL 165.113219 104.38633 \nL 165.224025 104.336785 \nL 165.334032 104.285489 \nL 165.44321 104.232453 \nL 165.551534 104.177692 \nL 165.658974 104.121219 \nL 165.765506 104.063048 \nL 165.871101 104.003195 \nL 165.975733 103.941674 \nL 166.079375 103.8785 \nL 166.182003 103.81369 \nL 166.283589 103.74726 \nL 166.384109 103.679226 \nL 166.483536 103.609607 \nL 166.581846 103.538418 \nL 166.679015 103.465679 \nL 166.775017 103.391407 \nL 166.869829 103.315621 \nL 166.963426 103.238341 \nL 167.055785 103.159585 \nL 167.146883 103.079374 \nL 167.236698 102.997727 \nL 167.325205 102.914666 \nL 167.412384 102.830211 \nL 167.498211 102.744384 \nL 167.582666 102.657205 \nL 167.665727 102.568698 \nL 167.747374 102.478883 \nL 167.827585 102.387785 \nL 167.906341 102.295426 \nL 167.983621 102.201829 \nL 168.059407 102.107017 \nL 168.133679 102.011015 \nL 168.206418 101.913846 \nL 168.277607 101.815536 \nL 168.347226 101.716109 \nL 168.41526 101.615589 \nL 168.48169 101.514003 \nL 168.5465 101.411375 \nL 168.609674 101.307733 \nL 168.671195 101.203101 \nL 168.731048 101.097506 \nL 168.789219 100.990974 \nL 168.845692 100.883534 \nL 168.900453 100.77521 \nL 168.953489 100.666032 \nL 169.004785 100.556025 \nL 169.05433 100.445219 \nL 169.102111 100.333641 \nL 169.148115 100.221318 \nL 169.192332 100.10828 \nL 169.234749 99.994555 \nL 169.275357 99.880171 \nL 169.314145 99.765156 \nL 169.351103 99.649541 \nL 169.386222 99.533355 \nL 169.419493 99.416625 \nL 169.450908 99.299383 \nL 169.480459 99.181656 \nL 169.508138 99.063476 \nL 169.533939 98.944872 \nL 169.557855 98.825873 \nL 169.57988 98.706509 \nL 169.600008 98.586811 \nL 169.618235 98.466809 \nL 169.634555 98.346533 \nL 169.648965 98.226013 \nL 169.661461 98.105279 \nL 169.67204 97.984363 \nL 169.680699 97.863294 \nL 169.687436 97.742102 \nL 169.692249 97.620819 \nL 169.695138 97.499475 \nL 169.696101 97.378101 \nL 169.696101 88.198101 \nL 169.695138 88.076726 \nL 169.692249 87.955382 \nL 169.687436 87.834099 \nL 169.680699 87.712908 \nL 169.67204 87.591838 \nL 169.661461 87.470922 \nL 169.648965 87.350188 \nL 169.634555 87.229668 \nL 169.618235 87.109392 \nL 169.600008 86.98939 \nL 169.57988 86.869692 \nL 169.557855 86.750329 \nL 169.533939 86.63133 \nL 169.508138 86.512725 \nL 169.480459 86.394545 \nL 169.450908 86.276819 \nL 169.419493 86.159576 \nL 169.386222 86.042847 \nL 169.351103 85.92666 \nL 169.314145 85.811045 \nL 169.275357 85.696031 \nL 169.234749 85.581647 \nL 169.192332 85.467921 \nL 169.148115 85.354883 \nL 169.102111 85.24256 \nL 169.05433 85.130982 \nL 169.004785 85.020176 \nL 168.953489 84.91017 \nL 168.900453 84.800991 \nL 168.845692 84.692668 \nL 168.789219 84.585227 \nL 168.731048 84.478696 \nL 168.671195 84.373101 \nL 168.609674 84.268469 \nL 168.5465 84.164826 \nL 168.48169 84.062198 \nL 168.41526 83.960612 \nL 168.347226 83.860093 \nL 168.277607 83.760665 \nL 168.206418 83.662355 \nL 168.133679 83.565187 \nL 168.059407 83.469184 \nL 167.983621 83.374373 \nL 167.906341 83.280775 \nL 167.827585 83.188416 \nL 167.747374 83.097318 \nL 167.665727 83.007504 \nL 167.582666 82.918996 \nL 167.498211 82.831818 \nL 167.412384 82.74599 \nL 167.325205 82.661535 \nL 167.236698 82.578474 \nL 167.146883 82.496828 \nL 167.055785 82.416616 \nL 166.963426 82.337861 \nL 166.869829 82.26058 \nL 166.775017 82.184794 \nL 166.679015 82.110523 \nL 166.581846 82.037783 \nL 166.483536 81.966595 \nL 166.384109 81.896975 \nL 166.283589 81.828941 \nL 166.182003 81.762511 \nL 166.079375 81.697701 \nL 165.975733 81.634528 \nL 165.871101 81.573006 \nL 165.765506 81.513153 \nL 165.658974 81.454982 \nL 165.551534 81.398509 \nL 165.44321 81.343748 \nL 165.334032 81.290713 \nL 165.224025 81.239416 \nL 165.113219 81.189871 \nL 165.001641 81.14209 \nL 164.889318 81.096086 \nL 164.77628 81.051869 \nL 164.662555 81.009452 \nL 164.548171 80.968844 \nL 164.433156 80.930057 \nL 164.317541 80.893098 \nL 164.201355 80.857979 \nL 164.084625 80.824708 \nL 163.967383 80.793293 \nL 163.849656 80.763742 \nL 163.731476 80.736063 \nL 163.612872 80.710262 \nL 163.493873 80.686346 \nL 163.374509 80.664321 \nL 163.254811 80.644193 \nL 163.134809 80.625967 \nL 163.014533 80.609646 \nL 162.894013 80.595236 \nL 162.773279 80.58274 \nL 162.652363 80.572162 \nL 162.531294 80.563503 \nL 162.410102 80.556765 \nL 162.288819 80.551952 \nL 162.167475 80.549064 \nL 162.046101 80.548101 \nL 146.746101 80.548101 \nL 146.624726 80.549064 \nL 146.503382 80.551952 \nL 146.382099 80.556765 \nL 146.260908 80.563503 \nL 146.139838 80.572162 \nL 146.018922 80.58274 \nL 145.898188 80.595236 \nL 145.777668 80.609646 \nL 145.657392 80.625967 \nL 145.53739 80.644193 \nL 145.417692 80.664321 \nL 145.298329 80.686346 \nL 145.17933 80.710262 \nL 145.060725 80.736063 \nL 144.942545 80.763742 \nL 144.824819 80.793293 \nL 144.707576 80.824708 \nL 144.590847 80.857979 \nL 144.47466 80.893098 \nL 144.359045 80.930057 \nL 144.244031 80.968844 \nL 144.129647 81.009452 \nL 144.015921 81.051869 \nL 143.902883 81.096086 \nL 143.79056 81.14209 \nL 143.678982 81.189871 \nL 143.568176 81.239416 \nL 143.45817 81.290713 \nL 143.348991 81.343748 \nL 143.240668 81.398509 \nL 143.133227 81.454982 \nL 143.026696 81.513153 \nL 142.921101 81.573006 \nL 142.816469 81.634528 \nL 142.712826 81.697701 \nL 142.610198 81.762511 \nL 142.508612 81.828941 \nL 142.408093 81.896975 \nL 142.308665 81.966595 \nL 142.210355 82.037783 \nL 142.113187 82.110523 \nL 142.017184 82.184794 \nL 141.922373 82.26058 \nL 141.828775 82.337861 \nL 141.736416 82.416616 \nL 141.645318 82.496828 \nL 141.555504 82.578474 \nL 141.466996 82.661535 \nL 141.379818 82.74599 \nL 141.29399 82.831818 \nL 141.209535 82.918996 \nL 141.126474 83.007504 \nL 141.044828 83.097318 \nL 140.964616 83.188416 \nL 140.885861 83.280775 \nL 140.80858 83.374373 \nL 140.732794 83.469184 \nL 140.658523 83.565187 \nL 140.585783 83.662355 \nL 140.514595 83.760665 \nL 140.444975 83.860093 \nL 140.376941 83.960612 \nL 140.310511 84.062198 \nL 140.245701 84.164826 \nL 140.182528 84.268469 \nL 140.121006 84.373101 \nL 140.061153 84.478696 \nL 140.002982 84.585227 \nL 139.946509 84.692668 \nL 139.891748 84.800991 \nL 139.838713 84.91017 \nL 139.787416 85.020176 \nL 139.737871 85.130982 \nL 139.69009 85.24256 \nL 139.644086 85.354883 \nL 139.599869 85.467921 \nL 139.557452 85.581647 \nL 139.516844 85.696031 \nL 139.478057 85.811045 \nL 139.441098 85.92666 \nL 139.405979 86.042847 \nL 139.372708 86.159576 \nL 139.341293 86.276819 \nL 139.311742 86.394545 \nL 139.284063 86.512725 \nL 139.258262 86.63133 \nL 139.234346 86.750329 \nL 139.212321 86.869692 \nL 139.192193 86.98939 \nL 139.173967 87.109392 \nL 139.157646 87.229668 \nL 139.143236 87.350188 \nL 139.13074 87.470922 \nL 139.120162 87.591838 \nL 139.111503 87.712908 \nL 139.104765 87.834099 \nL 139.099952 87.955382 \nL 139.097064 88.076726 \nL 139.096101 88.198101 \nL 139.096101 97.378101 \nL 139.097064 97.499475 \nL 139.099952 97.620819 \nL 139.104765 97.742102 \nL 139.111503 97.863294 \nL 139.120162 97.984363 \nL 139.13074 98.105279 \nL 139.143236 98.226013 \nL 139.157646 98.346533 \nL 139.173967 98.466809 \nL 139.192193 98.586811 \nL 139.212321 98.706509 \nL 139.234346 98.825873 \nL 139.258262 98.944872 \nL 139.284063 99.063476 \nL 139.311742 99.181656 \nL 139.341293 99.299383 \nL 139.372708 99.416625 \nL 139.405979 99.533355 \nL 139.441098 99.649541 \nL 139.478057 99.765156 \nL 139.516844 99.880171 \nL 139.557452 99.994555 \nL 139.599869 100.10828 \nL 139.644086 100.221318 \nL 139.69009 100.333641 \nL 139.737871 100.445219 \nL 139.787416 100.556025 \nL 139.838713 100.666032 \nL 139.891748 100.77521 \nL 139.946509 100.883534 \nL 140.002982 100.990974 \nL 140.061153 101.097506 \nL 140.121006 101.203101 \nL 140.182528 101.307733 \nL 140.245701 101.411375 \nL 140.310511 101.514003 \nL 140.376941 101.615589 \nL 140.444975 101.716109 \nL 140.514595 101.815536 \nL 140.585783 101.913846 \nL 140.658523 102.011015 \nL 140.732794 102.107017 \nL 140.80858 102.201829 \nL 140.885861 102.295426 \nL 140.964616 102.387785 \nL 141.044828 102.478883 \nL 141.126474 102.568698 \nL 141.209535 102.657205 \nL 141.29399 102.744384 \nL 141.379818 102.830211 \nL 141.466996 102.914666 \nL 141.555504 102.997727 \nL 141.645318 103.079374 \nL 141.736416 103.159585 \nL 141.828775 103.238341 \nL 141.922373 103.315621 \nL 142.017184 103.391407 \nL 142.113187 103.465679 \nL 142.210355 103.538418 \nL 142.308665 103.609607 \nL 142.408093 103.679226 \nL 142.508612 103.74726 \nL 142.610198 103.81369 \nL 142.712826 103.8785 \nL 142.816469 103.941674 \nL 142.921101 104.003195 \nL 143.026696 104.063048 \nL 143.133227 104.121219 \nL 143.240668 104.177692 \nL 143.348991 104.232453 \nL 143.45817 104.285489 \nL 143.568176 104.336785 \nL 143.678982 104.38633 \nL 143.79056 104.434111 \nL 143.902883 104.480115 \nL 144.015921 104.524332 \nL 144.129647 104.566749 \nL 144.244031 104.607357 \nL 144.359045 104.646145 \nL 144.47466 104.683103 \nL 144.590847 104.718222 \nL 144.707576 104.751493 \nL 144.824819 104.782908 \nL 144.942545 104.812459 \nL 145.060725 104.840138 \nL 145.17933 104.865939 \nL 145.298329 104.889855 \nL 145.417692 104.91188 \nL 145.53739 104.932008 \nL 145.657392 104.950235 \nL 145.777668 104.966555 \nL 145.898188 104.980965 \nL 146.018922 104.993461 \nL 146.139838 105.00404 \nL 146.260908 105.012699 \nL 146.382099 105.019436 \nL 146.503382 105.024249 \nL 146.624726 105.027138 \nL 146.746101 105.028101 \nz\n\" style=\"fill:none;stroke:#0000ff;stroke-linecap:round;\"/>\n   </g>\n   <g id=\"patch_4\">\n    <path clip-path=\"url(#p71786f8e88)\" d=\"M 64.126101 105.028101 \nL 64.247475 105.027138 \nL 64.368819 105.024249 \nL 64.490102 105.019436 \nL 64.611294 105.012699 \nL 64.732363 105.00404 \nL 64.853279 104.993461 \nL 64.974013 104.980965 \nL 65.094533 104.966555 \nL 65.214809 104.950235 \nL 65.334811 104.932008 \nL 65.454509 104.91188 \nL 65.573873 104.889855 \nL 65.692872 104.865939 \nL 65.811476 104.840138 \nL 65.929656 104.812459 \nL 66.047383 104.782908 \nL 66.164625 104.751493 \nL 66.281355 104.718222 \nL 66.397541 104.683103 \nL 66.513156 104.646145 \nL 66.628171 104.607357 \nL 66.742555 104.566749 \nL 66.85628 104.524332 \nL 66.969318 104.480115 \nL 67.081641 104.434111 \nL 67.193219 104.38633 \nL 67.304025 104.336785 \nL 67.414032 104.285489 \nL 67.52321 104.232453 \nL 67.631534 104.177692 \nL 67.738974 104.121219 \nL 67.845506 104.063048 \nL 67.951101 104.003195 \nL 68.055733 103.941674 \nL 68.159375 103.8785 \nL 68.262003 103.81369 \nL 68.363589 103.74726 \nL 68.464109 103.679226 \nL 68.563536 103.609607 \nL 68.661846 103.538418 \nL 68.759015 103.465679 \nL 68.855017 103.391407 \nL 68.949829 103.315621 \nL 69.043426 103.238341 \nL 69.135785 103.159585 \nL 69.226883 103.079374 \nL 69.316698 102.997727 \nL 69.405205 102.914666 \nL 69.492384 102.830211 \nL 69.578211 102.744384 \nL 69.662666 102.657205 \nL 69.745727 102.568698 \nL 69.827374 102.478883 \nL 69.907585 102.387785 \nL 69.986341 102.295426 \nL 70.063621 102.201829 \nL 70.139407 102.107017 \nL 70.213679 102.011015 \nL 70.286418 101.913846 \nL 70.357607 101.815536 \nL 70.427226 101.716109 \nL 70.49526 101.615589 \nL 70.56169 101.514003 \nL 70.6265 101.411375 \nL 70.689674 101.307733 \nL 70.751195 101.203101 \nL 70.811048 101.097506 \nL 70.869219 100.990974 \nL 70.925692 100.883534 \nL 70.980453 100.77521 \nL 71.033489 100.666032 \nL 71.084785 100.556025 \nL 71.13433 100.445219 \nL 71.182111 100.333641 \nL 71.228115 100.221318 \nL 71.272332 100.10828 \nL 71.314749 99.994555 \nL 71.355357 99.880171 \nL 71.394145 99.765156 \nL 71.431103 99.649541 \nL 71.466222 99.533355 \nL 71.499493 99.416625 \nL 71.530908 99.299383 \nL 71.560459 99.181656 \nL 71.588138 99.063476 \nL 71.613939 98.944872 \nL 71.637855 98.825873 \nL 71.65988 98.706509 \nL 71.680008 98.586811 \nL 71.698235 98.466809 \nL 71.714555 98.346533 \nL 71.728965 98.226013 \nL 71.741461 98.105279 \nL 71.75204 97.984363 \nL 71.760699 97.863294 \nL 71.767436 97.742102 \nL 71.772249 97.620819 \nL 71.775138 97.499475 \nL 71.776101 97.378101 \nL 71.776101 88.198101 \nL 71.775138 88.076726 \nL 71.772249 87.955382 \nL 71.767436 87.834099 \nL 71.760699 87.712908 \nL 71.75204 87.591838 \nL 71.741461 87.470922 \nL 71.728965 87.350188 \nL 71.714555 87.229668 \nL 71.698235 87.109392 \nL 71.680008 86.98939 \nL 71.65988 86.869692 \nL 71.637855 86.750329 \nL 71.613939 86.63133 \nL 71.588138 86.512725 \nL 71.560459 86.394545 \nL 71.530908 86.276819 \nL 71.499493 86.159576 \nL 71.466222 86.042847 \nL 71.431103 85.92666 \nL 71.394145 85.811045 \nL 71.355357 85.696031 \nL 71.314749 85.581647 \nL 71.272332 85.467921 \nL 71.228115 85.354883 \nL 71.182111 85.24256 \nL 71.13433 85.130982 \nL 71.084785 85.020176 \nL 71.033489 84.91017 \nL 70.980453 84.800991 \nL 70.925692 84.692668 \nL 70.869219 84.585227 \nL 70.811048 84.478696 \nL 70.751195 84.373101 \nL 70.689674 84.268469 \nL 70.6265 84.164826 \nL 70.56169 84.062198 \nL 70.49526 83.960612 \nL 70.427226 83.860093 \nL 70.357607 83.760665 \nL 70.286418 83.662355 \nL 70.213679 83.565187 \nL 70.139407 83.469184 \nL 70.063621 83.374373 \nL 69.986341 83.280775 \nL 69.907585 83.188416 \nL 69.827374 83.097318 \nL 69.745727 83.007504 \nL 69.662666 82.918996 \nL 69.578211 82.831818 \nL 69.492384 82.74599 \nL 69.405205 82.661535 \nL 69.316698 82.578474 \nL 69.226883 82.496828 \nL 69.135785 82.416616 \nL 69.043426 82.337861 \nL 68.949829 82.26058 \nL 68.855017 82.184794 \nL 68.759015 82.110523 \nL 68.661846 82.037783 \nL 68.563536 81.966595 \nL 68.464109 81.896975 \nL 68.363589 81.828941 \nL 68.262003 81.762511 \nL 68.159375 81.697701 \nL 68.055733 81.634528 \nL 67.951101 81.573006 \nL 67.845506 81.513153 \nL 67.738974 81.454982 \nL 67.631534 81.398509 \nL 67.52321 81.343748 \nL 67.414032 81.290713 \nL 67.304025 81.239416 \nL 67.193219 81.189871 \nL 67.081641 81.14209 \nL 66.969318 81.096086 \nL 66.85628 81.051869 \nL 66.742555 81.009452 \nL 66.628171 80.968844 \nL 66.513156 80.930057 \nL 66.397541 80.893098 \nL 66.281355 80.857979 \nL 66.164625 80.824708 \nL 66.047383 80.793293 \nL 65.929656 80.763742 \nL 65.811476 80.736063 \nL 65.692872 80.710262 \nL 65.573873 80.686346 \nL 65.454509 80.664321 \nL 65.334811 80.644193 \nL 65.214809 80.625967 \nL 65.094533 80.609646 \nL 64.974013 80.595236 \nL 64.853279 80.58274 \nL 64.732363 80.572162 \nL 64.611294 80.563503 \nL 64.490102 80.556765 \nL 64.368819 80.551952 \nL 64.247475 80.549064 \nL 64.126101 80.548101 \nL 48.826101 80.548101 \nL 48.704726 80.549064 \nL 48.583382 80.551952 \nL 48.462099 80.556765 \nL 48.340908 80.563503 \nL 48.219838 80.572162 \nL 48.098922 80.58274 \nL 47.978188 80.595236 \nL 47.857668 80.609646 \nL 47.737392 80.625967 \nL 47.61739 80.644193 \nL 47.497692 80.664321 \nL 47.378329 80.686346 \nL 47.25933 80.710262 \nL 47.140725 80.736063 \nL 47.022545 80.763742 \nL 46.904819 80.793293 \nL 46.787576 80.824708 \nL 46.670847 80.857979 \nL 46.55466 80.893098 \nL 46.439045 80.930057 \nL 46.324031 80.968844 \nL 46.209647 81.009452 \nL 46.095921 81.051869 \nL 45.982883 81.096086 \nL 45.87056 81.14209 \nL 45.758982 81.189871 \nL 45.648176 81.239416 \nL 45.53817 81.290713 \nL 45.428991 81.343748 \nL 45.320668 81.398509 \nL 45.213227 81.454982 \nL 45.106696 81.513153 \nL 45.001101 81.573006 \nL 44.896469 81.634528 \nL 44.792826 81.697701 \nL 44.690198 81.762511 \nL 44.588612 81.828941 \nL 44.488093 81.896975 \nL 44.388665 81.966595 \nL 44.290355 82.037783 \nL 44.193187 82.110523 \nL 44.097184 82.184794 \nL 44.002373 82.26058 \nL 43.908775 82.337861 \nL 43.816416 82.416616 \nL 43.725318 82.496828 \nL 43.635504 82.578474 \nL 43.546996 82.661535 \nL 43.459818 82.74599 \nL 43.37399 82.831818 \nL 43.289535 82.918996 \nL 43.206474 83.007504 \nL 43.124828 83.097318 \nL 43.044616 83.188416 \nL 42.965861 83.280775 \nL 42.88858 83.374373 \nL 42.812794 83.469184 \nL 42.738523 83.565187 \nL 42.665783 83.662355 \nL 42.594595 83.760665 \nL 42.524975 83.860093 \nL 42.456941 83.960612 \nL 42.390511 84.062198 \nL 42.325701 84.164826 \nL 42.262528 84.268469 \nL 42.201006 84.373101 \nL 42.141153 84.478696 \nL 42.082982 84.585227 \nL 42.026509 84.692668 \nL 41.971748 84.800991 \nL 41.918713 84.91017 \nL 41.867416 85.020176 \nL 41.817871 85.130982 \nL 41.77009 85.24256 \nL 41.724086 85.354883 \nL 41.679869 85.467921 \nL 41.637452 85.581647 \nL 41.596844 85.696031 \nL 41.558057 85.811045 \nL 41.521098 85.92666 \nL 41.485979 86.042847 \nL 41.452708 86.159576 \nL 41.421293 86.276819 \nL 41.391742 86.394545 \nL 41.364063 86.512725 \nL 41.338262 86.63133 \nL 41.314346 86.750329 \nL 41.292321 86.869692 \nL 41.272193 86.98939 \nL 41.253967 87.109392 \nL 41.237646 87.229668 \nL 41.223236 87.350188 \nL 41.21074 87.470922 \nL 41.200162 87.591838 \nL 41.191503 87.712908 \nL 41.184765 87.834099 \nL 41.179952 87.955382 \nL 41.177064 88.076726 \nL 41.176101 88.198101 \nL 41.176101 97.378101 \nL 41.177064 97.499475 \nL 41.179952 97.620819 \nL 41.184765 97.742102 \nL 41.191503 97.863294 \nL 41.200162 97.984363 \nL 41.21074 98.105279 \nL 41.223236 98.226013 \nL 41.237646 98.346533 \nL 41.253967 98.466809 \nL 41.272193 98.586811 \nL 41.292321 98.706509 \nL 41.314346 98.825873 \nL 41.338262 98.944872 \nL 41.364063 99.063476 \nL 41.391742 99.181656 \nL 41.421293 99.299383 \nL 41.452708 99.416625 \nL 41.485979 99.533355 \nL 41.521098 99.649541 \nL 41.558057 99.765156 \nL 41.596844 99.880171 \nL 41.637452 99.994555 \nL 41.679869 100.10828 \nL 41.724086 100.221318 \nL 41.77009 100.333641 \nL 41.817871 100.445219 \nL 41.867416 100.556025 \nL 41.918713 100.666032 \nL 41.971748 100.77521 \nL 42.026509 100.883534 \nL 42.082982 100.990974 \nL 42.141153 101.097506 \nL 42.201006 101.203101 \nL 42.262528 101.307733 \nL 42.325701 101.411375 \nL 42.390511 101.514003 \nL 42.456941 101.615589 \nL 42.524975 101.716109 \nL 42.594595 101.815536 \nL 42.665783 101.913846 \nL 42.738523 102.011015 \nL 42.812794 102.107017 \nL 42.88858 102.201829 \nL 42.965861 102.295426 \nL 43.044616 102.387785 \nL 43.124828 102.478883 \nL 43.206474 102.568698 \nL 43.289535 102.657205 \nL 43.37399 102.744384 \nL 43.459818 102.830211 \nL 43.546996 102.914666 \nL 43.635504 102.997727 \nL 43.725318 103.079374 \nL 43.816416 103.159585 \nL 43.908775 103.238341 \nL 44.002373 103.315621 \nL 44.097184 103.391407 \nL 44.193187 103.465679 \nL 44.290355 103.538418 \nL 44.388665 103.609607 \nL 44.488093 103.679226 \nL 44.588612 103.74726 \nL 44.690198 103.81369 \nL 44.792826 103.8785 \nL 44.896469 103.941674 \nL 45.001101 104.003195 \nL 45.106696 104.063048 \nL 45.213227 104.121219 \nL 45.320668 104.177692 \nL 45.428991 104.232453 \nL 45.53817 104.285489 \nL 45.648176 104.336785 \nL 45.758982 104.38633 \nL 45.87056 104.434111 \nL 45.982883 104.480115 \nL 46.095921 104.524332 \nL 46.209647 104.566749 \nL 46.324031 104.607357 \nL 46.439045 104.646145 \nL 46.55466 104.683103 \nL 46.670847 104.718222 \nL 46.787576 104.751493 \nL 46.904819 104.782908 \nL 47.022545 104.812459 \nL 47.140725 104.840138 \nL 47.25933 104.865939 \nL 47.378329 104.889855 \nL 47.497692 104.91188 \nL 47.61739 104.932008 \nL 47.737392 104.950235 \nL 47.857668 104.966555 \nL 47.978188 104.980965 \nL 48.098922 104.993461 \nL 48.219838 105.00404 \nL 48.340908 105.012699 \nL 48.462099 105.019436 \nL 48.583382 105.024249 \nL 48.704726 105.027138 \nL 48.826101 105.028101 \nz\n\" style=\"fill:none;stroke:#0000ff;stroke-linecap:round;\"/>\n   </g>\n   <g id=\"line2d_1\">\n    <path clip-path=\"url(#p71786f8e88)\" d=\"M 44.236101 169.288101 \nL 166.636101 169.288101 \nL 166.636101 46.888101 \nL 44.236101 46.888101 \nL 44.236101 169.288101 \n\" style=\"fill:none;stroke:#000000;stroke-linecap:round;stroke-width:1.25;\"/>\n   </g>\n   <g id=\"line2d_2\">\n    <path clip-path=\"url(#p71786f8e88)\" d=\"M 44.236101 169.288101 \nL 166.636101 169.288101 \n\" style=\"fill:none;stroke:#000000;stroke-linecap:round;stroke-width:1.25;\"/>\n   </g>\n   <g id=\"line2d_3\">\n    <path clip-path=\"url(#p71786f8e88)\" d=\"M 44.236101 138.688101 \nL 166.636101 138.688101 \n\" style=\"fill:none;stroke:#000000;stroke-linecap:round;stroke-width:1.25;\"/>\n   </g>\n   <g id=\"line2d_4\">\n    <path clip-path=\"url(#p71786f8e88)\" d=\"M 44.236101 108.088101 \nL 166.636101 108.088101 \n\" style=\"fill:none;stroke:#000000;stroke-linecap:round;stroke-width:1.25;\"/>\n   </g>\n   <g id=\"line2d_5\">\n    <path clip-path=\"url(#p71786f8e88)\" d=\"M 44.236101 77.488101 \nL 166.636101 77.488101 \n\" style=\"fill:none;stroke:#000000;stroke-linecap:round;stroke-width:1.25;\"/>\n   </g>\n   <g id=\"line2d_6\">\n    <path clip-path=\"url(#p71786f8e88)\" d=\"M 44.236101 169.288101 \nL 44.236101 46.888101 \n\" style=\"fill:none;stroke:#000000;stroke-linecap:round;stroke-width:1.25;\"/>\n   </g>\n   <g id=\"line2d_7\">\n    <path clip-path=\"url(#p71786f8e88)\" d=\"M 74.836101 169.288101 \nL 74.836101 46.888101 \n\" style=\"fill:none;stroke:#000000;stroke-linecap:round;stroke-width:1.25;\"/>\n   </g>\n   <g id=\"line2d_8\">\n    <path clip-path=\"url(#p71786f8e88)\" d=\"M 105.436101 169.288101 \nL 105.436101 46.888101 \n\" style=\"fill:none;stroke:#000000;stroke-linecap:round;stroke-width:1.25;\"/>\n   </g>\n   <g id=\"line2d_9\">\n    <path clip-path=\"url(#p71786f8e88)\" d=\"M 136.036101 169.288101 \nL 136.036101 46.888101 \n\" style=\"fill:none;stroke:#000000;stroke-linecap:round;stroke-width:1.25;\"/>\n   </g>\n   <g id=\"line2d_10\">\n    <path clip-path=\"url(#p71786f8e88)\" d=\"M 44.236101 46.888101 \nL 22.598633 25.250633 \n\" style=\"fill:none;stroke:#000000;stroke-linecap:round;stroke-width:1.25;\"/>\n   </g>\n   <g id=\"text_1\">\n    <g clip-path=\"url(#p71786f8e88)\">\n     <!-- 13 -->\n     <defs>\n      <path d=\"M 12.40625 8.296875 \nL 28.515625 8.296875 \nL 28.515625 63.921875 \nL 10.984375 60.40625 \nL 10.984375 69.390625 \nL 28.421875 72.90625 \nL 38.28125 72.90625 \nL 38.28125 8.296875 \nL 54.390625 8.296875 \nL 54.390625 0 \nL 12.40625 0 \nz\n\" id=\"DejaVuSans-49\"/>\n      <path d=\"M 40.578125 39.3125 \nQ 47.65625 37.796875 51.625 33 \nQ 55.609375 28.21875 55.609375 21.1875 \nQ 55.609375 10.40625 48.1875 4.484375 \nQ 40.765625 -1.421875 27.09375 -1.421875 \nQ 22.515625 -1.421875 17.65625 -0.515625 \nQ 12.796875 0.390625 7.625 2.203125 \nL 7.625 11.71875 \nQ 11.71875 9.328125 16.59375 8.109375 \nQ 21.484375 6.890625 26.8125 6.890625 \nQ 36.078125 6.890625 40.9375 10.546875 \nQ 45.796875 14.203125 45.796875 21.1875 \nQ 45.796875 27.640625 41.28125 31.265625 \nQ 36.765625 34.90625 28.71875 34.90625 \nL 20.21875 34.90625 \nL 20.21875 43.015625 \nL 29.109375 43.015625 \nQ 36.375 43.015625 40.234375 45.921875 \nQ 44.09375 48.828125 44.09375 54.296875 \nQ 44.09375 59.90625 40.109375 62.90625 \nQ 36.140625 65.921875 28.71875 65.921875 \nQ 24.65625 65.921875 20.015625 65.03125 \nQ 15.375 64.15625 9.8125 62.3125 \nL 9.8125 71.09375 \nQ 15.4375 72.65625 20.34375 73.4375 \nQ 25.25 74.21875 29.59375 74.21875 \nQ 40.828125 74.21875 47.359375 69.109375 \nQ 53.90625 64.015625 53.90625 55.328125 \nQ 53.90625 49.265625 50.4375 45.09375 \nQ 46.96875 40.921875 40.578125 39.3125 \nz\n\" id=\"DejaVuSans-51\"/>\n     </defs>\n     <g transform=\"translate(30.874851 28.476328)scale(0.105 -0.105)\">\n      <use xlink:href=\"#DejaVuSans-49\"/>\n      <use x=\"63.623047\" xlink:href=\"#DejaVuSans-51\"/>\n     </g>\n    </g>\n   </g>\n   <g id=\"text_2\">\n    <g clip-path=\"url(#p71786f8e88)\">\n     <!-- 24 -->\n     <defs>\n      <path d=\"M 19.1875 8.296875 \nL 53.609375 8.296875 \nL 53.609375 0 \nL 7.328125 0 \nL 7.328125 8.296875 \nQ 12.9375 14.109375 22.625 23.890625 \nQ 32.328125 33.6875 34.8125 36.53125 \nQ 39.546875 41.84375 41.421875 45.53125 \nQ 43.3125 49.21875 43.3125 52.78125 \nQ 43.3125 58.59375 39.234375 62.25 \nQ 35.15625 65.921875 28.609375 65.921875 \nQ 23.96875 65.921875 18.8125 64.3125 \nQ 13.671875 62.703125 7.8125 59.421875 \nL 7.8125 69.390625 \nQ 13.765625 71.78125 18.9375 73 \nQ 24.125 74.21875 28.421875 74.21875 \nQ 39.75 74.21875 46.484375 68.546875 \nQ 53.21875 62.890625 53.21875 53.421875 \nQ 53.21875 48.921875 51.53125 44.890625 \nQ 49.859375 40.875 45.40625 35.40625 \nQ 44.1875 33.984375 37.640625 27.21875 \nQ 31.109375 20.453125 19.1875 8.296875 \nz\n\" id=\"DejaVuSans-50\"/>\n      <path d=\"M 37.796875 64.3125 \nL 12.890625 25.390625 \nL 37.796875 25.390625 \nz\nM 35.203125 72.90625 \nL 47.609375 72.90625 \nL 47.609375 25.390625 \nL 58.015625 25.390625 \nL 58.015625 17.1875 \nL 47.609375 17.1875 \nL 47.609375 0 \nL 37.796875 0 \nL 37.796875 17.1875 \nL 4.890625 17.1875 \nL 4.890625 26.703125 \nz\n\" id=\"DejaVuSans-52\"/>\n     </defs>\n     <g transform=\"translate(14.64675 44.704429)scale(0.105 -0.105)\">\n      <use xlink:href=\"#DejaVuSans-50\"/>\n      <use x=\"63.623047\" xlink:href=\"#DejaVuSans-52\"/>\n     </g>\n    </g>\n   </g>\n   <g id=\"text_3\">\n    <g clip-path=\"url(#p71786f8e88)\">\n     <!-- 00 -->\n     <defs>\n      <path d=\"M 31.78125 66.40625 \nQ 24.171875 66.40625 20.328125 58.90625 \nQ 16.5 51.421875 16.5 36.375 \nQ 16.5 21.390625 20.328125 13.890625 \nQ 24.171875 6.390625 31.78125 6.390625 \nQ 39.453125 6.390625 43.28125 13.890625 \nQ 47.125 21.390625 47.125 36.375 \nQ 47.125 51.421875 43.28125 58.90625 \nQ 39.453125 66.40625 31.78125 66.40625 \nz\nM 31.78125 74.21875 \nQ 44.046875 74.21875 50.515625 64.515625 \nQ 56.984375 54.828125 56.984375 36.375 \nQ 56.984375 17.96875 50.515625 8.265625 \nQ 44.046875 -1.421875 31.78125 -1.421875 \nQ 19.53125 -1.421875 13.0625 8.265625 \nQ 6.59375 17.96875 6.59375 36.375 \nQ 6.59375 54.828125 13.0625 64.515625 \nQ 19.53125 74.21875 31.78125 74.21875 \nz\n\" id=\"DejaVuSans-48\"/>\n     </defs>\n     <g transform=\"translate(54.127976 43.590366)scale(0.085 -0.085)\">\n      <use xlink:href=\"#DejaVuSans-48\"/>\n      <use x=\"63.623047\" xlink:href=\"#DejaVuSans-48\"/>\n     </g>\n    </g>\n   </g>\n   <g id=\"text_4\">\n    <g clip-path=\"url(#p71786f8e88)\">\n     <!-- 01 -->\n     <g transform=\"translate(84.727976 43.590366)scale(0.085 -0.085)\">\n      <use xlink:href=\"#DejaVuSans-48\"/>\n      <use x=\"63.623047\" xlink:href=\"#DejaVuSans-49\"/>\n     </g>\n    </g>\n   </g>\n   <g id=\"text_5\">\n    <g clip-path=\"url(#p71786f8e88)\">\n     <!-- 10 -->\n     <g transform=\"translate(145.927976 43.590366)scale(0.085 -0.085)\">\n      <use xlink:href=\"#DejaVuSans-49\"/>\n      <use x=\"63.623047\" xlink:href=\"#DejaVuSans-48\"/>\n     </g>\n    </g>\n   </g>\n   <g id=\"text_6\">\n    <g clip-path=\"url(#p71786f8e88)\">\n     <!-- 11 -->\n     <g transform=\"translate(115.327976 43.590366)scale(0.085 -0.085)\">\n      <use xlink:href=\"#DejaVuSans-49\"/>\n      <use x=\"63.623047\" xlink:href=\"#DejaVuSans-49\"/>\n     </g>\n    </g>\n   </g>\n   <g id=\"text_7\">\n    <g clip-path=\"url(#p71786f8e88)\">\n     <!-- 00 -->\n     <g transform=\"translate(30.359851 64.533569)scale(0.085 -0.085)\">\n      <use xlink:href=\"#DejaVuSans-48\"/>\n      <use x=\"63.623047\" xlink:href=\"#DejaVuSans-48\"/>\n     </g>\n    </g>\n   </g>\n   <g id=\"text_8\">\n    <g clip-path=\"url(#p71786f8e88)\">\n     <!-- 01 -->\n     <g transform=\"translate(30.359851 95.133569)scale(0.085 -0.085)\">\n      <use xlink:href=\"#DejaVuSans-48\"/>\n      <use x=\"63.623047\" xlink:href=\"#DejaVuSans-49\"/>\n     </g>\n    </g>\n   </g>\n   <g id=\"text_9\">\n    <g clip-path=\"url(#p71786f8e88)\">\n     <!-- 10 -->\n     <g transform=\"translate(30.359851 156.333569)scale(0.085 -0.085)\">\n      <use xlink:href=\"#DejaVuSans-49\"/>\n      <use x=\"63.623047\" xlink:href=\"#DejaVuSans-48\"/>\n     </g>\n    </g>\n   </g>\n   <g id=\"text_10\">\n    <g clip-path=\"url(#p71786f8e88)\">\n     <!-- 11 -->\n     <g transform=\"translate(30.359851 125.733569)scale(0.085 -0.085)\">\n      <use xlink:href=\"#DejaVuSans-49\"/>\n      <use x=\"63.623047\" xlink:href=\"#DejaVuSans-49\"/>\n     </g>\n    </g>\n   </g>\n   <g id=\"text_11\">\n    <g clip-path=\"url(#p71786f8e88)\">\n     <!-- X -->\n     <defs>\n      <path d=\"M 6.296875 72.90625 \nL 16.890625 72.90625 \nL 35.015625 45.796875 \nL 53.21875 72.90625 \nL 63.8125 72.90625 \nL 40.375 37.890625 \nL 65.375 0 \nL 54.78125 0 \nL 34.28125 31 \nL 13.625 0 \nL 2.984375 0 \nL 29 38.921875 \nz\n\" id=\"DejaVuSans-88\"/>\n     </defs>\n     <g transform=\"translate(55.939851 65.085444)scale(0.105 -0.105)\">\n      <use xlink:href=\"#DejaVuSans-88\"/>\n     </g>\n    </g>\n   </g>\n   <g id=\"text_12\">\n    <g clip-path=\"url(#p71786f8e88)\">\n     <!-- X -->\n     <g transform=\"translate(55.939851 95.685444)scale(0.105 -0.105)\">\n      <use xlink:href=\"#DejaVuSans-88\"/>\n     </g>\n    </g>\n   </g>\n   <g id=\"text_13\">\n    <g clip-path=\"url(#p71786f8e88)\">\n     <!-- X -->\n     <g transform=\"translate(55.939851 156.885444)scale(0.105 -0.105)\">\n      <use xlink:href=\"#DejaVuSans-88\"/>\n     </g>\n    </g>\n   </g>\n   <g id=\"text_14\">\n    <g clip-path=\"url(#p71786f8e88)\">\n     <!-- X -->\n     <g transform=\"translate(55.939851 126.285444)scale(0.105 -0.105)\">\n      <use xlink:href=\"#DejaVuSans-88\"/>\n     </g>\n    </g>\n   </g>\n   <g id=\"text_15\">\n    <g clip-path=\"url(#p71786f8e88)\">\n     <!-- X -->\n     <g transform=\"translate(86.539851 65.085444)scale(0.105 -0.105)\">\n      <use xlink:href=\"#DejaVuSans-88\"/>\n     </g>\n    </g>\n   </g>\n   <g id=\"text_16\">\n    <g clip-path=\"url(#p71786f8e88)\">\n     <!-- 0 -->\n     <g transform=\"translate(86.795788 95.685444)scale(0.105 -0.105)\">\n      <use xlink:href=\"#DejaVuSans-48\"/>\n     </g>\n    </g>\n   </g>\n   <g id=\"text_17\">\n    <g clip-path=\"url(#p71786f8e88)\">\n     <!-- X -->\n     <g transform=\"translate(86.539851 156.885444)scale(0.105 -0.105)\">\n      <use xlink:href=\"#DejaVuSans-88\"/>\n     </g>\n    </g>\n   </g>\n   <g id=\"text_18\">\n    <g clip-path=\"url(#p71786f8e88)\">\n     <!-- 1 -->\n     <g transform=\"translate(86.795788 126.285444)scale(0.105 -0.105)\">\n      <use xlink:href=\"#DejaVuSans-49\"/>\n     </g>\n    </g>\n   </g>\n   <g id=\"text_19\">\n    <g clip-path=\"url(#p71786f8e88)\">\n     <!-- 0 -->\n     <g transform=\"translate(147.995788 65.085444)scale(0.105 -0.105)\">\n      <use xlink:href=\"#DejaVuSans-48\"/>\n     </g>\n    </g>\n   </g>\n   <g id=\"text_20\">\n    <g clip-path=\"url(#p71786f8e88)\">\n     <!-- 1 -->\n     <g transform=\"translate(147.995788 95.685444)scale(0.105 -0.105)\">\n      <use xlink:href=\"#DejaVuSans-49\"/>\n     </g>\n    </g>\n   </g>\n   <g id=\"text_21\">\n    <g clip-path=\"url(#p71786f8e88)\">\n     <!-- 0 -->\n     <g transform=\"translate(147.995788 156.885444)scale(0.105 -0.105)\">\n      <use xlink:href=\"#DejaVuSans-48\"/>\n     </g>\n    </g>\n   </g>\n   <g id=\"text_22\">\n    <g clip-path=\"url(#p71786f8e88)\">\n     <!-- 0 -->\n     <g transform=\"translate(147.995788 126.285444)scale(0.105 -0.105)\">\n      <use xlink:href=\"#DejaVuSans-48\"/>\n     </g>\n    </g>\n   </g>\n   <g id=\"text_23\">\n    <g clip-path=\"url(#p71786f8e88)\">\n     <!-- 0 -->\n     <g transform=\"translate(117.395788 65.085444)scale(0.105 -0.105)\">\n      <use xlink:href=\"#DejaVuSans-48\"/>\n     </g>\n    </g>\n   </g>\n   <g id=\"text_24\">\n    <g clip-path=\"url(#p71786f8e88)\">\n     <!-- 0 -->\n     <g transform=\"translate(117.395788 95.685444)scale(0.105 -0.105)\">\n      <use xlink:href=\"#DejaVuSans-48\"/>\n     </g>\n    </g>\n   </g>\n   <g id=\"text_25\">\n    <g clip-path=\"url(#p71786f8e88)\">\n     <!-- X -->\n     <g transform=\"translate(117.139851 156.885444)scale(0.105 -0.105)\">\n      <use xlink:href=\"#DejaVuSans-88\"/>\n     </g>\n    </g>\n   </g>\n   <g id=\"text_26\">\n    <g clip-path=\"url(#p71786f8e88)\">\n     <!-- X -->\n     <g transform=\"translate(117.139851 126.285444)scale(0.105 -0.105)\">\n      <use xlink:href=\"#DejaVuSans-88\"/>\n     </g>\n    </g>\n   </g>\n  </g>\n </g>\n <defs>\n  <clipPath id=\"p71786f8e88\">\n   <rect height=\"165.148101\" width=\"165.556101\" x=\"7.2\" y=\"7.2\"/>\n  </clipPath>\n </defs>\n</svg>\n"
          },
          "metadata": {},
          "execution_count": 176
        }
      ]
    },
    {
      "cell_type": "markdown",
      "source": [
        "## D2"
      ],
      "metadata": {
        "id": "21Jc8Ua3JUFr"
      }
    },
    {
      "cell_type": "code",
      "source": [
        "Table1_3[Table1_3[\"D2\"] == 1][[\"Q1\",\"Q2\",\"Q3\",\"Q4\"]]"
      ],
      "metadata": {
        "colab": {
          "base_uri": "https://localhost:8080/"
        },
        "id": "Kw-vNtUnc1U4",
        "outputId": "99055b0b-277c-44d2-e049-f6d3dd96a1ba"
      },
      "execution_count": null,
      "outputs": [
        {
          "output_type": "execute_result",
          "data": {
            "text/html": [
              "\n",
              "  <div id=\"df-a8bac237-ad71-44b3-abc1-f36d36b24158\">\n",
              "    <div class=\"colab-df-container\">\n",
              "      <div>\n",
              "<style scoped>\n",
              "    .dataframe tbody tr th:only-of-type {\n",
              "        vertical-align: middle;\n",
              "    }\n",
              "\n",
              "    .dataframe tbody tr th {\n",
              "        vertical-align: top;\n",
              "    }\n",
              "\n",
              "    .dataframe thead th {\n",
              "        text-align: right;\n",
              "    }\n",
              "</style>\n",
              "<table border=\"1\" class=\"dataframe\">\n",
              "  <thead>\n",
              "    <tr style=\"text-align: right;\">\n",
              "      <th></th>\n",
              "      <th>Q1</th>\n",
              "      <th>Q2</th>\n",
              "      <th>Q3</th>\n",
              "      <th>Q4</th>\n",
              "    </tr>\n",
              "  </thead>\n",
              "  <tbody>\n",
              "    <tr>\n",
              "      <th>0</th>\n",
              "      <td>0</td>\n",
              "      <td>1</td>\n",
              "      <td>1</td>\n",
              "      <td>1</td>\n",
              "    </tr>\n",
              "    <tr>\n",
              "      <th>1</th>\n",
              "      <td>0</td>\n",
              "      <td>1</td>\n",
              "      <td>0</td>\n",
              "      <td>0</td>\n",
              "    </tr>\n",
              "    <tr>\n",
              "      <th>2</th>\n",
              "      <td>0</td>\n",
              "      <td>1</td>\n",
              "      <td>0</td>\n",
              "      <td>1</td>\n",
              "    </tr>\n",
              "    <tr>\n",
              "      <th>4</th>\n",
              "      <td>1</td>\n",
              "      <td>0</td>\n",
              "      <td>0</td>\n",
              "      <td>0</td>\n",
              "    </tr>\n",
              "    <tr>\n",
              "      <th>7</th>\n",
              "      <td>0</td>\n",
              "      <td>0</td>\n",
              "      <td>1</td>\n",
              "      <td>1</td>\n",
              "    </tr>\n",
              "  </tbody>\n",
              "</table>\n",
              "</div>\n",
              "      <button class=\"colab-df-convert\" onclick=\"convertToInteractive('df-a8bac237-ad71-44b3-abc1-f36d36b24158')\"\n",
              "              title=\"Convert this dataframe to an interactive table.\"\n",
              "              style=\"display:none;\">\n",
              "        \n",
              "  <svg xmlns=\"http://www.w3.org/2000/svg\" height=\"24px\"viewBox=\"0 0 24 24\"\n",
              "       width=\"24px\">\n",
              "    <path d=\"M0 0h24v24H0V0z\" fill=\"none\"/>\n",
              "    <path d=\"M18.56 5.44l.94 2.06.94-2.06 2.06-.94-2.06-.94-.94-2.06-.94 2.06-2.06.94zm-11 1L8.5 8.5l.94-2.06 2.06-.94-2.06-.94L8.5 2.5l-.94 2.06-2.06.94zm10 10l.94 2.06.94-2.06 2.06-.94-2.06-.94-.94-2.06-.94 2.06-2.06.94z\"/><path d=\"M17.41 7.96l-1.37-1.37c-.4-.4-.92-.59-1.43-.59-.52 0-1.04.2-1.43.59L10.3 9.45l-7.72 7.72c-.78.78-.78 2.05 0 2.83L4 21.41c.39.39.9.59 1.41.59.51 0 1.02-.2 1.41-.59l7.78-7.78 2.81-2.81c.8-.78.8-2.07 0-2.86zM5.41 20L4 18.59l7.72-7.72 1.47 1.35L5.41 20z\"/>\n",
              "  </svg>\n",
              "      </button>\n",
              "      \n",
              "  <style>\n",
              "    .colab-df-container {\n",
              "      display:flex;\n",
              "      flex-wrap:wrap;\n",
              "      gap: 12px;\n",
              "    }\n",
              "\n",
              "    .colab-df-convert {\n",
              "      background-color: #E8F0FE;\n",
              "      border: none;\n",
              "      border-radius: 50%;\n",
              "      cursor: pointer;\n",
              "      display: none;\n",
              "      fill: #1967D2;\n",
              "      height: 32px;\n",
              "      padding: 0 0 0 0;\n",
              "      width: 32px;\n",
              "    }\n",
              "\n",
              "    .colab-df-convert:hover {\n",
              "      background-color: #E2EBFA;\n",
              "      box-shadow: 0px 1px 2px rgba(60, 64, 67, 0.3), 0px 1px 3px 1px rgba(60, 64, 67, 0.15);\n",
              "      fill: #174EA6;\n",
              "    }\n",
              "\n",
              "    [theme=dark] .colab-df-convert {\n",
              "      background-color: #3B4455;\n",
              "      fill: #D2E3FC;\n",
              "    }\n",
              "\n",
              "    [theme=dark] .colab-df-convert:hover {\n",
              "      background-color: #434B5C;\n",
              "      box-shadow: 0px 1px 3px 1px rgba(0, 0, 0, 0.15);\n",
              "      filter: drop-shadow(0px 1px 2px rgba(0, 0, 0, 0.3));\n",
              "      fill: #FFFFFF;\n",
              "    }\n",
              "  </style>\n",
              "\n",
              "      <script>\n",
              "        const buttonEl =\n",
              "          document.querySelector('#df-a8bac237-ad71-44b3-abc1-f36d36b24158 button.colab-df-convert');\n",
              "        buttonEl.style.display =\n",
              "          google.colab.kernel.accessAllowed ? 'block' : 'none';\n",
              "\n",
              "        async function convertToInteractive(key) {\n",
              "          const element = document.querySelector('#df-a8bac237-ad71-44b3-abc1-f36d36b24158');\n",
              "          const dataTable =\n",
              "            await google.colab.kernel.invokeFunction('convertToInteractive',\n",
              "                                                     [key], {});\n",
              "          if (!dataTable) return;\n",
              "\n",
              "          const docLinkHtml = 'Like what you see? Visit the ' +\n",
              "            '<a target=\"_blank\" href=https://colab.research.google.com/notebooks/data_table.ipynb>data table notebook</a>'\n",
              "            + ' to learn more about interactive tables.';\n",
              "          element.innerHTML = '';\n",
              "          dataTable['output_type'] = 'display_data';\n",
              "          await google.colab.output.renderOutput(dataTable, element);\n",
              "          const docLink = document.createElement('div');\n",
              "          docLink.innerHTML = docLinkHtml;\n",
              "          element.appendChild(docLink);\n",
              "        }\n",
              "      </script>\n",
              "    </div>\n",
              "  </div>\n",
              "  "
            ],
            "text/plain": [
              "   Q1  Q2  Q3  Q4\n",
              "0   0   1   1   1\n",
              "1   0   1   0   0\n",
              "2   0   1   0   1\n",
              "4   1   0   0   0\n",
              "7   0   0   1   1"
            ]
          },
          "metadata": {},
          "execution_count": 144
        }
      ]
    },
    {
      "cell_type": "code",
      "source": [
        "minterms_D2 = Table1_3[Table1_3[\"D2\"] == 1][[\"Q1\",\"Q2\",\"Q3\",\"Q4\"]].to_numpy()\n",
        "minterms_D2 = minterms_D2.tolist()\n",
        "print(minterms_D2)"
      ],
      "metadata": {
        "colab": {
          "base_uri": "https://localhost:8080/"
        },
        "id": "gzeply-YAM_s",
        "outputId": "937ebb3b-2e01-4129-e4f5-f348ddb7c905"
      },
      "execution_count": null,
      "outputs": [
        {
          "output_type": "stream",
          "name": "stdout",
          "text": [
            "[[0, 1, 1, 1], [0, 1, 0, 0], [0, 1, 0, 1], [1, 0, 0, 0], [0, 0, 1, 1]]\n"
          ]
        }
      ]
    },
    {
      "cell_type": "code",
      "source": [
        "D2 = sym.logic.boolalg.SOPform([Q1,Q2,Q3,Q4], minterms_D2, dontcares = notorder)\n",
        "print(D2)"
      ],
      "metadata": {
        "colab": {
          "base_uri": "https://localhost:8080/"
        },
        "id": "WZdzk5KZAToZ",
        "outputId": "9eae47d2-581e-4441-fbbf-c8ffea21e5bd"
      },
      "execution_count": null,
      "outputs": [
        {
          "output_type": "stream",
          "name": "stdout",
          "text": [
            "Q4 | (~Q1 & ~Q3) | (~Q2 & ~Q3)\n"
          ]
        }
      ]
    },
    {
      "cell_type": "code",
      "source": [
        "D2"
      ],
      "metadata": {
        "colab": {
          "base_uri": "https://localhost:8080/"
        },
        "id": "8ZSXvaHhXQje",
        "outputId": "4f717f70-0a61-4876-80ba-04af4cc7a204"
      },
      "execution_count": null,
      "outputs": [
        {
          "output_type": "execute_result",
          "data": {
            "text/latex": "$\\displaystyle Q_{4} \\vee \\left(\\neg Q_{1} \\wedge \\neg Q_{3}\\right) \\vee \\left(\\neg Q_{2} \\wedge \\neg Q_{3}\\right)$",
            "text/plain": [
              "Q4 | (~Q1 & ~Q3) | (~Q2 & ~Q3)"
            ]
          },
          "metadata": {},
          "execution_count": 147
        }
      ]
    },
    {
      "cell_type": "code",
      "source": [
        "#D2 = ~Q1&~Q2&Q3&Q4 | Q1&~Q2&~Q3&~Q4 | ~Q1&~Q2&~Q3&~Q4 | ~Q1&Q2&~Q3&~Q4\n",
        "#print(D2)"
      ],
      "metadata": {
        "id": "1V-4o_hIltl4"
      },
      "execution_count": null,
      "outputs": []
    },
    {
      "cell_type": "code",
      "source": [
        "#print(sym.simplify_logic(D2, form =\"dnf\"))"
      ],
      "metadata": {
        "id": "w8EhUP0239vp"
      },
      "execution_count": null,
      "outputs": []
    },
    {
      "cell_type": "code",
      "source": [
        "logic.Kmap(names='1324',\n",
        "           truthtable=[(Parse(To_N_Byte(4,notorder_byte[0]),'1324'),\"X\"),\n",
        "                       (Parse(To_N_Byte(4,notorder_byte[1]),'1324'),\"X\"),\n",
        "                       (Parse(To_N_Byte(4,notorder_byte[2]),'1324'),\"X\"),\n",
        "                       (Parse(To_N_Byte(4,notorder_byte[3]),'1324'),\"X\"),\n",
        "                       (Parse(To_N_Byte(4,notorder_byte[4]),'1324'),\"X\"),\n",
        "                       (Parse(To_N_Byte(4,notorder_byte[5]),'1324'),\"X\"),\n",
        "                       (Parse(To_N_Byte(4,notorder_byte[6]),'1324'),\"X\"),\n",
        "                       (Parse(To_N_Byte(4,notorder_byte[7]),'1324'),\"X\"),\n",
        "                       \n",
        "                       (Parse(minterms_D2[0],'1324'),\"1\"),\n",
        "                       (Parse(minterms_D2[1],'1324'),\"1\"),\n",
        "                       (Parse(minterms_D2[2],'1324'),\"1\"),\n",
        "                       (Parse(minterms_D2[3],'1324'),\"1\"),\n",
        "                       (Parse(minterms_D2[4],'1324'),\"1\"),\n",
        "                       ],\n",
        "           groups={'11..':{\"color\":\"red\"},\n",
        "                   '...0':{\"color\":\"green\"},\n",
        "                   '0.1.':{\"color\":\"blue\"},\n",
        "            }\n",
        "           )"
      ],
      "metadata": {
        "id": "OlL96AEWbyx0",
        "colab": {
          "base_uri": "https://localhost:8080/"
        },
        "outputId": "964a423a-0242-497f-873d-1aef807b438f"
      },
      "execution_count": null,
      "outputs": [
        {
          "output_type": "execute_result",
          "data": {
            "image/png": "[encoded data removed]",
            "text/plain": [
              "<schemdraw.logic.kmap.Kmap at 0x7fb5e032ced0>"
            ],
            "image/svg+xml": "<?xml version=\"1.0\" encoding=\"utf-8\" standalone=\"no\"?>\n<!DOCTYPE svg PUBLIC \"-//W3C//DTD SVG 1.1//EN\"\n  \"http://www.w3.org/Graphics/SVG/1.1/DTD/svg11.dtd\">\n<!-- Created with matplotlib (https://matplotlib.org/) -->\n<svg height=\"182.608101pt\" version=\"1.1\" viewBox=\"0 0 178.681101 182.608101\" width=\"178.681101pt\" xmlns=\"http://www.w3.org/2000/svg\" xmlns:xlink=\"http://www.w3.org/1999/xlink\">\n <defs>\n  <style type=\"text/css\">\n*{stroke-linecap:butt;stroke-linejoin:round;}\n  </style>\n </defs>\n <g id=\"figure_1\">\n  <g id=\"patch_1\">\n   <path d=\"M 0 182.608101 \nL 178.681101 182.608101 \nL 178.681101 0 \nL 0 0 \nz\n\" style=\"fill:#ffffff;\"/>\n  </g>\n  <g id=\"axes_1\">\n   <g id=\"patch_2\">\n    <path clip-path=\"url(#pd75fd6418f)\" d=\"M 125.326101 166.228101 \nL 125.447475 166.227138 \nL 125.568819 166.224249 \nL 125.690102 166.219436 \nL 125.811294 166.212699 \nL 125.932363 166.20404 \nL 126.053279 166.193461 \nL 126.174013 166.180965 \nL 126.294533 166.166555 \nL 126.414809 166.150235 \nL 126.534811 166.132008 \nL 126.654509 166.11188 \nL 126.773873 166.089855 \nL 126.892872 166.065939 \nL 127.011476 166.040138 \nL 127.129656 166.012459 \nL 127.247383 165.982908 \nL 127.364625 165.951493 \nL 127.481355 165.918222 \nL 127.597541 165.883103 \nL 127.713156 165.846145 \nL 127.828171 165.807357 \nL 127.942555 165.766749 \nL 128.05628 165.724332 \nL 128.169318 165.680115 \nL 128.281641 165.634111 \nL 128.393219 165.58633 \nL 128.504025 165.536785 \nL 128.614032 165.485489 \nL 128.72321 165.432453 \nL 128.831534 165.377692 \nL 128.938974 165.321219 \nL 129.045506 165.263048 \nL 129.151101 165.203195 \nL 129.255733 165.141674 \nL 129.359375 165.0785 \nL 129.462003 165.01369 \nL 129.563589 164.94726 \nL 129.664109 164.879226 \nL 129.763536 164.809607 \nL 129.861846 164.738418 \nL 129.959015 164.665679 \nL 130.055017 164.591407 \nL 130.149829 164.515621 \nL 130.243426 164.438341 \nL 130.335785 164.359585 \nL 130.426883 164.279374 \nL 130.516698 164.197727 \nL 130.605205 164.114666 \nL 130.692384 164.030211 \nL 130.778211 163.944384 \nL 130.862666 163.857205 \nL 130.945727 163.768698 \nL 131.027374 163.678883 \nL 131.107585 163.587785 \nL 131.186341 163.495426 \nL 131.263621 163.401829 \nL 131.339407 163.307017 \nL 131.413679 163.211015 \nL 131.486418 163.113846 \nL 131.557607 163.015536 \nL 131.627226 162.916109 \nL 131.69526 162.815589 \nL 131.76169 162.714003 \nL 131.8265 162.611375 \nL 131.889674 162.507733 \nL 131.951195 162.403101 \nL 132.011048 162.297506 \nL 132.069219 162.190974 \nL 132.125692 162.083534 \nL 132.180453 161.97521 \nL 132.233489 161.866032 \nL 132.284785 161.756025 \nL 132.33433 161.645219 \nL 132.382111 161.533641 \nL 132.428115 161.421318 \nL 132.472332 161.30828 \nL 132.514749 161.194555 \nL 132.555357 161.080171 \nL 132.594145 160.965156 \nL 132.631103 160.849541 \nL 132.666222 160.733355 \nL 132.699493 160.616625 \nL 132.730908 160.499383 \nL 132.760459 160.381656 \nL 132.788138 160.263476 \nL 132.813939 160.144872 \nL 132.837855 160.025873 \nL 132.85988 159.906509 \nL 132.880008 159.786811 \nL 132.898235 159.666809 \nL 132.914555 159.546533 \nL 132.928965 159.426013 \nL 132.941461 159.305279 \nL 132.95204 159.184363 \nL 132.960699 159.063294 \nL 132.967436 158.942102 \nL 132.972249 158.820819 \nL 132.975138 158.699475 \nL 132.976101 158.578101 \nL 132.976101 57.598101 \nL 132.975138 57.476726 \nL 132.972249 57.355382 \nL 132.967436 57.234099 \nL 132.960699 57.112908 \nL 132.95204 56.991838 \nL 132.941461 56.870922 \nL 132.928965 56.750188 \nL 132.914555 56.629668 \nL 132.898235 56.509392 \nL 132.880008 56.38939 \nL 132.85988 56.269692 \nL 132.837855 56.150329 \nL 132.813939 56.03133 \nL 132.788138 55.912725 \nL 132.760459 55.794545 \nL 132.730908 55.676819 \nL 132.699493 55.559576 \nL 132.666222 55.442847 \nL 132.631103 55.32666 \nL 132.594145 55.211045 \nL 132.555357 55.096031 \nL 132.514749 54.981647 \nL 132.472332 54.867921 \nL 132.428115 54.754883 \nL 132.382111 54.64256 \nL 132.33433 54.530982 \nL 132.284785 54.420176 \nL 132.233489 54.31017 \nL 132.180453 54.200991 \nL 132.125692 54.092668 \nL 132.069219 53.985227 \nL 132.011048 53.878696 \nL 131.951195 53.773101 \nL 131.889674 53.668469 \nL 131.8265 53.564826 \nL 131.76169 53.462198 \nL 131.69526 53.360612 \nL 131.627226 53.260093 \nL 131.557607 53.160665 \nL 131.486418 53.062355 \nL 131.413679 52.965187 \nL 131.339407 52.869184 \nL 131.263621 52.774373 \nL 131.186341 52.680775 \nL 131.107585 52.588416 \nL 131.027374 52.497318 \nL 130.945727 52.407504 \nL 130.862666 52.318996 \nL 130.778211 52.231818 \nL 130.692384 52.14599 \nL 130.605205 52.061535 \nL 130.516698 51.978474 \nL 130.426883 51.896828 \nL 130.335785 51.816616 \nL 130.243426 51.737861 \nL 130.149829 51.66058 \nL 130.055017 51.584794 \nL 129.959015 51.510523 \nL 129.861846 51.437783 \nL 129.763536 51.366595 \nL 129.664109 51.296975 \nL 129.563589 51.228941 \nL 129.462003 51.162511 \nL 129.359375 51.097701 \nL 129.255733 51.034528 \nL 129.151101 50.973006 \nL 129.045506 50.913153 \nL 128.938974 50.854982 \nL 128.831534 50.798509 \nL 128.72321 50.743748 \nL 128.614032 50.690713 \nL 128.504025 50.639416 \nL 128.393219 50.589871 \nL 128.281641 50.54209 \nL 128.169318 50.496086 \nL 128.05628 50.451869 \nL 127.942555 50.409452 \nL 127.828171 50.368844 \nL 127.713156 50.330057 \nL 127.597541 50.293098 \nL 127.481355 50.257979 \nL 127.364625 50.224708 \nL 127.247383 50.193293 \nL 127.129656 50.163742 \nL 127.011476 50.136063 \nL 126.892872 50.110262 \nL 126.773873 50.086346 \nL 126.654509 50.064321 \nL 126.534811 50.044193 \nL 126.414809 50.025967 \nL 126.294533 50.009646 \nL 126.174013 49.995236 \nL 126.053279 49.98274 \nL 125.932363 49.972162 \nL 125.811294 49.963503 \nL 125.690102 49.956765 \nL 125.568819 49.951952 \nL 125.447475 49.949064 \nL 125.326101 49.948101 \nL 116.146101 49.948101 \nL 116.024726 49.949064 \nL 115.903382 49.951952 \nL 115.782099 49.956765 \nL 115.660908 49.963503 \nL 115.539838 49.972162 \nL 115.418922 49.98274 \nL 115.298188 49.995236 \nL 115.177668 50.009646 \nL 115.057392 50.025967 \nL 114.93739 50.044193 \nL 114.817692 50.064321 \nL 114.698329 50.086346 \nL 114.57933 50.110262 \nL 114.460725 50.136063 \nL 114.342545 50.163742 \nL 114.224819 50.193293 \nL 114.107576 50.224708 \nL 113.990847 50.257979 \nL 113.87466 50.293098 \nL 113.759045 50.330057 \nL 113.644031 50.368844 \nL 113.529647 50.409452 \nL 113.415921 50.451869 \nL 113.302883 50.496086 \nL 113.19056 50.54209 \nL 113.078982 50.589871 \nL 112.968176 50.639416 \nL 112.85817 50.690713 \nL 112.748991 50.743748 \nL 112.640668 50.798509 \nL 112.533227 50.854982 \nL 112.426696 50.913153 \nL 112.321101 50.973006 \nL 112.216469 51.034528 \nL 112.112826 51.097701 \nL 112.010198 51.162511 \nL 111.908612 51.228941 \nL 111.808093 51.296975 \nL 111.708665 51.366595 \nL 111.610355 51.437783 \nL 111.513187 51.510523 \nL 111.417184 51.584794 \nL 111.322373 51.66058 \nL 111.228775 51.737861 \nL 111.136416 51.816616 \nL 111.045318 51.896828 \nL 110.955504 51.978474 \nL 110.866996 52.061535 \nL 110.779818 52.14599 \nL 110.69399 52.231818 \nL 110.609535 52.318996 \nL 110.526474 52.407504 \nL 110.444828 52.497318 \nL 110.364616 52.588416 \nL 110.285861 52.680775 \nL 110.20858 52.774373 \nL 110.132794 52.869184 \nL 110.058523 52.965187 \nL 109.985783 53.062355 \nL 109.914595 53.160665 \nL 109.844975 53.260093 \nL 109.776941 53.360612 \nL 109.710511 53.462198 \nL 109.645701 53.564826 \nL 109.582528 53.668469 \nL 109.521006 53.773101 \nL 109.461153 53.878696 \nL 109.402982 53.985227 \nL 109.346509 54.092668 \nL 109.291748 54.200991 \nL 109.238713 54.31017 \nL 109.187416 54.420176 \nL 109.137871 54.530982 \nL 109.09009 54.64256 \nL 109.044086 54.754883 \nL 108.999869 54.867921 \nL 108.957452 54.981647 \nL 108.916844 55.096031 \nL 108.878057 55.211045 \nL 108.841098 55.32666 \nL 108.805979 55.442847 \nL 108.772708 55.559576 \nL 108.741293 55.676819 \nL 108.711742 55.794545 \nL 108.684063 55.912725 \nL 108.658262 56.03133 \nL 108.634346 56.150329 \nL 108.612321 56.269692 \nL 108.592193 56.38939 \nL 108.573967 56.509392 \nL 108.557646 56.629668 \nL 108.543236 56.750188 \nL 108.53074 56.870922 \nL 108.520162 56.991838 \nL 108.511503 57.112908 \nL 108.504765 57.234099 \nL 108.499952 57.355382 \nL 108.497064 57.476726 \nL 108.496101 57.598101 \nL 108.496101 158.578101 \nL 108.497064 158.699475 \nL 108.499952 158.820819 \nL 108.504765 158.942102 \nL 108.511503 159.063294 \nL 108.520162 159.184363 \nL 108.53074 159.305279 \nL 108.543236 159.426013 \nL 108.557646 159.546533 \nL 108.573967 159.666809 \nL 108.592193 159.786811 \nL 108.612321 159.906509 \nL 108.634346 160.025873 \nL 108.658262 160.144872 \nL 108.684063 160.263476 \nL 108.711742 160.381656 \nL 108.741293 160.499383 \nL 108.772708 160.616625 \nL 108.805979 160.733355 \nL 108.841098 160.849541 \nL 108.878057 160.965156 \nL 108.916844 161.080171 \nL 108.957452 161.194555 \nL 108.999869 161.30828 \nL 109.044086 161.421318 \nL 109.09009 161.533641 \nL 109.137871 161.645219 \nL 109.187416 161.756025 \nL 109.238713 161.866032 \nL 109.291748 161.97521 \nL 109.346509 162.083534 \nL 109.402982 162.190974 \nL 109.461153 162.297506 \nL 109.521006 162.403101 \nL 109.582528 162.507733 \nL 109.645701 162.611375 \nL 109.710511 162.714003 \nL 109.776941 162.815589 \nL 109.844975 162.916109 \nL 109.914595 163.015536 \nL 109.985783 163.113846 \nL 110.058523 163.211015 \nL 110.132794 163.307017 \nL 110.20858 163.401829 \nL 110.285861 163.495426 \nL 110.364616 163.587785 \nL 110.444828 163.678883 \nL 110.526474 163.768698 \nL 110.609535 163.857205 \nL 110.69399 163.944384 \nL 110.779818 164.030211 \nL 110.866996 164.114666 \nL 110.955504 164.197727 \nL 111.045318 164.279374 \nL 111.136416 164.359585 \nL 111.228775 164.438341 \nL 111.322373 164.515621 \nL 111.417184 164.591407 \nL 111.513187 164.665679 \nL 111.610355 164.738418 \nL 111.708665 164.809607 \nL 111.808093 164.879226 \nL 111.908612 164.94726 \nL 112.010198 165.01369 \nL 112.112826 165.0785 \nL 112.216469 165.141674 \nL 112.321101 165.203195 \nL 112.426696 165.263048 \nL 112.533227 165.321219 \nL 112.640668 165.377692 \nL 112.748991 165.432453 \nL 112.85817 165.485489 \nL 112.968176 165.536785 \nL 113.078982 165.58633 \nL 113.19056 165.634111 \nL 113.302883 165.680115 \nL 113.415921 165.724332 \nL 113.529647 165.766749 \nL 113.644031 165.807357 \nL 113.759045 165.846145 \nL 113.87466 165.883103 \nL 113.990847 165.918222 \nL 114.107576 165.951493 \nL 114.224819 165.982908 \nL 114.342545 166.012459 \nL 114.460725 166.040138 \nL 114.57933 166.065939 \nL 114.698329 166.089855 \nL 114.817692 166.11188 \nL 114.93739 166.132008 \nL 115.057392 166.150235 \nL 115.177668 166.166555 \nL 115.298188 166.180965 \nL 115.418922 166.193461 \nL 115.539838 166.20404 \nL 115.660908 166.212699 \nL 115.782099 166.219436 \nL 115.903382 166.224249 \nL 116.024726 166.227138 \nL 116.146101 166.228101 \nz\n\" style=\"fill:none;stroke:#ff0000;stroke-linecap:round;\"/>\n   </g>\n   <g id=\"patch_3\">\n    <path clip-path=\"url(#pd75fd6418f)\" d=\"M 155.926101 172.348101 \nL 156.047475 172.347138 \nL 156.168819 172.344249 \nL 156.290102 172.339436 \nL 156.411294 172.332699 \nL 156.532363 172.32404 \nL 156.653279 172.313461 \nL 156.774013 172.300965 \nL 156.894533 172.286555 \nL 157.014809 172.270235 \nL 157.134811 172.252008 \nL 157.254509 172.23188 \nL 157.373873 172.209855 \nL 157.492872 172.185939 \nL 157.611476 172.160138 \nL 157.729656 172.132459 \nL 157.847383 172.102908 \nL 157.964625 172.071493 \nL 158.081355 172.038222 \nL 158.197541 172.003103 \nL 158.313156 171.966145 \nL 158.428171 171.927357 \nL 158.542555 171.886749 \nL 158.65628 171.844332 \nL 158.769318 171.800115 \nL 158.881641 171.754111 \nL 158.993219 171.70633 \nL 159.104025 171.656785 \nL 159.214032 171.605489 \nL 159.32321 171.552453 \nL 159.431534 171.497692 \nL 159.538974 171.441219 \nL 159.645506 171.383048 \nL 159.751101 171.323195 \nL 159.855733 171.261674 \nL 159.959375 171.1985 \nL 160.062003 171.13369 \nL 160.163589 171.06726 \nL 160.264109 170.999226 \nL 160.363536 170.929607 \nL 160.461846 170.858418 \nL 160.559015 170.785679 \nL 160.655017 170.711407 \nL 160.749829 170.635621 \nL 160.843426 170.558341 \nL 160.935785 170.479585 \nL 161.026883 170.399374 \nL 161.116698 170.317727 \nL 161.205205 170.234666 \nL 161.292384 170.150211 \nL 161.378211 170.064384 \nL 161.462666 169.977205 \nL 161.545727 169.888698 \nL 161.627374 169.798883 \nL 161.707585 169.707785 \nL 161.786341 169.615426 \nL 161.863621 169.521829 \nL 161.939407 169.427017 \nL 162.013679 169.331015 \nL 162.086418 169.233846 \nL 162.157607 169.135536 \nL 162.227226 169.036109 \nL 162.29526 168.935589 \nL 162.36169 168.834003 \nL 162.4265 168.731375 \nL 162.489674 168.627733 \nL 162.551195 168.523101 \nL 162.611048 168.417506 \nL 162.669219 168.310974 \nL 162.725692 168.203534 \nL 162.780453 168.09521 \nL 162.833489 167.986032 \nL 162.884785 167.876025 \nL 162.93433 167.765219 \nL 162.982111 167.653641 \nL 163.028115 167.541318 \nL 163.072332 167.42828 \nL 163.114749 167.314555 \nL 163.155357 167.200171 \nL 163.194145 167.085156 \nL 163.231103 166.969541 \nL 163.266222 166.853355 \nL 163.299493 166.736625 \nL 163.330908 166.619383 \nL 163.360459 166.501656 \nL 163.388138 166.383476 \nL 163.413939 166.264872 \nL 163.437855 166.145873 \nL 163.45988 166.026509 \nL 163.480008 165.906811 \nL 163.498235 165.786809 \nL 163.514555 165.666533 \nL 163.528965 165.546013 \nL 163.541461 165.425279 \nL 163.55204 165.304363 \nL 163.560699 165.183294 \nL 163.567436 165.062102 \nL 163.572249 164.940819 \nL 163.575138 164.819475 \nL 163.576101 164.698101 \nL 163.576101 149.398101 \nL 163.575138 149.276726 \nL 163.572249 149.155382 \nL 163.567436 149.034099 \nL 163.560699 148.912908 \nL 163.55204 148.791838 \nL 163.541461 148.670922 \nL 163.528965 148.550188 \nL 163.514555 148.429668 \nL 163.498235 148.309392 \nL 163.480008 148.18939 \nL 163.45988 148.069692 \nL 163.437855 147.950329 \nL 163.413939 147.83133 \nL 163.388138 147.712725 \nL 163.360459 147.594545 \nL 163.330908 147.476819 \nL 163.299493 147.359576 \nL 163.266222 147.242847 \nL 163.231103 147.12666 \nL 163.194145 147.011045 \nL 163.155357 146.896031 \nL 163.114749 146.781647 \nL 163.072332 146.667921 \nL 163.028115 146.554883 \nL 162.982111 146.44256 \nL 162.93433 146.330982 \nL 162.884785 146.220176 \nL 162.833489 146.11017 \nL 162.780453 146.000991 \nL 162.725692 145.892668 \nL 162.669219 145.785227 \nL 162.611048 145.678696 \nL 162.551195 145.573101 \nL 162.489674 145.468469 \nL 162.4265 145.364826 \nL 162.36169 145.262198 \nL 162.29526 145.160612 \nL 162.227226 145.060093 \nL 162.157607 144.960665 \nL 162.086418 144.862355 \nL 162.013679 144.765187 \nL 161.939407 144.669184 \nL 161.863621 144.574373 \nL 161.786341 144.480775 \nL 161.707585 144.388416 \nL 161.627374 144.297318 \nL 161.545727 144.207504 \nL 161.462666 144.118996 \nL 161.378211 144.031818 \nL 161.292384 143.94599 \nL 161.205205 143.861535 \nL 161.116698 143.778474 \nL 161.026883 143.696828 \nL 160.935785 143.616616 \nL 160.843426 143.537861 \nL 160.749829 143.46058 \nL 160.655017 143.384794 \nL 160.559015 143.310523 \nL 160.461846 143.237783 \nL 160.363536 143.166595 \nL 160.264109 143.096975 \nL 160.163589 143.028941 \nL 160.062003 142.962511 \nL 159.959375 142.897701 \nL 159.855733 142.834528 \nL 159.751101 142.773006 \nL 159.645506 142.713153 \nL 159.538974 142.654982 \nL 159.431534 142.598509 \nL 159.32321 142.543748 \nL 159.214032 142.490713 \nL 159.104025 142.439416 \nL 158.993219 142.389871 \nL 158.881641 142.34209 \nL 158.769318 142.296086 \nL 158.65628 142.251869 \nL 158.542555 142.209452 \nL 158.428171 142.168844 \nL 158.313156 142.130057 \nL 158.197541 142.093098 \nL 158.081355 142.057979 \nL 157.964625 142.024708 \nL 157.847383 141.993293 \nL 157.729656 141.963742 \nL 157.611476 141.936063 \nL 157.492872 141.910262 \nL 157.373873 141.886346 \nL 157.254509 141.864321 \nL 157.134811 141.844193 \nL 157.014809 141.825967 \nL 156.894533 141.809646 \nL 156.774013 141.795236 \nL 156.653279 141.78274 \nL 156.532363 141.772162 \nL 156.411294 141.763503 \nL 156.290102 141.756765 \nL 156.168819 141.751952 \nL 156.047475 141.749064 \nL 155.926101 141.748101 \nL 54.946101 141.748101 \nL 54.824726 141.749064 \nL 54.703382 141.751952 \nL 54.582099 141.756765 \nL 54.460908 141.763503 \nL 54.339838 141.772162 \nL 54.218922 141.78274 \nL 54.098188 141.795236 \nL 53.977668 141.809646 \nL 53.857392 141.825967 \nL 53.73739 141.844193 \nL 53.617692 141.864321 \nL 53.498329 141.886346 \nL 53.37933 141.910262 \nL 53.260725 141.936063 \nL 53.142545 141.963742 \nL 53.024819 141.993293 \nL 52.907576 142.024708 \nL 52.790847 142.057979 \nL 52.67466 142.093098 \nL 52.559045 142.130057 \nL 52.444031 142.168844 \nL 52.329647 142.209452 \nL 52.215921 142.251869 \nL 52.102883 142.296086 \nL 51.99056 142.34209 \nL 51.878982 142.389871 \nL 51.768176 142.439416 \nL 51.65817 142.490713 \nL 51.548991 142.543748 \nL 51.440668 142.598509 \nL 51.333227 142.654982 \nL 51.226696 142.713153 \nL 51.121101 142.773006 \nL 51.016469 142.834528 \nL 50.912826 142.897701 \nL 50.810198 142.962511 \nL 50.708612 143.028941 \nL 50.608093 143.096975 \nL 50.508665 143.166595 \nL 50.410355 143.237783 \nL 50.313187 143.310523 \nL 50.217184 143.384794 \nL 50.122373 143.46058 \nL 50.028775 143.537861 \nL 49.936416 143.616616 \nL 49.845318 143.696828 \nL 49.755504 143.778474 \nL 49.666996 143.861535 \nL 49.579818 143.94599 \nL 49.49399 144.031818 \nL 49.409535 144.118996 \nL 49.326474 144.207504 \nL 49.244828 144.297318 \nL 49.164616 144.388416 \nL 49.085861 144.480775 \nL 49.00858 144.574373 \nL 48.932794 144.669184 \nL 48.858523 144.765187 \nL 48.785783 144.862355 \nL 48.714595 144.960665 \nL 48.644975 145.060093 \nL 48.576941 145.160612 \nL 48.510511 145.262198 \nL 48.445701 145.364826 \nL 48.382528 145.468469 \nL 48.321006 145.573101 \nL 48.261153 145.678696 \nL 48.202982 145.785227 \nL 48.146509 145.892668 \nL 48.091748 146.000991 \nL 48.038713 146.11017 \nL 47.987416 146.220176 \nL 47.937871 146.330982 \nL 47.89009 146.44256 \nL 47.844086 146.554883 \nL 47.799869 146.667921 \nL 47.757452 146.781647 \nL 47.716844 146.896031 \nL 47.678057 147.011045 \nL 47.641098 147.12666 \nL 47.605979 147.242847 \nL 47.572708 147.359576 \nL 47.541293 147.476819 \nL 47.511742 147.594545 \nL 47.484063 147.712725 \nL 47.458262 147.83133 \nL 47.434346 147.950329 \nL 47.412321 148.069692 \nL 47.392193 148.18939 \nL 47.373967 148.309392 \nL 47.357646 148.429668 \nL 47.343236 148.550188 \nL 47.33074 148.670922 \nL 47.320162 148.791838 \nL 47.311503 148.912908 \nL 47.304765 149.034099 \nL 47.299952 149.155382 \nL 47.297064 149.276726 \nL 47.296101 149.398101 \nL 47.296101 164.698101 \nL 47.297064 164.819475 \nL 47.299952 164.940819 \nL 47.304765 165.062102 \nL 47.311503 165.183294 \nL 47.320162 165.304363 \nL 47.33074 165.425279 \nL 47.343236 165.546013 \nL 47.357646 165.666533 \nL 47.373967 165.786809 \nL 47.392193 165.906811 \nL 47.412321 166.026509 \nL 47.434346 166.145873 \nL 47.458262 166.264872 \nL 47.484063 166.383476 \nL 47.511742 166.501656 \nL 47.541293 166.619383 \nL 47.572708 166.736625 \nL 47.605979 166.853355 \nL 47.641098 166.969541 \nL 47.678057 167.085156 \nL 47.716844 167.200171 \nL 47.757452 167.314555 \nL 47.799869 167.42828 \nL 47.844086 167.541318 \nL 47.89009 167.653641 \nL 47.937871 167.765219 \nL 47.987416 167.876025 \nL 48.038713 167.986032 \nL 48.091748 168.09521 \nL 48.146509 168.203534 \nL 48.202982 168.310974 \nL 48.261153 168.417506 \nL 48.321006 168.523101 \nL 48.382528 168.627733 \nL 48.445701 168.731375 \nL 48.510511 168.834003 \nL 48.576941 168.935589 \nL 48.644975 169.036109 \nL 48.714595 169.135536 \nL 48.785783 169.233846 \nL 48.858523 169.331015 \nL 48.932794 169.427017 \nL 49.00858 169.521829 \nL 49.085861 169.615426 \nL 49.164616 169.707785 \nL 49.244828 169.798883 \nL 49.326474 169.888698 \nL 49.409535 169.977205 \nL 49.49399 170.064384 \nL 49.579818 170.150211 \nL 49.666996 170.234666 \nL 49.755504 170.317727 \nL 49.845318 170.399374 \nL 49.936416 170.479585 \nL 50.028775 170.558341 \nL 50.122373 170.635621 \nL 50.217184 170.711407 \nL 50.313187 170.785679 \nL 50.410355 170.858418 \nL 50.508665 170.929607 \nL 50.608093 170.999226 \nL 50.708612 171.06726 \nL 50.810198 171.13369 \nL 50.912826 171.1985 \nL 51.016469 171.261674 \nL 51.121101 171.323195 \nL 51.226696 171.383048 \nL 51.333227 171.441219 \nL 51.440668 171.497692 \nL 51.548991 171.552453 \nL 51.65817 171.605489 \nL 51.768176 171.656785 \nL 51.878982 171.70633 \nL 51.99056 171.754111 \nL 52.102883 171.800115 \nL 52.215921 171.844332 \nL 52.329647 171.886749 \nL 52.444031 171.927357 \nL 52.559045 171.966145 \nL 52.67466 172.003103 \nL 52.790847 172.038222 \nL 52.907576 172.071493 \nL 53.024819 172.102908 \nL 53.142545 172.132459 \nL 53.260725 172.160138 \nL 53.37933 172.185939 \nL 53.498329 172.209855 \nL 53.617692 172.23188 \nL 53.73739 172.252008 \nL 53.857392 172.270235 \nL 53.977668 172.286555 \nL 54.098188 172.300965 \nL 54.218922 172.313461 \nL 54.339838 172.32404 \nL 54.460908 172.332699 \nL 54.582099 172.339436 \nL 54.703382 172.344249 \nL 54.824726 172.347138 \nL 54.946101 172.348101 \nz\n\" style=\"fill:none;stroke:#008000;stroke-linecap:round;\"/>\n   </g>\n   <g id=\"patch_4\">\n    <path clip-path=\"url(#pd75fd6418f)\" d=\"M 155.926101 74.428101 \nL 156.047475 74.427138 \nL 156.168819 74.424249 \nL 156.290102 74.419436 \nL 156.411294 74.412699 \nL 156.532363 74.40404 \nL 156.653279 74.393461 \nL 156.774013 74.380965 \nL 156.894533 74.366555 \nL 157.014809 74.350235 \nL 157.134811 74.332008 \nL 157.254509 74.31188 \nL 157.373873 74.289855 \nL 157.492872 74.265939 \nL 157.611476 74.240138 \nL 157.729656 74.212459 \nL 157.847383 74.182908 \nL 157.964625 74.151493 \nL 158.081355 74.118222 \nL 158.197541 74.083103 \nL 158.313156 74.046145 \nL 158.428171 74.007357 \nL 158.542555 73.966749 \nL 158.65628 73.924332 \nL 158.769318 73.880115 \nL 158.881641 73.834111 \nL 158.993219 73.78633 \nL 159.104025 73.736785 \nL 159.214032 73.685489 \nL 159.32321 73.632453 \nL 159.431534 73.577692 \nL 159.538974 73.521219 \nL 159.645506 73.463048 \nL 159.751101 73.403195 \nL 159.855733 73.341674 \nL 159.959375 73.2785 \nL 160.062003 73.21369 \nL 160.163589 73.14726 \nL 160.264109 73.079226 \nL 160.363536 73.009607 \nL 160.461846 72.938418 \nL 160.559015 72.865679 \nL 160.655017 72.791407 \nL 160.749829 72.715621 \nL 160.843426 72.638341 \nL 160.935785 72.559585 \nL 161.026883 72.479374 \nL 161.116698 72.397727 \nL 161.205205 72.314666 \nL 161.292384 72.230211 \nL 161.378211 72.144384 \nL 161.462666 72.057205 \nL 161.545727 71.968698 \nL 161.627374 71.878883 \nL 161.707585 71.787785 \nL 161.786341 71.695426 \nL 161.863621 71.601829 \nL 161.939407 71.507017 \nL 162.013679 71.411015 \nL 162.086418 71.313846 \nL 162.157607 71.215536 \nL 162.227226 71.116109 \nL 162.29526 71.015589 \nL 162.36169 70.914003 \nL 162.4265 70.811375 \nL 162.489674 70.707733 \nL 162.551195 70.603101 \nL 162.611048 70.497506 \nL 162.669219 70.390974 \nL 162.725692 70.283534 \nL 162.780453 70.17521 \nL 162.833489 70.066032 \nL 162.884785 69.956025 \nL 162.93433 69.845219 \nL 162.982111 69.733641 \nL 163.028115 69.621318 \nL 163.072332 69.50828 \nL 163.114749 69.394555 \nL 163.155357 69.280171 \nL 163.194145 69.165156 \nL 163.231103 69.049541 \nL 163.266222 68.933355 \nL 163.299493 68.816625 \nL 163.330908 68.699383 \nL 163.360459 68.581656 \nL 163.388138 68.463476 \nL 163.413939 68.344872 \nL 163.437855 68.225873 \nL 163.45988 68.106509 \nL 163.480008 67.986811 \nL 163.498235 67.866809 \nL 163.514555 67.746533 \nL 163.528965 67.626013 \nL 163.541461 67.505279 \nL 163.55204 67.384363 \nL 163.560699 67.263294 \nL 163.567436 67.142102 \nL 163.572249 67.020819 \nL 163.575138 66.899475 \nL 163.576101 66.778101 \nL 163.576101 51.478101 \nL 163.575138 51.356726 \nL 163.572249 51.235382 \nL 163.567436 51.114099 \nL 163.560699 50.992908 \nL 163.55204 50.871838 \nL 163.541461 50.750922 \nL 163.528965 50.630188 \nL 163.514555 50.509668 \nL 163.498235 50.389392 \nL 163.480008 50.26939 \nL 163.45988 50.149692 \nL 163.437855 50.030329 \nL 163.413939 49.91133 \nL 163.388138 49.792725 \nL 163.360459 49.674545 \nL 163.330908 49.556819 \nL 163.299493 49.439576 \nL 163.266222 49.322847 \nL 163.231103 49.20666 \nL 163.194145 49.091045 \nL 163.155357 48.976031 \nL 163.114749 48.861647 \nL 163.072332 48.747921 \nL 163.028115 48.634883 \nL 162.982111 48.52256 \nL 162.93433 48.410982 \nL 162.884785 48.300176 \nL 162.833489 48.19017 \nL 162.780453 48.080991 \nL 162.725692 47.972668 \nL 162.669219 47.865227 \nL 162.611048 47.758696 \nL 162.551195 47.653101 \nL 162.489674 47.548469 \nL 162.4265 47.444826 \nL 162.36169 47.342198 \nL 162.29526 47.240612 \nL 162.227226 47.140093 \nL 162.157607 47.040665 \nL 162.086418 46.942355 \nL 162.013679 46.845187 \nL 161.939407 46.749184 \nL 161.863621 46.654373 \nL 161.786341 46.560775 \nL 161.707585 46.468416 \nL 161.627374 46.377318 \nL 161.545727 46.287504 \nL 161.462666 46.198996 \nL 161.378211 46.111818 \nL 161.292384 46.02599 \nL 161.205205 45.941535 \nL 161.116698 45.858474 \nL 161.026883 45.776828 \nL 160.935785 45.696616 \nL 160.843426 45.617861 \nL 160.749829 45.54058 \nL 160.655017 45.464794 \nL 160.559015 45.390523 \nL 160.461846 45.317783 \nL 160.363536 45.246595 \nL 160.264109 45.176975 \nL 160.163589 45.108941 \nL 160.062003 45.042511 \nL 159.959375 44.977701 \nL 159.855733 44.914528 \nL 159.751101 44.853006 \nL 159.645506 44.793153 \nL 159.538974 44.734982 \nL 159.431534 44.678509 \nL 159.32321 44.623748 \nL 159.214032 44.570713 \nL 159.104025 44.519416 \nL 158.993219 44.469871 \nL 158.881641 44.42209 \nL 158.769318 44.376086 \nL 158.65628 44.331869 \nL 158.542555 44.289452 \nL 158.428171 44.248844 \nL 158.313156 44.210057 \nL 158.197541 44.173098 \nL 158.081355 44.137979 \nL 157.964625 44.104708 \nL 157.847383 44.073293 \nL 157.729656 44.043742 \nL 157.611476 44.016063 \nL 157.492872 43.990262 \nL 157.373873 43.966346 \nL 157.254509 43.944321 \nL 157.134811 43.924193 \nL 157.014809 43.905967 \nL 156.894533 43.889646 \nL 156.774013 43.875236 \nL 156.653279 43.86274 \nL 156.532363 43.852162 \nL 156.411294 43.843503 \nL 156.290102 43.836765 \nL 156.168819 43.831952 \nL 156.047475 43.829064 \nL 155.926101 43.828101 \nL 54.946101 43.828101 \nL 54.824726 43.829064 \nL 54.703382 43.831952 \nL 54.582099 43.836765 \nL 54.460908 43.843503 \nL 54.339838 43.852162 \nL 54.218922 43.86274 \nL 54.098188 43.875236 \nL 53.977668 43.889646 \nL 53.857392 43.905967 \nL 53.73739 43.924193 \nL 53.617692 43.944321 \nL 53.498329 43.966346 \nL 53.37933 43.990262 \nL 53.260725 44.016063 \nL 53.142545 44.043742 \nL 53.024819 44.073293 \nL 52.907576 44.104708 \nL 52.790847 44.137979 \nL 52.67466 44.173098 \nL 52.559045 44.210057 \nL 52.444031 44.248844 \nL 52.329647 44.289452 \nL 52.215921 44.331869 \nL 52.102883 44.376086 \nL 51.99056 44.42209 \nL 51.878982 44.469871 \nL 51.768176 44.519416 \nL 51.65817 44.570713 \nL 51.548991 44.623748 \nL 51.440668 44.678509 \nL 51.333227 44.734982 \nL 51.226696 44.793153 \nL 51.121101 44.853006 \nL 51.016469 44.914528 \nL 50.912826 44.977701 \nL 50.810198 45.042511 \nL 50.708612 45.108941 \nL 50.608093 45.176975 \nL 50.508665 45.246595 \nL 50.410355 45.317783 \nL 50.313187 45.390523 \nL 50.217184 45.464794 \nL 50.122373 45.54058 \nL 50.028775 45.617861 \nL 49.936416 45.696616 \nL 49.845318 45.776828 \nL 49.755504 45.858474 \nL 49.666996 45.941535 \nL 49.579818 46.02599 \nL 49.49399 46.111818 \nL 49.409535 46.198996 \nL 49.326474 46.287504 \nL 49.244828 46.377318 \nL 49.164616 46.468416 \nL 49.085861 46.560775 \nL 49.00858 46.654373 \nL 48.932794 46.749184 \nL 48.858523 46.845187 \nL 48.785783 46.942355 \nL 48.714595 47.040665 \nL 48.644975 47.140093 \nL 48.576941 47.240612 \nL 48.510511 47.342198 \nL 48.445701 47.444826 \nL 48.382528 47.548469 \nL 48.321006 47.653101 \nL 48.261153 47.758696 \nL 48.202982 47.865227 \nL 48.146509 47.972668 \nL 48.091748 48.080991 \nL 48.038713 48.19017 \nL 47.987416 48.300176 \nL 47.937871 48.410982 \nL 47.89009 48.52256 \nL 47.844086 48.634883 \nL 47.799869 48.747921 \nL 47.757452 48.861647 \nL 47.716844 48.976031 \nL 47.678057 49.091045 \nL 47.641098 49.20666 \nL 47.605979 49.322847 \nL 47.572708 49.439576 \nL 47.541293 49.556819 \nL 47.511742 49.674545 \nL 47.484063 49.792725 \nL 47.458262 49.91133 \nL 47.434346 50.030329 \nL 47.412321 50.149692 \nL 47.392193 50.26939 \nL 47.373967 50.389392 \nL 47.357646 50.509668 \nL 47.343236 50.630188 \nL 47.33074 50.750922 \nL 47.320162 50.871838 \nL 47.311503 50.992908 \nL 47.304765 51.114099 \nL 47.299952 51.235382 \nL 47.297064 51.356726 \nL 47.296101 51.478101 \nL 47.296101 66.778101 \nL 47.297064 66.899475 \nL 47.299952 67.020819 \nL 47.304765 67.142102 \nL 47.311503 67.263294 \nL 47.320162 67.384363 \nL 47.33074 67.505279 \nL 47.343236 67.626013 \nL 47.357646 67.746533 \nL 47.373967 67.866809 \nL 47.392193 67.986811 \nL 47.412321 68.106509 \nL 47.434346 68.225873 \nL 47.458262 68.344872 \nL 47.484063 68.463476 \nL 47.511742 68.581656 \nL 47.541293 68.699383 \nL 47.572708 68.816625 \nL 47.605979 68.933355 \nL 47.641098 69.049541 \nL 47.678057 69.165156 \nL 47.716844 69.280171 \nL 47.757452 69.394555 \nL 47.799869 69.50828 \nL 47.844086 69.621318 \nL 47.89009 69.733641 \nL 47.937871 69.845219 \nL 47.987416 69.956025 \nL 48.038713 70.066032 \nL 48.091748 70.17521 \nL 48.146509 70.283534 \nL 48.202982 70.390974 \nL 48.261153 70.497506 \nL 48.321006 70.603101 \nL 48.382528 70.707733 \nL 48.445701 70.811375 \nL 48.510511 70.914003 \nL 48.576941 71.015589 \nL 48.644975 71.116109 \nL 48.714595 71.215536 \nL 48.785783 71.313846 \nL 48.858523 71.411015 \nL 48.932794 71.507017 \nL 49.00858 71.601829 \nL 49.085861 71.695426 \nL 49.164616 71.787785 \nL 49.244828 71.878883 \nL 49.326474 71.968698 \nL 49.409535 72.057205 \nL 49.49399 72.144384 \nL 49.579818 72.230211 \nL 49.666996 72.314666 \nL 49.755504 72.397727 \nL 49.845318 72.479374 \nL 49.936416 72.559585 \nL 50.028775 72.638341 \nL 50.122373 72.715621 \nL 50.217184 72.791407 \nL 50.313187 72.865679 \nL 50.410355 72.938418 \nL 50.508665 73.009607 \nL 50.608093 73.079226 \nL 50.708612 73.14726 \nL 50.810198 73.21369 \nL 50.912826 73.2785 \nL 51.016469 73.341674 \nL 51.121101 73.403195 \nL 51.226696 73.463048 \nL 51.333227 73.521219 \nL 51.440668 73.577692 \nL 51.548991 73.632453 \nL 51.65817 73.685489 \nL 51.768176 73.736785 \nL 51.878982 73.78633 \nL 51.99056 73.834111 \nL 52.102883 73.880115 \nL 52.215921 73.924332 \nL 52.329647 73.966749 \nL 52.444031 74.007357 \nL 52.559045 74.046145 \nL 52.67466 74.083103 \nL 52.790847 74.118222 \nL 52.907576 74.151493 \nL 53.024819 74.182908 \nL 53.142545 74.212459 \nL 53.260725 74.240138 \nL 53.37933 74.265939 \nL 53.498329 74.289855 \nL 53.617692 74.31188 \nL 53.73739 74.332008 \nL 53.857392 74.350235 \nL 53.977668 74.366555 \nL 54.098188 74.380965 \nL 54.218922 74.393461 \nL 54.339838 74.40404 \nL 54.460908 74.412699 \nL 54.582099 74.419436 \nL 54.703382 74.424249 \nL 54.824726 74.427138 \nL 54.946101 74.428101 \nz\n\" style=\"fill:none;stroke:#008000;stroke-linecap:round;\"/>\n   </g>\n   <g id=\"patch_5\">\n    <path clip-path=\"url(#pd75fd6418f)\" d=\"M 94.726101 166.228101 \nL 94.847475 166.227138 \nL 94.968819 166.224249 \nL 95.090102 166.219436 \nL 95.211294 166.212699 \nL 95.332363 166.20404 \nL 95.453279 166.193461 \nL 95.574013 166.180965 \nL 95.694533 166.166555 \nL 95.814809 166.150235 \nL 95.934811 166.132008 \nL 96.054509 166.11188 \nL 96.173873 166.089855 \nL 96.292872 166.065939 \nL 96.411476 166.040138 \nL 96.529656 166.012459 \nL 96.647383 165.982908 \nL 96.764625 165.951493 \nL 96.881355 165.918222 \nL 96.997541 165.883103 \nL 97.113156 165.846145 \nL 97.228171 165.807357 \nL 97.342555 165.766749 \nL 97.45628 165.724332 \nL 97.569318 165.680115 \nL 97.681641 165.634111 \nL 97.793219 165.58633 \nL 97.904025 165.536785 \nL 98.014032 165.485489 \nL 98.12321 165.432453 \nL 98.231534 165.377692 \nL 98.338974 165.321219 \nL 98.445506 165.263048 \nL 98.551101 165.203195 \nL 98.655733 165.141674 \nL 98.759375 165.0785 \nL 98.862003 165.01369 \nL 98.963589 164.94726 \nL 99.064109 164.879226 \nL 99.163536 164.809607 \nL 99.261846 164.738418 \nL 99.359015 164.665679 \nL 99.455017 164.591407 \nL 99.549829 164.515621 \nL 99.643426 164.438341 \nL 99.735785 164.359585 \nL 99.826883 164.279374 \nL 99.916698 164.197727 \nL 100.005205 164.114666 \nL 100.092384 164.030211 \nL 100.178211 163.944384 \nL 100.262666 163.857205 \nL 100.345727 163.768698 \nL 100.427374 163.678883 \nL 100.507585 163.587785 \nL 100.586341 163.495426 \nL 100.663621 163.401829 \nL 100.739407 163.307017 \nL 100.813679 163.211015 \nL 100.886418 163.113846 \nL 100.957607 163.015536 \nL 101.027226 162.916109 \nL 101.09526 162.815589 \nL 101.16169 162.714003 \nL 101.2265 162.611375 \nL 101.289674 162.507733 \nL 101.351195 162.403101 \nL 101.411048 162.297506 \nL 101.469219 162.190974 \nL 101.525692 162.083534 \nL 101.580453 161.97521 \nL 101.633489 161.866032 \nL 101.684785 161.756025 \nL 101.73433 161.645219 \nL 101.782111 161.533641 \nL 101.828115 161.421318 \nL 101.872332 161.30828 \nL 101.914749 161.194555 \nL 101.955357 161.080171 \nL 101.994145 160.965156 \nL 102.031103 160.849541 \nL 102.066222 160.733355 \nL 102.099493 160.616625 \nL 102.130908 160.499383 \nL 102.160459 160.381656 \nL 102.188138 160.263476 \nL 102.213939 160.144872 \nL 102.237855 160.025873 \nL 102.25988 159.906509 \nL 102.280008 159.786811 \nL 102.298235 159.666809 \nL 102.314555 159.546533 \nL 102.328965 159.426013 \nL 102.341461 159.305279 \nL 102.35204 159.184363 \nL 102.360699 159.063294 \nL 102.367436 158.942102 \nL 102.372249 158.820819 \nL 102.375138 158.699475 \nL 102.376101 158.578101 \nL 102.376101 118.798101 \nL 102.375138 118.676726 \nL 102.372249 118.555382 \nL 102.367436 118.434099 \nL 102.360699 118.312908 \nL 102.35204 118.191838 \nL 102.341461 118.070922 \nL 102.328965 117.950188 \nL 102.314555 117.829668 \nL 102.298235 117.709392 \nL 102.280008 117.58939 \nL 102.25988 117.469692 \nL 102.237855 117.350329 \nL 102.213939 117.23133 \nL 102.188138 117.112725 \nL 102.160459 116.994545 \nL 102.130908 116.876819 \nL 102.099493 116.759576 \nL 102.066222 116.642847 \nL 102.031103 116.52666 \nL 101.994145 116.411045 \nL 101.955357 116.296031 \nL 101.914749 116.181647 \nL 101.872332 116.067921 \nL 101.828115 115.954883 \nL 101.782111 115.84256 \nL 101.73433 115.730982 \nL 101.684785 115.620176 \nL 101.633489 115.51017 \nL 101.580453 115.400991 \nL 101.525692 115.292668 \nL 101.469219 115.185227 \nL 101.411048 115.078696 \nL 101.351195 114.973101 \nL 101.289674 114.868469 \nL 101.2265 114.764826 \nL 101.16169 114.662198 \nL 101.09526 114.560612 \nL 101.027226 114.460093 \nL 100.957607 114.360665 \nL 100.886418 114.262355 \nL 100.813679 114.165187 \nL 100.739407 114.069184 \nL 100.663621 113.974373 \nL 100.586341 113.880775 \nL 100.507585 113.788416 \nL 100.427374 113.697318 \nL 100.345727 113.607504 \nL 100.262666 113.518996 \nL 100.178211 113.431818 \nL 100.092384 113.34599 \nL 100.005205 113.261535 \nL 99.916698 113.178474 \nL 99.826883 113.096828 \nL 99.735785 113.016616 \nL 99.643426 112.937861 \nL 99.549829 112.86058 \nL 99.455017 112.784794 \nL 99.359015 112.710523 \nL 99.261846 112.637783 \nL 99.163536 112.566595 \nL 99.064109 112.496975 \nL 98.963589 112.428941 \nL 98.862003 112.362511 \nL 98.759375 112.297701 \nL 98.655733 112.234528 \nL 98.551101 112.173006 \nL 98.445506 112.113153 \nL 98.338974 112.054982 \nL 98.231534 111.998509 \nL 98.12321 111.943748 \nL 98.014032 111.890713 \nL 97.904025 111.839416 \nL 97.793219 111.789871 \nL 97.681641 111.74209 \nL 97.569318 111.696086 \nL 97.45628 111.651869 \nL 97.342555 111.609452 \nL 97.228171 111.568844 \nL 97.113156 111.530057 \nL 96.997541 111.493098 \nL 96.881355 111.457979 \nL 96.764625 111.424708 \nL 96.647383 111.393293 \nL 96.529656 111.363742 \nL 96.411476 111.336063 \nL 96.292872 111.310262 \nL 96.173873 111.286346 \nL 96.054509 111.264321 \nL 95.934811 111.244193 \nL 95.814809 111.225967 \nL 95.694533 111.209646 \nL 95.574013 111.195236 \nL 95.453279 111.18274 \nL 95.332363 111.172162 \nL 95.211294 111.163503 \nL 95.090102 111.156765 \nL 94.968819 111.151952 \nL 94.847475 111.149064 \nL 94.726101 111.148101 \nL 54.946101 111.148101 \nL 54.824726 111.149064 \nL 54.703382 111.151952 \nL 54.582099 111.156765 \nL 54.460908 111.163503 \nL 54.339838 111.172162 \nL 54.218922 111.18274 \nL 54.098188 111.195236 \nL 53.977668 111.209646 \nL 53.857392 111.225967 \nL 53.73739 111.244193 \nL 53.617692 111.264321 \nL 53.498329 111.286346 \nL 53.37933 111.310262 \nL 53.260725 111.336063 \nL 53.142545 111.363742 \nL 53.024819 111.393293 \nL 52.907576 111.424708 \nL 52.790847 111.457979 \nL 52.67466 111.493098 \nL 52.559045 111.530057 \nL 52.444031 111.568844 \nL 52.329647 111.609452 \nL 52.215921 111.651869 \nL 52.102883 111.696086 \nL 51.99056 111.74209 \nL 51.878982 111.789871 \nL 51.768176 111.839416 \nL 51.65817 111.890713 \nL 51.548991 111.943748 \nL 51.440668 111.998509 \nL 51.333227 112.054982 \nL 51.226696 112.113153 \nL 51.121101 112.173006 \nL 51.016469 112.234528 \nL 50.912826 112.297701 \nL 50.810198 112.362511 \nL 50.708612 112.428941 \nL 50.608093 112.496975 \nL 50.508665 112.566595 \nL 50.410355 112.637783 \nL 50.313187 112.710523 \nL 50.217184 112.784794 \nL 50.122373 112.86058 \nL 50.028775 112.937861 \nL 49.936416 113.016616 \nL 49.845318 113.096828 \nL 49.755504 113.178474 \nL 49.666996 113.261535 \nL 49.579818 113.34599 \nL 49.49399 113.431818 \nL 49.409535 113.518996 \nL 49.326474 113.607504 \nL 49.244828 113.697318 \nL 49.164616 113.788416 \nL 49.085861 113.880775 \nL 49.00858 113.974373 \nL 48.932794 114.069184 \nL 48.858523 114.165187 \nL 48.785783 114.262355 \nL 48.714595 114.360665 \nL 48.644975 114.460093 \nL 48.576941 114.560612 \nL 48.510511 114.662198 \nL 48.445701 114.764826 \nL 48.382528 114.868469 \nL 48.321006 114.973101 \nL 48.261153 115.078696 \nL 48.202982 115.185227 \nL 48.146509 115.292668 \nL 48.091748 115.400991 \nL 48.038713 115.51017 \nL 47.987416 115.620176 \nL 47.937871 115.730982 \nL 47.89009 115.84256 \nL 47.844086 115.954883 \nL 47.799869 116.067921 \nL 47.757452 116.181647 \nL 47.716844 116.296031 \nL 47.678057 116.411045 \nL 47.641098 116.52666 \nL 47.605979 116.642847 \nL 47.572708 116.759576 \nL 47.541293 116.876819 \nL 47.511742 116.994545 \nL 47.484063 117.112725 \nL 47.458262 117.23133 \nL 47.434346 117.350329 \nL 47.412321 117.469692 \nL 47.392193 117.58939 \nL 47.373967 117.709392 \nL 47.357646 117.829668 \nL 47.343236 117.950188 \nL 47.33074 118.070922 \nL 47.320162 118.191838 \nL 47.311503 118.312908 \nL 47.304765 118.434099 \nL 47.299952 118.555382 \nL 47.297064 118.676726 \nL 47.296101 118.798101 \nL 47.296101 158.578101 \nL 47.297064 158.699475 \nL 47.299952 158.820819 \nL 47.304765 158.942102 \nL 47.311503 159.063294 \nL 47.320162 159.184363 \nL 47.33074 159.305279 \nL 47.343236 159.426013 \nL 47.357646 159.546533 \nL 47.373967 159.666809 \nL 47.392193 159.786811 \nL 47.412321 159.906509 \nL 47.434346 160.025873 \nL 47.458262 160.144872 \nL 47.484063 160.263476 \nL 47.511742 160.381656 \nL 47.541293 160.499383 \nL 47.572708 160.616625 \nL 47.605979 160.733355 \nL 47.641098 160.849541 \nL 47.678057 160.965156 \nL 47.716844 161.080171 \nL 47.757452 161.194555 \nL 47.799869 161.30828 \nL 47.844086 161.421318 \nL 47.89009 161.533641 \nL 47.937871 161.645219 \nL 47.987416 161.756025 \nL 48.038713 161.866032 \nL 48.091748 161.97521 \nL 48.146509 162.083534 \nL 48.202982 162.190974 \nL 48.261153 162.297506 \nL 48.321006 162.403101 \nL 48.382528 162.507733 \nL 48.445701 162.611375 \nL 48.510511 162.714003 \nL 48.576941 162.815589 \nL 48.644975 162.916109 \nL 48.714595 163.015536 \nL 48.785783 163.113846 \nL 48.858523 163.211015 \nL 48.932794 163.307017 \nL 49.00858 163.401829 \nL 49.085861 163.495426 \nL 49.164616 163.587785 \nL 49.244828 163.678883 \nL 49.326474 163.768698 \nL 49.409535 163.857205 \nL 49.49399 163.944384 \nL 49.579818 164.030211 \nL 49.666996 164.114666 \nL 49.755504 164.197727 \nL 49.845318 164.279374 \nL 49.936416 164.359585 \nL 50.028775 164.438341 \nL 50.122373 164.515621 \nL 50.217184 164.591407 \nL 50.313187 164.665679 \nL 50.410355 164.738418 \nL 50.508665 164.809607 \nL 50.608093 164.879226 \nL 50.708612 164.94726 \nL 50.810198 165.01369 \nL 50.912826 165.0785 \nL 51.016469 165.141674 \nL 51.121101 165.203195 \nL 51.226696 165.263048 \nL 51.333227 165.321219 \nL 51.440668 165.377692 \nL 51.548991 165.432453 \nL 51.65817 165.485489 \nL 51.768176 165.536785 \nL 51.878982 165.58633 \nL 51.99056 165.634111 \nL 52.102883 165.680115 \nL 52.215921 165.724332 \nL 52.329647 165.766749 \nL 52.444031 165.807357 \nL 52.559045 165.846145 \nL 52.67466 165.883103 \nL 52.790847 165.918222 \nL 52.907576 165.951493 \nL 53.024819 165.982908 \nL 53.142545 166.012459 \nL 53.260725 166.040138 \nL 53.37933 166.065939 \nL 53.498329 166.089855 \nL 53.617692 166.11188 \nL 53.73739 166.132008 \nL 53.857392 166.150235 \nL 53.977668 166.166555 \nL 54.098188 166.180965 \nL 54.218922 166.193461 \nL 54.339838 166.20404 \nL 54.460908 166.212699 \nL 54.582099 166.219436 \nL 54.703382 166.224249 \nL 54.824726 166.227138 \nL 54.946101 166.228101 \nz\n\" style=\"fill:none;stroke:#0000ff;stroke-linecap:round;\"/>\n   </g>\n   <g id=\"line2d_1\">\n    <path clip-path=\"url(#pd75fd6418f)\" d=\"M 44.236101 169.288101 \nL 166.636101 169.288101 \nL 166.636101 46.888101 \nL 44.236101 46.888101 \nL 44.236101 169.288101 \n\" style=\"fill:none;stroke:#000000;stroke-linecap:round;stroke-width:1.25;\"/>\n   </g>\n   <g id=\"line2d_2\">\n    <path clip-path=\"url(#pd75fd6418f)\" d=\"M 44.236101 169.288101 \nL 166.636101 169.288101 \n\" style=\"fill:none;stroke:#000000;stroke-linecap:round;stroke-width:1.25;\"/>\n   </g>\n   <g id=\"line2d_3\">\n    <path clip-path=\"url(#pd75fd6418f)\" d=\"M 44.236101 138.688101 \nL 166.636101 138.688101 \n\" style=\"fill:none;stroke:#000000;stroke-linecap:round;stroke-width:1.25;\"/>\n   </g>\n   <g id=\"line2d_4\">\n    <path clip-path=\"url(#pd75fd6418f)\" d=\"M 44.236101 108.088101 \nL 166.636101 108.088101 \n\" style=\"fill:none;stroke:#000000;stroke-linecap:round;stroke-width:1.25;\"/>\n   </g>\n   <g id=\"line2d_5\">\n    <path clip-path=\"url(#pd75fd6418f)\" d=\"M 44.236101 77.488101 \nL 166.636101 77.488101 \n\" style=\"fill:none;stroke:#000000;stroke-linecap:round;stroke-width:1.25;\"/>\n   </g>\n   <g id=\"line2d_6\">\n    <path clip-path=\"url(#pd75fd6418f)\" d=\"M 44.236101 169.288101 \nL 44.236101 46.888101 \n\" style=\"fill:none;stroke:#000000;stroke-linecap:round;stroke-width:1.25;\"/>\n   </g>\n   <g id=\"line2d_7\">\n    <path clip-path=\"url(#pd75fd6418f)\" d=\"M 74.836101 169.288101 \nL 74.836101 46.888101 \n\" style=\"fill:none;stroke:#000000;stroke-linecap:round;stroke-width:1.25;\"/>\n   </g>\n   <g id=\"line2d_8\">\n    <path clip-path=\"url(#pd75fd6418f)\" d=\"M 105.436101 169.288101 \nL 105.436101 46.888101 \n\" style=\"fill:none;stroke:#000000;stroke-linecap:round;stroke-width:1.25;\"/>\n   </g>\n   <g id=\"line2d_9\">\n    <path clip-path=\"url(#pd75fd6418f)\" d=\"M 136.036101 169.288101 \nL 136.036101 46.888101 \n\" style=\"fill:none;stroke:#000000;stroke-linecap:round;stroke-width:1.25;\"/>\n   </g>\n   <g id=\"line2d_10\">\n    <path clip-path=\"url(#pd75fd6418f)\" d=\"M 44.236101 46.888101 \nL 22.598633 25.250633 \n\" style=\"fill:none;stroke:#000000;stroke-linecap:round;stroke-width:1.25;\"/>\n   </g>\n   <g id=\"text_1\">\n    <g clip-path=\"url(#pd75fd6418f)\">\n     <!-- 13 -->\n     <defs>\n      <path d=\"M 12.40625 8.296875 \nL 28.515625 8.296875 \nL 28.515625 63.921875 \nL 10.984375 60.40625 \nL 10.984375 69.390625 \nL 28.421875 72.90625 \nL 38.28125 72.90625 \nL 38.28125 8.296875 \nL 54.390625 8.296875 \nL 54.390625 0 \nL 12.40625 0 \nz\n\" id=\"DejaVuSans-49\"/>\n      <path d=\"M 40.578125 39.3125 \nQ 47.65625 37.796875 51.625 33 \nQ 55.609375 28.21875 55.609375 21.1875 \nQ 55.609375 10.40625 48.1875 4.484375 \nQ 40.765625 -1.421875 27.09375 -1.421875 \nQ 22.515625 -1.421875 17.65625 -0.515625 \nQ 12.796875 0.390625 7.625 2.203125 \nL 7.625 11.71875 \nQ 11.71875 9.328125 16.59375 8.109375 \nQ 21.484375 6.890625 26.8125 6.890625 \nQ 36.078125 6.890625 40.9375 10.546875 \nQ 45.796875 14.203125 45.796875 21.1875 \nQ 45.796875 27.640625 41.28125 31.265625 \nQ 36.765625 34.90625 28.71875 34.90625 \nL 20.21875 34.90625 \nL 20.21875 43.015625 \nL 29.109375 43.015625 \nQ 36.375 43.015625 40.234375 45.921875 \nQ 44.09375 48.828125 44.09375 54.296875 \nQ 44.09375 59.90625 40.109375 62.90625 \nQ 36.140625 65.921875 28.71875 65.921875 \nQ 24.65625 65.921875 20.015625 65.03125 \nQ 15.375 64.15625 9.8125 62.3125 \nL 9.8125 71.09375 \nQ 15.4375 72.65625 20.34375 73.4375 \nQ 25.25 74.21875 29.59375 74.21875 \nQ 40.828125 74.21875 47.359375 69.109375 \nQ 53.90625 64.015625 53.90625 55.328125 \nQ 53.90625 49.265625 50.4375 45.09375 \nQ 46.96875 40.921875 40.578125 39.3125 \nz\n\" id=\"DejaVuSans-51\"/>\n     </defs>\n     <g transform=\"translate(30.874851 28.476328)scale(0.105 -0.105)\">\n      <use xlink:href=\"#DejaVuSans-49\"/>\n      <use x=\"63.623047\" xlink:href=\"#DejaVuSans-51\"/>\n     </g>\n    </g>\n   </g>\n   <g id=\"text_2\">\n    <g clip-path=\"url(#pd75fd6418f)\">\n     <!-- 24 -->\n     <defs>\n      <path d=\"M 19.1875 8.296875 \nL 53.609375 8.296875 \nL 53.609375 0 \nL 7.328125 0 \nL 7.328125 8.296875 \nQ 12.9375 14.109375 22.625 23.890625 \nQ 32.328125 33.6875 34.8125 36.53125 \nQ 39.546875 41.84375 41.421875 45.53125 \nQ 43.3125 49.21875 43.3125 52.78125 \nQ 43.3125 58.59375 39.234375 62.25 \nQ 35.15625 65.921875 28.609375 65.921875 \nQ 23.96875 65.921875 18.8125 64.3125 \nQ 13.671875 62.703125 7.8125 59.421875 \nL 7.8125 69.390625 \nQ 13.765625 71.78125 18.9375 73 \nQ 24.125 74.21875 28.421875 74.21875 \nQ 39.75 74.21875 46.484375 68.546875 \nQ 53.21875 62.890625 53.21875 53.421875 \nQ 53.21875 48.921875 51.53125 44.890625 \nQ 49.859375 40.875 45.40625 35.40625 \nQ 44.1875 33.984375 37.640625 27.21875 \nQ 31.109375 20.453125 19.1875 8.296875 \nz\n\" id=\"DejaVuSans-50\"/>\n      <path d=\"M 37.796875 64.3125 \nL 12.890625 25.390625 \nL 37.796875 25.390625 \nz\nM 35.203125 72.90625 \nL 47.609375 72.90625 \nL 47.609375 25.390625 \nL 58.015625 25.390625 \nL 58.015625 17.1875 \nL 47.609375 17.1875 \nL 47.609375 0 \nL 37.796875 0 \nL 37.796875 17.1875 \nL 4.890625 17.1875 \nL 4.890625 26.703125 \nz\n\" id=\"DejaVuSans-52\"/>\n     </defs>\n     <g transform=\"translate(14.64675 44.704429)scale(0.105 -0.105)\">\n      <use xlink:href=\"#DejaVuSans-50\"/>\n      <use x=\"63.623047\" xlink:href=\"#DejaVuSans-52\"/>\n     </g>\n    </g>\n   </g>\n   <g id=\"text_3\">\n    <g clip-path=\"url(#pd75fd6418f)\">\n     <!-- 00 -->\n     <defs>\n      <path d=\"M 31.78125 66.40625 \nQ 24.171875 66.40625 20.328125 58.90625 \nQ 16.5 51.421875 16.5 36.375 \nQ 16.5 21.390625 20.328125 13.890625 \nQ 24.171875 6.390625 31.78125 6.390625 \nQ 39.453125 6.390625 43.28125 13.890625 \nQ 47.125 21.390625 47.125 36.375 \nQ 47.125 51.421875 43.28125 58.90625 \nQ 39.453125 66.40625 31.78125 66.40625 \nz\nM 31.78125 74.21875 \nQ 44.046875 74.21875 50.515625 64.515625 \nQ 56.984375 54.828125 56.984375 36.375 \nQ 56.984375 17.96875 50.515625 8.265625 \nQ 44.046875 -1.421875 31.78125 -1.421875 \nQ 19.53125 -1.421875 13.0625 8.265625 \nQ 6.59375 17.96875 6.59375 36.375 \nQ 6.59375 54.828125 13.0625 64.515625 \nQ 19.53125 74.21875 31.78125 74.21875 \nz\n\" id=\"DejaVuSans-48\"/>\n     </defs>\n     <g transform=\"translate(54.127976 43.590366)scale(0.085 -0.085)\">\n      <use xlink:href=\"#DejaVuSans-48\"/>\n      <use x=\"63.623047\" xlink:href=\"#DejaVuSans-48\"/>\n     </g>\n    </g>\n   </g>\n   <g id=\"text_4\">\n    <g clip-path=\"url(#pd75fd6418f)\">\n     <!-- 01 -->\n     <g transform=\"translate(84.727976 43.590366)scale(0.085 -0.085)\">\n      <use xlink:href=\"#DejaVuSans-48\"/>\n      <use x=\"63.623047\" xlink:href=\"#DejaVuSans-49\"/>\n     </g>\n    </g>\n   </g>\n   <g id=\"text_5\">\n    <g clip-path=\"url(#pd75fd6418f)\">\n     <!-- 10 -->\n     <g transform=\"translate(145.927976 43.590366)scale(0.085 -0.085)\">\n      <use xlink:href=\"#DejaVuSans-49\"/>\n      <use x=\"63.623047\" xlink:href=\"#DejaVuSans-48\"/>\n     </g>\n    </g>\n   </g>\n   <g id=\"text_6\">\n    <g clip-path=\"url(#pd75fd6418f)\">\n     <!-- 11 -->\n     <g transform=\"translate(115.327976 43.590366)scale(0.085 -0.085)\">\n      <use xlink:href=\"#DejaVuSans-49\"/>\n      <use x=\"63.623047\" xlink:href=\"#DejaVuSans-49\"/>\n     </g>\n    </g>\n   </g>\n   <g id=\"text_7\">\n    <g clip-path=\"url(#pd75fd6418f)\">\n     <!-- 00 -->\n     <g transform=\"translate(30.359851 64.533569)scale(0.085 -0.085)\">\n      <use xlink:href=\"#DejaVuSans-48\"/>\n      <use x=\"63.623047\" xlink:href=\"#DejaVuSans-48\"/>\n     </g>\n    </g>\n   </g>\n   <g id=\"text_8\">\n    <g clip-path=\"url(#pd75fd6418f)\">\n     <!-- 01 -->\n     <g transform=\"translate(30.359851 95.133569)scale(0.085 -0.085)\">\n      <use xlink:href=\"#DejaVuSans-48\"/>\n      <use x=\"63.623047\" xlink:href=\"#DejaVuSans-49\"/>\n     </g>\n    </g>\n   </g>\n   <g id=\"text_9\">\n    <g clip-path=\"url(#pd75fd6418f)\">\n     <!-- 10 -->\n     <g transform=\"translate(30.359851 156.333569)scale(0.085 -0.085)\">\n      <use xlink:href=\"#DejaVuSans-49\"/>\n      <use x=\"63.623047\" xlink:href=\"#DejaVuSans-48\"/>\n     </g>\n    </g>\n   </g>\n   <g id=\"text_10\">\n    <g clip-path=\"url(#pd75fd6418f)\">\n     <!-- 11 -->\n     <g transform=\"translate(30.359851 125.733569)scale(0.085 -0.085)\">\n      <use xlink:href=\"#DejaVuSans-49\"/>\n      <use x=\"63.623047\" xlink:href=\"#DejaVuSans-49\"/>\n     </g>\n    </g>\n   </g>\n   <g id=\"text_11\">\n    <g clip-path=\"url(#pd75fd6418f)\">\n     <!-- X -->\n     <defs>\n      <path d=\"M 6.296875 72.90625 \nL 16.890625 72.90625 \nL 35.015625 45.796875 \nL 53.21875 72.90625 \nL 63.8125 72.90625 \nL 40.375 37.890625 \nL 65.375 0 \nL 54.78125 0 \nL 34.28125 31 \nL 13.625 0 \nL 2.984375 0 \nL 29 38.921875 \nz\n\" id=\"DejaVuSans-88\"/>\n     </defs>\n     <g transform=\"translate(55.939851 65.085444)scale(0.105 -0.105)\">\n      <use xlink:href=\"#DejaVuSans-88\"/>\n     </g>\n    </g>\n   </g>\n   <g id=\"text_12\">\n    <g clip-path=\"url(#pd75fd6418f)\">\n     <!-- X -->\n     <g transform=\"translate(55.939851 95.685444)scale(0.105 -0.105)\">\n      <use xlink:href=\"#DejaVuSans-88\"/>\n     </g>\n    </g>\n   </g>\n   <g id=\"text_13\">\n    <g clip-path=\"url(#pd75fd6418f)\">\n     <!-- X -->\n     <g transform=\"translate(55.939851 156.885444)scale(0.105 -0.105)\">\n      <use xlink:href=\"#DejaVuSans-88\"/>\n     </g>\n    </g>\n   </g>\n   <g id=\"text_14\">\n    <g clip-path=\"url(#pd75fd6418f)\">\n     <!-- X -->\n     <g transform=\"translate(55.939851 126.285444)scale(0.105 -0.105)\">\n      <use xlink:href=\"#DejaVuSans-88\"/>\n     </g>\n    </g>\n   </g>\n   <g id=\"text_15\">\n    <g clip-path=\"url(#pd75fd6418f)\">\n     <!-- X -->\n     <g transform=\"translate(86.539851 65.085444)scale(0.105 -0.105)\">\n      <use xlink:href=\"#DejaVuSans-88\"/>\n     </g>\n    </g>\n   </g>\n   <g id=\"text_16\">\n    <g clip-path=\"url(#pd75fd6418f)\">\n     <!-- 0 -->\n     <g transform=\"translate(86.795788 95.685444)scale(0.105 -0.105)\">\n      <use xlink:href=\"#DejaVuSans-48\"/>\n     </g>\n    </g>\n   </g>\n   <g id=\"text_17\">\n    <g clip-path=\"url(#pd75fd6418f)\">\n     <!-- X -->\n     <g transform=\"translate(86.539851 156.885444)scale(0.105 -0.105)\">\n      <use xlink:href=\"#DejaVuSans-88\"/>\n     </g>\n    </g>\n   </g>\n   <g id=\"text_18\">\n    <g clip-path=\"url(#pd75fd6418f)\">\n     <!-- 1 -->\n     <g transform=\"translate(86.795788 126.285444)scale(0.105 -0.105)\">\n      <use xlink:href=\"#DejaVuSans-49\"/>\n     </g>\n    </g>\n   </g>\n   <g id=\"text_19\">\n    <g clip-path=\"url(#pd75fd6418f)\">\n     <!-- 1 -->\n     <g transform=\"translate(147.995788 65.085444)scale(0.105 -0.105)\">\n      <use xlink:href=\"#DejaVuSans-49\"/>\n     </g>\n    </g>\n   </g>\n   <g id=\"text_20\">\n    <g clip-path=\"url(#pd75fd6418f)\">\n     <!-- 0 -->\n     <g transform=\"translate(147.995788 95.685444)scale(0.105 -0.105)\">\n      <use xlink:href=\"#DejaVuSans-48\"/>\n     </g>\n    </g>\n   </g>\n   <g id=\"text_21\">\n    <g clip-path=\"url(#pd75fd6418f)\">\n     <!-- 1 -->\n     <g transform=\"translate(147.995788 156.885444)scale(0.105 -0.105)\">\n      <use xlink:href=\"#DejaVuSans-49\"/>\n     </g>\n    </g>\n   </g>\n   <g id=\"text_22\">\n    <g clip-path=\"url(#pd75fd6418f)\">\n     <!-- 0 -->\n     <g transform=\"translate(147.995788 126.285444)scale(0.105 -0.105)\">\n      <use xlink:href=\"#DejaVuSans-48\"/>\n     </g>\n    </g>\n   </g>\n   <g id=\"text_23\">\n    <g clip-path=\"url(#pd75fd6418f)\">\n     <!-- 1 -->\n     <g transform=\"translate(117.395788 65.085444)scale(0.105 -0.105)\">\n      <use xlink:href=\"#DejaVuSans-49\"/>\n     </g>\n    </g>\n   </g>\n   <g id=\"text_24\">\n    <g clip-path=\"url(#pd75fd6418f)\">\n     <!-- 1 -->\n     <g transform=\"translate(117.395788 95.685444)scale(0.105 -0.105)\">\n      <use xlink:href=\"#DejaVuSans-49\"/>\n     </g>\n    </g>\n   </g>\n   <g id=\"text_25\">\n    <g clip-path=\"url(#pd75fd6418f)\">\n     <!-- X -->\n     <g transform=\"translate(117.139851 156.885444)scale(0.105 -0.105)\">\n      <use xlink:href=\"#DejaVuSans-88\"/>\n     </g>\n    </g>\n   </g>\n   <g id=\"text_26\">\n    <g clip-path=\"url(#pd75fd6418f)\">\n     <!-- X -->\n     <g transform=\"translate(117.139851 126.285444)scale(0.105 -0.105)\">\n      <use xlink:href=\"#DejaVuSans-88\"/>\n     </g>\n    </g>\n   </g>\n  </g>\n </g>\n <defs>\n  <clipPath id=\"pd75fd6418f\">\n   <rect height=\"168.208101\" width=\"164.281101\" x=\"7.2\" y=\"7.2\"/>\n  </clipPath>\n </defs>\n</svg>\n"
          },
          "metadata": {},
          "execution_count": 182
        }
      ]
    },
    {
      "cell_type": "markdown",
      "source": [
        "## D3"
      ],
      "metadata": {
        "id": "T1srm3Y-JX3w"
      }
    },
    {
      "cell_type": "code",
      "source": [
        "Table1_3[Table1_3[\"D3\"] == 1][[\"Q1\",\"Q2\",\"Q3\",\"Q4\"]]"
      ],
      "metadata": {
        "colab": {
          "base_uri": "https://localhost:8080/"
        },
        "id": "X33V1Fx5dg3z",
        "outputId": "86163b06-2202-4411-f399-7ed99ba4b204"
      },
      "execution_count": null,
      "outputs": [
        {
          "output_type": "execute_result",
          "data": {
            "text/html": [
              "\n",
              "  <div id=\"df-80ef8569-e3b1-4466-b697-f985f8d095e3\">\n",
              "    <div class=\"colab-df-container\">\n",
              "      <div>\n",
              "<style scoped>\n",
              "    .dataframe tbody tr th:only-of-type {\n",
              "        vertical-align: middle;\n",
              "    }\n",
              "\n",
              "    .dataframe tbody tr th {\n",
              "        vertical-align: top;\n",
              "    }\n",
              "\n",
              "    .dataframe thead th {\n",
              "        text-align: right;\n",
              "    }\n",
              "</style>\n",
              "<table border=\"1\" class=\"dataframe\">\n",
              "  <thead>\n",
              "    <tr style=\"text-align: right;\">\n",
              "      <th></th>\n",
              "      <th>Q1</th>\n",
              "      <th>Q2</th>\n",
              "      <th>Q3</th>\n",
              "      <th>Q4</th>\n",
              "    </tr>\n",
              "  </thead>\n",
              "  <tbody>\n",
              "    <tr>\n",
              "      <th>2</th>\n",
              "      <td>0</td>\n",
              "      <td>1</td>\n",
              "      <td>0</td>\n",
              "      <td>1</td>\n",
              "    </tr>\n",
              "    <tr>\n",
              "      <th>5</th>\n",
              "      <td>1</td>\n",
              "      <td>1</td>\n",
              "      <td>0</td>\n",
              "      <td>0</td>\n",
              "    </tr>\n",
              "    <tr>\n",
              "      <th>6</th>\n",
              "      <td>0</td>\n",
              "      <td>0</td>\n",
              "      <td>1</td>\n",
              "      <td>0</td>\n",
              "    </tr>\n",
              "    <tr>\n",
              "      <th>7</th>\n",
              "      <td>0</td>\n",
              "      <td>0</td>\n",
              "      <td>1</td>\n",
              "      <td>1</td>\n",
              "    </tr>\n",
              "  </tbody>\n",
              "</table>\n",
              "</div>\n",
              "      <button class=\"colab-df-convert\" onclick=\"convertToInteractive('df-80ef8569-e3b1-4466-b697-f985f8d095e3')\"\n",
              "              title=\"Convert this dataframe to an interactive table.\"\n",
              "              style=\"display:none;\">\n",
              "        \n",
              "  <svg xmlns=\"http://www.w3.org/2000/svg\" height=\"24px\"viewBox=\"0 0 24 24\"\n",
              "       width=\"24px\">\n",
              "    <path d=\"M0 0h24v24H0V0z\" fill=\"none\"/>\n",
              "    <path d=\"M18.56 5.44l.94 2.06.94-2.06 2.06-.94-2.06-.94-.94-2.06-.94 2.06-2.06.94zm-11 1L8.5 8.5l.94-2.06 2.06-.94-2.06-.94L8.5 2.5l-.94 2.06-2.06.94zm10 10l.94 2.06.94-2.06 2.06-.94-2.06-.94-.94-2.06-.94 2.06-2.06.94z\"/><path d=\"M17.41 7.96l-1.37-1.37c-.4-.4-.92-.59-1.43-.59-.52 0-1.04.2-1.43.59L10.3 9.45l-7.72 7.72c-.78.78-.78 2.05 0 2.83L4 21.41c.39.39.9.59 1.41.59.51 0 1.02-.2 1.41-.59l7.78-7.78 2.81-2.81c.8-.78.8-2.07 0-2.86zM5.41 20L4 18.59l7.72-7.72 1.47 1.35L5.41 20z\"/>\n",
              "  </svg>\n",
              "      </button>\n",
              "      \n",
              "  <style>\n",
              "    .colab-df-container {\n",
              "      display:flex;\n",
              "      flex-wrap:wrap;\n",
              "      gap: 12px;\n",
              "    }\n",
              "\n",
              "    .colab-df-convert {\n",
              "      background-color: #E8F0FE;\n",
              "      border: none;\n",
              "      border-radius: 50%;\n",
              "      cursor: pointer;\n",
              "      display: none;\n",
              "      fill: #1967D2;\n",
              "      height: 32px;\n",
              "      padding: 0 0 0 0;\n",
              "      width: 32px;\n",
              "    }\n",
              "\n",
              "    .colab-df-convert:hover {\n",
              "      background-color: #E2EBFA;\n",
              "      box-shadow: 0px 1px 2px rgba(60, 64, 67, 0.3), 0px 1px 3px 1px rgba(60, 64, 67, 0.15);\n",
              "      fill: #174EA6;\n",
              "    }\n",
              "\n",
              "    [theme=dark] .colab-df-convert {\n",
              "      background-color: #3B4455;\n",
              "      fill: #D2E3FC;\n",
              "    }\n",
              "\n",
              "    [theme=dark] .colab-df-convert:hover {\n",
              "      background-color: #434B5C;\n",
              "      box-shadow: 0px 1px 3px 1px rgba(0, 0, 0, 0.15);\n",
              "      filter: drop-shadow(0px 1px 2px rgba(0, 0, 0, 0.3));\n",
              "      fill: #FFFFFF;\n",
              "    }\n",
              "  </style>\n",
              "\n",
              "      <script>\n",
              "        const buttonEl =\n",
              "          document.querySelector('#df-80ef8569-e3b1-4466-b697-f985f8d095e3 button.colab-df-convert');\n",
              "        buttonEl.style.display =\n",
              "          google.colab.kernel.accessAllowed ? 'block' : 'none';\n",
              "\n",
              "        async function convertToInteractive(key) {\n",
              "          const element = document.querySelector('#df-80ef8569-e3b1-4466-b697-f985f8d095e3');\n",
              "          const dataTable =\n",
              "            await google.colab.kernel.invokeFunction('convertToInteractive',\n",
              "                                                     [key], {});\n",
              "          if (!dataTable) return;\n",
              "\n",
              "          const docLinkHtml = 'Like what you see? Visit the ' +\n",
              "            '<a target=\"_blank\" href=https://colab.research.google.com/notebooks/data_table.ipynb>data table notebook</a>'\n",
              "            + ' to learn more about interactive tables.';\n",
              "          element.innerHTML = '';\n",
              "          dataTable['output_type'] = 'display_data';\n",
              "          await google.colab.output.renderOutput(dataTable, element);\n",
              "          const docLink = document.createElement('div');\n",
              "          docLink.innerHTML = docLinkHtml;\n",
              "          element.appendChild(docLink);\n",
              "        }\n",
              "      </script>\n",
              "    </div>\n",
              "  </div>\n",
              "  "
            ],
            "text/plain": [
              "   Q1  Q2  Q3  Q4\n",
              "2   0   1   0   1\n",
              "5   1   1   0   0\n",
              "6   0   0   1   0\n",
              "7   0   0   1   1"
            ]
          },
          "metadata": {},
          "execution_count": 151
        }
      ]
    },
    {
      "cell_type": "code",
      "source": [
        "minterms_D3 = Table1_3[Table1_3[\"D3\"] == 1][[\"Q1\",\"Q2\",\"Q3\",\"Q4\"]].to_numpy()\n",
        "minterms_D3 = minterms_D3.tolist()\n",
        "print(minterms_D3)"
      ],
      "metadata": {
        "colab": {
          "base_uri": "https://localhost:8080/"
        },
        "id": "4kqG39dBBPWG",
        "outputId": "e4d0c64f-905b-4a21-8380-2fe04b2f6f4f"
      },
      "execution_count": null,
      "outputs": [
        {
          "output_type": "stream",
          "name": "stdout",
          "text": [
            "[[0, 1, 0, 1], [1, 1, 0, 0], [0, 0, 1, 0], [0, 0, 1, 1]]\n"
          ]
        }
      ]
    },
    {
      "cell_type": "code",
      "source": [
        "D3 = sym.logic.boolalg.SOPform([Q1,Q2,Q3,Q4], minterms_D3, dontcares = notorder)\n",
        "print(D3)"
      ],
      "metadata": {
        "colab": {
          "base_uri": "https://localhost:8080/"
        },
        "id": "PPBdr7zOBhej",
        "outputId": "03957a3e-e9e8-411a-88be-980a5692df97"
      },
      "execution_count": null,
      "outputs": [
        {
          "output_type": "stream",
          "name": "stdout",
          "text": [
            "(Q1 & Q2) | (Q4 & ~Q3) | (~Q1 & ~Q2)\n"
          ]
        }
      ]
    },
    {
      "cell_type": "code",
      "source": [
        "D3"
      ],
      "metadata": {
        "colab": {
          "base_uri": "https://localhost:8080/"
        },
        "id": "ApVH1TaYYHZ9",
        "outputId": "8d701e56-5c3f-4573-801e-73fd5f418cb4"
      },
      "execution_count": null,
      "outputs": [
        {
          "output_type": "execute_result",
          "data": {
            "text/latex": "$\\displaystyle \\left(Q_{1} \\wedge Q_{2}\\right) \\vee \\left(Q_{4} \\wedge \\neg Q_{3}\\right) \\vee \\left(\\neg Q_{1} \\wedge \\neg Q_{2}\\right)$",
            "text/plain": [
              "(Q1 & Q2) | (Q4 & ~Q3) | (~Q1 & ~Q2)"
            ]
          },
          "metadata": {},
          "execution_count": 154
        }
      ]
    },
    {
      "cell_type": "code",
      "source": [
        "#D3 = ~Q1&Q2&Q3&~Q4 | Q1&~Q2&Q3&Q4 | Q1&~Q2&~Q3&~Q4 | ~Q1&Q2&~Q3&~Q4\n",
        "#D3"
      ],
      "metadata": {
        "id": "v9hHVGWI4Hxa"
      },
      "execution_count": null,
      "outputs": []
    },
    {
      "cell_type": "code",
      "source": [
        "#print(sym.simplify_logic(D3, form =\"dnf\"))"
      ],
      "metadata": {
        "id": "AoAlceb8Oacj"
      },
      "execution_count": null,
      "outputs": []
    },
    {
      "cell_type": "code",
      "source": [
        "logic.Kmap(names='1324',\n",
        "           truthtable=[(Parse(To_N_Byte(4,notorder_byte[0]),'1324'),\"X\"),\n",
        "                       (Parse(To_N_Byte(4,notorder_byte[1]),'1324'),\"X\"),\n",
        "                       (Parse(To_N_Byte(4,notorder_byte[2]),'1324'),\"X\"),\n",
        "                       (Parse(To_N_Byte(4,notorder_byte[3]),'1324'),\"X\"),\n",
        "                       (Parse(To_N_Byte(4,notorder_byte[4]),'1324'),\"X\"),\n",
        "                       (Parse(To_N_Byte(4,notorder_byte[5]),'1324'),\"X\"),\n",
        "                       (Parse(To_N_Byte(4,notorder_byte[6]),'1324'),\"X\"),\n",
        "                       (Parse(To_N_Byte(4,notorder_byte[7]),'1324'),\"X\"),\n",
        "                       \n",
        "                       (Parse(minterms_D3[0],'1324'),\"1\"),\n",
        "                       (Parse(minterms_D3[1],'1324'),\"1\"),\n",
        "                       (Parse(minterms_D3[2],'1324'),\"1\"),\n",
        "                       (Parse(minterms_D3[3],'1324'),\"1\"),\n",
        "                       ],\n",
        "           groups={'1.1.':{\"color\":\"red\"},\n",
        "                   '.1.0':{\"color\":\"purple\"},\n",
        "                   '0.0.':{\"color\":\"grey\"},\n",
        "                   }\n",
        "           )"
      ],
      "metadata": {
        "colab": {
          "base_uri": "https://localhost:8080/"
        },
        "id": "x41e6tubFENk",
        "outputId": "492e4b40-1263-48e3-8b7a-3815a0f49c48"
      },
      "execution_count": null,
      "outputs": [
        {
          "output_type": "execute_result",
          "data": {
            "image/png": "[encoded data removed]",
            "text/plain": [
              "<schemdraw.logic.kmap.Kmap at 0x7fb5df94ee90>"
            ],
            "image/svg+xml": "<?xml version=\"1.0\" encoding=\"utf-8\" standalone=\"no\"?>\n<!DOCTYPE svg PUBLIC \"-//W3C//DTD SVG 1.1//EN\"\n  \"http://www.w3.org/Graphics/SVG/1.1/DTD/svg11.dtd\">\n<!-- Created with matplotlib (https://matplotlib.org/) -->\n<svg height=\"182.608101pt\" version=\"1.1\" viewBox=\"0 0 178.681101 182.608101\" width=\"178.681101pt\" xmlns=\"http://www.w3.org/2000/svg\" xmlns:xlink=\"http://www.w3.org/1999/xlink\">\n <defs>\n  <style type=\"text/css\">\n*{stroke-linecap:butt;stroke-linejoin:round;}\n  </style>\n </defs>\n <g id=\"figure_1\">\n  <g id=\"patch_1\">\n   <path d=\"M 0 182.608101 \nL 178.681101 182.608101 \nL 178.681101 0 \nL 0 0 \nz\n\" style=\"fill:#ffffff;\"/>\n  </g>\n  <g id=\"axes_1\">\n   <g id=\"patch_2\">\n    <path clip-path=\"url(#p3d75bc88d8)\" d=\"M 155.926101 166.228101 \nL 156.047475 166.227138 \nL 156.168819 166.224249 \nL 156.290102 166.219436 \nL 156.411294 166.212699 \nL 156.532363 166.20404 \nL 156.653279 166.193461 \nL 156.774013 166.180965 \nL 156.894533 166.166555 \nL 157.014809 166.150235 \nL 157.134811 166.132008 \nL 157.254509 166.11188 \nL 157.373873 166.089855 \nL 157.492872 166.065939 \nL 157.611476 166.040138 \nL 157.729656 166.012459 \nL 157.847383 165.982908 \nL 157.964625 165.951493 \nL 158.081355 165.918222 \nL 158.197541 165.883103 \nL 158.313156 165.846145 \nL 158.428171 165.807357 \nL 158.542555 165.766749 \nL 158.65628 165.724332 \nL 158.769318 165.680115 \nL 158.881641 165.634111 \nL 158.993219 165.58633 \nL 159.104025 165.536785 \nL 159.214032 165.485489 \nL 159.32321 165.432453 \nL 159.431534 165.377692 \nL 159.538974 165.321219 \nL 159.645506 165.263048 \nL 159.751101 165.203195 \nL 159.855733 165.141674 \nL 159.959375 165.0785 \nL 160.062003 165.01369 \nL 160.163589 164.94726 \nL 160.264109 164.879226 \nL 160.363536 164.809607 \nL 160.461846 164.738418 \nL 160.559015 164.665679 \nL 160.655017 164.591407 \nL 160.749829 164.515621 \nL 160.843426 164.438341 \nL 160.935785 164.359585 \nL 161.026883 164.279374 \nL 161.116698 164.197727 \nL 161.205205 164.114666 \nL 161.292384 164.030211 \nL 161.378211 163.944384 \nL 161.462666 163.857205 \nL 161.545727 163.768698 \nL 161.627374 163.678883 \nL 161.707585 163.587785 \nL 161.786341 163.495426 \nL 161.863621 163.401829 \nL 161.939407 163.307017 \nL 162.013679 163.211015 \nL 162.086418 163.113846 \nL 162.157607 163.015536 \nL 162.227226 162.916109 \nL 162.29526 162.815589 \nL 162.36169 162.714003 \nL 162.4265 162.611375 \nL 162.489674 162.507733 \nL 162.551195 162.403101 \nL 162.611048 162.297506 \nL 162.669219 162.190974 \nL 162.725692 162.083534 \nL 162.780453 161.97521 \nL 162.833489 161.866032 \nL 162.884785 161.756025 \nL 162.93433 161.645219 \nL 162.982111 161.533641 \nL 163.028115 161.421318 \nL 163.072332 161.30828 \nL 163.114749 161.194555 \nL 163.155357 161.080171 \nL 163.194145 160.965156 \nL 163.231103 160.849541 \nL 163.266222 160.733355 \nL 163.299493 160.616625 \nL 163.330908 160.499383 \nL 163.360459 160.381656 \nL 163.388138 160.263476 \nL 163.413939 160.144872 \nL 163.437855 160.025873 \nL 163.45988 159.906509 \nL 163.480008 159.786811 \nL 163.498235 159.666809 \nL 163.514555 159.546533 \nL 163.528965 159.426013 \nL 163.541461 159.305279 \nL 163.55204 159.184363 \nL 163.560699 159.063294 \nL 163.567436 158.942102 \nL 163.572249 158.820819 \nL 163.575138 158.699475 \nL 163.576101 158.578101 \nL 163.576101 118.798101 \nL 163.575138 118.676726 \nL 163.572249 118.555382 \nL 163.567436 118.434099 \nL 163.560699 118.312908 \nL 163.55204 118.191838 \nL 163.541461 118.070922 \nL 163.528965 117.950188 \nL 163.514555 117.829668 \nL 163.498235 117.709392 \nL 163.480008 117.58939 \nL 163.45988 117.469692 \nL 163.437855 117.350329 \nL 163.413939 117.23133 \nL 163.388138 117.112725 \nL 163.360459 116.994545 \nL 163.330908 116.876819 \nL 163.299493 116.759576 \nL 163.266222 116.642847 \nL 163.231103 116.52666 \nL 163.194145 116.411045 \nL 163.155357 116.296031 \nL 163.114749 116.181647 \nL 163.072332 116.067921 \nL 163.028115 115.954883 \nL 162.982111 115.84256 \nL 162.93433 115.730982 \nL 162.884785 115.620176 \nL 162.833489 115.51017 \nL 162.780453 115.400991 \nL 162.725692 115.292668 \nL 162.669219 115.185227 \nL 162.611048 115.078696 \nL 162.551195 114.973101 \nL 162.489674 114.868469 \nL 162.4265 114.764826 \nL 162.36169 114.662198 \nL 162.29526 114.560612 \nL 162.227226 114.460093 \nL 162.157607 114.360665 \nL 162.086418 114.262355 \nL 162.013679 114.165187 \nL 161.939407 114.069184 \nL 161.863621 113.974373 \nL 161.786341 113.880775 \nL 161.707585 113.788416 \nL 161.627374 113.697318 \nL 161.545727 113.607504 \nL 161.462666 113.518996 \nL 161.378211 113.431818 \nL 161.292384 113.34599 \nL 161.205205 113.261535 \nL 161.116698 113.178474 \nL 161.026883 113.096828 \nL 160.935785 113.016616 \nL 160.843426 112.937861 \nL 160.749829 112.86058 \nL 160.655017 112.784794 \nL 160.559015 112.710523 \nL 160.461846 112.637783 \nL 160.363536 112.566595 \nL 160.264109 112.496975 \nL 160.163589 112.428941 \nL 160.062003 112.362511 \nL 159.959375 112.297701 \nL 159.855733 112.234528 \nL 159.751101 112.173006 \nL 159.645506 112.113153 \nL 159.538974 112.054982 \nL 159.431534 111.998509 \nL 159.32321 111.943748 \nL 159.214032 111.890713 \nL 159.104025 111.839416 \nL 158.993219 111.789871 \nL 158.881641 111.74209 \nL 158.769318 111.696086 \nL 158.65628 111.651869 \nL 158.542555 111.609452 \nL 158.428171 111.568844 \nL 158.313156 111.530057 \nL 158.197541 111.493098 \nL 158.081355 111.457979 \nL 157.964625 111.424708 \nL 157.847383 111.393293 \nL 157.729656 111.363742 \nL 157.611476 111.336063 \nL 157.492872 111.310262 \nL 157.373873 111.286346 \nL 157.254509 111.264321 \nL 157.134811 111.244193 \nL 157.014809 111.225967 \nL 156.894533 111.209646 \nL 156.774013 111.195236 \nL 156.653279 111.18274 \nL 156.532363 111.172162 \nL 156.411294 111.163503 \nL 156.290102 111.156765 \nL 156.168819 111.151952 \nL 156.047475 111.149064 \nL 155.926101 111.148101 \nL 116.146101 111.148101 \nL 116.024726 111.149064 \nL 115.903382 111.151952 \nL 115.782099 111.156765 \nL 115.660908 111.163503 \nL 115.539838 111.172162 \nL 115.418922 111.18274 \nL 115.298188 111.195236 \nL 115.177668 111.209646 \nL 115.057392 111.225967 \nL 114.93739 111.244193 \nL 114.817692 111.264321 \nL 114.698329 111.286346 \nL 114.57933 111.310262 \nL 114.460725 111.336063 \nL 114.342545 111.363742 \nL 114.224819 111.393293 \nL 114.107576 111.424708 \nL 113.990847 111.457979 \nL 113.87466 111.493098 \nL 113.759045 111.530057 \nL 113.644031 111.568844 \nL 113.529647 111.609452 \nL 113.415921 111.651869 \nL 113.302883 111.696086 \nL 113.19056 111.74209 \nL 113.078982 111.789871 \nL 112.968176 111.839416 \nL 112.85817 111.890713 \nL 112.748991 111.943748 \nL 112.640668 111.998509 \nL 112.533227 112.054982 \nL 112.426696 112.113153 \nL 112.321101 112.173006 \nL 112.216469 112.234528 \nL 112.112826 112.297701 \nL 112.010198 112.362511 \nL 111.908612 112.428941 \nL 111.808093 112.496975 \nL 111.708665 112.566595 \nL 111.610355 112.637783 \nL 111.513187 112.710523 \nL 111.417184 112.784794 \nL 111.322373 112.86058 \nL 111.228775 112.937861 \nL 111.136416 113.016616 \nL 111.045318 113.096828 \nL 110.955504 113.178474 \nL 110.866996 113.261535 \nL 110.779818 113.34599 \nL 110.69399 113.431818 \nL 110.609535 113.518996 \nL 110.526474 113.607504 \nL 110.444828 113.697318 \nL 110.364616 113.788416 \nL 110.285861 113.880775 \nL 110.20858 113.974373 \nL 110.132794 114.069184 \nL 110.058523 114.165187 \nL 109.985783 114.262355 \nL 109.914595 114.360665 \nL 109.844975 114.460093 \nL 109.776941 114.560612 \nL 109.710511 114.662198 \nL 109.645701 114.764826 \nL 109.582528 114.868469 \nL 109.521006 114.973101 \nL 109.461153 115.078696 \nL 109.402982 115.185227 \nL 109.346509 115.292668 \nL 109.291748 115.400991 \nL 109.238713 115.51017 \nL 109.187416 115.620176 \nL 109.137871 115.730982 \nL 109.09009 115.84256 \nL 109.044086 115.954883 \nL 108.999869 116.067921 \nL 108.957452 116.181647 \nL 108.916844 116.296031 \nL 108.878057 116.411045 \nL 108.841098 116.52666 \nL 108.805979 116.642847 \nL 108.772708 116.759576 \nL 108.741293 116.876819 \nL 108.711742 116.994545 \nL 108.684063 117.112725 \nL 108.658262 117.23133 \nL 108.634346 117.350329 \nL 108.612321 117.469692 \nL 108.592193 117.58939 \nL 108.573967 117.709392 \nL 108.557646 117.829668 \nL 108.543236 117.950188 \nL 108.53074 118.070922 \nL 108.520162 118.191838 \nL 108.511503 118.312908 \nL 108.504765 118.434099 \nL 108.499952 118.555382 \nL 108.497064 118.676726 \nL 108.496101 118.798101 \nL 108.496101 158.578101 \nL 108.497064 158.699475 \nL 108.499952 158.820819 \nL 108.504765 158.942102 \nL 108.511503 159.063294 \nL 108.520162 159.184363 \nL 108.53074 159.305279 \nL 108.543236 159.426013 \nL 108.557646 159.546533 \nL 108.573967 159.666809 \nL 108.592193 159.786811 \nL 108.612321 159.906509 \nL 108.634346 160.025873 \nL 108.658262 160.144872 \nL 108.684063 160.263476 \nL 108.711742 160.381656 \nL 108.741293 160.499383 \nL 108.772708 160.616625 \nL 108.805979 160.733355 \nL 108.841098 160.849541 \nL 108.878057 160.965156 \nL 108.916844 161.080171 \nL 108.957452 161.194555 \nL 108.999869 161.30828 \nL 109.044086 161.421318 \nL 109.09009 161.533641 \nL 109.137871 161.645219 \nL 109.187416 161.756025 \nL 109.238713 161.866032 \nL 109.291748 161.97521 \nL 109.346509 162.083534 \nL 109.402982 162.190974 \nL 109.461153 162.297506 \nL 109.521006 162.403101 \nL 109.582528 162.507733 \nL 109.645701 162.611375 \nL 109.710511 162.714003 \nL 109.776941 162.815589 \nL 109.844975 162.916109 \nL 109.914595 163.015536 \nL 109.985783 163.113846 \nL 110.058523 163.211015 \nL 110.132794 163.307017 \nL 110.20858 163.401829 \nL 110.285861 163.495426 \nL 110.364616 163.587785 \nL 110.444828 163.678883 \nL 110.526474 163.768698 \nL 110.609535 163.857205 \nL 110.69399 163.944384 \nL 110.779818 164.030211 \nL 110.866996 164.114666 \nL 110.955504 164.197727 \nL 111.045318 164.279374 \nL 111.136416 164.359585 \nL 111.228775 164.438341 \nL 111.322373 164.515621 \nL 111.417184 164.591407 \nL 111.513187 164.665679 \nL 111.610355 164.738418 \nL 111.708665 164.809607 \nL 111.808093 164.879226 \nL 111.908612 164.94726 \nL 112.010198 165.01369 \nL 112.112826 165.0785 \nL 112.216469 165.141674 \nL 112.321101 165.203195 \nL 112.426696 165.263048 \nL 112.533227 165.321219 \nL 112.640668 165.377692 \nL 112.748991 165.432453 \nL 112.85817 165.485489 \nL 112.968176 165.536785 \nL 113.078982 165.58633 \nL 113.19056 165.634111 \nL 113.302883 165.680115 \nL 113.415921 165.724332 \nL 113.529647 165.766749 \nL 113.644031 165.807357 \nL 113.759045 165.846145 \nL 113.87466 165.883103 \nL 113.990847 165.918222 \nL 114.107576 165.951493 \nL 114.224819 165.982908 \nL 114.342545 166.012459 \nL 114.460725 166.040138 \nL 114.57933 166.065939 \nL 114.698329 166.089855 \nL 114.817692 166.11188 \nL 114.93739 166.132008 \nL 115.057392 166.150235 \nL 115.177668 166.166555 \nL 115.298188 166.180965 \nL 115.418922 166.193461 \nL 115.539838 166.20404 \nL 115.660908 166.212699 \nL 115.782099 166.219436 \nL 115.903382 166.224249 \nL 116.024726 166.227138 \nL 116.146101 166.228101 \nz\n\" style=\"fill:none;stroke:#ff0000;stroke-linecap:round;\"/>\n   </g>\n   <g id=\"patch_3\">\n    <path clip-path=\"url(#p3d75bc88d8)\" d=\"M 125.326101 172.348101 \nL 125.447475 172.347138 \nL 125.568819 172.344249 \nL 125.690102 172.339436 \nL 125.811294 172.332699 \nL 125.932363 172.32404 \nL 126.053279 172.313461 \nL 126.174013 172.300965 \nL 126.294533 172.286555 \nL 126.414809 172.270235 \nL 126.534811 172.252008 \nL 126.654509 172.23188 \nL 126.773873 172.209855 \nL 126.892872 172.185939 \nL 127.011476 172.160138 \nL 127.129656 172.132459 \nL 127.247383 172.102908 \nL 127.364625 172.071493 \nL 127.481355 172.038222 \nL 127.597541 172.003103 \nL 127.713156 171.966145 \nL 127.828171 171.927357 \nL 127.942555 171.886749 \nL 128.05628 171.844332 \nL 128.169318 171.800115 \nL 128.281641 171.754111 \nL 128.393219 171.70633 \nL 128.504025 171.656785 \nL 128.614032 171.605489 \nL 128.72321 171.552453 \nL 128.831534 171.497692 \nL 128.938974 171.441219 \nL 129.045506 171.383048 \nL 129.151101 171.323195 \nL 129.255733 171.261674 \nL 129.359375 171.1985 \nL 129.462003 171.13369 \nL 129.563589 171.06726 \nL 129.664109 170.999226 \nL 129.763536 170.929607 \nL 129.861846 170.858418 \nL 129.959015 170.785679 \nL 130.055017 170.711407 \nL 130.149829 170.635621 \nL 130.243426 170.558341 \nL 130.335785 170.479585 \nL 130.426883 170.399374 \nL 130.516698 170.317727 \nL 130.605205 170.234666 \nL 130.692384 170.150211 \nL 130.778211 170.064384 \nL 130.862666 169.977205 \nL 130.945727 169.888698 \nL 131.027374 169.798883 \nL 131.107585 169.707785 \nL 131.186341 169.615426 \nL 131.263621 169.521829 \nL 131.339407 169.427017 \nL 131.413679 169.331015 \nL 131.486418 169.233846 \nL 131.557607 169.135536 \nL 131.627226 169.036109 \nL 131.69526 168.935589 \nL 131.76169 168.834003 \nL 131.8265 168.731375 \nL 131.889674 168.627733 \nL 131.951195 168.523101 \nL 132.011048 168.417506 \nL 132.069219 168.310974 \nL 132.125692 168.203534 \nL 132.180453 168.09521 \nL 132.233489 167.986032 \nL 132.284785 167.876025 \nL 132.33433 167.765219 \nL 132.382111 167.653641 \nL 132.428115 167.541318 \nL 132.472332 167.42828 \nL 132.514749 167.314555 \nL 132.555357 167.200171 \nL 132.594145 167.085156 \nL 132.631103 166.969541 \nL 132.666222 166.853355 \nL 132.699493 166.736625 \nL 132.730908 166.619383 \nL 132.760459 166.501656 \nL 132.788138 166.383476 \nL 132.813939 166.264872 \nL 132.837855 166.145873 \nL 132.85988 166.026509 \nL 132.880008 165.906811 \nL 132.898235 165.786809 \nL 132.914555 165.666533 \nL 132.928965 165.546013 \nL 132.941461 165.425279 \nL 132.95204 165.304363 \nL 132.960699 165.183294 \nL 132.967436 165.062102 \nL 132.972249 164.940819 \nL 132.975138 164.819475 \nL 132.976101 164.698101 \nL 132.976101 149.398101 \nL 132.975138 149.276726 \nL 132.972249 149.155382 \nL 132.967436 149.034099 \nL 132.960699 148.912908 \nL 132.95204 148.791838 \nL 132.941461 148.670922 \nL 132.928965 148.550188 \nL 132.914555 148.429668 \nL 132.898235 148.309392 \nL 132.880008 148.18939 \nL 132.85988 148.069692 \nL 132.837855 147.950329 \nL 132.813939 147.83133 \nL 132.788138 147.712725 \nL 132.760459 147.594545 \nL 132.730908 147.476819 \nL 132.699493 147.359576 \nL 132.666222 147.242847 \nL 132.631103 147.12666 \nL 132.594145 147.011045 \nL 132.555357 146.896031 \nL 132.514749 146.781647 \nL 132.472332 146.667921 \nL 132.428115 146.554883 \nL 132.382111 146.44256 \nL 132.33433 146.330982 \nL 132.284785 146.220176 \nL 132.233489 146.11017 \nL 132.180453 146.000991 \nL 132.125692 145.892668 \nL 132.069219 145.785227 \nL 132.011048 145.678696 \nL 131.951195 145.573101 \nL 131.889674 145.468469 \nL 131.8265 145.364826 \nL 131.76169 145.262198 \nL 131.69526 145.160612 \nL 131.627226 145.060093 \nL 131.557607 144.960665 \nL 131.486418 144.862355 \nL 131.413679 144.765187 \nL 131.339407 144.669184 \nL 131.263621 144.574373 \nL 131.186341 144.480775 \nL 131.107585 144.388416 \nL 131.027374 144.297318 \nL 130.945727 144.207504 \nL 130.862666 144.118996 \nL 130.778211 144.031818 \nL 130.692384 143.94599 \nL 130.605205 143.861535 \nL 130.516698 143.778474 \nL 130.426883 143.696828 \nL 130.335785 143.616616 \nL 130.243426 143.537861 \nL 130.149829 143.46058 \nL 130.055017 143.384794 \nL 129.959015 143.310523 \nL 129.861846 143.237783 \nL 129.763536 143.166595 \nL 129.664109 143.096975 \nL 129.563589 143.028941 \nL 129.462003 142.962511 \nL 129.359375 142.897701 \nL 129.255733 142.834528 \nL 129.151101 142.773006 \nL 129.045506 142.713153 \nL 128.938974 142.654982 \nL 128.831534 142.598509 \nL 128.72321 142.543748 \nL 128.614032 142.490713 \nL 128.504025 142.439416 \nL 128.393219 142.389871 \nL 128.281641 142.34209 \nL 128.169318 142.296086 \nL 128.05628 142.251869 \nL 127.942555 142.209452 \nL 127.828171 142.168844 \nL 127.713156 142.130057 \nL 127.597541 142.093098 \nL 127.481355 142.057979 \nL 127.364625 142.024708 \nL 127.247383 141.993293 \nL 127.129656 141.963742 \nL 127.011476 141.936063 \nL 126.892872 141.910262 \nL 126.773873 141.886346 \nL 126.654509 141.864321 \nL 126.534811 141.844193 \nL 126.414809 141.825967 \nL 126.294533 141.809646 \nL 126.174013 141.795236 \nL 126.053279 141.78274 \nL 125.932363 141.772162 \nL 125.811294 141.763503 \nL 125.690102 141.756765 \nL 125.568819 141.751952 \nL 125.447475 141.749064 \nL 125.326101 141.748101 \nL 85.546101 141.748101 \nL 85.424726 141.749064 \nL 85.303382 141.751952 \nL 85.182099 141.756765 \nL 85.060908 141.763503 \nL 84.939838 141.772162 \nL 84.818922 141.78274 \nL 84.698188 141.795236 \nL 84.577668 141.809646 \nL 84.457392 141.825967 \nL 84.33739 141.844193 \nL 84.217692 141.864321 \nL 84.098329 141.886346 \nL 83.97933 141.910262 \nL 83.860725 141.936063 \nL 83.742545 141.963742 \nL 83.624819 141.993293 \nL 83.507576 142.024708 \nL 83.390847 142.057979 \nL 83.27466 142.093098 \nL 83.159045 142.130057 \nL 83.044031 142.168844 \nL 82.929647 142.209452 \nL 82.815921 142.251869 \nL 82.702883 142.296086 \nL 82.59056 142.34209 \nL 82.478982 142.389871 \nL 82.368176 142.439416 \nL 82.25817 142.490713 \nL 82.148991 142.543748 \nL 82.040668 142.598509 \nL 81.933227 142.654982 \nL 81.826696 142.713153 \nL 81.721101 142.773006 \nL 81.616469 142.834528 \nL 81.512826 142.897701 \nL 81.410198 142.962511 \nL 81.308612 143.028941 \nL 81.208093 143.096975 \nL 81.108665 143.166595 \nL 81.010355 143.237783 \nL 80.913187 143.310523 \nL 80.817184 143.384794 \nL 80.722373 143.46058 \nL 80.628775 143.537861 \nL 80.536416 143.616616 \nL 80.445318 143.696828 \nL 80.355504 143.778474 \nL 80.266996 143.861535 \nL 80.179818 143.94599 \nL 80.09399 144.031818 \nL 80.009535 144.118996 \nL 79.926474 144.207504 \nL 79.844828 144.297318 \nL 79.764616 144.388416 \nL 79.685861 144.480775 \nL 79.60858 144.574373 \nL 79.532794 144.669184 \nL 79.458523 144.765187 \nL 79.385783 144.862355 \nL 79.314595 144.960665 \nL 79.244975 145.060093 \nL 79.176941 145.160612 \nL 79.110511 145.262198 \nL 79.045701 145.364826 \nL 78.982528 145.468469 \nL 78.921006 145.573101 \nL 78.861153 145.678696 \nL 78.802982 145.785227 \nL 78.746509 145.892668 \nL 78.691748 146.000991 \nL 78.638713 146.11017 \nL 78.587416 146.220176 \nL 78.537871 146.330982 \nL 78.49009 146.44256 \nL 78.444086 146.554883 \nL 78.399869 146.667921 \nL 78.357452 146.781647 \nL 78.316844 146.896031 \nL 78.278057 147.011045 \nL 78.241098 147.12666 \nL 78.205979 147.242847 \nL 78.172708 147.359576 \nL 78.141293 147.476819 \nL 78.111742 147.594545 \nL 78.084063 147.712725 \nL 78.058262 147.83133 \nL 78.034346 147.950329 \nL 78.012321 148.069692 \nL 77.992193 148.18939 \nL 77.973967 148.309392 \nL 77.957646 148.429668 \nL 77.943236 148.550188 \nL 77.93074 148.670922 \nL 77.920162 148.791838 \nL 77.911503 148.912908 \nL 77.904765 149.034099 \nL 77.899952 149.155382 \nL 77.897064 149.276726 \nL 77.896101 149.398101 \nL 77.896101 164.698101 \nL 77.897064 164.819475 \nL 77.899952 164.940819 \nL 77.904765 165.062102 \nL 77.911503 165.183294 \nL 77.920162 165.304363 \nL 77.93074 165.425279 \nL 77.943236 165.546013 \nL 77.957646 165.666533 \nL 77.973967 165.786809 \nL 77.992193 165.906811 \nL 78.012321 166.026509 \nL 78.034346 166.145873 \nL 78.058262 166.264872 \nL 78.084063 166.383476 \nL 78.111742 166.501656 \nL 78.141293 166.619383 \nL 78.172708 166.736625 \nL 78.205979 166.853355 \nL 78.241098 166.969541 \nL 78.278057 167.085156 \nL 78.316844 167.200171 \nL 78.357452 167.314555 \nL 78.399869 167.42828 \nL 78.444086 167.541318 \nL 78.49009 167.653641 \nL 78.537871 167.765219 \nL 78.587416 167.876025 \nL 78.638713 167.986032 \nL 78.691748 168.09521 \nL 78.746509 168.203534 \nL 78.802982 168.310974 \nL 78.861153 168.417506 \nL 78.921006 168.523101 \nL 78.982528 168.627733 \nL 79.045701 168.731375 \nL 79.110511 168.834003 \nL 79.176941 168.935589 \nL 79.244975 169.036109 \nL 79.314595 169.135536 \nL 79.385783 169.233846 \nL 79.458523 169.331015 \nL 79.532794 169.427017 \nL 79.60858 169.521829 \nL 79.685861 169.615426 \nL 79.764616 169.707785 \nL 79.844828 169.798883 \nL 79.926474 169.888698 \nL 80.009535 169.977205 \nL 80.09399 170.064384 \nL 80.179818 170.150211 \nL 80.266996 170.234666 \nL 80.355504 170.317727 \nL 80.445318 170.399374 \nL 80.536416 170.479585 \nL 80.628775 170.558341 \nL 80.722373 170.635621 \nL 80.817184 170.711407 \nL 80.913187 170.785679 \nL 81.010355 170.858418 \nL 81.108665 170.929607 \nL 81.208093 170.999226 \nL 81.308612 171.06726 \nL 81.410198 171.13369 \nL 81.512826 171.1985 \nL 81.616469 171.261674 \nL 81.721101 171.323195 \nL 81.826696 171.383048 \nL 81.933227 171.441219 \nL 82.040668 171.497692 \nL 82.148991 171.552453 \nL 82.25817 171.605489 \nL 82.368176 171.656785 \nL 82.478982 171.70633 \nL 82.59056 171.754111 \nL 82.702883 171.800115 \nL 82.815921 171.844332 \nL 82.929647 171.886749 \nL 83.044031 171.927357 \nL 83.159045 171.966145 \nL 83.27466 172.003103 \nL 83.390847 172.038222 \nL 83.507576 172.071493 \nL 83.624819 172.102908 \nL 83.742545 172.132459 \nL 83.860725 172.160138 \nL 83.97933 172.185939 \nL 84.098329 172.209855 \nL 84.217692 172.23188 \nL 84.33739 172.252008 \nL 84.457392 172.270235 \nL 84.577668 172.286555 \nL 84.698188 172.300965 \nL 84.818922 172.313461 \nL 84.939838 172.32404 \nL 85.060908 172.332699 \nL 85.182099 172.339436 \nL 85.303382 172.344249 \nL 85.424726 172.347138 \nL 85.546101 172.348101 \nz\n\" style=\"fill:none;stroke:#800080;stroke-linecap:round;\"/>\n   </g>\n   <g id=\"patch_4\">\n    <path clip-path=\"url(#p3d75bc88d8)\" d=\"M 125.326101 74.428101 \nL 125.447475 74.427138 \nL 125.568819 74.424249 \nL 125.690102 74.419436 \nL 125.811294 74.412699 \nL 125.932363 74.40404 \nL 126.053279 74.393461 \nL 126.174013 74.380965 \nL 126.294533 74.366555 \nL 126.414809 74.350235 \nL 126.534811 74.332008 \nL 126.654509 74.31188 \nL 126.773873 74.289855 \nL 126.892872 74.265939 \nL 127.011476 74.240138 \nL 127.129656 74.212459 \nL 127.247383 74.182908 \nL 127.364625 74.151493 \nL 127.481355 74.118222 \nL 127.597541 74.083103 \nL 127.713156 74.046145 \nL 127.828171 74.007357 \nL 127.942555 73.966749 \nL 128.05628 73.924332 \nL 128.169318 73.880115 \nL 128.281641 73.834111 \nL 128.393219 73.78633 \nL 128.504025 73.736785 \nL 128.614032 73.685489 \nL 128.72321 73.632453 \nL 128.831534 73.577692 \nL 128.938974 73.521219 \nL 129.045506 73.463048 \nL 129.151101 73.403195 \nL 129.255733 73.341674 \nL 129.359375 73.2785 \nL 129.462003 73.21369 \nL 129.563589 73.14726 \nL 129.664109 73.079226 \nL 129.763536 73.009607 \nL 129.861846 72.938418 \nL 129.959015 72.865679 \nL 130.055017 72.791407 \nL 130.149829 72.715621 \nL 130.243426 72.638341 \nL 130.335785 72.559585 \nL 130.426883 72.479374 \nL 130.516698 72.397727 \nL 130.605205 72.314666 \nL 130.692384 72.230211 \nL 130.778211 72.144384 \nL 130.862666 72.057205 \nL 130.945727 71.968698 \nL 131.027374 71.878883 \nL 131.107585 71.787785 \nL 131.186341 71.695426 \nL 131.263621 71.601829 \nL 131.339407 71.507017 \nL 131.413679 71.411015 \nL 131.486418 71.313846 \nL 131.557607 71.215536 \nL 131.627226 71.116109 \nL 131.69526 71.015589 \nL 131.76169 70.914003 \nL 131.8265 70.811375 \nL 131.889674 70.707733 \nL 131.951195 70.603101 \nL 132.011048 70.497506 \nL 132.069219 70.390974 \nL 132.125692 70.283534 \nL 132.180453 70.17521 \nL 132.233489 70.066032 \nL 132.284785 69.956025 \nL 132.33433 69.845219 \nL 132.382111 69.733641 \nL 132.428115 69.621318 \nL 132.472332 69.50828 \nL 132.514749 69.394555 \nL 132.555357 69.280171 \nL 132.594145 69.165156 \nL 132.631103 69.049541 \nL 132.666222 68.933355 \nL 132.699493 68.816625 \nL 132.730908 68.699383 \nL 132.760459 68.581656 \nL 132.788138 68.463476 \nL 132.813939 68.344872 \nL 132.837855 68.225873 \nL 132.85988 68.106509 \nL 132.880008 67.986811 \nL 132.898235 67.866809 \nL 132.914555 67.746533 \nL 132.928965 67.626013 \nL 132.941461 67.505279 \nL 132.95204 67.384363 \nL 132.960699 67.263294 \nL 132.967436 67.142102 \nL 132.972249 67.020819 \nL 132.975138 66.899475 \nL 132.976101 66.778101 \nL 132.976101 51.478101 \nL 132.975138 51.356726 \nL 132.972249 51.235382 \nL 132.967436 51.114099 \nL 132.960699 50.992908 \nL 132.95204 50.871838 \nL 132.941461 50.750922 \nL 132.928965 50.630188 \nL 132.914555 50.509668 \nL 132.898235 50.389392 \nL 132.880008 50.26939 \nL 132.85988 50.149692 \nL 132.837855 50.030329 \nL 132.813939 49.91133 \nL 132.788138 49.792725 \nL 132.760459 49.674545 \nL 132.730908 49.556819 \nL 132.699493 49.439576 \nL 132.666222 49.322847 \nL 132.631103 49.20666 \nL 132.594145 49.091045 \nL 132.555357 48.976031 \nL 132.514749 48.861647 \nL 132.472332 48.747921 \nL 132.428115 48.634883 \nL 132.382111 48.52256 \nL 132.33433 48.410982 \nL 132.284785 48.300176 \nL 132.233489 48.19017 \nL 132.180453 48.080991 \nL 132.125692 47.972668 \nL 132.069219 47.865227 \nL 132.011048 47.758696 \nL 131.951195 47.653101 \nL 131.889674 47.548469 \nL 131.8265 47.444826 \nL 131.76169 47.342198 \nL 131.69526 47.240612 \nL 131.627226 47.140093 \nL 131.557607 47.040665 \nL 131.486418 46.942355 \nL 131.413679 46.845187 \nL 131.339407 46.749184 \nL 131.263621 46.654373 \nL 131.186341 46.560775 \nL 131.107585 46.468416 \nL 131.027374 46.377318 \nL 130.945727 46.287504 \nL 130.862666 46.198996 \nL 130.778211 46.111818 \nL 130.692384 46.02599 \nL 130.605205 45.941535 \nL 130.516698 45.858474 \nL 130.426883 45.776828 \nL 130.335785 45.696616 \nL 130.243426 45.617861 \nL 130.149829 45.54058 \nL 130.055017 45.464794 \nL 129.959015 45.390523 \nL 129.861846 45.317783 \nL 129.763536 45.246595 \nL 129.664109 45.176975 \nL 129.563589 45.108941 \nL 129.462003 45.042511 \nL 129.359375 44.977701 \nL 129.255733 44.914528 \nL 129.151101 44.853006 \nL 129.045506 44.793153 \nL 128.938974 44.734982 \nL 128.831534 44.678509 \nL 128.72321 44.623748 \nL 128.614032 44.570713 \nL 128.504025 44.519416 \nL 128.393219 44.469871 \nL 128.281641 44.42209 \nL 128.169318 44.376086 \nL 128.05628 44.331869 \nL 127.942555 44.289452 \nL 127.828171 44.248844 \nL 127.713156 44.210057 \nL 127.597541 44.173098 \nL 127.481355 44.137979 \nL 127.364625 44.104708 \nL 127.247383 44.073293 \nL 127.129656 44.043742 \nL 127.011476 44.016063 \nL 126.892872 43.990262 \nL 126.773873 43.966346 \nL 126.654509 43.944321 \nL 126.534811 43.924193 \nL 126.414809 43.905967 \nL 126.294533 43.889646 \nL 126.174013 43.875236 \nL 126.053279 43.86274 \nL 125.932363 43.852162 \nL 125.811294 43.843503 \nL 125.690102 43.836765 \nL 125.568819 43.831952 \nL 125.447475 43.829064 \nL 125.326101 43.828101 \nL 85.546101 43.828101 \nL 85.424726 43.829064 \nL 85.303382 43.831952 \nL 85.182099 43.836765 \nL 85.060908 43.843503 \nL 84.939838 43.852162 \nL 84.818922 43.86274 \nL 84.698188 43.875236 \nL 84.577668 43.889646 \nL 84.457392 43.905967 \nL 84.33739 43.924193 \nL 84.217692 43.944321 \nL 84.098329 43.966346 \nL 83.97933 43.990262 \nL 83.860725 44.016063 \nL 83.742545 44.043742 \nL 83.624819 44.073293 \nL 83.507576 44.104708 \nL 83.390847 44.137979 \nL 83.27466 44.173098 \nL 83.159045 44.210057 \nL 83.044031 44.248844 \nL 82.929647 44.289452 \nL 82.815921 44.331869 \nL 82.702883 44.376086 \nL 82.59056 44.42209 \nL 82.478982 44.469871 \nL 82.368176 44.519416 \nL 82.25817 44.570713 \nL 82.148991 44.623748 \nL 82.040668 44.678509 \nL 81.933227 44.734982 \nL 81.826696 44.793153 \nL 81.721101 44.853006 \nL 81.616469 44.914528 \nL 81.512826 44.977701 \nL 81.410198 45.042511 \nL 81.308612 45.108941 \nL 81.208093 45.176975 \nL 81.108665 45.246595 \nL 81.010355 45.317783 \nL 80.913187 45.390523 \nL 80.817184 45.464794 \nL 80.722373 45.54058 \nL 80.628775 45.617861 \nL 80.536416 45.696616 \nL 80.445318 45.776828 \nL 80.355504 45.858474 \nL 80.266996 45.941535 \nL 80.179818 46.02599 \nL 80.09399 46.111818 \nL 80.009535 46.198996 \nL 79.926474 46.287504 \nL 79.844828 46.377318 \nL 79.764616 46.468416 \nL 79.685861 46.560775 \nL 79.60858 46.654373 \nL 79.532794 46.749184 \nL 79.458523 46.845187 \nL 79.385783 46.942355 \nL 79.314595 47.040665 \nL 79.244975 47.140093 \nL 79.176941 47.240612 \nL 79.110511 47.342198 \nL 79.045701 47.444826 \nL 78.982528 47.548469 \nL 78.921006 47.653101 \nL 78.861153 47.758696 \nL 78.802982 47.865227 \nL 78.746509 47.972668 \nL 78.691748 48.080991 \nL 78.638713 48.19017 \nL 78.587416 48.300176 \nL 78.537871 48.410982 \nL 78.49009 48.52256 \nL 78.444086 48.634883 \nL 78.399869 48.747921 \nL 78.357452 48.861647 \nL 78.316844 48.976031 \nL 78.278057 49.091045 \nL 78.241098 49.20666 \nL 78.205979 49.322847 \nL 78.172708 49.439576 \nL 78.141293 49.556819 \nL 78.111742 49.674545 \nL 78.084063 49.792725 \nL 78.058262 49.91133 \nL 78.034346 50.030329 \nL 78.012321 50.149692 \nL 77.992193 50.26939 \nL 77.973967 50.389392 \nL 77.957646 50.509668 \nL 77.943236 50.630188 \nL 77.93074 50.750922 \nL 77.920162 50.871838 \nL 77.911503 50.992908 \nL 77.904765 51.114099 \nL 77.899952 51.235382 \nL 77.897064 51.356726 \nL 77.896101 51.478101 \nL 77.896101 66.778101 \nL 77.897064 66.899475 \nL 77.899952 67.020819 \nL 77.904765 67.142102 \nL 77.911503 67.263294 \nL 77.920162 67.384363 \nL 77.93074 67.505279 \nL 77.943236 67.626013 \nL 77.957646 67.746533 \nL 77.973967 67.866809 \nL 77.992193 67.986811 \nL 78.012321 68.106509 \nL 78.034346 68.225873 \nL 78.058262 68.344872 \nL 78.084063 68.463476 \nL 78.111742 68.581656 \nL 78.141293 68.699383 \nL 78.172708 68.816625 \nL 78.205979 68.933355 \nL 78.241098 69.049541 \nL 78.278057 69.165156 \nL 78.316844 69.280171 \nL 78.357452 69.394555 \nL 78.399869 69.50828 \nL 78.444086 69.621318 \nL 78.49009 69.733641 \nL 78.537871 69.845219 \nL 78.587416 69.956025 \nL 78.638713 70.066032 \nL 78.691748 70.17521 \nL 78.746509 70.283534 \nL 78.802982 70.390974 \nL 78.861153 70.497506 \nL 78.921006 70.603101 \nL 78.982528 70.707733 \nL 79.045701 70.811375 \nL 79.110511 70.914003 \nL 79.176941 71.015589 \nL 79.244975 71.116109 \nL 79.314595 71.215536 \nL 79.385783 71.313846 \nL 79.458523 71.411015 \nL 79.532794 71.507017 \nL 79.60858 71.601829 \nL 79.685861 71.695426 \nL 79.764616 71.787785 \nL 79.844828 71.878883 \nL 79.926474 71.968698 \nL 80.009535 72.057205 \nL 80.09399 72.144384 \nL 80.179818 72.230211 \nL 80.266996 72.314666 \nL 80.355504 72.397727 \nL 80.445318 72.479374 \nL 80.536416 72.559585 \nL 80.628775 72.638341 \nL 80.722373 72.715621 \nL 80.817184 72.791407 \nL 80.913187 72.865679 \nL 81.010355 72.938418 \nL 81.108665 73.009607 \nL 81.208093 73.079226 \nL 81.308612 73.14726 \nL 81.410198 73.21369 \nL 81.512826 73.2785 \nL 81.616469 73.341674 \nL 81.721101 73.403195 \nL 81.826696 73.463048 \nL 81.933227 73.521219 \nL 82.040668 73.577692 \nL 82.148991 73.632453 \nL 82.25817 73.685489 \nL 82.368176 73.736785 \nL 82.478982 73.78633 \nL 82.59056 73.834111 \nL 82.702883 73.880115 \nL 82.815921 73.924332 \nL 82.929647 73.966749 \nL 83.044031 74.007357 \nL 83.159045 74.046145 \nL 83.27466 74.083103 \nL 83.390847 74.118222 \nL 83.507576 74.151493 \nL 83.624819 74.182908 \nL 83.742545 74.212459 \nL 83.860725 74.240138 \nL 83.97933 74.265939 \nL 84.098329 74.289855 \nL 84.217692 74.31188 \nL 84.33739 74.332008 \nL 84.457392 74.350235 \nL 84.577668 74.366555 \nL 84.698188 74.380965 \nL 84.818922 74.393461 \nL 84.939838 74.40404 \nL 85.060908 74.412699 \nL 85.182099 74.419436 \nL 85.303382 74.424249 \nL 85.424726 74.427138 \nL 85.546101 74.428101 \nz\n\" style=\"fill:none;stroke:#800080;stroke-linecap:round;\"/>\n   </g>\n   <g id=\"patch_5\">\n    <path clip-path=\"url(#p3d75bc88d8)\" d=\"M 94.726101 105.028101 \nL 94.847475 105.027138 \nL 94.968819 105.024249 \nL 95.090102 105.019436 \nL 95.211294 105.012699 \nL 95.332363 105.00404 \nL 95.453279 104.993461 \nL 95.574013 104.980965 \nL 95.694533 104.966555 \nL 95.814809 104.950235 \nL 95.934811 104.932008 \nL 96.054509 104.91188 \nL 96.173873 104.889855 \nL 96.292872 104.865939 \nL 96.411476 104.840138 \nL 96.529656 104.812459 \nL 96.647383 104.782908 \nL 96.764625 104.751493 \nL 96.881355 104.718222 \nL 96.997541 104.683103 \nL 97.113156 104.646145 \nL 97.228171 104.607357 \nL 97.342555 104.566749 \nL 97.45628 104.524332 \nL 97.569318 104.480115 \nL 97.681641 104.434111 \nL 97.793219 104.38633 \nL 97.904025 104.336785 \nL 98.014032 104.285489 \nL 98.12321 104.232453 \nL 98.231534 104.177692 \nL 98.338974 104.121219 \nL 98.445506 104.063048 \nL 98.551101 104.003195 \nL 98.655733 103.941674 \nL 98.759375 103.8785 \nL 98.862003 103.81369 \nL 98.963589 103.74726 \nL 99.064109 103.679226 \nL 99.163536 103.609607 \nL 99.261846 103.538418 \nL 99.359015 103.465679 \nL 99.455017 103.391407 \nL 99.549829 103.315621 \nL 99.643426 103.238341 \nL 99.735785 103.159585 \nL 99.826883 103.079374 \nL 99.916698 102.997727 \nL 100.005205 102.914666 \nL 100.092384 102.830211 \nL 100.178211 102.744384 \nL 100.262666 102.657205 \nL 100.345727 102.568698 \nL 100.427374 102.478883 \nL 100.507585 102.387785 \nL 100.586341 102.295426 \nL 100.663621 102.201829 \nL 100.739407 102.107017 \nL 100.813679 102.011015 \nL 100.886418 101.913846 \nL 100.957607 101.815536 \nL 101.027226 101.716109 \nL 101.09526 101.615589 \nL 101.16169 101.514003 \nL 101.2265 101.411375 \nL 101.289674 101.307733 \nL 101.351195 101.203101 \nL 101.411048 101.097506 \nL 101.469219 100.990974 \nL 101.525692 100.883534 \nL 101.580453 100.77521 \nL 101.633489 100.666032 \nL 101.684785 100.556025 \nL 101.73433 100.445219 \nL 101.782111 100.333641 \nL 101.828115 100.221318 \nL 101.872332 100.10828 \nL 101.914749 99.994555 \nL 101.955357 99.880171 \nL 101.994145 99.765156 \nL 102.031103 99.649541 \nL 102.066222 99.533355 \nL 102.099493 99.416625 \nL 102.130908 99.299383 \nL 102.160459 99.181656 \nL 102.188138 99.063476 \nL 102.213939 98.944872 \nL 102.237855 98.825873 \nL 102.25988 98.706509 \nL 102.280008 98.586811 \nL 102.298235 98.466809 \nL 102.314555 98.346533 \nL 102.328965 98.226013 \nL 102.341461 98.105279 \nL 102.35204 97.984363 \nL 102.360699 97.863294 \nL 102.367436 97.742102 \nL 102.372249 97.620819 \nL 102.375138 97.499475 \nL 102.376101 97.378101 \nL 102.376101 57.598101 \nL 102.375138 57.476726 \nL 102.372249 57.355382 \nL 102.367436 57.234099 \nL 102.360699 57.112908 \nL 102.35204 56.991838 \nL 102.341461 56.870922 \nL 102.328965 56.750188 \nL 102.314555 56.629668 \nL 102.298235 56.509392 \nL 102.280008 56.38939 \nL 102.25988 56.269692 \nL 102.237855 56.150329 \nL 102.213939 56.03133 \nL 102.188138 55.912725 \nL 102.160459 55.794545 \nL 102.130908 55.676819 \nL 102.099493 55.559576 \nL 102.066222 55.442847 \nL 102.031103 55.32666 \nL 101.994145 55.211045 \nL 101.955357 55.096031 \nL 101.914749 54.981647 \nL 101.872332 54.867921 \nL 101.828115 54.754883 \nL 101.782111 54.64256 \nL 101.73433 54.530982 \nL 101.684785 54.420176 \nL 101.633489 54.31017 \nL 101.580453 54.200991 \nL 101.525692 54.092668 \nL 101.469219 53.985227 \nL 101.411048 53.878696 \nL 101.351195 53.773101 \nL 101.289674 53.668469 \nL 101.2265 53.564826 \nL 101.16169 53.462198 \nL 101.09526 53.360612 \nL 101.027226 53.260093 \nL 100.957607 53.160665 \nL 100.886418 53.062355 \nL 100.813679 52.965187 \nL 100.739407 52.869184 \nL 100.663621 52.774373 \nL 100.586341 52.680775 \nL 100.507585 52.588416 \nL 100.427374 52.497318 \nL 100.345727 52.407504 \nL 100.262666 52.318996 \nL 100.178211 52.231818 \nL 100.092384 52.14599 \nL 100.005205 52.061535 \nL 99.916698 51.978474 \nL 99.826883 51.896828 \nL 99.735785 51.816616 \nL 99.643426 51.737861 \nL 99.549829 51.66058 \nL 99.455017 51.584794 \nL 99.359015 51.510523 \nL 99.261846 51.437783 \nL 99.163536 51.366595 \nL 99.064109 51.296975 \nL 98.963589 51.228941 \nL 98.862003 51.162511 \nL 98.759375 51.097701 \nL 98.655733 51.034528 \nL 98.551101 50.973006 \nL 98.445506 50.913153 \nL 98.338974 50.854982 \nL 98.231534 50.798509 \nL 98.12321 50.743748 \nL 98.014032 50.690713 \nL 97.904025 50.639416 \nL 97.793219 50.589871 \nL 97.681641 50.54209 \nL 97.569318 50.496086 \nL 97.45628 50.451869 \nL 97.342555 50.409452 \nL 97.228171 50.368844 \nL 97.113156 50.330057 \nL 96.997541 50.293098 \nL 96.881355 50.257979 \nL 96.764625 50.224708 \nL 96.647383 50.193293 \nL 96.529656 50.163742 \nL 96.411476 50.136063 \nL 96.292872 50.110262 \nL 96.173873 50.086346 \nL 96.054509 50.064321 \nL 95.934811 50.044193 \nL 95.814809 50.025967 \nL 95.694533 50.009646 \nL 95.574013 49.995236 \nL 95.453279 49.98274 \nL 95.332363 49.972162 \nL 95.211294 49.963503 \nL 95.090102 49.956765 \nL 94.968819 49.951952 \nL 94.847475 49.949064 \nL 94.726101 49.948101 \nL 54.946101 49.948101 \nL 54.824726 49.949064 \nL 54.703382 49.951952 \nL 54.582099 49.956765 \nL 54.460908 49.963503 \nL 54.339838 49.972162 \nL 54.218922 49.98274 \nL 54.098188 49.995236 \nL 53.977668 50.009646 \nL 53.857392 50.025967 \nL 53.73739 50.044193 \nL 53.617692 50.064321 \nL 53.498329 50.086346 \nL 53.37933 50.110262 \nL 53.260725 50.136063 \nL 53.142545 50.163742 \nL 53.024819 50.193293 \nL 52.907576 50.224708 \nL 52.790847 50.257979 \nL 52.67466 50.293098 \nL 52.559045 50.330057 \nL 52.444031 50.368844 \nL 52.329647 50.409452 \nL 52.215921 50.451869 \nL 52.102883 50.496086 \nL 51.99056 50.54209 \nL 51.878982 50.589871 \nL 51.768176 50.639416 \nL 51.65817 50.690713 \nL 51.548991 50.743748 \nL 51.440668 50.798509 \nL 51.333227 50.854982 \nL 51.226696 50.913153 \nL 51.121101 50.973006 \nL 51.016469 51.034528 \nL 50.912826 51.097701 \nL 50.810198 51.162511 \nL 50.708612 51.228941 \nL 50.608093 51.296975 \nL 50.508665 51.366595 \nL 50.410355 51.437783 \nL 50.313187 51.510523 \nL 50.217184 51.584794 \nL 50.122373 51.66058 \nL 50.028775 51.737861 \nL 49.936416 51.816616 \nL 49.845318 51.896828 \nL 49.755504 51.978474 \nL 49.666996 52.061535 \nL 49.579818 52.14599 \nL 49.49399 52.231818 \nL 49.409535 52.318996 \nL 49.326474 52.407504 \nL 49.244828 52.497318 \nL 49.164616 52.588416 \nL 49.085861 52.680775 \nL 49.00858 52.774373 \nL 48.932794 52.869184 \nL 48.858523 52.965187 \nL 48.785783 53.062355 \nL 48.714595 53.160665 \nL 48.644975 53.260093 \nL 48.576941 53.360612 \nL 48.510511 53.462198 \nL 48.445701 53.564826 \nL 48.382528 53.668469 \nL 48.321006 53.773101 \nL 48.261153 53.878696 \nL 48.202982 53.985227 \nL 48.146509 54.092668 \nL 48.091748 54.200991 \nL 48.038713 54.31017 \nL 47.987416 54.420176 \nL 47.937871 54.530982 \nL 47.89009 54.64256 \nL 47.844086 54.754883 \nL 47.799869 54.867921 \nL 47.757452 54.981647 \nL 47.716844 55.096031 \nL 47.678057 55.211045 \nL 47.641098 55.32666 \nL 47.605979 55.442847 \nL 47.572708 55.559576 \nL 47.541293 55.676819 \nL 47.511742 55.794545 \nL 47.484063 55.912725 \nL 47.458262 56.03133 \nL 47.434346 56.150329 \nL 47.412321 56.269692 \nL 47.392193 56.38939 \nL 47.373967 56.509392 \nL 47.357646 56.629668 \nL 47.343236 56.750188 \nL 47.33074 56.870922 \nL 47.320162 56.991838 \nL 47.311503 57.112908 \nL 47.304765 57.234099 \nL 47.299952 57.355382 \nL 47.297064 57.476726 \nL 47.296101 57.598101 \nL 47.296101 97.378101 \nL 47.297064 97.499475 \nL 47.299952 97.620819 \nL 47.304765 97.742102 \nL 47.311503 97.863294 \nL 47.320162 97.984363 \nL 47.33074 98.105279 \nL 47.343236 98.226013 \nL 47.357646 98.346533 \nL 47.373967 98.466809 \nL 47.392193 98.586811 \nL 47.412321 98.706509 \nL 47.434346 98.825873 \nL 47.458262 98.944872 \nL 47.484063 99.063476 \nL 47.511742 99.181656 \nL 47.541293 99.299383 \nL 47.572708 99.416625 \nL 47.605979 99.533355 \nL 47.641098 99.649541 \nL 47.678057 99.765156 \nL 47.716844 99.880171 \nL 47.757452 99.994555 \nL 47.799869 100.10828 \nL 47.844086 100.221318 \nL 47.89009 100.333641 \nL 47.937871 100.445219 \nL 47.987416 100.556025 \nL 48.038713 100.666032 \nL 48.091748 100.77521 \nL 48.146509 100.883534 \nL 48.202982 100.990974 \nL 48.261153 101.097506 \nL 48.321006 101.203101 \nL 48.382528 101.307733 \nL 48.445701 101.411375 \nL 48.510511 101.514003 \nL 48.576941 101.615589 \nL 48.644975 101.716109 \nL 48.714595 101.815536 \nL 48.785783 101.913846 \nL 48.858523 102.011015 \nL 48.932794 102.107017 \nL 49.00858 102.201829 \nL 49.085861 102.295426 \nL 49.164616 102.387785 \nL 49.244828 102.478883 \nL 49.326474 102.568698 \nL 49.409535 102.657205 \nL 49.49399 102.744384 \nL 49.579818 102.830211 \nL 49.666996 102.914666 \nL 49.755504 102.997727 \nL 49.845318 103.079374 \nL 49.936416 103.159585 \nL 50.028775 103.238341 \nL 50.122373 103.315621 \nL 50.217184 103.391407 \nL 50.313187 103.465679 \nL 50.410355 103.538418 \nL 50.508665 103.609607 \nL 50.608093 103.679226 \nL 50.708612 103.74726 \nL 50.810198 103.81369 \nL 50.912826 103.8785 \nL 51.016469 103.941674 \nL 51.121101 104.003195 \nL 51.226696 104.063048 \nL 51.333227 104.121219 \nL 51.440668 104.177692 \nL 51.548991 104.232453 \nL 51.65817 104.285489 \nL 51.768176 104.336785 \nL 51.878982 104.38633 \nL 51.99056 104.434111 \nL 52.102883 104.480115 \nL 52.215921 104.524332 \nL 52.329647 104.566749 \nL 52.444031 104.607357 \nL 52.559045 104.646145 \nL 52.67466 104.683103 \nL 52.790847 104.718222 \nL 52.907576 104.751493 \nL 53.024819 104.782908 \nL 53.142545 104.812459 \nL 53.260725 104.840138 \nL 53.37933 104.865939 \nL 53.498329 104.889855 \nL 53.617692 104.91188 \nL 53.73739 104.932008 \nL 53.857392 104.950235 \nL 53.977668 104.966555 \nL 54.098188 104.980965 \nL 54.218922 104.993461 \nL 54.339838 105.00404 \nL 54.460908 105.012699 \nL 54.582099 105.019436 \nL 54.703382 105.024249 \nL 54.824726 105.027138 \nL 54.946101 105.028101 \nz\n\" style=\"fill:none;stroke:#808080;stroke-linecap:round;\"/>\n   </g>\n   <g id=\"line2d_1\">\n    <path clip-path=\"url(#p3d75bc88d8)\" d=\"M 44.236101 169.288101 \nL 166.636101 169.288101 \nL 166.636101 46.888101 \nL 44.236101 46.888101 \nL 44.236101 169.288101 \n\" style=\"fill:none;stroke:#000000;stroke-linecap:round;stroke-width:1.25;\"/>\n   </g>\n   <g id=\"line2d_2\">\n    <path clip-path=\"url(#p3d75bc88d8)\" d=\"M 44.236101 169.288101 \nL 166.636101 169.288101 \n\" style=\"fill:none;stroke:#000000;stroke-linecap:round;stroke-width:1.25;\"/>\n   </g>\n   <g id=\"line2d_3\">\n    <path clip-path=\"url(#p3d75bc88d8)\" d=\"M 44.236101 138.688101 \nL 166.636101 138.688101 \n\" style=\"fill:none;stroke:#000000;stroke-linecap:round;stroke-width:1.25;\"/>\n   </g>\n   <g id=\"line2d_4\">\n    <path clip-path=\"url(#p3d75bc88d8)\" d=\"M 44.236101 108.088101 \nL 166.636101 108.088101 \n\" style=\"fill:none;stroke:#000000;stroke-linecap:round;stroke-width:1.25;\"/>\n   </g>\n   <g id=\"line2d_5\">\n    <path clip-path=\"url(#p3d75bc88d8)\" d=\"M 44.236101 77.488101 \nL 166.636101 77.488101 \n\" style=\"fill:none;stroke:#000000;stroke-linecap:round;stroke-width:1.25;\"/>\n   </g>\n   <g id=\"line2d_6\">\n    <path clip-path=\"url(#p3d75bc88d8)\" d=\"M 44.236101 169.288101 \nL 44.236101 46.888101 \n\" style=\"fill:none;stroke:#000000;stroke-linecap:round;stroke-width:1.25;\"/>\n   </g>\n   <g id=\"line2d_7\">\n    <path clip-path=\"url(#p3d75bc88d8)\" d=\"M 74.836101 169.288101 \nL 74.836101 46.888101 \n\" style=\"fill:none;stroke:#000000;stroke-linecap:round;stroke-width:1.25;\"/>\n   </g>\n   <g id=\"line2d_8\">\n    <path clip-path=\"url(#p3d75bc88d8)\" d=\"M 105.436101 169.288101 \nL 105.436101 46.888101 \n\" style=\"fill:none;stroke:#000000;stroke-linecap:round;stroke-width:1.25;\"/>\n   </g>\n   <g id=\"line2d_9\">\n    <path clip-path=\"url(#p3d75bc88d8)\" d=\"M 136.036101 169.288101 \nL 136.036101 46.888101 \n\" style=\"fill:none;stroke:#000000;stroke-linecap:round;stroke-width:1.25;\"/>\n   </g>\n   <g id=\"line2d_10\">\n    <path clip-path=\"url(#p3d75bc88d8)\" d=\"M 44.236101 46.888101 \nL 22.598633 25.250633 \n\" style=\"fill:none;stroke:#000000;stroke-linecap:round;stroke-width:1.25;\"/>\n   </g>\n   <g id=\"text_1\">\n    <g clip-path=\"url(#p3d75bc88d8)\">\n     <!-- 13 -->\n     <defs>\n      <path d=\"M 12.40625 8.296875 \nL 28.515625 8.296875 \nL 28.515625 63.921875 \nL 10.984375 60.40625 \nL 10.984375 69.390625 \nL 28.421875 72.90625 \nL 38.28125 72.90625 \nL 38.28125 8.296875 \nL 54.390625 8.296875 \nL 54.390625 0 \nL 12.40625 0 \nz\n\" id=\"DejaVuSans-49\"/>\n      <path d=\"M 40.578125 39.3125 \nQ 47.65625 37.796875 51.625 33 \nQ 55.609375 28.21875 55.609375 21.1875 \nQ 55.609375 10.40625 48.1875 4.484375 \nQ 40.765625 -1.421875 27.09375 -1.421875 \nQ 22.515625 -1.421875 17.65625 -0.515625 \nQ 12.796875 0.390625 7.625 2.203125 \nL 7.625 11.71875 \nQ 11.71875 9.328125 16.59375 8.109375 \nQ 21.484375 6.890625 26.8125 6.890625 \nQ 36.078125 6.890625 40.9375 10.546875 \nQ 45.796875 14.203125 45.796875 21.1875 \nQ 45.796875 27.640625 41.28125 31.265625 \nQ 36.765625 34.90625 28.71875 34.90625 \nL 20.21875 34.90625 \nL 20.21875 43.015625 \nL 29.109375 43.015625 \nQ 36.375 43.015625 40.234375 45.921875 \nQ 44.09375 48.828125 44.09375 54.296875 \nQ 44.09375 59.90625 40.109375 62.90625 \nQ 36.140625 65.921875 28.71875 65.921875 \nQ 24.65625 65.921875 20.015625 65.03125 \nQ 15.375 64.15625 9.8125 62.3125 \nL 9.8125 71.09375 \nQ 15.4375 72.65625 20.34375 73.4375 \nQ 25.25 74.21875 29.59375 74.21875 \nQ 40.828125 74.21875 47.359375 69.109375 \nQ 53.90625 64.015625 53.90625 55.328125 \nQ 53.90625 49.265625 50.4375 45.09375 \nQ 46.96875 40.921875 40.578125 39.3125 \nz\n\" id=\"DejaVuSans-51\"/>\n     </defs>\n     <g transform=\"translate(30.874851 28.476328)scale(0.105 -0.105)\">\n      <use xlink:href=\"#DejaVuSans-49\"/>\n      <use x=\"63.623047\" xlink:href=\"#DejaVuSans-51\"/>\n     </g>\n    </g>\n   </g>\n   <g id=\"text_2\">\n    <g clip-path=\"url(#p3d75bc88d8)\">\n     <!-- 24 -->\n     <defs>\n      <path d=\"M 19.1875 8.296875 \nL 53.609375 8.296875 \nL 53.609375 0 \nL 7.328125 0 \nL 7.328125 8.296875 \nQ 12.9375 14.109375 22.625 23.890625 \nQ 32.328125 33.6875 34.8125 36.53125 \nQ 39.546875 41.84375 41.421875 45.53125 \nQ 43.3125 49.21875 43.3125 52.78125 \nQ 43.3125 58.59375 39.234375 62.25 \nQ 35.15625 65.921875 28.609375 65.921875 \nQ 23.96875 65.921875 18.8125 64.3125 \nQ 13.671875 62.703125 7.8125 59.421875 \nL 7.8125 69.390625 \nQ 13.765625 71.78125 18.9375 73 \nQ 24.125 74.21875 28.421875 74.21875 \nQ 39.75 74.21875 46.484375 68.546875 \nQ 53.21875 62.890625 53.21875 53.421875 \nQ 53.21875 48.921875 51.53125 44.890625 \nQ 49.859375 40.875 45.40625 35.40625 \nQ 44.1875 33.984375 37.640625 27.21875 \nQ 31.109375 20.453125 19.1875 8.296875 \nz\n\" id=\"DejaVuSans-50\"/>\n      <path d=\"M 37.796875 64.3125 \nL 12.890625 25.390625 \nL 37.796875 25.390625 \nz\nM 35.203125 72.90625 \nL 47.609375 72.90625 \nL 47.609375 25.390625 \nL 58.015625 25.390625 \nL 58.015625 17.1875 \nL 47.609375 17.1875 \nL 47.609375 0 \nL 37.796875 0 \nL 37.796875 17.1875 \nL 4.890625 17.1875 \nL 4.890625 26.703125 \nz\n\" id=\"DejaVuSans-52\"/>\n     </defs>\n     <g transform=\"translate(14.64675 44.704429)scale(0.105 -0.105)\">\n      <use xlink:href=\"#DejaVuSans-50\"/>\n      <use x=\"63.623047\" xlink:href=\"#DejaVuSans-52\"/>\n     </g>\n    </g>\n   </g>\n   <g id=\"text_3\">\n    <g clip-path=\"url(#p3d75bc88d8)\">\n     <!-- 00 -->\n     <defs>\n      <path d=\"M 31.78125 66.40625 \nQ 24.171875 66.40625 20.328125 58.90625 \nQ 16.5 51.421875 16.5 36.375 \nQ 16.5 21.390625 20.328125 13.890625 \nQ 24.171875 6.390625 31.78125 6.390625 \nQ 39.453125 6.390625 43.28125 13.890625 \nQ 47.125 21.390625 47.125 36.375 \nQ 47.125 51.421875 43.28125 58.90625 \nQ 39.453125 66.40625 31.78125 66.40625 \nz\nM 31.78125 74.21875 \nQ 44.046875 74.21875 50.515625 64.515625 \nQ 56.984375 54.828125 56.984375 36.375 \nQ 56.984375 17.96875 50.515625 8.265625 \nQ 44.046875 -1.421875 31.78125 -1.421875 \nQ 19.53125 -1.421875 13.0625 8.265625 \nQ 6.59375 17.96875 6.59375 36.375 \nQ 6.59375 54.828125 13.0625 64.515625 \nQ 19.53125 74.21875 31.78125 74.21875 \nz\n\" id=\"DejaVuSans-48\"/>\n     </defs>\n     <g transform=\"translate(54.127976 43.590366)scale(0.085 -0.085)\">\n      <use xlink:href=\"#DejaVuSans-48\"/>\n      <use x=\"63.623047\" xlink:href=\"#DejaVuSans-48\"/>\n     </g>\n    </g>\n   </g>\n   <g id=\"text_4\">\n    <g clip-path=\"url(#p3d75bc88d8)\">\n     <!-- 01 -->\n     <g transform=\"translate(84.727976 43.590366)scale(0.085 -0.085)\">\n      <use xlink:href=\"#DejaVuSans-48\"/>\n      <use x=\"63.623047\" xlink:href=\"#DejaVuSans-49\"/>\n     </g>\n    </g>\n   </g>\n   <g id=\"text_5\">\n    <g clip-path=\"url(#p3d75bc88d8)\">\n     <!-- 10 -->\n     <g transform=\"translate(145.927976 43.590366)scale(0.085 -0.085)\">\n      <use xlink:href=\"#DejaVuSans-49\"/>\n      <use x=\"63.623047\" xlink:href=\"#DejaVuSans-48\"/>\n     </g>\n    </g>\n   </g>\n   <g id=\"text_6\">\n    <g clip-path=\"url(#p3d75bc88d8)\">\n     <!-- 11 -->\n     <g transform=\"translate(115.327976 43.590366)scale(0.085 -0.085)\">\n      <use xlink:href=\"#DejaVuSans-49\"/>\n      <use x=\"63.623047\" xlink:href=\"#DejaVuSans-49\"/>\n     </g>\n    </g>\n   </g>\n   <g id=\"text_7\">\n    <g clip-path=\"url(#p3d75bc88d8)\">\n     <!-- 00 -->\n     <g transform=\"translate(30.359851 64.533569)scale(0.085 -0.085)\">\n      <use xlink:href=\"#DejaVuSans-48\"/>\n      <use x=\"63.623047\" xlink:href=\"#DejaVuSans-48\"/>\n     </g>\n    </g>\n   </g>\n   <g id=\"text_8\">\n    <g clip-path=\"url(#p3d75bc88d8)\">\n     <!-- 01 -->\n     <g transform=\"translate(30.359851 95.133569)scale(0.085 -0.085)\">\n      <use xlink:href=\"#DejaVuSans-48\"/>\n      <use x=\"63.623047\" xlink:href=\"#DejaVuSans-49\"/>\n     </g>\n    </g>\n   </g>\n   <g id=\"text_9\">\n    <g clip-path=\"url(#p3d75bc88d8)\">\n     <!-- 10 -->\n     <g transform=\"translate(30.359851 156.333569)scale(0.085 -0.085)\">\n      <use xlink:href=\"#DejaVuSans-49\"/>\n      <use x=\"63.623047\" xlink:href=\"#DejaVuSans-48\"/>\n     </g>\n    </g>\n   </g>\n   <g id=\"text_10\">\n    <g clip-path=\"url(#p3d75bc88d8)\">\n     <!-- 11 -->\n     <g transform=\"translate(30.359851 125.733569)scale(0.085 -0.085)\">\n      <use xlink:href=\"#DejaVuSans-49\"/>\n      <use x=\"63.623047\" xlink:href=\"#DejaVuSans-49\"/>\n     </g>\n    </g>\n   </g>\n   <g id=\"text_11\">\n    <g clip-path=\"url(#p3d75bc88d8)\">\n     <!-- X -->\n     <defs>\n      <path d=\"M 6.296875 72.90625 \nL 16.890625 72.90625 \nL 35.015625 45.796875 \nL 53.21875 72.90625 \nL 63.8125 72.90625 \nL 40.375 37.890625 \nL 65.375 0 \nL 54.78125 0 \nL 34.28125 31 \nL 13.625 0 \nL 2.984375 0 \nL 29 38.921875 \nz\n\" id=\"DejaVuSans-88\"/>\n     </defs>\n     <g transform=\"translate(55.939851 65.085444)scale(0.105 -0.105)\">\n      <use xlink:href=\"#DejaVuSans-88\"/>\n     </g>\n    </g>\n   </g>\n   <g id=\"text_12\">\n    <g clip-path=\"url(#p3d75bc88d8)\">\n     <!-- X -->\n     <g transform=\"translate(55.939851 95.685444)scale(0.105 -0.105)\">\n      <use xlink:href=\"#DejaVuSans-88\"/>\n     </g>\n    </g>\n   </g>\n   <g id=\"text_13\">\n    <g clip-path=\"url(#p3d75bc88d8)\">\n     <!-- X -->\n     <g transform=\"translate(55.939851 156.885444)scale(0.105 -0.105)\">\n      <use xlink:href=\"#DejaVuSans-88\"/>\n     </g>\n    </g>\n   </g>\n   <g id=\"text_14\">\n    <g clip-path=\"url(#p3d75bc88d8)\">\n     <!-- X -->\n     <g transform=\"translate(55.939851 126.285444)scale(0.105 -0.105)\">\n      <use xlink:href=\"#DejaVuSans-88\"/>\n     </g>\n    </g>\n   </g>\n   <g id=\"text_15\">\n    <g clip-path=\"url(#p3d75bc88d8)\">\n     <!-- X -->\n     <g transform=\"translate(86.539851 65.085444)scale(0.105 -0.105)\">\n      <use xlink:href=\"#DejaVuSans-88\"/>\n     </g>\n    </g>\n   </g>\n   <g id=\"text_16\">\n    <g clip-path=\"url(#p3d75bc88d8)\">\n     <!-- 1 -->\n     <g transform=\"translate(86.795788 95.685444)scale(0.105 -0.105)\">\n      <use xlink:href=\"#DejaVuSans-49\"/>\n     </g>\n    </g>\n   </g>\n   <g id=\"text_17\">\n    <g clip-path=\"url(#p3d75bc88d8)\">\n     <!-- X -->\n     <g transform=\"translate(86.539851 156.885444)scale(0.105 -0.105)\">\n      <use xlink:href=\"#DejaVuSans-88\"/>\n     </g>\n    </g>\n   </g>\n   <g id=\"text_18\">\n    <g clip-path=\"url(#p3d75bc88d8)\">\n     <!-- 0 -->\n     <g transform=\"translate(86.795788 126.285444)scale(0.105 -0.105)\">\n      <use xlink:href=\"#DejaVuSans-48\"/>\n     </g>\n    </g>\n   </g>\n   <g id=\"text_19\">\n    <g clip-path=\"url(#p3d75bc88d8)\">\n     <!-- 0 -->\n     <g transform=\"translate(147.995788 65.085444)scale(0.105 -0.105)\">\n      <use xlink:href=\"#DejaVuSans-48\"/>\n     </g>\n    </g>\n   </g>\n   <g id=\"text_20\">\n    <g clip-path=\"url(#p3d75bc88d8)\">\n     <!-- 0 -->\n     <g transform=\"translate(147.995788 95.685444)scale(0.105 -0.105)\">\n      <use xlink:href=\"#DejaVuSans-48\"/>\n     </g>\n    </g>\n   </g>\n   <g id=\"text_21\">\n    <g clip-path=\"url(#p3d75bc88d8)\">\n     <!-- 1 -->\n     <g transform=\"translate(147.995788 156.885444)scale(0.105 -0.105)\">\n      <use xlink:href=\"#DejaVuSans-49\"/>\n     </g>\n    </g>\n   </g>\n   <g id=\"text_22\">\n    <g clip-path=\"url(#p3d75bc88d8)\">\n     <!-- 1 -->\n     <g transform=\"translate(147.995788 126.285444)scale(0.105 -0.105)\">\n      <use xlink:href=\"#DejaVuSans-49\"/>\n     </g>\n    </g>\n   </g>\n   <g id=\"text_23\">\n    <g clip-path=\"url(#p3d75bc88d8)\">\n     <!-- 1 -->\n     <g transform=\"translate(117.395788 65.085444)scale(0.105 -0.105)\">\n      <use xlink:href=\"#DejaVuSans-49\"/>\n     </g>\n    </g>\n   </g>\n   <g id=\"text_24\">\n    <g clip-path=\"url(#p3d75bc88d8)\">\n     <!-- 0 -->\n     <g transform=\"translate(117.395788 95.685444)scale(0.105 -0.105)\">\n      <use xlink:href=\"#DejaVuSans-48\"/>\n     </g>\n    </g>\n   </g>\n   <g id=\"text_25\">\n    <g clip-path=\"url(#p3d75bc88d8)\">\n     <!-- X -->\n     <g transform=\"translate(117.139851 156.885444)scale(0.105 -0.105)\">\n      <use xlink:href=\"#DejaVuSans-88\"/>\n     </g>\n    </g>\n   </g>\n   <g id=\"text_26\">\n    <g clip-path=\"url(#p3d75bc88d8)\">\n     <!-- X -->\n     <g transform=\"translate(117.139851 126.285444)scale(0.105 -0.105)\">\n      <use xlink:href=\"#DejaVuSans-88\"/>\n     </g>\n    </g>\n   </g>\n  </g>\n </g>\n <defs>\n  <clipPath id=\"p3d75bc88d8\">\n   <rect height=\"168.208101\" width=\"164.281101\" x=\"7.2\" y=\"7.2\"/>\n  </clipPath>\n </defs>\n</svg>\n"
          },
          "metadata": {},
          "execution_count": 189
        }
      ]
    },
    {
      "cell_type": "markdown",
      "source": [
        "## D4"
      ],
      "metadata": {
        "id": "qqSznqtKJdAx"
      }
    },
    {
      "cell_type": "code",
      "source": [
        "Table1_3[Table1_3[\"D4\"] == 1][[\"Q1\",\"Q2\",\"Q3\",\"Q4\"]]"
      ],
      "metadata": {
        "colab": {
          "base_uri": "https://localhost:8080/"
        },
        "id": "ZmL3Zw3odn3M",
        "outputId": "8a261d00-18ab-4e1b-a213-94861834fdb4"
      },
      "execution_count": null,
      "outputs": [
        {
          "output_type": "execute_result",
          "data": {
            "text/html": [
              "\n",
              "  <div id=\"df-0bedaf87-38c4-421c-b7a0-7513263a7da3\">\n",
              "    <div class=\"colab-df-container\">\n",
              "      <div>\n",
              "<style scoped>\n",
              "    .dataframe tbody tr th:only-of-type {\n",
              "        vertical-align: middle;\n",
              "    }\n",
              "\n",
              "    .dataframe tbody tr th {\n",
              "        vertical-align: top;\n",
              "    }\n",
              "\n",
              "    .dataframe thead th {\n",
              "        text-align: right;\n",
              "    }\n",
              "</style>\n",
              "<table border=\"1\" class=\"dataframe\">\n",
              "  <thead>\n",
              "    <tr style=\"text-align: right;\">\n",
              "      <th></th>\n",
              "      <th>Q1</th>\n",
              "      <th>Q2</th>\n",
              "      <th>Q3</th>\n",
              "      <th>Q4</th>\n",
              "    </tr>\n",
              "  </thead>\n",
              "  <tbody>\n",
              "    <tr>\n",
              "      <th>1</th>\n",
              "      <td>0</td>\n",
              "      <td>1</td>\n",
              "      <td>0</td>\n",
              "      <td>0</td>\n",
              "    </tr>\n",
              "    <tr>\n",
              "      <th>6</th>\n",
              "      <td>0</td>\n",
              "      <td>0</td>\n",
              "      <td>1</td>\n",
              "      <td>0</td>\n",
              "    </tr>\n",
              "    <tr>\n",
              "      <th>7</th>\n",
              "      <td>0</td>\n",
              "      <td>0</td>\n",
              "      <td>1</td>\n",
              "      <td>1</td>\n",
              "    </tr>\n",
              "  </tbody>\n",
              "</table>\n",
              "</div>\n",
              "      <button class=\"colab-df-convert\" onclick=\"convertToInteractive('df-0bedaf87-38c4-421c-b7a0-7513263a7da3')\"\n",
              "              title=\"Convert this dataframe to an interactive table.\"\n",
              "              style=\"display:none;\">\n",
              "        \n",
              "  <svg xmlns=\"http://www.w3.org/2000/svg\" height=\"24px\"viewBox=\"0 0 24 24\"\n",
              "       width=\"24px\">\n",
              "    <path d=\"M0 0h24v24H0V0z\" fill=\"none\"/>\n",
              "    <path d=\"M18.56 5.44l.94 2.06.94-2.06 2.06-.94-2.06-.94-.94-2.06-.94 2.06-2.06.94zm-11 1L8.5 8.5l.94-2.06 2.06-.94-2.06-.94L8.5 2.5l-.94 2.06-2.06.94zm10 10l.94 2.06.94-2.06 2.06-.94-2.06-.94-.94-2.06-.94 2.06-2.06.94z\"/><path d=\"M17.41 7.96l-1.37-1.37c-.4-.4-.92-.59-1.43-.59-.52 0-1.04.2-1.43.59L10.3 9.45l-7.72 7.72c-.78.78-.78 2.05 0 2.83L4 21.41c.39.39.9.59 1.41.59.51 0 1.02-.2 1.41-.59l7.78-7.78 2.81-2.81c.8-.78.8-2.07 0-2.86zM5.41 20L4 18.59l7.72-7.72 1.47 1.35L5.41 20z\"/>\n",
              "  </svg>\n",
              "      </button>\n",
              "      \n",
              "  <style>\n",
              "    .colab-df-container {\n",
              "      display:flex;\n",
              "      flex-wrap:wrap;\n",
              "      gap: 12px;\n",
              "    }\n",
              "\n",
              "    .colab-df-convert {\n",
              "      background-color: #E8F0FE;\n",
              "      border: none;\n",
              "      border-radius: 50%;\n",
              "      cursor: pointer;\n",
              "      display: none;\n",
              "      fill: #1967D2;\n",
              "      height: 32px;\n",
              "      padding: 0 0 0 0;\n",
              "      width: 32px;\n",
              "    }\n",
              "\n",
              "    .colab-df-convert:hover {\n",
              "      background-color: #E2EBFA;\n",
              "      box-shadow: 0px 1px 2px rgba(60, 64, 67, 0.3), 0px 1px 3px 1px rgba(60, 64, 67, 0.15);\n",
              "      fill: #174EA6;\n",
              "    }\n",
              "\n",
              "    [theme=dark] .colab-df-convert {\n",
              "      background-color: #3B4455;\n",
              "      fill: #D2E3FC;\n",
              "    }\n",
              "\n",
              "    [theme=dark] .colab-df-convert:hover {\n",
              "      background-color: #434B5C;\n",
              "      box-shadow: 0px 1px 3px 1px rgba(0, 0, 0, 0.15);\n",
              "      filter: drop-shadow(0px 1px 2px rgba(0, 0, 0, 0.3));\n",
              "      fill: #FFFFFF;\n",
              "    }\n",
              "  </style>\n",
              "\n",
              "      <script>\n",
              "        const buttonEl =\n",
              "          document.querySelector('#df-0bedaf87-38c4-421c-b7a0-7513263a7da3 button.colab-df-convert');\n",
              "        buttonEl.style.display =\n",
              "          google.colab.kernel.accessAllowed ? 'block' : 'none';\n",
              "\n",
              "        async function convertToInteractive(key) {\n",
              "          const element = document.querySelector('#df-0bedaf87-38c4-421c-b7a0-7513263a7da3');\n",
              "          const dataTable =\n",
              "            await google.colab.kernel.invokeFunction('convertToInteractive',\n",
              "                                                     [key], {});\n",
              "          if (!dataTable) return;\n",
              "\n",
              "          const docLinkHtml = 'Like what you see? Visit the ' +\n",
              "            '<a target=\"_blank\" href=https://colab.research.google.com/notebooks/data_table.ipynb>data table notebook</a>'\n",
              "            + ' to learn more about interactive tables.';\n",
              "          element.innerHTML = '';\n",
              "          dataTable['output_type'] = 'display_data';\n",
              "          await google.colab.output.renderOutput(dataTable, element);\n",
              "          const docLink = document.createElement('div');\n",
              "          docLink.innerHTML = docLinkHtml;\n",
              "          element.appendChild(docLink);\n",
              "        }\n",
              "      </script>\n",
              "    </div>\n",
              "  </div>\n",
              "  "
            ],
            "text/plain": [
              "   Q1  Q2  Q3  Q4\n",
              "1   0   1   0   0\n",
              "6   0   0   1   0\n",
              "7   0   0   1   1"
            ]
          },
          "metadata": {},
          "execution_count": 158
        }
      ]
    },
    {
      "cell_type": "code",
      "source": [
        "minterms_D4 = Table1_3[Table1_3[\"D4\"] == 1][[\"Q1\",\"Q2\",\"Q3\",\"Q4\"]].to_numpy()\n",
        "minterms_D4 = minterms_D4.tolist()\n",
        "print(minterms_D4)"
      ],
      "metadata": {
        "colab": {
          "base_uri": "https://localhost:8080/"
        },
        "id": "DxtQt9xHCC8d",
        "outputId": "3bde2476-9c40-4cbf-a8c2-2de52a2e64da"
      },
      "execution_count": null,
      "outputs": [
        {
          "output_type": "stream",
          "name": "stdout",
          "text": [
            "[[0, 1, 0, 0], [0, 0, 1, 0], [0, 0, 1, 1]]\n"
          ]
        }
      ]
    },
    {
      "cell_type": "code",
      "source": [
        "D4 = sym.logic.boolalg.SOPform([Q1,Q2,Q3,Q4], minterms_D4, dontcares = notorder)\n",
        "print(D4)"
      ],
      "metadata": {
        "colab": {
          "base_uri": "https://localhost:8080/"
        },
        "id": "MkGRuVamCKni",
        "outputId": "c29632e8-8f6b-4f25-adf5-1164e17d7901"
      },
      "execution_count": null,
      "outputs": [
        {
          "output_type": "stream",
          "name": "stdout",
          "text": [
            "(~Q1 & ~Q2) | (~Q1 & ~Q3 & ~Q4)\n"
          ]
        }
      ]
    },
    {
      "cell_type": "code",
      "source": [
        "D4"
      ],
      "metadata": {
        "id": "9s7h_JMGZOfp",
        "outputId": "7cd2cb7b-7515-4e5d-d312-1494eff0c847",
        "colab": {
          "base_uri": "https://localhost:8080/"
        }
      },
      "execution_count": null,
      "outputs": [
        {
          "output_type": "execute_result",
          "data": {
            "text/latex": "$\\displaystyle \\left(\\neg Q_{1} \\wedge \\neg Q_{2}\\right) \\vee \\left(\\neg Q_{1} \\wedge \\neg Q_{3} \\wedge \\neg Q_{4}\\right)$",
            "text/plain": [
              "(~Q1 & ~Q2) | (~Q1 & ~Q3 & ~Q4)"
            ]
          },
          "metadata": {},
          "execution_count": 161
        }
      ]
    },
    {
      "cell_type": "code",
      "source": [
        "#D4 = ~Q1&Q2&Q3&~Q4 | Q1&~Q2&Q3&Q4 | ~Q1&~Q2&Q3&Q4 | Q1&~Q2&~Q3&~Q4\n",
        "#D4"
      ],
      "metadata": {
        "id": "qGIcHpdKIUr5"
      },
      "execution_count": null,
      "outputs": []
    },
    {
      "cell_type": "code",
      "source": [
        "#print(sym.simplify_logic(D4, form =\"dnf\"))"
      ],
      "metadata": {
        "id": "5x8jbTFaIdsK"
      },
      "execution_count": null,
      "outputs": []
    },
    {
      "cell_type": "code",
      "source": [
        "logic.Kmap(names='1324',\n",
        "           truthtable=[(Parse(To_N_Byte(4,notorder_byte[0]),'1324'),\"X\"),\n",
        "                       (Parse(To_N_Byte(4,notorder_byte[1]),'1324'),\"X\"),\n",
        "                       (Parse(To_N_Byte(4,notorder_byte[2]),'1324'),\"X\"),\n",
        "                       (Parse(To_N_Byte(4,notorder_byte[3]),'1324'),\"X\"),\n",
        "                       (Parse(To_N_Byte(4,notorder_byte[4]),'1324'),\"X\"),\n",
        "                       (Parse(To_N_Byte(4,notorder_byte[5]),'1324'),\"X\"),\n",
        "                       (Parse(To_N_Byte(4,notorder_byte[6]),'1324'),\"X\"),\n",
        "                       (Parse(To_N_Byte(4,notorder_byte[7]),'1324'),\"X\"),\n",
        "                       \n",
        "                       \n",
        "                       (Parse(minterms_D4[0],'1324'),\"1\"),\n",
        "                       (Parse(minterms_D4[1],'1324'),\"1\"),\n",
        "                       (Parse(minterms_D4[2],'1324'),\"1\"),\n",
        "                       \n",
        "                       ],\n",
        "           groups={'1.1.':{\"color\":\"red\"},\n",
        "                   '11.1':{\"color\":\"blue\"},\n",
        "                   #'.0.1':{\"color\":\"green\"}\n",
        "                   })"
      ],
      "metadata": {
        "colab": {
          "base_uri": "https://localhost:8080/"
        },
        "id": "Rhopyx6xeE9c",
        "outputId": "edd4f0b8-4e0f-4a0e-e325-466baeecaaac"
      },
      "execution_count": null,
      "outputs": [
        {
          "output_type": "execute_result",
          "data": {
            "image/png": "[encoded data removed]",
            "text/plain": [
              "<schemdraw.logic.kmap.Kmap at 0x7fb5df94ed90>"
            ],
            "image/svg+xml": "<?xml version=\"1.0\" encoding=\"utf-8\" standalone=\"no\"?>\n<!DOCTYPE svg PUBLIC \"-//W3C//DTD SVG 1.1//EN\"\n  \"http://www.w3.org/Graphics/SVG/1.1/DTD/svg11.dtd\">\n<!-- Created with matplotlib (https://matplotlib.org/) -->\n<svg height=\"179.548101pt\" version=\"1.1\" viewBox=\"0 0 178.681101 179.548101\" width=\"178.681101pt\" xmlns=\"http://www.w3.org/2000/svg\" xmlns:xlink=\"http://www.w3.org/1999/xlink\">\n <defs>\n  <style type=\"text/css\">\n*{stroke-linecap:butt;stroke-linejoin:round;}\n  </style>\n </defs>\n <g id=\"figure_1\">\n  <g id=\"patch_1\">\n   <path d=\"M 0 179.548101 \nL 178.681101 179.548101 \nL 178.681101 0 \nL 0 0 \nz\n\" style=\"fill:#ffffff;\"/>\n  </g>\n  <g id=\"axes_1\">\n   <g id=\"patch_2\">\n    <path clip-path=\"url(#pfd23938542)\" d=\"M 155.926101 166.228101 \nL 156.047475 166.227138 \nL 156.168819 166.224249 \nL 156.290102 166.219436 \nL 156.411294 166.212699 \nL 156.532363 166.20404 \nL 156.653279 166.193461 \nL 156.774013 166.180965 \nL 156.894533 166.166555 \nL 157.014809 166.150235 \nL 157.134811 166.132008 \nL 157.254509 166.11188 \nL 157.373873 166.089855 \nL 157.492872 166.065939 \nL 157.611476 166.040138 \nL 157.729656 166.012459 \nL 157.847383 165.982908 \nL 157.964625 165.951493 \nL 158.081355 165.918222 \nL 158.197541 165.883103 \nL 158.313156 165.846145 \nL 158.428171 165.807357 \nL 158.542555 165.766749 \nL 158.65628 165.724332 \nL 158.769318 165.680115 \nL 158.881641 165.634111 \nL 158.993219 165.58633 \nL 159.104025 165.536785 \nL 159.214032 165.485489 \nL 159.32321 165.432453 \nL 159.431534 165.377692 \nL 159.538974 165.321219 \nL 159.645506 165.263048 \nL 159.751101 165.203195 \nL 159.855733 165.141674 \nL 159.959375 165.0785 \nL 160.062003 165.01369 \nL 160.163589 164.94726 \nL 160.264109 164.879226 \nL 160.363536 164.809607 \nL 160.461846 164.738418 \nL 160.559015 164.665679 \nL 160.655017 164.591407 \nL 160.749829 164.515621 \nL 160.843426 164.438341 \nL 160.935785 164.359585 \nL 161.026883 164.279374 \nL 161.116698 164.197727 \nL 161.205205 164.114666 \nL 161.292384 164.030211 \nL 161.378211 163.944384 \nL 161.462666 163.857205 \nL 161.545727 163.768698 \nL 161.627374 163.678883 \nL 161.707585 163.587785 \nL 161.786341 163.495426 \nL 161.863621 163.401829 \nL 161.939407 163.307017 \nL 162.013679 163.211015 \nL 162.086418 163.113846 \nL 162.157607 163.015536 \nL 162.227226 162.916109 \nL 162.29526 162.815589 \nL 162.36169 162.714003 \nL 162.4265 162.611375 \nL 162.489674 162.507733 \nL 162.551195 162.403101 \nL 162.611048 162.297506 \nL 162.669219 162.190974 \nL 162.725692 162.083534 \nL 162.780453 161.97521 \nL 162.833489 161.866032 \nL 162.884785 161.756025 \nL 162.93433 161.645219 \nL 162.982111 161.533641 \nL 163.028115 161.421318 \nL 163.072332 161.30828 \nL 163.114749 161.194555 \nL 163.155357 161.080171 \nL 163.194145 160.965156 \nL 163.231103 160.849541 \nL 163.266222 160.733355 \nL 163.299493 160.616625 \nL 163.330908 160.499383 \nL 163.360459 160.381656 \nL 163.388138 160.263476 \nL 163.413939 160.144872 \nL 163.437855 160.025873 \nL 163.45988 159.906509 \nL 163.480008 159.786811 \nL 163.498235 159.666809 \nL 163.514555 159.546533 \nL 163.528965 159.426013 \nL 163.541461 159.305279 \nL 163.55204 159.184363 \nL 163.560699 159.063294 \nL 163.567436 158.942102 \nL 163.572249 158.820819 \nL 163.575138 158.699475 \nL 163.576101 158.578101 \nL 163.576101 118.798101 \nL 163.575138 118.676726 \nL 163.572249 118.555382 \nL 163.567436 118.434099 \nL 163.560699 118.312908 \nL 163.55204 118.191838 \nL 163.541461 118.070922 \nL 163.528965 117.950188 \nL 163.514555 117.829668 \nL 163.498235 117.709392 \nL 163.480008 117.58939 \nL 163.45988 117.469692 \nL 163.437855 117.350329 \nL 163.413939 117.23133 \nL 163.388138 117.112725 \nL 163.360459 116.994545 \nL 163.330908 116.876819 \nL 163.299493 116.759576 \nL 163.266222 116.642847 \nL 163.231103 116.52666 \nL 163.194145 116.411045 \nL 163.155357 116.296031 \nL 163.114749 116.181647 \nL 163.072332 116.067921 \nL 163.028115 115.954883 \nL 162.982111 115.84256 \nL 162.93433 115.730982 \nL 162.884785 115.620176 \nL 162.833489 115.51017 \nL 162.780453 115.400991 \nL 162.725692 115.292668 \nL 162.669219 115.185227 \nL 162.611048 115.078696 \nL 162.551195 114.973101 \nL 162.489674 114.868469 \nL 162.4265 114.764826 \nL 162.36169 114.662198 \nL 162.29526 114.560612 \nL 162.227226 114.460093 \nL 162.157607 114.360665 \nL 162.086418 114.262355 \nL 162.013679 114.165187 \nL 161.939407 114.069184 \nL 161.863621 113.974373 \nL 161.786341 113.880775 \nL 161.707585 113.788416 \nL 161.627374 113.697318 \nL 161.545727 113.607504 \nL 161.462666 113.518996 \nL 161.378211 113.431818 \nL 161.292384 113.34599 \nL 161.205205 113.261535 \nL 161.116698 113.178474 \nL 161.026883 113.096828 \nL 160.935785 113.016616 \nL 160.843426 112.937861 \nL 160.749829 112.86058 \nL 160.655017 112.784794 \nL 160.559015 112.710523 \nL 160.461846 112.637783 \nL 160.363536 112.566595 \nL 160.264109 112.496975 \nL 160.163589 112.428941 \nL 160.062003 112.362511 \nL 159.959375 112.297701 \nL 159.855733 112.234528 \nL 159.751101 112.173006 \nL 159.645506 112.113153 \nL 159.538974 112.054982 \nL 159.431534 111.998509 \nL 159.32321 111.943748 \nL 159.214032 111.890713 \nL 159.104025 111.839416 \nL 158.993219 111.789871 \nL 158.881641 111.74209 \nL 158.769318 111.696086 \nL 158.65628 111.651869 \nL 158.542555 111.609452 \nL 158.428171 111.568844 \nL 158.313156 111.530057 \nL 158.197541 111.493098 \nL 158.081355 111.457979 \nL 157.964625 111.424708 \nL 157.847383 111.393293 \nL 157.729656 111.363742 \nL 157.611476 111.336063 \nL 157.492872 111.310262 \nL 157.373873 111.286346 \nL 157.254509 111.264321 \nL 157.134811 111.244193 \nL 157.014809 111.225967 \nL 156.894533 111.209646 \nL 156.774013 111.195236 \nL 156.653279 111.18274 \nL 156.532363 111.172162 \nL 156.411294 111.163503 \nL 156.290102 111.156765 \nL 156.168819 111.151952 \nL 156.047475 111.149064 \nL 155.926101 111.148101 \nL 116.146101 111.148101 \nL 116.024726 111.149064 \nL 115.903382 111.151952 \nL 115.782099 111.156765 \nL 115.660908 111.163503 \nL 115.539838 111.172162 \nL 115.418922 111.18274 \nL 115.298188 111.195236 \nL 115.177668 111.209646 \nL 115.057392 111.225967 \nL 114.93739 111.244193 \nL 114.817692 111.264321 \nL 114.698329 111.286346 \nL 114.57933 111.310262 \nL 114.460725 111.336063 \nL 114.342545 111.363742 \nL 114.224819 111.393293 \nL 114.107576 111.424708 \nL 113.990847 111.457979 \nL 113.87466 111.493098 \nL 113.759045 111.530057 \nL 113.644031 111.568844 \nL 113.529647 111.609452 \nL 113.415921 111.651869 \nL 113.302883 111.696086 \nL 113.19056 111.74209 \nL 113.078982 111.789871 \nL 112.968176 111.839416 \nL 112.85817 111.890713 \nL 112.748991 111.943748 \nL 112.640668 111.998509 \nL 112.533227 112.054982 \nL 112.426696 112.113153 \nL 112.321101 112.173006 \nL 112.216469 112.234528 \nL 112.112826 112.297701 \nL 112.010198 112.362511 \nL 111.908612 112.428941 \nL 111.808093 112.496975 \nL 111.708665 112.566595 \nL 111.610355 112.637783 \nL 111.513187 112.710523 \nL 111.417184 112.784794 \nL 111.322373 112.86058 \nL 111.228775 112.937861 \nL 111.136416 113.016616 \nL 111.045318 113.096828 \nL 110.955504 113.178474 \nL 110.866996 113.261535 \nL 110.779818 113.34599 \nL 110.69399 113.431818 \nL 110.609535 113.518996 \nL 110.526474 113.607504 \nL 110.444828 113.697318 \nL 110.364616 113.788416 \nL 110.285861 113.880775 \nL 110.20858 113.974373 \nL 110.132794 114.069184 \nL 110.058523 114.165187 \nL 109.985783 114.262355 \nL 109.914595 114.360665 \nL 109.844975 114.460093 \nL 109.776941 114.560612 \nL 109.710511 114.662198 \nL 109.645701 114.764826 \nL 109.582528 114.868469 \nL 109.521006 114.973101 \nL 109.461153 115.078696 \nL 109.402982 115.185227 \nL 109.346509 115.292668 \nL 109.291748 115.400991 \nL 109.238713 115.51017 \nL 109.187416 115.620176 \nL 109.137871 115.730982 \nL 109.09009 115.84256 \nL 109.044086 115.954883 \nL 108.999869 116.067921 \nL 108.957452 116.181647 \nL 108.916844 116.296031 \nL 108.878057 116.411045 \nL 108.841098 116.52666 \nL 108.805979 116.642847 \nL 108.772708 116.759576 \nL 108.741293 116.876819 \nL 108.711742 116.994545 \nL 108.684063 117.112725 \nL 108.658262 117.23133 \nL 108.634346 117.350329 \nL 108.612321 117.469692 \nL 108.592193 117.58939 \nL 108.573967 117.709392 \nL 108.557646 117.829668 \nL 108.543236 117.950188 \nL 108.53074 118.070922 \nL 108.520162 118.191838 \nL 108.511503 118.312908 \nL 108.504765 118.434099 \nL 108.499952 118.555382 \nL 108.497064 118.676726 \nL 108.496101 118.798101 \nL 108.496101 158.578101 \nL 108.497064 158.699475 \nL 108.499952 158.820819 \nL 108.504765 158.942102 \nL 108.511503 159.063294 \nL 108.520162 159.184363 \nL 108.53074 159.305279 \nL 108.543236 159.426013 \nL 108.557646 159.546533 \nL 108.573967 159.666809 \nL 108.592193 159.786811 \nL 108.612321 159.906509 \nL 108.634346 160.025873 \nL 108.658262 160.144872 \nL 108.684063 160.263476 \nL 108.711742 160.381656 \nL 108.741293 160.499383 \nL 108.772708 160.616625 \nL 108.805979 160.733355 \nL 108.841098 160.849541 \nL 108.878057 160.965156 \nL 108.916844 161.080171 \nL 108.957452 161.194555 \nL 108.999869 161.30828 \nL 109.044086 161.421318 \nL 109.09009 161.533641 \nL 109.137871 161.645219 \nL 109.187416 161.756025 \nL 109.238713 161.866032 \nL 109.291748 161.97521 \nL 109.346509 162.083534 \nL 109.402982 162.190974 \nL 109.461153 162.297506 \nL 109.521006 162.403101 \nL 109.582528 162.507733 \nL 109.645701 162.611375 \nL 109.710511 162.714003 \nL 109.776941 162.815589 \nL 109.844975 162.916109 \nL 109.914595 163.015536 \nL 109.985783 163.113846 \nL 110.058523 163.211015 \nL 110.132794 163.307017 \nL 110.20858 163.401829 \nL 110.285861 163.495426 \nL 110.364616 163.587785 \nL 110.444828 163.678883 \nL 110.526474 163.768698 \nL 110.609535 163.857205 \nL 110.69399 163.944384 \nL 110.779818 164.030211 \nL 110.866996 164.114666 \nL 110.955504 164.197727 \nL 111.045318 164.279374 \nL 111.136416 164.359585 \nL 111.228775 164.438341 \nL 111.322373 164.515621 \nL 111.417184 164.591407 \nL 111.513187 164.665679 \nL 111.610355 164.738418 \nL 111.708665 164.809607 \nL 111.808093 164.879226 \nL 111.908612 164.94726 \nL 112.010198 165.01369 \nL 112.112826 165.0785 \nL 112.216469 165.141674 \nL 112.321101 165.203195 \nL 112.426696 165.263048 \nL 112.533227 165.321219 \nL 112.640668 165.377692 \nL 112.748991 165.432453 \nL 112.85817 165.485489 \nL 112.968176 165.536785 \nL 113.078982 165.58633 \nL 113.19056 165.634111 \nL 113.302883 165.680115 \nL 113.415921 165.724332 \nL 113.529647 165.766749 \nL 113.644031 165.807357 \nL 113.759045 165.846145 \nL 113.87466 165.883103 \nL 113.990847 165.918222 \nL 114.107576 165.951493 \nL 114.224819 165.982908 \nL 114.342545 166.012459 \nL 114.460725 166.040138 \nL 114.57933 166.065939 \nL 114.698329 166.089855 \nL 114.817692 166.11188 \nL 114.93739 166.132008 \nL 115.057392 166.150235 \nL 115.177668 166.166555 \nL 115.298188 166.180965 \nL 115.418922 166.193461 \nL 115.539838 166.20404 \nL 115.660908 166.212699 \nL 115.782099 166.219436 \nL 115.903382 166.224249 \nL 116.024726 166.227138 \nL 116.146101 166.228101 \nz\n\" style=\"fill:none;stroke:#ff0000;stroke-linecap:round;\"/>\n   </g>\n   <g id=\"patch_3\">\n    <path clip-path=\"url(#pfd23938542)\" d=\"M 125.326101 135.628101 \nL 125.447475 135.627138 \nL 125.568819 135.624249 \nL 125.690102 135.619436 \nL 125.811294 135.612699 \nL 125.932363 135.60404 \nL 126.053279 135.593461 \nL 126.174013 135.580965 \nL 126.294533 135.566555 \nL 126.414809 135.550235 \nL 126.534811 135.532008 \nL 126.654509 135.51188 \nL 126.773873 135.489855 \nL 126.892872 135.465939 \nL 127.011476 135.440138 \nL 127.129656 135.412459 \nL 127.247383 135.382908 \nL 127.364625 135.351493 \nL 127.481355 135.318222 \nL 127.597541 135.283103 \nL 127.713156 135.246145 \nL 127.828171 135.207357 \nL 127.942555 135.166749 \nL 128.05628 135.124332 \nL 128.169318 135.080115 \nL 128.281641 135.034111 \nL 128.393219 134.98633 \nL 128.504025 134.936785 \nL 128.614032 134.885489 \nL 128.72321 134.832453 \nL 128.831534 134.777692 \nL 128.938974 134.721219 \nL 129.045506 134.663048 \nL 129.151101 134.603195 \nL 129.255733 134.541674 \nL 129.359375 134.4785 \nL 129.462003 134.41369 \nL 129.563589 134.34726 \nL 129.664109 134.279226 \nL 129.763536 134.209607 \nL 129.861846 134.138418 \nL 129.959015 134.065679 \nL 130.055017 133.991407 \nL 130.149829 133.915621 \nL 130.243426 133.838341 \nL 130.335785 133.759585 \nL 130.426883 133.679374 \nL 130.516698 133.597727 \nL 130.605205 133.514666 \nL 130.692384 133.430211 \nL 130.778211 133.344384 \nL 130.862666 133.257205 \nL 130.945727 133.168698 \nL 131.027374 133.078883 \nL 131.107585 132.987785 \nL 131.186341 132.895426 \nL 131.263621 132.801829 \nL 131.339407 132.707017 \nL 131.413679 132.611015 \nL 131.486418 132.513846 \nL 131.557607 132.415536 \nL 131.627226 132.316109 \nL 131.69526 132.215589 \nL 131.76169 132.114003 \nL 131.8265 132.011375 \nL 131.889674 131.907733 \nL 131.951195 131.803101 \nL 132.011048 131.697506 \nL 132.069219 131.590974 \nL 132.125692 131.483534 \nL 132.180453 131.37521 \nL 132.233489 131.266032 \nL 132.284785 131.156025 \nL 132.33433 131.045219 \nL 132.382111 130.933641 \nL 132.428115 130.821318 \nL 132.472332 130.70828 \nL 132.514749 130.594555 \nL 132.555357 130.480171 \nL 132.594145 130.365156 \nL 132.631103 130.249541 \nL 132.666222 130.133355 \nL 132.699493 130.016625 \nL 132.730908 129.899383 \nL 132.760459 129.781656 \nL 132.788138 129.663476 \nL 132.813939 129.544872 \nL 132.837855 129.425873 \nL 132.85988 129.306509 \nL 132.880008 129.186811 \nL 132.898235 129.066809 \nL 132.914555 128.946533 \nL 132.928965 128.826013 \nL 132.941461 128.705279 \nL 132.95204 128.584363 \nL 132.960699 128.463294 \nL 132.967436 128.342102 \nL 132.972249 128.220819 \nL 132.975138 128.099475 \nL 132.976101 127.978101 \nL 132.976101 88.198101 \nL 132.975138 88.076726 \nL 132.972249 87.955382 \nL 132.967436 87.834099 \nL 132.960699 87.712908 \nL 132.95204 87.591838 \nL 132.941461 87.470922 \nL 132.928965 87.350188 \nL 132.914555 87.229668 \nL 132.898235 87.109392 \nL 132.880008 86.98939 \nL 132.85988 86.869692 \nL 132.837855 86.750329 \nL 132.813939 86.63133 \nL 132.788138 86.512725 \nL 132.760459 86.394545 \nL 132.730908 86.276819 \nL 132.699493 86.159576 \nL 132.666222 86.042847 \nL 132.631103 85.92666 \nL 132.594145 85.811045 \nL 132.555357 85.696031 \nL 132.514749 85.581647 \nL 132.472332 85.467921 \nL 132.428115 85.354883 \nL 132.382111 85.24256 \nL 132.33433 85.130982 \nL 132.284785 85.020176 \nL 132.233489 84.91017 \nL 132.180453 84.800991 \nL 132.125692 84.692668 \nL 132.069219 84.585227 \nL 132.011048 84.478696 \nL 131.951195 84.373101 \nL 131.889674 84.268469 \nL 131.8265 84.164826 \nL 131.76169 84.062198 \nL 131.69526 83.960612 \nL 131.627226 83.860093 \nL 131.557607 83.760665 \nL 131.486418 83.662355 \nL 131.413679 83.565187 \nL 131.339407 83.469184 \nL 131.263621 83.374373 \nL 131.186341 83.280775 \nL 131.107585 83.188416 \nL 131.027374 83.097318 \nL 130.945727 83.007504 \nL 130.862666 82.918996 \nL 130.778211 82.831818 \nL 130.692384 82.74599 \nL 130.605205 82.661535 \nL 130.516698 82.578474 \nL 130.426883 82.496828 \nL 130.335785 82.416616 \nL 130.243426 82.337861 \nL 130.149829 82.26058 \nL 130.055017 82.184794 \nL 129.959015 82.110523 \nL 129.861846 82.037783 \nL 129.763536 81.966595 \nL 129.664109 81.896975 \nL 129.563589 81.828941 \nL 129.462003 81.762511 \nL 129.359375 81.697701 \nL 129.255733 81.634528 \nL 129.151101 81.573006 \nL 129.045506 81.513153 \nL 128.938974 81.454982 \nL 128.831534 81.398509 \nL 128.72321 81.343748 \nL 128.614032 81.290713 \nL 128.504025 81.239416 \nL 128.393219 81.189871 \nL 128.281641 81.14209 \nL 128.169318 81.096086 \nL 128.05628 81.051869 \nL 127.942555 81.009452 \nL 127.828171 80.968844 \nL 127.713156 80.930057 \nL 127.597541 80.893098 \nL 127.481355 80.857979 \nL 127.364625 80.824708 \nL 127.247383 80.793293 \nL 127.129656 80.763742 \nL 127.011476 80.736063 \nL 126.892872 80.710262 \nL 126.773873 80.686346 \nL 126.654509 80.664321 \nL 126.534811 80.644193 \nL 126.414809 80.625967 \nL 126.294533 80.609646 \nL 126.174013 80.595236 \nL 126.053279 80.58274 \nL 125.932363 80.572162 \nL 125.811294 80.563503 \nL 125.690102 80.556765 \nL 125.568819 80.551952 \nL 125.447475 80.549064 \nL 125.326101 80.548101 \nL 116.146101 80.548101 \nL 116.024726 80.549064 \nL 115.903382 80.551952 \nL 115.782099 80.556765 \nL 115.660908 80.563503 \nL 115.539838 80.572162 \nL 115.418922 80.58274 \nL 115.298188 80.595236 \nL 115.177668 80.609646 \nL 115.057392 80.625967 \nL 114.93739 80.644193 \nL 114.817692 80.664321 \nL 114.698329 80.686346 \nL 114.57933 80.710262 \nL 114.460725 80.736063 \nL 114.342545 80.763742 \nL 114.224819 80.793293 \nL 114.107576 80.824708 \nL 113.990847 80.857979 \nL 113.87466 80.893098 \nL 113.759045 80.930057 \nL 113.644031 80.968844 \nL 113.529647 81.009452 \nL 113.415921 81.051869 \nL 113.302883 81.096086 \nL 113.19056 81.14209 \nL 113.078982 81.189871 \nL 112.968176 81.239416 \nL 112.85817 81.290713 \nL 112.748991 81.343748 \nL 112.640668 81.398509 \nL 112.533227 81.454982 \nL 112.426696 81.513153 \nL 112.321101 81.573006 \nL 112.216469 81.634528 \nL 112.112826 81.697701 \nL 112.010198 81.762511 \nL 111.908612 81.828941 \nL 111.808093 81.896975 \nL 111.708665 81.966595 \nL 111.610355 82.037783 \nL 111.513187 82.110523 \nL 111.417184 82.184794 \nL 111.322373 82.26058 \nL 111.228775 82.337861 \nL 111.136416 82.416616 \nL 111.045318 82.496828 \nL 110.955504 82.578474 \nL 110.866996 82.661535 \nL 110.779818 82.74599 \nL 110.69399 82.831818 \nL 110.609535 82.918996 \nL 110.526474 83.007504 \nL 110.444828 83.097318 \nL 110.364616 83.188416 \nL 110.285861 83.280775 \nL 110.20858 83.374373 \nL 110.132794 83.469184 \nL 110.058523 83.565187 \nL 109.985783 83.662355 \nL 109.914595 83.760665 \nL 109.844975 83.860093 \nL 109.776941 83.960612 \nL 109.710511 84.062198 \nL 109.645701 84.164826 \nL 109.582528 84.268469 \nL 109.521006 84.373101 \nL 109.461153 84.478696 \nL 109.402982 84.585227 \nL 109.346509 84.692668 \nL 109.291748 84.800991 \nL 109.238713 84.91017 \nL 109.187416 85.020176 \nL 109.137871 85.130982 \nL 109.09009 85.24256 \nL 109.044086 85.354883 \nL 108.999869 85.467921 \nL 108.957452 85.581647 \nL 108.916844 85.696031 \nL 108.878057 85.811045 \nL 108.841098 85.92666 \nL 108.805979 86.042847 \nL 108.772708 86.159576 \nL 108.741293 86.276819 \nL 108.711742 86.394545 \nL 108.684063 86.512725 \nL 108.658262 86.63133 \nL 108.634346 86.750329 \nL 108.612321 86.869692 \nL 108.592193 86.98939 \nL 108.573967 87.109392 \nL 108.557646 87.229668 \nL 108.543236 87.350188 \nL 108.53074 87.470922 \nL 108.520162 87.591838 \nL 108.511503 87.712908 \nL 108.504765 87.834099 \nL 108.499952 87.955382 \nL 108.497064 88.076726 \nL 108.496101 88.198101 \nL 108.496101 127.978101 \nL 108.497064 128.099475 \nL 108.499952 128.220819 \nL 108.504765 128.342102 \nL 108.511503 128.463294 \nL 108.520162 128.584363 \nL 108.53074 128.705279 \nL 108.543236 128.826013 \nL 108.557646 128.946533 \nL 108.573967 129.066809 \nL 108.592193 129.186811 \nL 108.612321 129.306509 \nL 108.634346 129.425873 \nL 108.658262 129.544872 \nL 108.684063 129.663476 \nL 108.711742 129.781656 \nL 108.741293 129.899383 \nL 108.772708 130.016625 \nL 108.805979 130.133355 \nL 108.841098 130.249541 \nL 108.878057 130.365156 \nL 108.916844 130.480171 \nL 108.957452 130.594555 \nL 108.999869 130.70828 \nL 109.044086 130.821318 \nL 109.09009 130.933641 \nL 109.137871 131.045219 \nL 109.187416 131.156025 \nL 109.238713 131.266032 \nL 109.291748 131.37521 \nL 109.346509 131.483534 \nL 109.402982 131.590974 \nL 109.461153 131.697506 \nL 109.521006 131.803101 \nL 109.582528 131.907733 \nL 109.645701 132.011375 \nL 109.710511 132.114003 \nL 109.776941 132.215589 \nL 109.844975 132.316109 \nL 109.914595 132.415536 \nL 109.985783 132.513846 \nL 110.058523 132.611015 \nL 110.132794 132.707017 \nL 110.20858 132.801829 \nL 110.285861 132.895426 \nL 110.364616 132.987785 \nL 110.444828 133.078883 \nL 110.526474 133.168698 \nL 110.609535 133.257205 \nL 110.69399 133.344384 \nL 110.779818 133.430211 \nL 110.866996 133.514666 \nL 110.955504 133.597727 \nL 111.045318 133.679374 \nL 111.136416 133.759585 \nL 111.228775 133.838341 \nL 111.322373 133.915621 \nL 111.417184 133.991407 \nL 111.513187 134.065679 \nL 111.610355 134.138418 \nL 111.708665 134.209607 \nL 111.808093 134.279226 \nL 111.908612 134.34726 \nL 112.010198 134.41369 \nL 112.112826 134.4785 \nL 112.216469 134.541674 \nL 112.321101 134.603195 \nL 112.426696 134.663048 \nL 112.533227 134.721219 \nL 112.640668 134.777692 \nL 112.748991 134.832453 \nL 112.85817 134.885489 \nL 112.968176 134.936785 \nL 113.078982 134.98633 \nL 113.19056 135.034111 \nL 113.302883 135.080115 \nL 113.415921 135.124332 \nL 113.529647 135.166749 \nL 113.644031 135.207357 \nL 113.759045 135.246145 \nL 113.87466 135.283103 \nL 113.990847 135.318222 \nL 114.107576 135.351493 \nL 114.224819 135.382908 \nL 114.342545 135.412459 \nL 114.460725 135.440138 \nL 114.57933 135.465939 \nL 114.698329 135.489855 \nL 114.817692 135.51188 \nL 114.93739 135.532008 \nL 115.057392 135.550235 \nL 115.177668 135.566555 \nL 115.298188 135.580965 \nL 115.418922 135.593461 \nL 115.539838 135.60404 \nL 115.660908 135.612699 \nL 115.782099 135.619436 \nL 115.903382 135.624249 \nL 116.024726 135.627138 \nL 116.146101 135.628101 \nz\n\" style=\"fill:none;stroke:#0000ff;stroke-linecap:round;\"/>\n   </g>\n   <g id=\"line2d_1\">\n    <path clip-path=\"url(#pfd23938542)\" d=\"M 44.236101 169.288101 \nL 166.636101 169.288101 \nL 166.636101 46.888101 \nL 44.236101 46.888101 \nL 44.236101 169.288101 \n\" style=\"fill:none;stroke:#000000;stroke-linecap:round;stroke-width:1.25;\"/>\n   </g>\n   <g id=\"line2d_2\">\n    <path clip-path=\"url(#pfd23938542)\" d=\"M 44.236101 169.288101 \nL 166.636101 169.288101 \n\" style=\"fill:none;stroke:#000000;stroke-linecap:round;stroke-width:1.25;\"/>\n   </g>\n   <g id=\"line2d_3\">\n    <path clip-path=\"url(#pfd23938542)\" d=\"M 44.236101 138.688101 \nL 166.636101 138.688101 \n\" style=\"fill:none;stroke:#000000;stroke-linecap:round;stroke-width:1.25;\"/>\n   </g>\n   <g id=\"line2d_4\">\n    <path clip-path=\"url(#pfd23938542)\" d=\"M 44.236101 108.088101 \nL 166.636101 108.088101 \n\" style=\"fill:none;stroke:#000000;stroke-linecap:round;stroke-width:1.25;\"/>\n   </g>\n   <g id=\"line2d_5\">\n    <path clip-path=\"url(#pfd23938542)\" d=\"M 44.236101 77.488101 \nL 166.636101 77.488101 \n\" style=\"fill:none;stroke:#000000;stroke-linecap:round;stroke-width:1.25;\"/>\n   </g>\n   <g id=\"line2d_6\">\n    <path clip-path=\"url(#pfd23938542)\" d=\"M 44.236101 169.288101 \nL 44.236101 46.888101 \n\" style=\"fill:none;stroke:#000000;stroke-linecap:round;stroke-width:1.25;\"/>\n   </g>\n   <g id=\"line2d_7\">\n    <path clip-path=\"url(#pfd23938542)\" d=\"M 74.836101 169.288101 \nL 74.836101 46.888101 \n\" style=\"fill:none;stroke:#000000;stroke-linecap:round;stroke-width:1.25;\"/>\n   </g>\n   <g id=\"line2d_8\">\n    <path clip-path=\"url(#pfd23938542)\" d=\"M 105.436101 169.288101 \nL 105.436101 46.888101 \n\" style=\"fill:none;stroke:#000000;stroke-linecap:round;stroke-width:1.25;\"/>\n   </g>\n   <g id=\"line2d_9\">\n    <path clip-path=\"url(#pfd23938542)\" d=\"M 136.036101 169.288101 \nL 136.036101 46.888101 \n\" style=\"fill:none;stroke:#000000;stroke-linecap:round;stroke-width:1.25;\"/>\n   </g>\n   <g id=\"line2d_10\">\n    <path clip-path=\"url(#pfd23938542)\" d=\"M 44.236101 46.888101 \nL 22.598633 25.250633 \n\" style=\"fill:none;stroke:#000000;stroke-linecap:round;stroke-width:1.25;\"/>\n   </g>\n   <g id=\"text_1\">\n    <g clip-path=\"url(#pfd23938542)\">\n     <!-- 13 -->\n     <defs>\n      <path d=\"M 12.40625 8.296875 \nL 28.515625 8.296875 \nL 28.515625 63.921875 \nL 10.984375 60.40625 \nL 10.984375 69.390625 \nL 28.421875 72.90625 \nL 38.28125 72.90625 \nL 38.28125 8.296875 \nL 54.390625 8.296875 \nL 54.390625 0 \nL 12.40625 0 \nz\n\" id=\"DejaVuSans-49\"/>\n      <path d=\"M 40.578125 39.3125 \nQ 47.65625 37.796875 51.625 33 \nQ 55.609375 28.21875 55.609375 21.1875 \nQ 55.609375 10.40625 48.1875 4.484375 \nQ 40.765625 -1.421875 27.09375 -1.421875 \nQ 22.515625 -1.421875 17.65625 -0.515625 \nQ 12.796875 0.390625 7.625 2.203125 \nL 7.625 11.71875 \nQ 11.71875 9.328125 16.59375 8.109375 \nQ 21.484375 6.890625 26.8125 6.890625 \nQ 36.078125 6.890625 40.9375 10.546875 \nQ 45.796875 14.203125 45.796875 21.1875 \nQ 45.796875 27.640625 41.28125 31.265625 \nQ 36.765625 34.90625 28.71875 34.90625 \nL 20.21875 34.90625 \nL 20.21875 43.015625 \nL 29.109375 43.015625 \nQ 36.375 43.015625 40.234375 45.921875 \nQ 44.09375 48.828125 44.09375 54.296875 \nQ 44.09375 59.90625 40.109375 62.90625 \nQ 36.140625 65.921875 28.71875 65.921875 \nQ 24.65625 65.921875 20.015625 65.03125 \nQ 15.375 64.15625 9.8125 62.3125 \nL 9.8125 71.09375 \nQ 15.4375 72.65625 20.34375 73.4375 \nQ 25.25 74.21875 29.59375 74.21875 \nQ 40.828125 74.21875 47.359375 69.109375 \nQ 53.90625 64.015625 53.90625 55.328125 \nQ 53.90625 49.265625 50.4375 45.09375 \nQ 46.96875 40.921875 40.578125 39.3125 \nz\n\" id=\"DejaVuSans-51\"/>\n     </defs>\n     <g transform=\"translate(30.874851 28.476328)scale(0.105 -0.105)\">\n      <use xlink:href=\"#DejaVuSans-49\"/>\n      <use x=\"63.623047\" xlink:href=\"#DejaVuSans-51\"/>\n     </g>\n    </g>\n   </g>\n   <g id=\"text_2\">\n    <g clip-path=\"url(#pfd23938542)\">\n     <!-- 24 -->\n     <defs>\n      <path d=\"M 19.1875 8.296875 \nL 53.609375 8.296875 \nL 53.609375 0 \nL 7.328125 0 \nL 7.328125 8.296875 \nQ 12.9375 14.109375 22.625 23.890625 \nQ 32.328125 33.6875 34.8125 36.53125 \nQ 39.546875 41.84375 41.421875 45.53125 \nQ 43.3125 49.21875 43.3125 52.78125 \nQ 43.3125 58.59375 39.234375 62.25 \nQ 35.15625 65.921875 28.609375 65.921875 \nQ 23.96875 65.921875 18.8125 64.3125 \nQ 13.671875 62.703125 7.8125 59.421875 \nL 7.8125 69.390625 \nQ 13.765625 71.78125 18.9375 73 \nQ 24.125 74.21875 28.421875 74.21875 \nQ 39.75 74.21875 46.484375 68.546875 \nQ 53.21875 62.890625 53.21875 53.421875 \nQ 53.21875 48.921875 51.53125 44.890625 \nQ 49.859375 40.875 45.40625 35.40625 \nQ 44.1875 33.984375 37.640625 27.21875 \nQ 31.109375 20.453125 19.1875 8.296875 \nz\n\" id=\"DejaVuSans-50\"/>\n      <path d=\"M 37.796875 64.3125 \nL 12.890625 25.390625 \nL 37.796875 25.390625 \nz\nM 35.203125 72.90625 \nL 47.609375 72.90625 \nL 47.609375 25.390625 \nL 58.015625 25.390625 \nL 58.015625 17.1875 \nL 47.609375 17.1875 \nL 47.609375 0 \nL 37.796875 0 \nL 37.796875 17.1875 \nL 4.890625 17.1875 \nL 4.890625 26.703125 \nz\n\" id=\"DejaVuSans-52\"/>\n     </defs>\n     <g transform=\"translate(14.64675 44.704429)scale(0.105 -0.105)\">\n      <use xlink:href=\"#DejaVuSans-50\"/>\n      <use x=\"63.623047\" xlink:href=\"#DejaVuSans-52\"/>\n     </g>\n    </g>\n   </g>\n   <g id=\"text_3\">\n    <g clip-path=\"url(#pfd23938542)\">\n     <!-- 00 -->\n     <defs>\n      <path d=\"M 31.78125 66.40625 \nQ 24.171875 66.40625 20.328125 58.90625 \nQ 16.5 51.421875 16.5 36.375 \nQ 16.5 21.390625 20.328125 13.890625 \nQ 24.171875 6.390625 31.78125 6.390625 \nQ 39.453125 6.390625 43.28125 13.890625 \nQ 47.125 21.390625 47.125 36.375 \nQ 47.125 51.421875 43.28125 58.90625 \nQ 39.453125 66.40625 31.78125 66.40625 \nz\nM 31.78125 74.21875 \nQ 44.046875 74.21875 50.515625 64.515625 \nQ 56.984375 54.828125 56.984375 36.375 \nQ 56.984375 17.96875 50.515625 8.265625 \nQ 44.046875 -1.421875 31.78125 -1.421875 \nQ 19.53125 -1.421875 13.0625 8.265625 \nQ 6.59375 17.96875 6.59375 36.375 \nQ 6.59375 54.828125 13.0625 64.515625 \nQ 19.53125 74.21875 31.78125 74.21875 \nz\n\" id=\"DejaVuSans-48\"/>\n     </defs>\n     <g transform=\"translate(54.127976 43.590366)scale(0.085 -0.085)\">\n      <use xlink:href=\"#DejaVuSans-48\"/>\n      <use x=\"63.623047\" xlink:href=\"#DejaVuSans-48\"/>\n     </g>\n    </g>\n   </g>\n   <g id=\"text_4\">\n    <g clip-path=\"url(#pfd23938542)\">\n     <!-- 01 -->\n     <g transform=\"translate(84.727976 43.590366)scale(0.085 -0.085)\">\n      <use xlink:href=\"#DejaVuSans-48\"/>\n      <use x=\"63.623047\" xlink:href=\"#DejaVuSans-49\"/>\n     </g>\n    </g>\n   </g>\n   <g id=\"text_5\">\n    <g clip-path=\"url(#pfd23938542)\">\n     <!-- 10 -->\n     <g transform=\"translate(145.927976 43.590366)scale(0.085 -0.085)\">\n      <use xlink:href=\"#DejaVuSans-49\"/>\n      <use x=\"63.623047\" xlink:href=\"#DejaVuSans-48\"/>\n     </g>\n    </g>\n   </g>\n   <g id=\"text_6\">\n    <g clip-path=\"url(#pfd23938542)\">\n     <!-- 11 -->\n     <g transform=\"translate(115.327976 43.590366)scale(0.085 -0.085)\">\n      <use xlink:href=\"#DejaVuSans-49\"/>\n      <use x=\"63.623047\" xlink:href=\"#DejaVuSans-49\"/>\n     </g>\n    </g>\n   </g>\n   <g id=\"text_7\">\n    <g clip-path=\"url(#pfd23938542)\">\n     <!-- 00 -->\n     <g transform=\"translate(30.359851 64.533569)scale(0.085 -0.085)\">\n      <use xlink:href=\"#DejaVuSans-48\"/>\n      <use x=\"63.623047\" xlink:href=\"#DejaVuSans-48\"/>\n     </g>\n    </g>\n   </g>\n   <g id=\"text_8\">\n    <g clip-path=\"url(#pfd23938542)\">\n     <!-- 01 -->\n     <g transform=\"translate(30.359851 95.133569)scale(0.085 -0.085)\">\n      <use xlink:href=\"#DejaVuSans-48\"/>\n      <use x=\"63.623047\" xlink:href=\"#DejaVuSans-49\"/>\n     </g>\n    </g>\n   </g>\n   <g id=\"text_9\">\n    <g clip-path=\"url(#pfd23938542)\">\n     <!-- 10 -->\n     <g transform=\"translate(30.359851 156.333569)scale(0.085 -0.085)\">\n      <use xlink:href=\"#DejaVuSans-49\"/>\n      <use x=\"63.623047\" xlink:href=\"#DejaVuSans-48\"/>\n     </g>\n    </g>\n   </g>\n   <g id=\"text_10\">\n    <g clip-path=\"url(#pfd23938542)\">\n     <!-- 11 -->\n     <g transform=\"translate(30.359851 125.733569)scale(0.085 -0.085)\">\n      <use xlink:href=\"#DejaVuSans-49\"/>\n      <use x=\"63.623047\" xlink:href=\"#DejaVuSans-49\"/>\n     </g>\n    </g>\n   </g>\n   <g id=\"text_11\">\n    <g clip-path=\"url(#pfd23938542)\">\n     <!-- X -->\n     <defs>\n      <path d=\"M 6.296875 72.90625 \nL 16.890625 72.90625 \nL 35.015625 45.796875 \nL 53.21875 72.90625 \nL 63.8125 72.90625 \nL 40.375 37.890625 \nL 65.375 0 \nL 54.78125 0 \nL 34.28125 31 \nL 13.625 0 \nL 2.984375 0 \nL 29 38.921875 \nz\n\" id=\"DejaVuSans-88\"/>\n     </defs>\n     <g transform=\"translate(55.939851 65.085444)scale(0.105 -0.105)\">\n      <use xlink:href=\"#DejaVuSans-88\"/>\n     </g>\n    </g>\n   </g>\n   <g id=\"text_12\">\n    <g clip-path=\"url(#pfd23938542)\">\n     <!-- X -->\n     <g transform=\"translate(55.939851 95.685444)scale(0.105 -0.105)\">\n      <use xlink:href=\"#DejaVuSans-88\"/>\n     </g>\n    </g>\n   </g>\n   <g id=\"text_13\">\n    <g clip-path=\"url(#pfd23938542)\">\n     <!-- X -->\n     <g transform=\"translate(55.939851 156.885444)scale(0.105 -0.105)\">\n      <use xlink:href=\"#DejaVuSans-88\"/>\n     </g>\n    </g>\n   </g>\n   <g id=\"text_14\">\n    <g clip-path=\"url(#pfd23938542)\">\n     <!-- X -->\n     <g transform=\"translate(55.939851 126.285444)scale(0.105 -0.105)\">\n      <use xlink:href=\"#DejaVuSans-88\"/>\n     </g>\n    </g>\n   </g>\n   <g id=\"text_15\">\n    <g clip-path=\"url(#pfd23938542)\">\n     <!-- X -->\n     <g transform=\"translate(86.539851 65.085444)scale(0.105 -0.105)\">\n      <use xlink:href=\"#DejaVuSans-88\"/>\n     </g>\n    </g>\n   </g>\n   <g id=\"text_16\">\n    <g clip-path=\"url(#pfd23938542)\">\n     <!-- 0 -->\n     <g transform=\"translate(86.795788 95.685444)scale(0.105 -0.105)\">\n      <use xlink:href=\"#DejaVuSans-48\"/>\n     </g>\n    </g>\n   </g>\n   <g id=\"text_17\">\n    <g clip-path=\"url(#pfd23938542)\">\n     <!-- X -->\n     <g transform=\"translate(86.539851 156.885444)scale(0.105 -0.105)\">\n      <use xlink:href=\"#DejaVuSans-88\"/>\n     </g>\n    </g>\n   </g>\n   <g id=\"text_18\">\n    <g clip-path=\"url(#pfd23938542)\">\n     <!-- 0 -->\n     <g transform=\"translate(86.795788 126.285444)scale(0.105 -0.105)\">\n      <use xlink:href=\"#DejaVuSans-48\"/>\n     </g>\n    </g>\n   </g>\n   <g id=\"text_19\">\n    <g clip-path=\"url(#pfd23938542)\">\n     <!-- 0 -->\n     <g transform=\"translate(147.995788 65.085444)scale(0.105 -0.105)\">\n      <use xlink:href=\"#DejaVuSans-48\"/>\n     </g>\n    </g>\n   </g>\n   <g id=\"text_20\">\n    <g clip-path=\"url(#pfd23938542)\">\n     <!-- 0 -->\n     <g transform=\"translate(147.995788 95.685444)scale(0.105 -0.105)\">\n      <use xlink:href=\"#DejaVuSans-48\"/>\n     </g>\n    </g>\n   </g>\n   <g id=\"text_21\">\n    <g clip-path=\"url(#pfd23938542)\">\n     <!-- 1 -->\n     <g transform=\"translate(147.995788 156.885444)scale(0.105 -0.105)\">\n      <use xlink:href=\"#DejaVuSans-49\"/>\n     </g>\n    </g>\n   </g>\n   <g id=\"text_22\">\n    <g clip-path=\"url(#pfd23938542)\">\n     <!-- 1 -->\n     <g transform=\"translate(147.995788 126.285444)scale(0.105 -0.105)\">\n      <use xlink:href=\"#DejaVuSans-49\"/>\n     </g>\n    </g>\n   </g>\n   <g id=\"text_23\">\n    <g clip-path=\"url(#pfd23938542)\">\n     <!-- 0 -->\n     <g transform=\"translate(117.395788 65.085444)scale(0.105 -0.105)\">\n      <use xlink:href=\"#DejaVuSans-48\"/>\n     </g>\n    </g>\n   </g>\n   <g id=\"text_24\">\n    <g clip-path=\"url(#pfd23938542)\">\n     <!-- 1 -->\n     <g transform=\"translate(117.395788 95.685444)scale(0.105 -0.105)\">\n      <use xlink:href=\"#DejaVuSans-49\"/>\n     </g>\n    </g>\n   </g>\n   <g id=\"text_25\">\n    <g clip-path=\"url(#pfd23938542)\">\n     <!-- X -->\n     <g transform=\"translate(117.139851 156.885444)scale(0.105 -0.105)\">\n      <use xlink:href=\"#DejaVuSans-88\"/>\n     </g>\n    </g>\n   </g>\n   <g id=\"text_26\">\n    <g clip-path=\"url(#pfd23938542)\">\n     <!-- X -->\n     <g transform=\"translate(117.139851 126.285444)scale(0.105 -0.105)\">\n      <use xlink:href=\"#DejaVuSans-88\"/>\n     </g>\n    </g>\n   </g>\n  </g>\n </g>\n <defs>\n  <clipPath id=\"pfd23938542\">\n   <rect height=\"165.148101\" width=\"164.281101\" x=\"7.2\" y=\"7.2\"/>\n  </clipPath>\n </defs>\n</svg>\n"
          },
          "metadata": {},
          "execution_count": 194
        }
      ]
    },
    {
      "cell_type": "markdown",
      "source": [
        "## Итог"
      ],
      "metadata": {
        "id": "wNiMAPC4JfZi"
      }
    },
    {
      "cell_type": "markdown",
      "source": [
        "Согласно минимизированным функциям D1, D2, и D3  составим КЛС, используя элементарные логические схемы И, ИЛИ, НЕ."
      ],
      "metadata": {
        "id": "vvB9JSRcTchT"
      }
    },
    {
      "cell_type": "markdown",
      "source": [
        "# Построение логических схем"
      ],
      "metadata": {
        "id": "HLXDFyrdT4fY"
      }
    },
    {
      "cell_type": "code",
      "source": [
        "from schemdraw.parsing import logicparse"
      ],
      "metadata": {
        "id": "orAUuKGYVOs9"
      },
      "execution_count": null,
      "outputs": []
    },
    {
      "cell_type": "markdown",
      "source": [
        "Для триггера Т3 функция на его входе D1"
      ],
      "metadata": {
        "id": "zyGto7vtb4nB"
      }
    },
    {
      "cell_type": "code",
      "source": [
        "type(D1)\n",
        "str(D1)"
      ],
      "metadata": {
        "colab": {
          "base_uri": "https://localhost:8080/"
        },
        "id": "HJldpWBgEXfB",
        "outputId": "1799b71f-6165-4f46-83ba-7df824b1db47"
      },
      "execution_count": null,
      "outputs": [
        {
          "output_type": "execute_result",
          "data": {
            "application/vnd.google.colaboratory.intrinsic+json": {
              "type": "string"
            },
            "text/plain": [
              "'(~Q2 & ~Q3) | (Q2 & Q3 & ~Q4)'"
            ]
          },
          "metadata": {},
          "execution_count": 166
        }
      ]
    },
    {
      "cell_type": "markdown",
      "source": [
        "Для триггера Т1 функция на его входе D1"
      ],
      "metadata": {
        "id": "_S0x4CXLVuHn"
      }
    },
    {
      "cell_type": "code",
      "source": [
        "#logicparse('(Q2 & Q3 & ~Q1 & ~Q4) | (Q2 & Q4 & ~Q1 & ~Q3)', outlabel='${D_1}$', gateH=1.5)\n",
        "logicparse(str(D1), outlabel='${D_1}$', gateH=1.5)"
      ],
      "metadata": {
        "colab": {
          "base_uri": "https://localhost:8080/"
        },
        "id": "D3tDV7GZ-Msi",
        "outputId": "544850fd-0c57-453d-91c0-ca8590cea9e7"
      },
      "execution_count": null,
      "outputs": [
        {
          "output_type": "execute_result",
          "data": {
            "image/png": "[encoded data removed]",
            "text/plain": [
              "<schemdraw.schemdraw.Drawing at 0x7fb5e0500510>"
            ],
            "image/svg+xml": "<?xml version=\"1.0\" encoding=\"utf-8\" standalone=\"no\"?>\n<!DOCTYPE svg PUBLIC \"-//W3C//DTD SVG 1.1//EN\"\n  \"http://www.w3.org/Graphics/SVG/1.1/DTD/svg11.dtd\">\n<!-- Created with matplotlib (https://matplotlib.org/) -->\n<svg height=\"236.42pt\" version=\"1.1\" viewBox=\"0 0 267.2988 236.42\" width=\"267.2988pt\" xmlns=\"http://www.w3.org/2000/svg\" xmlns:xlink=\"http://www.w3.org/1999/xlink\">\n <defs>\n  <style type=\"text/css\">\n*{stroke-linecap:butt;stroke-linejoin:round;}\n  </style>\n </defs>\n <g id=\"figure_1\">\n  <g id=\"patch_1\">\n   <path d=\"M -0 236.42 \nL 267.2988 236.42 \nL 267.2988 0 \nL -0 0 \nz\n\" style=\"fill:#ffffff;\"/>\n  </g>\n  <g id=\"axes_1\">\n   <g id=\"patch_2\">\n    <path clip-path=\"url(#paf5e2628cd)\" d=\"M 76.764 30.932 \nC 77.737826 30.932 78.671897 30.545095 79.360496 29.856496 \nC 80.049095 29.167897 80.436 28.233826 80.436 27.26 \nC 80.436 26.286174 80.049095 25.352103 79.360496 24.663504 \nC 78.671897 23.974905 77.737826 23.588 76.764 23.588 \nC 75.790174 23.588 74.856103 23.974905 74.167504 24.663504 \nC 73.478905 25.352103 73.092 26.286174 73.092 27.26 \nC 73.092 28.233826 73.478905 29.167897 74.167504 29.856496 \nC 74.856103 30.545095 75.790174 30.932 76.764 30.932 \nz\n\" style=\"fill:none;stroke:#000000;stroke-linejoin:miter;stroke-width:2;\"/>\n   </g>\n   <g id=\"patch_3\">\n    <path clip-path=\"url(#paf5e2628cd)\" d=\"M 76.764 76.832 \nC 77.737826 76.832 78.671897 76.445095 79.360496 75.756496 \nC 80.049095 75.067897 80.436 74.133826 80.436 73.16 \nC 80.436 72.186174 80.049095 71.252103 79.360496 70.563504 \nC 78.671897 69.874905 77.737826 69.488 76.764 69.488 \nC 75.790174 69.488 74.856103 69.874905 74.167504 70.563504 \nC 73.478905 71.252103 73.092 72.186174 73.092 73.16 \nC 73.092 74.133826 73.478905 75.067897 74.167504 75.756496 \nC 74.856103 76.445095 75.790174 76.832 76.764 76.832 \nz\n\" style=\"fill:none;stroke:#000000;stroke-linejoin:miter;stroke-width:2;\"/>\n   </g>\n   <g id=\"patch_4\">\n    <path clip-path=\"url(#paf5e2628cd)\" d=\"M 76.764 214.532 \nC 77.737826 214.532 78.671897 214.145095 79.360496 213.456496 \nC 80.049095 212.767897 80.436 211.833826 80.436 210.86 \nC 80.436 209.886174 80.049095 208.952103 79.360496 208.263504 \nC 78.671897 207.574905 77.737826 207.188 76.764 207.188 \nC 75.790174 207.188 74.856103 207.574905 74.167504 208.263504 \nC 73.478905 208.952103 73.092 209.886174 73.092 210.86 \nC 73.092 211.833826 73.478905 212.767897 74.167504 213.456496 \nC 74.856103 214.145095 75.790174 214.532 76.764 214.532 \nz\n\" style=\"fill:none;stroke:#000000;stroke-linejoin:miter;stroke-width:2;\"/>\n   </g>\n   <g id=\"line2d_1\">\n    <path clip-path=\"url(#paf5e2628cd)\" d=\"M 172.389 122.579 \nL 189.437571 122.479082 \nL 191.186143 122.179327 \nL 192.934714 121.679735 \nL 194.683286 120.980306 \nL 196.431857 120.081041 \nL 198.617571 118.675939 \nL 200.803286 116.958592 \nL 202.989 114.929 \nL 205.174714 112.587163 \nL 207.360429 109.933082 \nL 209.109 107.585 \nL 209.109 107.585 \nL 206.486143 104.137816 \nL 204.300429 101.608633 \nL 202.114714 99.391694 \nL 199.929 97.487 \nL 197.743286 95.894551 \nL 195.557571 94.614347 \nL 193.809 93.815 \nL 192.060429 93.21549 \nL 190.311857 92.815816 \nL 188.563286 92.61598 \nL 187.689 92.591 \nL 172.389 92.591 \nL 172.389 92.591 \nL 174.5922 95.039 \nL 175.98756 96.875 \nL 177.1626 98.711 \nL 178.11732 100.547 \nL 178.85172 102.383 \nL 179.3658 104.219 \nL 179.65956 106.055 \nL 179.733 107.891 \nL 179.58612 109.727 \nL 179.21892 111.563 \nL 178.6314 113.399 \nL 177.82356 115.235 \nL 176.7954 117.071 \nL 175.54692 118.907 \nL 174.07812 120.743 \nL 172.389 122.579 \nL 172.389 122.579 \n\" style=\"fill:none;stroke:#000000;stroke-linecap:round;stroke-width:2;\"/>\n   </g>\n   <g id=\"line2d_2\">\n    <path clip-path=\"url(#paf5e2628cd)\" d=\"M 161.679 115.235 \nL 177.82356 115.235 \n\" style=\"fill:none;stroke:#000000;stroke-linecap:round;stroke-width:2;\"/>\n   </g>\n   <g id=\"line2d_3\">\n    <path clip-path=\"url(#paf5e2628cd)\" d=\"M 161.679 99.935 \nL 177.82356 99.935 \n\" style=\"fill:none;stroke:#000000;stroke-linecap:round;stroke-width:2;\"/>\n   </g>\n   <g id=\"line2d_4\">\n    <path clip-path=\"url(#paf5e2628cd)\" d=\"M 209.109 107.585 \nL 219.819 107.585 \n\" style=\"fill:none;stroke:#000000;stroke-linecap:round;stroke-width:2;\"/>\n   </g>\n   <g id=\"line2d_5\">\n    <path clip-path=\"url(#paf5e2628cd)\" d=\"M 132.609 65.51 \nL 133.589274 65.478565 \nL 134.565521 65.384387 \nL 135.533727 65.227855 \nL 136.489915 65.009611 \nL 137.430156 64.730553 \nL 138.350585 64.391826 \nL 139.247421 63.994824 \nL 140.116979 63.541176 \nL 140.955684 63.032748 \nL 141.760091 62.471628 \nL 142.526894 61.860123 \nL 143.252943 61.200745 \nL 143.935253 60.496204 \nL 144.571022 59.749394 \nL 145.157635 58.963385 \nL 145.692684 58.141406 \nL 146.173969 57.286836 \nL 146.599513 56.403185 \nL 146.967567 55.494085 \nL 147.276618 54.563272 \nL 147.525397 53.61457 \nL 147.712881 52.651878 \nL 147.8383 51.679152 \nL 147.901139 50.700389 \nL 147.901139 49.719611 \nL 147.8383 48.740848 \nL 147.712881 47.768122 \nL 147.525397 46.80543 \nL 147.276618 45.856728 \nL 146.967567 44.925915 \nL 146.599513 44.016815 \nL 146.173969 43.133164 \nL 145.692684 42.278594 \nL 145.157635 41.456615 \nL 144.571022 40.670606 \nL 143.935253 39.923796 \nL 143.252943 39.219255 \nL 142.526894 38.559877 \nL 141.760091 37.948372 \nL 140.955684 37.387252 \nL 140.116979 36.878824 \nL 139.247421 36.425176 \nL 138.350585 36.028174 \nL 137.430156 35.689447 \nL 136.489915 35.410389 \nL 135.533727 35.192145 \nL 134.565521 35.035613 \nL 133.589274 34.941435 \nL 132.609 34.91 \nL 132.609 34.91 \nL 112.719 34.91 \nL 112.719 50.21 \nL 112.719 65.51 \nL 132.609 65.51 \n\" style=\"fill:none;stroke:#000000;stroke-linecap:round;stroke-width:2;\"/>\n   </g>\n   <g id=\"line2d_6\">\n    <path clip-path=\"url(#paf5e2628cd)\" d=\"M 102.009 57.86 \nL 112.719 57.86 \n\" style=\"fill:none;stroke:#000000;stroke-linecap:round;stroke-width:2;\"/>\n   </g>\n   <g id=\"line2d_7\">\n    <path clip-path=\"url(#paf5e2628cd)\" d=\"M 102.009 42.56 \nL 112.719 42.56 \n\" style=\"fill:none;stroke:#000000;stroke-linecap:round;stroke-width:2;\"/>\n   </g>\n   <g id=\"line2d_8\">\n    <path clip-path=\"url(#paf5e2628cd)\" d=\"M 147.909 50.21 \nL 158.619 50.21 \n\" style=\"fill:none;stroke:#000000;stroke-linecap:round;stroke-width:2;\"/>\n   </g>\n   <g id=\"line2d_9\">\n    <path clip-path=\"url(#paf5e2628cd)\" d=\"M 36.219 27.26 \nL 53.202 27.26 \nM 80.436 27.26 \nL 97.419 27.26 \n\" style=\"fill:none;stroke:#000000;stroke-linecap:round;stroke-width:2;\"/>\n   </g>\n   <g id=\"line2d_10\">\n    <path clip-path=\"url(#paf5e2628cd)\" d=\"M 53.202 11.96 \nL 73.092 27.26 \nL 53.202 42.56 \nL 53.202 11.96 \n\" style=\"fill:none;stroke:#000000;stroke-linecap:round;stroke-width:2;\"/>\n   </g>\n   <g id=\"line2d_11\">\n    <path clip-path=\"url(#paf5e2628cd)\" d=\"M 102.009 42.56 \nL 97.419 42.56 \nL 97.419 27.26 \n\" style=\"fill:none;stroke:#000000;stroke-linecap:round;stroke-width:2;\"/>\n   </g>\n   <g id=\"line2d_12\">\n    <path clip-path=\"url(#paf5e2628cd)\" d=\"M 36.219 73.16 \nL 53.202 73.16 \nM 80.436 73.16 \nL 97.419 73.16 \n\" style=\"fill:none;stroke:#000000;stroke-linecap:round;stroke-width:2;\"/>\n   </g>\n   <g id=\"line2d_13\">\n    <path clip-path=\"url(#paf5e2628cd)\" d=\"M 53.202 57.86 \nL 73.092 73.16 \nL 53.202 88.46 \nL 53.202 57.86 \n\" style=\"fill:none;stroke:#000000;stroke-linecap:round;stroke-width:2;\"/>\n   </g>\n   <g id=\"line2d_14\">\n    <path clip-path=\"url(#paf5e2628cd)\" d=\"M 102.009 57.86 \nL 97.419 57.86 \nL 97.419 73.16 \n\" style=\"fill:none;stroke:#000000;stroke-linecap:round;stroke-width:2;\"/>\n   </g>\n   <g id=\"line2d_15\">\n    <path clip-path=\"url(#paf5e2628cd)\" d=\"M 161.679 99.935 \nL 158.619 99.935 \nL 158.619 50.21 \n\" style=\"fill:none;stroke:#000000;stroke-linecap:round;stroke-width:2;\"/>\n   </g>\n   <g id=\"line2d_16\">\n    <path clip-path=\"url(#paf5e2628cd)\" d=\"M 132.609 180.26 \nL 133.589274 180.228565 \nL 134.565521 180.134387 \nL 135.533727 179.977855 \nL 136.489915 179.759611 \nL 137.430156 179.480553 \nL 138.350585 179.141826 \nL 139.247421 178.744824 \nL 140.116979 178.291176 \nL 140.955684 177.782748 \nL 141.760091 177.221628 \nL 142.526894 176.610123 \nL 143.252943 175.950745 \nL 143.935253 175.246204 \nL 144.571022 174.499394 \nL 145.157635 173.713385 \nL 145.692684 172.891406 \nL 146.173969 172.036836 \nL 146.599513 171.153185 \nL 146.967567 170.244085 \nL 147.276618 169.313272 \nL 147.525397 168.36457 \nL 147.712881 167.401878 \nL 147.8383 166.429152 \nL 147.901139 165.450389 \nL 147.901139 164.469611 \nL 147.8383 163.490848 \nL 147.712881 162.518122 \nL 147.525397 161.55543 \nL 147.276618 160.606728 \nL 146.967567 159.675915 \nL 146.599513 158.766815 \nL 146.173969 157.883164 \nL 145.692684 157.028594 \nL 145.157635 156.206615 \nL 144.571022 155.420606 \nL 143.935253 154.673796 \nL 143.252943 153.969255 \nL 142.526894 153.309877 \nL 141.760091 152.698372 \nL 140.955684 152.137252 \nL 140.116979 151.628824 \nL 139.247421 151.175176 \nL 138.350585 150.778174 \nL 137.430156 150.439447 \nL 136.489915 150.160389 \nL 135.533727 149.942145 \nL 134.565521 149.785613 \nL 133.589274 149.691435 \nL 132.609 149.66 \nL 132.609 149.66 \nL 112.719 149.66 \nL 112.719 164.96 \nL 112.719 180.26 \nL 132.609 180.26 \n\" style=\"fill:none;stroke:#000000;stroke-linecap:round;stroke-width:2;\"/>\n   </g>\n   <g id=\"line2d_17\">\n    <path clip-path=\"url(#paf5e2628cd)\" d=\"M 102.009 175.058 \nL 112.719 175.058 \n\" style=\"fill:none;stroke:#000000;stroke-linecap:round;stroke-width:2;\"/>\n   </g>\n   <g id=\"line2d_18\">\n    <path clip-path=\"url(#paf5e2628cd)\" d=\"M 102.009 164.96 \nL 112.719 164.96 \n\" style=\"fill:none;stroke:#000000;stroke-linecap:round;stroke-width:2;\"/>\n   </g>\n   <g id=\"line2d_19\">\n    <path clip-path=\"url(#paf5e2628cd)\" d=\"M 102.009 154.862 \nL 112.719 154.862 \n\" style=\"fill:none;stroke:#000000;stroke-linecap:round;stroke-width:2;\"/>\n   </g>\n   <g id=\"line2d_20\">\n    <path clip-path=\"url(#paf5e2628cd)\" d=\"M 147.909 164.96 \nL 158.619 164.96 \n\" style=\"fill:none;stroke:#000000;stroke-linecap:round;stroke-width:2;\"/>\n   </g>\n   <g id=\"line2d_21\">\n    <path clip-path=\"url(#paf5e2628cd)\" d=\"M 36.219 210.86 \nL 53.202 210.86 \nM 80.436 210.86 \nL 97.419 210.86 \n\" style=\"fill:none;stroke:#000000;stroke-linecap:round;stroke-width:2;\"/>\n   </g>\n   <g id=\"line2d_22\">\n    <path clip-path=\"url(#paf5e2628cd)\" d=\"M 53.202 195.56 \nL 73.092 210.86 \nL 53.202 226.16 \nL 53.202 195.56 \n\" style=\"fill:none;stroke:#000000;stroke-linecap:round;stroke-width:2;\"/>\n   </g>\n   <g id=\"line2d_23\">\n    <path clip-path=\"url(#paf5e2628cd)\" d=\"M 102.009 175.058 \nL 97.419 175.058 \nL 97.419 210.86 \n\" style=\"fill:none;stroke:#000000;stroke-linecap:round;stroke-width:2;\"/>\n   </g>\n   <g id=\"line2d_24\">\n    <path clip-path=\"url(#paf5e2628cd)\" d=\"M 161.679 115.235 \nL 158.619 115.235 \nL 158.619 164.96 \n\" style=\"fill:none;stroke:#000000;stroke-linecap:round;stroke-width:2;\"/>\n   </g>\n   <g id=\"text_1\">\n    <g clip-path=\"url(#paf5e2628cd)\">\n     <!-- ${D_1}$ -->\n     <defs>\n      <path d=\"M 16.890625 72.90625 \nL 38.09375 72.90625 \nQ 54.984375 72.90625 63.59375 65.75 \nQ 72.21875 58.59375 72.21875 44.484375 \nQ 72.21875 35.15625 68.9375 26.53125 \nQ 65.671875 17.921875 59.90625 12.015625 \nQ 54.109375 5.953125 45.171875 2.96875 \nQ 36.234375 0 24.03125 0 \nL 2.6875 0 \nz\nM 25.203125 64.796875 \nL 14.203125 8.109375 \nL 27.09375 8.109375 \nQ 43.65625 8.109375 52.734375 17.625 \nQ 61.8125 27.15625 61.8125 44.484375 \nQ 61.8125 54.984375 55.953125 59.890625 \nQ 50.09375 64.796875 37.59375 64.796875 \nz\n\" id=\"DejaVuSans-Oblique-68\"/>\n      <path d=\"M 12.40625 8.296875 \nL 28.515625 8.296875 \nL 28.515625 63.921875 \nL 10.984375 60.40625 \nL 10.984375 69.390625 \nL 28.421875 72.90625 \nL 38.28125 72.90625 \nL 38.28125 8.296875 \nL 54.390625 8.296875 \nL 54.390625 0 \nL 12.40625 0 \nz\n\" id=\"DejaVuSans-49\"/>\n     </defs>\n     <g transform=\"translate(222.879 111.034219)scale(0.125 -0.125)\">\n      <use transform=\"translate(0 0.09375)\" xlink:href=\"#DejaVuSans-Oblique-68\"/>\n      <use transform=\"translate(77.001953 -16.3125)scale(0.7)\" xlink:href=\"#DejaVuSans-49\"/>\n     </g>\n    </g>\n   </g>\n   <g id=\"text_2\">\n    <g clip-path=\"url(#paf5e2628cd)\">\n     <!-- Q2 -->\n     <defs>\n      <path d=\"M 39.40625 66.21875 \nQ 28.65625 66.21875 22.328125 58.203125 \nQ 16.015625 50.203125 16.015625 36.375 \nQ 16.015625 22.609375 22.328125 14.59375 \nQ 28.65625 6.59375 39.40625 6.59375 \nQ 50.140625 6.59375 56.421875 14.59375 \nQ 62.703125 22.609375 62.703125 36.375 \nQ 62.703125 50.203125 56.421875 58.203125 \nQ 50.140625 66.21875 39.40625 66.21875 \nz\nM 53.21875 1.3125 \nL 66.21875 -12.890625 \nL 54.296875 -12.890625 \nL 43.5 -1.21875 \nQ 41.890625 -1.3125 41.03125 -1.359375 \nQ 40.1875 -1.421875 39.40625 -1.421875 \nQ 24.03125 -1.421875 14.8125 8.859375 \nQ 5.609375 19.140625 5.609375 36.375 \nQ 5.609375 53.65625 14.8125 63.9375 \nQ 24.03125 74.21875 39.40625 74.21875 \nQ 54.734375 74.21875 63.90625 63.9375 \nQ 73.09375 53.65625 73.09375 36.375 \nQ 73.09375 23.6875 67.984375 14.640625 \nQ 62.890625 5.609375 53.21875 1.3125 \nz\n\" id=\"DejaVuSans-81\"/>\n      <path d=\"M 19.1875 8.296875 \nL 53.609375 8.296875 \nL 53.609375 0 \nL 7.328125 0 \nL 7.328125 8.296875 \nQ 12.9375 14.109375 22.625 23.890625 \nQ 32.328125 33.6875 34.8125 36.53125 \nQ 39.546875 41.84375 41.421875 45.53125 \nQ 43.3125 49.21875 43.3125 52.78125 \nQ 43.3125 58.59375 39.234375 62.25 \nQ 35.15625 65.921875 28.609375 65.921875 \nQ 23.96875 65.921875 18.8125 64.3125 \nQ 13.671875 62.703125 7.8125 59.421875 \nL 7.8125 69.390625 \nQ 13.765625 71.78125 18.9375 73 \nQ 24.125 74.21875 28.421875 74.21875 \nQ 39.75 74.21875 46.484375 68.546875 \nQ 53.21875 62.890625 53.21875 53.421875 \nQ 53.21875 48.921875 51.53125 44.890625 \nQ 49.859375 40.875 45.40625 35.40625 \nQ 44.1875 33.984375 37.640625 27.21875 \nQ 31.109375 20.453125 19.1875 8.296875 \nz\n\" id=\"DejaVuSans-50\"/>\n     </defs>\n     <g transform=\"translate(15.366031 30.709219)scale(0.125 -0.125)\">\n      <use xlink:href=\"#DejaVuSans-81\"/>\n      <use x=\"78.710938\" xlink:href=\"#DejaVuSans-50\"/>\n     </g>\n    </g>\n   </g>\n   <g id=\"text_3\">\n    <g clip-path=\"url(#paf5e2628cd)\">\n     <!-- Q3 -->\n     <defs>\n      <path d=\"M 40.578125 39.3125 \nQ 47.65625 37.796875 51.625 33 \nQ 55.609375 28.21875 55.609375 21.1875 \nQ 55.609375 10.40625 48.1875 4.484375 \nQ 40.765625 -1.421875 27.09375 -1.421875 \nQ 22.515625 -1.421875 17.65625 -0.515625 \nQ 12.796875 0.390625 7.625 2.203125 \nL 7.625 11.71875 \nQ 11.71875 9.328125 16.59375 8.109375 \nQ 21.484375 6.890625 26.8125 6.890625 \nQ 36.078125 6.890625 40.9375 10.546875 \nQ 45.796875 14.203125 45.796875 21.1875 \nQ 45.796875 27.640625 41.28125 31.265625 \nQ 36.765625 34.90625 28.71875 34.90625 \nL 20.21875 34.90625 \nL 20.21875 43.015625 \nL 29.109375 43.015625 \nQ 36.375 43.015625 40.234375 45.921875 \nQ 44.09375 48.828125 44.09375 54.296875 \nQ 44.09375 59.90625 40.109375 62.90625 \nQ 36.140625 65.921875 28.71875 65.921875 \nQ 24.65625 65.921875 20.015625 65.03125 \nQ 15.375 64.15625 9.8125 62.3125 \nL 9.8125 71.09375 \nQ 15.4375 72.65625 20.34375 73.4375 \nQ 25.25 74.21875 29.59375 74.21875 \nQ 40.828125 74.21875 47.359375 69.109375 \nQ 53.90625 64.015625 53.90625 55.328125 \nQ 53.90625 49.265625 50.4375 45.09375 \nQ 46.96875 40.921875 40.578125 39.3125 \nz\n\" id=\"DejaVuSans-51\"/>\n     </defs>\n     <g transform=\"translate(15.366031 76.609219)scale(0.125 -0.125)\">\n      <use xlink:href=\"#DejaVuSans-81\"/>\n      <use x=\"78.710938\" xlink:href=\"#DejaVuSans-51\"/>\n     </g>\n    </g>\n   </g>\n   <g id=\"text_4\">\n    <g clip-path=\"url(#paf5e2628cd)\">\n     <!-- Q2 -->\n     <g transform=\"translate(81.156031 158.311219)scale(0.125 -0.125)\">\n      <use xlink:href=\"#DejaVuSans-81\"/>\n      <use x=\"78.710938\" xlink:href=\"#DejaVuSans-50\"/>\n     </g>\n    </g>\n   </g>\n   <g id=\"text_5\">\n    <g clip-path=\"url(#paf5e2628cd)\">\n     <!-- Q3 -->\n     <g transform=\"translate(81.156031 168.409219)scale(0.125 -0.125)\">\n      <use xlink:href=\"#DejaVuSans-81\"/>\n      <use x=\"78.710938\" xlink:href=\"#DejaVuSans-51\"/>\n     </g>\n    </g>\n   </g>\n   <g id=\"text_6\">\n    <g clip-path=\"url(#paf5e2628cd)\">\n     <!-- Q4 -->\n     <defs>\n      <path d=\"M 37.796875 64.3125 \nL 12.890625 25.390625 \nL 37.796875 25.390625 \nz\nM 35.203125 72.90625 \nL 47.609375 72.90625 \nL 47.609375 25.390625 \nL 58.015625 25.390625 \nL 58.015625 17.1875 \nL 47.609375 17.1875 \nL 47.609375 0 \nL 37.796875 0 \nL 37.796875 17.1875 \nL 4.890625 17.1875 \nL 4.890625 26.703125 \nz\n\" id=\"DejaVuSans-52\"/>\n     </defs>\n     <g transform=\"translate(15.366031 214.309219)scale(0.125 -0.125)\">\n      <use xlink:href=\"#DejaVuSans-81\"/>\n      <use x=\"78.710938\" xlink:href=\"#DejaVuSans-52\"/>\n     </g>\n    </g>\n   </g>\n  </g>\n </g>\n <defs>\n  <clipPath id=\"paf5e2628cd\">\n   <rect height=\"222.02\" width=\"252.8988\" x=\"7.2\" y=\"7.2\"/>\n  </clipPath>\n </defs>\n</svg>\n"
          },
          "metadata": {},
          "execution_count": 167
        }
      ]
    },
    {
      "cell_type": "markdown",
      "source": [
        "Для триггера Т2 функция на его входе D2"
      ],
      "metadata": {
        "id": "6DIRvF6ab6KI"
      }
    },
    {
      "cell_type": "code",
      "source": [
        "#logicparse('(~Q1 & ~Q3 & ~Q4) | (~Q2 & ~Q3 & ~Q4) | (Q3 & Q4 & ~Q1 & ~Q2)', outlabel='${D_2}$', gateH=1.5)\n",
        "logicparse(str(D2), outlabel='${D_2}$', gateH=1.5)"
      ],
      "metadata": {
        "colab": {
          "base_uri": "https://localhost:8080/"
        },
        "id": "ST_ns4Oo_dRW",
        "outputId": "afcb9ad4-81b4-436a-c9bb-e51194bbf99f"
      },
      "execution_count": null,
      "outputs": [
        {
          "output_type": "execute_result",
          "data": {
            "image/png": "[encoded data removed]",
            "text/plain": [
              "<schemdraw.schemdraw.Drawing at 0x7fb5e0862750>"
            ],
            "image/svg+xml": "<?xml version=\"1.0\" encoding=\"utf-8\" standalone=\"no\"?>\n<!DOCTYPE svg PUBLIC \"-//W3C//DTD SVG 1.1//EN\"\n  \"http://www.w3.org/Graphics/SVG/1.1/DTD/svg11.dtd\">\n<!-- Created with matplotlib (https://matplotlib.org/) -->\n<svg height=\"190.52pt\" version=\"1.1\" viewBox=\"0 0 267.2988 190.52\" width=\"267.2988pt\" xmlns=\"http://www.w3.org/2000/svg\" xmlns:xlink=\"http://www.w3.org/1999/xlink\">\n <defs>\n  <style type=\"text/css\">\n*{stroke-linecap:butt;stroke-linejoin:round;}\n  </style>\n </defs>\n <g id=\"figure_1\">\n  <g id=\"patch_1\">\n   <path d=\"M -0 190.52 \nL 267.2988 190.52 \nL 267.2988 0 \nL -0 0 \nz\n\" style=\"fill:#ffffff;\"/>\n  </g>\n  <g id=\"axes_1\">\n   <g id=\"patch_2\">\n    <path clip-path=\"url(#pd970bd7715)\" d=\"M 76.764 30.932 \nC 77.737826 30.932 78.671897 30.545095 79.360496 29.856496 \nC 80.049095 29.167897 80.436 28.233826 80.436 27.26 \nC 80.436 26.286174 80.049095 25.352103 79.360496 24.663504 \nC 78.671897 23.974905 77.737826 23.588 76.764 23.588 \nC 75.790174 23.588 74.856103 23.974905 74.167504 24.663504 \nC 73.478905 25.352103 73.092 26.286174 73.092 27.26 \nC 73.092 28.233826 73.478905 29.167897 74.167504 29.856496 \nC 74.856103 30.545095 75.790174 30.932 76.764 30.932 \nz\n\" style=\"fill:none;stroke:#000000;stroke-linejoin:miter;stroke-width:2;\"/>\n   </g>\n   <g id=\"patch_3\">\n    <path clip-path=\"url(#pd970bd7715)\" d=\"M 76.764 76.832 \nC 77.737826 76.832 78.671897 76.445095 79.360496 75.756496 \nC 80.049095 75.067897 80.436 74.133826 80.436 73.16 \nC 80.436 72.186174 80.049095 71.252103 79.360496 70.563504 \nC 78.671897 69.874905 77.737826 69.488 76.764 69.488 \nC 75.790174 69.488 74.856103 69.874905 74.167504 70.563504 \nC 73.478905 71.252103 73.092 72.186174 73.092 73.16 \nC 73.092 74.133826 73.478905 75.067897 74.167504 75.756496 \nC 74.856103 76.445095 75.790174 76.832 76.764 76.832 \nz\n\" style=\"fill:none;stroke:#000000;stroke-linejoin:miter;stroke-width:2;\"/>\n   </g>\n   <g id=\"patch_4\">\n    <path clip-path=\"url(#pd970bd7715)\" d=\"M 76.764 122.732 \nC 77.737826 122.732 78.671897 122.345095 79.360496 121.656496 \nC 80.049095 120.967897 80.436 120.033826 80.436 119.06 \nC 80.436 118.086174 80.049095 117.152103 79.360496 116.463504 \nC 78.671897 115.774905 77.737826 115.388 76.764 115.388 \nC 75.790174 115.388 74.856103 115.774905 74.167504 116.463504 \nC 73.478905 117.152103 73.092 118.086174 73.092 119.06 \nC 73.092 120.033826 73.478905 120.967897 74.167504 121.656496 \nC 74.856103 122.345095 75.790174 122.732 76.764 122.732 \nz\n\" style=\"fill:none;stroke:#000000;stroke-linejoin:miter;stroke-width:2;\"/>\n   </g>\n   <g id=\"patch_5\">\n    <path clip-path=\"url(#pd970bd7715)\" d=\"M 76.764 168.632 \nC 77.737826 168.632 78.671897 168.245095 79.360496 167.556496 \nC 80.049095 166.867897 80.436 165.933826 80.436 164.96 \nC 80.436 163.986174 80.049095 163.052103 79.360496 162.363504 \nC 78.671897 161.674905 77.737826 161.288 76.764 161.288 \nC 75.790174 161.288 74.856103 161.674905 74.167504 162.363504 \nC 73.478905 163.052103 73.092 163.986174 73.092 164.96 \nC 73.092 165.933826 73.478905 166.867897 74.167504 167.556496 \nC 74.856103 168.245095 75.790174 168.632 76.764 168.632 \nz\n\" style=\"fill:none;stroke:#000000;stroke-linejoin:miter;stroke-width:2;\"/>\n   </g>\n   <g id=\"line2d_1\">\n    <path clip-path=\"url(#pd970bd7715)\" d=\"M 172.389 88.154 \nL 189.437571 88.054082 \nL 191.186143 87.754327 \nL 192.934714 87.254735 \nL 194.683286 86.555306 \nL 196.431857 85.656041 \nL 198.617571 84.250939 \nL 200.803286 82.533592 \nL 202.989 80.504 \nL 205.174714 78.162163 \nL 207.360429 75.508082 \nL 209.109 73.16 \nL 209.109 73.16 \nL 206.486143 69.712816 \nL 204.300429 67.183633 \nL 202.114714 64.966694 \nL 199.929 63.062 \nL 197.743286 61.469551 \nL 195.557571 60.189347 \nL 193.809 59.39 \nL 192.060429 58.79049 \nL 190.311857 58.390816 \nL 188.563286 58.19098 \nL 187.689 58.166 \nL 172.389 58.166 \nL 172.389 58.166 \nL 174.5922 60.614 \nL 175.98756 62.45 \nL 177.1626 64.286 \nL 178.11732 66.122 \nL 178.85172 67.958 \nL 179.3658 69.794 \nL 179.65956 71.63 \nL 179.733 73.466 \nL 179.58612 75.302 \nL 179.21892 77.138 \nL 178.6314 78.974 \nL 177.82356 80.81 \nL 176.7954 82.646 \nL 175.54692 84.482 \nL 174.07812 86.318 \nL 172.389 88.154 \nL 172.389 88.154 \n\" style=\"fill:none;stroke:#000000;stroke-linecap:round;stroke-width:2;\"/>\n   </g>\n   <g id=\"line2d_2\">\n    <path clip-path=\"url(#pd970bd7715)\" d=\"M 161.679 83.258 \nL 176.40372 83.258 \n\" style=\"fill:none;stroke:#000000;stroke-linecap:round;stroke-width:2;\"/>\n   </g>\n   <g id=\"line2d_3\">\n    <path clip-path=\"url(#pd970bd7715)\" d=\"M 161.679 73.16 \nL 179.73606 73.16 \n\" style=\"fill:none;stroke:#000000;stroke-linecap:round;stroke-width:2;\"/>\n   </g>\n   <g id=\"line2d_4\">\n    <path clip-path=\"url(#pd970bd7715)\" d=\"M 161.679 63.062 \nL 176.40372 63.062 \n\" style=\"fill:none;stroke:#000000;stroke-linecap:round;stroke-width:2;\"/>\n   </g>\n   <g id=\"line2d_5\">\n    <path clip-path=\"url(#pd970bd7715)\" d=\"M 209.109 73.16 \nL 219.819 73.16 \n\" style=\"fill:none;stroke:#000000;stroke-linecap:round;stroke-width:2;\"/>\n   </g>\n   <g id=\"line2d_6\">\n    <path clip-path=\"url(#pd970bd7715)\" d=\"M 132.609 65.51 \nL 133.589274 65.478565 \nL 134.565521 65.384387 \nL 135.533727 65.227855 \nL 136.489915 65.009611 \nL 137.430156 64.730553 \nL 138.350585 64.391826 \nL 139.247421 63.994824 \nL 140.116979 63.541176 \nL 140.955684 63.032748 \nL 141.760091 62.471628 \nL 142.526894 61.860123 \nL 143.252943 61.200745 \nL 143.935253 60.496204 \nL 144.571022 59.749394 \nL 145.157635 58.963385 \nL 145.692684 58.141406 \nL 146.173969 57.286836 \nL 146.599513 56.403185 \nL 146.967567 55.494085 \nL 147.276618 54.563272 \nL 147.525397 53.61457 \nL 147.712881 52.651878 \nL 147.8383 51.679152 \nL 147.901139 50.700389 \nL 147.901139 49.719611 \nL 147.8383 48.740848 \nL 147.712881 47.768122 \nL 147.525397 46.80543 \nL 147.276618 45.856728 \nL 146.967567 44.925915 \nL 146.599513 44.016815 \nL 146.173969 43.133164 \nL 145.692684 42.278594 \nL 145.157635 41.456615 \nL 144.571022 40.670606 \nL 143.935253 39.923796 \nL 143.252943 39.219255 \nL 142.526894 38.559877 \nL 141.760091 37.948372 \nL 140.955684 37.387252 \nL 140.116979 36.878824 \nL 139.247421 36.425176 \nL 138.350585 36.028174 \nL 137.430156 35.689447 \nL 136.489915 35.410389 \nL 135.533727 35.192145 \nL 134.565521 35.035613 \nL 133.589274 34.941435 \nL 132.609 34.91 \nL 132.609 34.91 \nL 112.719 34.91 \nL 112.719 50.21 \nL 112.719 65.51 \nL 132.609 65.51 \n\" style=\"fill:none;stroke:#000000;stroke-linecap:round;stroke-width:2;\"/>\n   </g>\n   <g id=\"line2d_7\">\n    <path clip-path=\"url(#pd970bd7715)\" d=\"M 102.009 57.86 \nL 112.719 57.86 \n\" style=\"fill:none;stroke:#000000;stroke-linecap:round;stroke-width:2;\"/>\n   </g>\n   <g id=\"line2d_8\">\n    <path clip-path=\"url(#pd970bd7715)\" d=\"M 102.009 42.56 \nL 112.719 42.56 \n\" style=\"fill:none;stroke:#000000;stroke-linecap:round;stroke-width:2;\"/>\n   </g>\n   <g id=\"line2d_9\">\n    <path clip-path=\"url(#pd970bd7715)\" d=\"M 147.909 50.21 \nL 158.619 50.21 \n\" style=\"fill:none;stroke:#000000;stroke-linecap:round;stroke-width:2;\"/>\n   </g>\n   <g id=\"line2d_10\">\n    <path clip-path=\"url(#pd970bd7715)\" d=\"M 36.219 27.26 \nL 53.202 27.26 \nM 80.436 27.26 \nL 97.419 27.26 \n\" style=\"fill:none;stroke:#000000;stroke-linecap:round;stroke-width:2;\"/>\n   </g>\n   <g id=\"line2d_11\">\n    <path clip-path=\"url(#pd970bd7715)\" d=\"M 53.202 11.96 \nL 73.092 27.26 \nL 53.202 42.56 \nL 53.202 11.96 \n\" style=\"fill:none;stroke:#000000;stroke-linecap:round;stroke-width:2;\"/>\n   </g>\n   <g id=\"line2d_12\">\n    <path clip-path=\"url(#pd970bd7715)\" d=\"M 102.009 42.56 \nL 97.419 42.56 \nL 97.419 27.26 \n\" style=\"fill:none;stroke:#000000;stroke-linecap:round;stroke-width:2;\"/>\n   </g>\n   <g id=\"line2d_13\">\n    <path clip-path=\"url(#pd970bd7715)\" d=\"M 36.219 73.16 \nL 53.202 73.16 \nM 80.436 73.16 \nL 97.419 73.16 \n\" style=\"fill:none;stroke:#000000;stroke-linecap:round;stroke-width:2;\"/>\n   </g>\n   <g id=\"line2d_14\">\n    <path clip-path=\"url(#pd970bd7715)\" d=\"M 53.202 57.86 \nL 73.092 73.16 \nL 53.202 88.46 \nL 53.202 57.86 \n\" style=\"fill:none;stroke:#000000;stroke-linecap:round;stroke-width:2;\"/>\n   </g>\n   <g id=\"line2d_15\">\n    <path clip-path=\"url(#pd970bd7715)\" d=\"M 102.009 57.86 \nL 97.419 57.86 \nL 97.419 73.16 \n\" style=\"fill:none;stroke:#000000;stroke-linecap:round;stroke-width:2;\"/>\n   </g>\n   <g id=\"line2d_16\">\n    <path clip-path=\"url(#pd970bd7715)\" d=\"M 161.679 73.16 \nL 158.619 73.16 \nL 158.619 50.21 \n\" style=\"fill:none;stroke:#000000;stroke-linecap:round;stroke-width:2;\"/>\n   </g>\n   <g id=\"line2d_17\">\n    <path clip-path=\"url(#pd970bd7715)\" d=\"M 132.609 157.31 \nL 133.589274 157.278565 \nL 134.565521 157.184387 \nL 135.533727 157.027855 \nL 136.489915 156.809611 \nL 137.430156 156.530553 \nL 138.350585 156.191826 \nL 139.247421 155.794824 \nL 140.116979 155.341176 \nL 140.955684 154.832748 \nL 141.760091 154.271628 \nL 142.526894 153.660123 \nL 143.252943 153.000745 \nL 143.935253 152.296204 \nL 144.571022 151.549394 \nL 145.157635 150.763385 \nL 145.692684 149.941406 \nL 146.173969 149.086836 \nL 146.599513 148.203185 \nL 146.967567 147.294085 \nL 147.276618 146.363272 \nL 147.525397 145.41457 \nL 147.712881 144.451878 \nL 147.8383 143.479152 \nL 147.901139 142.500389 \nL 147.901139 141.519611 \nL 147.8383 140.540848 \nL 147.712881 139.568122 \nL 147.525397 138.60543 \nL 147.276618 137.656728 \nL 146.967567 136.725915 \nL 146.599513 135.816815 \nL 146.173969 134.933164 \nL 145.692684 134.078594 \nL 145.157635 133.256615 \nL 144.571022 132.470606 \nL 143.935253 131.723796 \nL 143.252943 131.019255 \nL 142.526894 130.359877 \nL 141.760091 129.748372 \nL 140.955684 129.187252 \nL 140.116979 128.678824 \nL 139.247421 128.225176 \nL 138.350585 127.828174 \nL 137.430156 127.489447 \nL 136.489915 127.210389 \nL 135.533727 126.992145 \nL 134.565521 126.835613 \nL 133.589274 126.741435 \nL 132.609 126.71 \nL 132.609 126.71 \nL 112.719 126.71 \nL 112.719 142.01 \nL 112.719 157.31 \nL 132.609 157.31 \n\" style=\"fill:none;stroke:#000000;stroke-linecap:round;stroke-width:2;\"/>\n   </g>\n   <g id=\"line2d_18\">\n    <path clip-path=\"url(#pd970bd7715)\" d=\"M 102.009 149.66 \nL 112.719 149.66 \n\" style=\"fill:none;stroke:#000000;stroke-linecap:round;stroke-width:2;\"/>\n   </g>\n   <g id=\"line2d_19\">\n    <path clip-path=\"url(#pd970bd7715)\" d=\"M 102.009 134.36 \nL 112.719 134.36 \n\" style=\"fill:none;stroke:#000000;stroke-linecap:round;stroke-width:2;\"/>\n   </g>\n   <g id=\"line2d_20\">\n    <path clip-path=\"url(#pd970bd7715)\" d=\"M 147.909 142.01 \nL 158.619 142.01 \n\" style=\"fill:none;stroke:#000000;stroke-linecap:round;stroke-width:2;\"/>\n   </g>\n   <g id=\"line2d_21\">\n    <path clip-path=\"url(#pd970bd7715)\" d=\"M 36.219 119.06 \nL 53.202 119.06 \nM 80.436 119.06 \nL 97.419 119.06 \n\" style=\"fill:none;stroke:#000000;stroke-linecap:round;stroke-width:2;\"/>\n   </g>\n   <g id=\"line2d_22\">\n    <path clip-path=\"url(#pd970bd7715)\" d=\"M 53.202 103.76 \nL 73.092 119.06 \nL 53.202 134.36 \nL 53.202 103.76 \n\" style=\"fill:none;stroke:#000000;stroke-linecap:round;stroke-width:2;\"/>\n   </g>\n   <g id=\"line2d_23\">\n    <path clip-path=\"url(#pd970bd7715)\" d=\"M 102.009 134.36 \nL 97.419 134.36 \nL 97.419 119.06 \n\" style=\"fill:none;stroke:#000000;stroke-linecap:round;stroke-width:2;\"/>\n   </g>\n   <g id=\"line2d_24\">\n    <path clip-path=\"url(#pd970bd7715)\" d=\"M 36.219 164.96 \nL 53.202 164.96 \nM 80.436 164.96 \nL 97.419 164.96 \n\" style=\"fill:none;stroke:#000000;stroke-linecap:round;stroke-width:2;\"/>\n   </g>\n   <g id=\"line2d_25\">\n    <path clip-path=\"url(#pd970bd7715)\" d=\"M 53.202 149.66 \nL 73.092 164.96 \nL 53.202 180.26 \nL 53.202 149.66 \n\" style=\"fill:none;stroke:#000000;stroke-linecap:round;stroke-width:2;\"/>\n   </g>\n   <g id=\"line2d_26\">\n    <path clip-path=\"url(#pd970bd7715)\" d=\"M 102.009 149.66 \nL 97.419 149.66 \nL 97.419 164.96 \n\" style=\"fill:none;stroke:#000000;stroke-linecap:round;stroke-width:2;\"/>\n   </g>\n   <g id=\"line2d_27\">\n    <path clip-path=\"url(#pd970bd7715)\" d=\"M 161.679 83.258 \nL 158.619 83.258 \nL 158.619 142.01 \n\" style=\"fill:none;stroke:#000000;stroke-linecap:round;stroke-width:2;\"/>\n   </g>\n   <g id=\"text_1\">\n    <g clip-path=\"url(#pd970bd7715)\">\n     <!-- ${D_2}$ -->\n     <defs>\n      <path d=\"M 16.890625 72.90625 \nL 38.09375 72.90625 \nQ 54.984375 72.90625 63.59375 65.75 \nQ 72.21875 58.59375 72.21875 44.484375 \nQ 72.21875 35.15625 68.9375 26.53125 \nQ 65.671875 17.921875 59.90625 12.015625 \nQ 54.109375 5.953125 45.171875 2.96875 \nQ 36.234375 0 24.03125 0 \nL 2.6875 0 \nz\nM 25.203125 64.796875 \nL 14.203125 8.109375 \nL 27.09375 8.109375 \nQ 43.65625 8.109375 52.734375 17.625 \nQ 61.8125 27.15625 61.8125 44.484375 \nQ 61.8125 54.984375 55.953125 59.890625 \nQ 50.09375 64.796875 37.59375 64.796875 \nz\n\" id=\"DejaVuSans-Oblique-68\"/>\n      <path d=\"M 19.1875 8.296875 \nL 53.609375 8.296875 \nL 53.609375 0 \nL 7.328125 0 \nL 7.328125 8.296875 \nQ 12.9375 14.109375 22.625 23.890625 \nQ 32.328125 33.6875 34.8125 36.53125 \nQ 39.546875 41.84375 41.421875 45.53125 \nQ 43.3125 49.21875 43.3125 52.78125 \nQ 43.3125 58.59375 39.234375 62.25 \nQ 35.15625 65.921875 28.609375 65.921875 \nQ 23.96875 65.921875 18.8125 64.3125 \nQ 13.671875 62.703125 7.8125 59.421875 \nL 7.8125 69.390625 \nQ 13.765625 71.78125 18.9375 73 \nQ 24.125 74.21875 28.421875 74.21875 \nQ 39.75 74.21875 46.484375 68.546875 \nQ 53.21875 62.890625 53.21875 53.421875 \nQ 53.21875 48.921875 51.53125 44.890625 \nQ 49.859375 40.875 45.40625 35.40625 \nQ 44.1875 33.984375 37.640625 27.21875 \nQ 31.109375 20.453125 19.1875 8.296875 \nz\n\" id=\"DejaVuSans-50\"/>\n     </defs>\n     <g transform=\"translate(222.879 76.609219)scale(0.125 -0.125)\">\n      <use transform=\"translate(0 0.09375)\" xlink:href=\"#DejaVuSans-Oblique-68\"/>\n      <use transform=\"translate(77.001953 -16.3125)scale(0.7)\" xlink:href=\"#DejaVuSans-50\"/>\n     </g>\n    </g>\n   </g>\n   <g id=\"text_2\">\n    <g clip-path=\"url(#pd970bd7715)\">\n     <!-- Q4 -->\n     <defs>\n      <path d=\"M 39.40625 66.21875 \nQ 28.65625 66.21875 22.328125 58.203125 \nQ 16.015625 50.203125 16.015625 36.375 \nQ 16.015625 22.609375 22.328125 14.59375 \nQ 28.65625 6.59375 39.40625 6.59375 \nQ 50.140625 6.59375 56.421875 14.59375 \nQ 62.703125 22.609375 62.703125 36.375 \nQ 62.703125 50.203125 56.421875 58.203125 \nQ 50.140625 66.21875 39.40625 66.21875 \nz\nM 53.21875 1.3125 \nL 66.21875 -12.890625 \nL 54.296875 -12.890625 \nL 43.5 -1.21875 \nQ 41.890625 -1.3125 41.03125 -1.359375 \nQ 40.1875 -1.421875 39.40625 -1.421875 \nQ 24.03125 -1.421875 14.8125 8.859375 \nQ 5.609375 19.140625 5.609375 36.375 \nQ 5.609375 53.65625 14.8125 63.9375 \nQ 24.03125 74.21875 39.40625 74.21875 \nQ 54.734375 74.21875 63.90625 63.9375 \nQ 73.09375 53.65625 73.09375 36.375 \nQ 73.09375 23.6875 67.984375 14.640625 \nQ 62.890625 5.609375 53.21875 1.3125 \nz\n\" id=\"DejaVuSans-81\"/>\n      <path d=\"M 37.796875 64.3125 \nL 12.890625 25.390625 \nL 37.796875 25.390625 \nz\nM 35.203125 72.90625 \nL 47.609375 72.90625 \nL 47.609375 25.390625 \nL 58.015625 25.390625 \nL 58.015625 17.1875 \nL 47.609375 17.1875 \nL 47.609375 0 \nL 37.796875 0 \nL 37.796875 17.1875 \nL 4.890625 17.1875 \nL 4.890625 26.703125 \nz\n\" id=\"DejaVuSans-52\"/>\n     </defs>\n     <g transform=\"translate(140.826031 66.511219)scale(0.125 -0.125)\">\n      <use xlink:href=\"#DejaVuSans-81\"/>\n      <use x=\"78.710938\" xlink:href=\"#DejaVuSans-52\"/>\n     </g>\n    </g>\n   </g>\n   <g id=\"text_3\">\n    <g clip-path=\"url(#pd970bd7715)\">\n     <!-- Q1 -->\n     <defs>\n      <path d=\"M 12.40625 8.296875 \nL 28.515625 8.296875 \nL 28.515625 63.921875 \nL 10.984375 60.40625 \nL 10.984375 69.390625 \nL 28.421875 72.90625 \nL 38.28125 72.90625 \nL 38.28125 8.296875 \nL 54.390625 8.296875 \nL 54.390625 0 \nL 12.40625 0 \nz\n\" id=\"DejaVuSans-49\"/>\n     </defs>\n     <g transform=\"translate(15.366031 30.709219)scale(0.125 -0.125)\">\n      <use xlink:href=\"#DejaVuSans-81\"/>\n      <use x=\"78.710938\" xlink:href=\"#DejaVuSans-49\"/>\n     </g>\n    </g>\n   </g>\n   <g id=\"text_4\">\n    <g clip-path=\"url(#pd970bd7715)\">\n     <!-- Q3 -->\n     <defs>\n      <path d=\"M 40.578125 39.3125 \nQ 47.65625 37.796875 51.625 33 \nQ 55.609375 28.21875 55.609375 21.1875 \nQ 55.609375 10.40625 48.1875 4.484375 \nQ 40.765625 -1.421875 27.09375 -1.421875 \nQ 22.515625 -1.421875 17.65625 -0.515625 \nQ 12.796875 0.390625 7.625 2.203125 \nL 7.625 11.71875 \nQ 11.71875 9.328125 16.59375 8.109375 \nQ 21.484375 6.890625 26.8125 6.890625 \nQ 36.078125 6.890625 40.9375 10.546875 \nQ 45.796875 14.203125 45.796875 21.1875 \nQ 45.796875 27.640625 41.28125 31.265625 \nQ 36.765625 34.90625 28.71875 34.90625 \nL 20.21875 34.90625 \nL 20.21875 43.015625 \nL 29.109375 43.015625 \nQ 36.375 43.015625 40.234375 45.921875 \nQ 44.09375 48.828125 44.09375 54.296875 \nQ 44.09375 59.90625 40.109375 62.90625 \nQ 36.140625 65.921875 28.71875 65.921875 \nQ 24.65625 65.921875 20.015625 65.03125 \nQ 15.375 64.15625 9.8125 62.3125 \nL 9.8125 71.09375 \nQ 15.4375 72.65625 20.34375 73.4375 \nQ 25.25 74.21875 29.59375 74.21875 \nQ 40.828125 74.21875 47.359375 69.109375 \nQ 53.90625 64.015625 53.90625 55.328125 \nQ 53.90625 49.265625 50.4375 45.09375 \nQ 46.96875 40.921875 40.578125 39.3125 \nz\n\" id=\"DejaVuSans-51\"/>\n     </defs>\n     <g transform=\"translate(15.366031 76.609219)scale(0.125 -0.125)\">\n      <use xlink:href=\"#DejaVuSans-81\"/>\n      <use x=\"78.710938\" xlink:href=\"#DejaVuSans-51\"/>\n     </g>\n    </g>\n   </g>\n   <g id=\"text_5\">\n    <g clip-path=\"url(#pd970bd7715)\">\n     <!-- Q2 -->\n     <g transform=\"translate(15.366031 122.509219)scale(0.125 -0.125)\">\n      <use xlink:href=\"#DejaVuSans-81\"/>\n      <use x=\"78.710938\" xlink:href=\"#DejaVuSans-50\"/>\n     </g>\n    </g>\n   </g>\n   <g id=\"text_6\">\n    <g clip-path=\"url(#pd970bd7715)\">\n     <!-- Q3 -->\n     <g transform=\"translate(15.366031 168.409219)scale(0.125 -0.125)\">\n      <use xlink:href=\"#DejaVuSans-81\"/>\n      <use x=\"78.710938\" xlink:href=\"#DejaVuSans-51\"/>\n     </g>\n    </g>\n   </g>\n  </g>\n </g>\n <defs>\n  <clipPath id=\"pd970bd7715\">\n   <rect height=\"176.12\" width=\"252.8988\" x=\"7.2\" y=\"7.2\"/>\n  </clipPath>\n </defs>\n</svg>\n"
          },
          "metadata": {},
          "execution_count": 168
        }
      ]
    },
    {
      "cell_type": "markdown",
      "source": [
        "Для триггера Т3 функция на его входе D3"
      ],
      "metadata": {
        "id": "q-vshn4PiITY"
      }
    },
    {
      "cell_type": "code",
      "source": [
        "#logicparse('(Q2 & ~Q1 & ~Q4) | (Q1 & Q3 & Q4 & ~Q2) | (Q1 & ~Q2 & ~Q3 & ~Q4)', gateH=1.5)\n",
        "logicparse(str(D3), gateH=1.5, outlabel='${D_3}$')"
      ],
      "metadata": {
        "colab": {
          "base_uri": "https://localhost:8080/"
        },
        "id": "RdcZ4bJkDFh0",
        "outputId": "0b12b7c8-dcb8-4a0d-f5c4-36f820d27c3d"
      },
      "execution_count": null,
      "outputs": [
        {
          "output_type": "execute_result",
          "data": {
            "image/png": "[encoded data removed]",
            "text/plain": [
              "<schemdraw.schemdraw.Drawing at 0x7fb5e02c0dd0>"
            ],
            "image/svg+xml": "<?xml version=\"1.0\" encoding=\"utf-8\" standalone=\"no\"?>\n<!DOCTYPE svg PUBLIC \"-//W3C//DTD SVG 1.1//EN\"\n  \"http://www.w3.org/Graphics/SVG/1.1/DTD/svg11.dtd\">\n<!-- Created with matplotlib (https://matplotlib.org/) -->\n<svg height=\"267.02pt\" version=\"1.1\" viewBox=\"0 0 267.2988 267.02\" width=\"267.2988pt\" xmlns=\"http://www.w3.org/2000/svg\" xmlns:xlink=\"http://www.w3.org/1999/xlink\">\n <defs>\n  <style type=\"text/css\">\n*{stroke-linecap:butt;stroke-linejoin:round;}\n  </style>\n </defs>\n <g id=\"figure_1\">\n  <g id=\"patch_1\">\n   <path d=\"M -0 267.02 \nL 267.2988 267.02 \nL 267.2988 0 \nL -0 0 \nz\n\" style=\"fill:#ffffff;\"/>\n  </g>\n  <g id=\"axes_1\">\n   <g id=\"patch_2\">\n    <path clip-path=\"url(#p8da1b9d9fa)\" d=\"M 76.764 153.332 \nC 77.737826 153.332 78.671897 152.945095 79.360496 152.256496 \nC 80.049095 151.567897 80.436 150.633826 80.436 149.66 \nC 80.436 148.686174 80.049095 147.752103 79.360496 147.063504 \nC 78.671897 146.374905 77.737826 145.988 76.764 145.988 \nC 75.790174 145.988 74.856103 146.374905 74.167504 147.063504 \nC 73.478905 147.752103 73.092 148.686174 73.092 149.66 \nC 73.092 150.633826 73.478905 151.567897 74.167504 152.256496 \nC 74.856103 152.945095 75.790174 153.332 76.764 153.332 \nz\n\" style=\"fill:none;stroke:#000000;stroke-linejoin:miter;stroke-width:2;\"/>\n   </g>\n   <g id=\"patch_3\">\n    <path clip-path=\"url(#p8da1b9d9fa)\" d=\"M 76.764 199.232 \nC 77.737826 199.232 78.671897 198.845095 79.360496 198.156496 \nC 80.049095 197.467897 80.436 196.533826 80.436 195.56 \nC 80.436 194.586174 80.049095 193.652103 79.360496 192.963504 \nC 78.671897 192.274905 77.737826 191.888 76.764 191.888 \nC 75.790174 191.888 74.856103 192.274905 74.167504 192.963504 \nC 73.478905 193.652103 73.092 194.586174 73.092 195.56 \nC 73.092 196.533826 73.478905 197.467897 74.167504 198.156496 \nC 74.856103 198.845095 75.790174 199.232 76.764 199.232 \nz\n\" style=\"fill:none;stroke:#000000;stroke-linejoin:miter;stroke-width:2;\"/>\n   </g>\n   <g id=\"patch_4\">\n    <path clip-path=\"url(#p8da1b9d9fa)\" d=\"M 76.764 245.132 \nC 77.737826 245.132 78.671897 244.745095 79.360496 244.056496 \nC 80.049095 243.367897 80.436 242.433826 80.436 241.46 \nC 80.436 240.486174 80.049095 239.552103 79.360496 238.863504 \nC 78.671897 238.174905 77.737826 237.788 76.764 237.788 \nC 75.790174 237.788 74.856103 238.174905 74.167504 238.863504 \nC 73.478905 239.552103 73.092 240.486174 73.092 241.46 \nC 73.092 242.433826 73.478905 243.367897 74.167504 244.056496 \nC 74.856103 244.745095 75.790174 245.132 76.764 245.132 \nz\n\" style=\"fill:none;stroke:#000000;stroke-linejoin:miter;stroke-width:2;\"/>\n   </g>\n   <g id=\"line2d_1\">\n    <path clip-path=\"url(#p8da1b9d9fa)\" d=\"M 172.389 141.704 \nL 189.437571 141.604082 \nL 191.186143 141.304327 \nL 192.934714 140.804735 \nL 194.683286 140.105306 \nL 196.431857 139.206041 \nL 198.617571 137.800939 \nL 200.803286 136.083592 \nL 202.989 134.054 \nL 205.174714 131.712163 \nL 207.360429 129.058082 \nL 209.109 126.71 \nL 209.109 126.71 \nL 206.486143 123.262816 \nL 204.300429 120.733633 \nL 202.114714 118.516694 \nL 199.929 116.612 \nL 197.743286 115.019551 \nL 195.557571 113.739347 \nL 193.809 112.94 \nL 192.060429 112.34049 \nL 190.311857 111.940816 \nL 188.563286 111.74098 \nL 187.689 111.716 \nL 172.389 111.716 \nL 172.389 111.716 \nL 174.5922 114.164 \nL 175.98756 116 \nL 177.1626 117.836 \nL 178.11732 119.672 \nL 178.85172 121.508 \nL 179.3658 123.344 \nL 179.65956 125.18 \nL 179.733 127.016 \nL 179.58612 128.852 \nL 179.21892 130.688 \nL 178.6314 132.524 \nL 177.82356 134.36 \nL 176.7954 136.196 \nL 175.54692 138.032 \nL 174.07812 139.868 \nL 172.389 141.704 \nL 172.389 141.704 \n\" style=\"fill:none;stroke:#000000;stroke-linecap:round;stroke-width:2;\"/>\n   </g>\n   <g id=\"line2d_2\">\n    <path clip-path=\"url(#p8da1b9d9fa)\" d=\"M 161.679 136.808 \nL 176.40372 136.808 \n\" style=\"fill:none;stroke:#000000;stroke-linecap:round;stroke-width:2;\"/>\n   </g>\n   <g id=\"line2d_3\">\n    <path clip-path=\"url(#p8da1b9d9fa)\" d=\"M 161.679 126.71 \nL 179.73606 126.71 \n\" style=\"fill:none;stroke:#000000;stroke-linecap:round;stroke-width:2;\"/>\n   </g>\n   <g id=\"line2d_4\">\n    <path clip-path=\"url(#p8da1b9d9fa)\" d=\"M 161.679 116.612 \nL 176.40372 116.612 \n\" style=\"fill:none;stroke:#000000;stroke-linecap:round;stroke-width:2;\"/>\n   </g>\n   <g id=\"line2d_5\">\n    <path clip-path=\"url(#p8da1b9d9fa)\" d=\"M 209.109 126.71 \nL 219.819 126.71 \n\" style=\"fill:none;stroke:#000000;stroke-linecap:round;stroke-width:2;\"/>\n   </g>\n   <g id=\"line2d_6\">\n    <path clip-path=\"url(#p8da1b9d9fa)\" d=\"M 132.609 50.21 \nL 133.589274 50.178565 \nL 134.565521 50.084387 \nL 135.533727 49.927855 \nL 136.489915 49.709611 \nL 137.430156 49.430553 \nL 138.350585 49.091826 \nL 139.247421 48.694824 \nL 140.116979 48.241176 \nL 140.955684 47.732748 \nL 141.760091 47.171628 \nL 142.526894 46.560123 \nL 143.252943 45.900745 \nL 143.935253 45.196204 \nL 144.571022 44.449394 \nL 145.157635 43.663385 \nL 145.692684 42.841406 \nL 146.173969 41.986836 \nL 146.599513 41.103185 \nL 146.967567 40.194085 \nL 147.276618 39.263272 \nL 147.525397 38.31457 \nL 147.712881 37.351878 \nL 147.8383 36.379152 \nL 147.901139 35.400389 \nL 147.901139 34.419611 \nL 147.8383 33.440848 \nL 147.712881 32.468122 \nL 147.525397 31.50543 \nL 147.276618 30.556728 \nL 146.967567 29.625915 \nL 146.599513 28.716815 \nL 146.173969 27.833164 \nL 145.692684 26.978594 \nL 145.157635 26.156615 \nL 144.571022 25.370606 \nL 143.935253 24.623796 \nL 143.252943 23.919255 \nL 142.526894 23.259877 \nL 141.760091 22.648372 \nL 140.955684 22.087252 \nL 140.116979 21.578824 \nL 139.247421 21.125176 \nL 138.350585 20.728174 \nL 137.430156 20.389447 \nL 136.489915 20.110389 \nL 135.533727 19.892145 \nL 134.565521 19.735613 \nL 133.589274 19.641435 \nL 132.609 19.61 \nL 132.609 19.61 \nL 112.719 19.61 \nL 112.719 34.91 \nL 112.719 50.21 \nL 132.609 50.21 \n\" style=\"fill:none;stroke:#000000;stroke-linecap:round;stroke-width:2;\"/>\n   </g>\n   <g id=\"line2d_7\">\n    <path clip-path=\"url(#p8da1b9d9fa)\" d=\"M 102.009 42.56 \nL 112.719 42.56 \n\" style=\"fill:none;stroke:#000000;stroke-linecap:round;stroke-width:2;\"/>\n   </g>\n   <g id=\"line2d_8\">\n    <path clip-path=\"url(#p8da1b9d9fa)\" d=\"M 102.009 27.26 \nL 112.719 27.26 \n\" style=\"fill:none;stroke:#000000;stroke-linecap:round;stroke-width:2;\"/>\n   </g>\n   <g id=\"line2d_9\">\n    <path clip-path=\"url(#p8da1b9d9fa)\" d=\"M 147.909 34.91 \nL 158.619 34.91 \n\" style=\"fill:none;stroke:#000000;stroke-linecap:round;stroke-width:2;\"/>\n   </g>\n   <g id=\"line2d_10\">\n    <path clip-path=\"url(#p8da1b9d9fa)\" d=\"M 161.679 116.612 \nL 158.619 116.612 \nL 158.619 34.91 \n\" style=\"fill:none;stroke:#000000;stroke-linecap:round;stroke-width:2;\"/>\n   </g>\n   <g id=\"line2d_11\">\n    <path clip-path=\"url(#p8da1b9d9fa)\" d=\"M 132.609 142.01 \nL 133.589274 141.978565 \nL 134.565521 141.884387 \nL 135.533727 141.727855 \nL 136.489915 141.509611 \nL 137.430156 141.230553 \nL 138.350585 140.891826 \nL 139.247421 140.494824 \nL 140.116979 140.041176 \nL 140.955684 139.532748 \nL 141.760091 138.971628 \nL 142.526894 138.360123 \nL 143.252943 137.700745 \nL 143.935253 136.996204 \nL 144.571022 136.249394 \nL 145.157635 135.463385 \nL 145.692684 134.641406 \nL 146.173969 133.786836 \nL 146.599513 132.903185 \nL 146.967567 131.994085 \nL 147.276618 131.063272 \nL 147.525397 130.11457 \nL 147.712881 129.151878 \nL 147.8383 128.179152 \nL 147.901139 127.200389 \nL 147.901139 126.219611 \nL 147.8383 125.240848 \nL 147.712881 124.268122 \nL 147.525397 123.30543 \nL 147.276618 122.356728 \nL 146.967567 121.425915 \nL 146.599513 120.516815 \nL 146.173969 119.633164 \nL 145.692684 118.778594 \nL 145.157635 117.956615 \nL 144.571022 117.170606 \nL 143.935253 116.423796 \nL 143.252943 115.719255 \nL 142.526894 115.059877 \nL 141.760091 114.448372 \nL 140.955684 113.887252 \nL 140.116979 113.378824 \nL 139.247421 112.925176 \nL 138.350585 112.528174 \nL 137.430156 112.189447 \nL 136.489915 111.910389 \nL 135.533727 111.692145 \nL 134.565521 111.535613 \nL 133.589274 111.441435 \nL 132.609 111.41 \nL 132.609 111.41 \nL 112.719 111.41 \nL 112.719 126.71 \nL 112.719 142.01 \nL 132.609 142.01 \n\" style=\"fill:none;stroke:#000000;stroke-linecap:round;stroke-width:2;\"/>\n   </g>\n   <g id=\"line2d_12\">\n    <path clip-path=\"url(#p8da1b9d9fa)\" d=\"M 102.009 134.36 \nL 112.719 134.36 \n\" style=\"fill:none;stroke:#000000;stroke-linecap:round;stroke-width:2;\"/>\n   </g>\n   <g id=\"line2d_13\">\n    <path clip-path=\"url(#p8da1b9d9fa)\" d=\"M 102.009 119.06 \nL 112.719 119.06 \n\" style=\"fill:none;stroke:#000000;stroke-linecap:round;stroke-width:2;\"/>\n   </g>\n   <g id=\"line2d_14\">\n    <path clip-path=\"url(#p8da1b9d9fa)\" d=\"M 147.909 126.71 \nL 158.619 126.71 \n\" style=\"fill:none;stroke:#000000;stroke-linecap:round;stroke-width:2;\"/>\n   </g>\n   <g id=\"line2d_15\">\n    <path clip-path=\"url(#p8da1b9d9fa)\" d=\"M 36.219 149.66 \nL 53.202 149.66 \nM 80.436 149.66 \nL 97.419 149.66 \n\" style=\"fill:none;stroke:#000000;stroke-linecap:round;stroke-width:2;\"/>\n   </g>\n   <g id=\"line2d_16\">\n    <path clip-path=\"url(#p8da1b9d9fa)\" d=\"M 53.202 134.36 \nL 73.092 149.66 \nL 53.202 164.96 \nL 53.202 134.36 \n\" style=\"fill:none;stroke:#000000;stroke-linecap:round;stroke-width:2;\"/>\n   </g>\n   <g id=\"line2d_17\">\n    <path clip-path=\"url(#p8da1b9d9fa)\" d=\"M 102.009 134.36 \nL 97.419 134.36 \nL 97.419 149.66 \n\" style=\"fill:none;stroke:#000000;stroke-linecap:round;stroke-width:2;\"/>\n   </g>\n   <g id=\"line2d_18\">\n    <path clip-path=\"url(#p8da1b9d9fa)\" d=\"M 161.679 126.71 \nL 158.619 126.71 \nL 158.619 126.71 \n\" style=\"fill:none;stroke:#000000;stroke-linecap:round;stroke-width:2;\"/>\n   </g>\n   <g id=\"line2d_19\">\n    <path clip-path=\"url(#p8da1b9d9fa)\" d=\"M 132.609 233.81 \nL 133.589274 233.778565 \nL 134.565521 233.684387 \nL 135.533727 233.527855 \nL 136.489915 233.309611 \nL 137.430156 233.030553 \nL 138.350585 232.691826 \nL 139.247421 232.294824 \nL 140.116979 231.841176 \nL 140.955684 231.332748 \nL 141.760091 230.771628 \nL 142.526894 230.160123 \nL 143.252943 229.500745 \nL 143.935253 228.796204 \nL 144.571022 228.049394 \nL 145.157635 227.263385 \nL 145.692684 226.441406 \nL 146.173969 225.586836 \nL 146.599513 224.703185 \nL 146.967567 223.794085 \nL 147.276618 222.863272 \nL 147.525397 221.91457 \nL 147.712881 220.951878 \nL 147.8383 219.979152 \nL 147.901139 219.000389 \nL 147.901139 218.019611 \nL 147.8383 217.040848 \nL 147.712881 216.068122 \nL 147.525397 215.10543 \nL 147.276618 214.156728 \nL 146.967567 213.225915 \nL 146.599513 212.316815 \nL 146.173969 211.433164 \nL 145.692684 210.578594 \nL 145.157635 209.756615 \nL 144.571022 208.970606 \nL 143.935253 208.223796 \nL 143.252943 207.519255 \nL 142.526894 206.859877 \nL 141.760091 206.248372 \nL 140.955684 205.687252 \nL 140.116979 205.178824 \nL 139.247421 204.725176 \nL 138.350585 204.328174 \nL 137.430156 203.989447 \nL 136.489915 203.710389 \nL 135.533727 203.492145 \nL 134.565521 203.335613 \nL 133.589274 203.241435 \nL 132.609 203.21 \nL 132.609 203.21 \nL 112.719 203.21 \nL 112.719 218.51 \nL 112.719 233.81 \nL 132.609 233.81 \n\" style=\"fill:none;stroke:#000000;stroke-linecap:round;stroke-width:2;\"/>\n   </g>\n   <g id=\"line2d_20\">\n    <path clip-path=\"url(#p8da1b9d9fa)\" d=\"M 102.009 226.16 \nL 112.719 226.16 \n\" style=\"fill:none;stroke:#000000;stroke-linecap:round;stroke-width:2;\"/>\n   </g>\n   <g id=\"line2d_21\">\n    <path clip-path=\"url(#p8da1b9d9fa)\" d=\"M 102.009 210.86 \nL 112.719 210.86 \n\" style=\"fill:none;stroke:#000000;stroke-linecap:round;stroke-width:2;\"/>\n   </g>\n   <g id=\"line2d_22\">\n    <path clip-path=\"url(#p8da1b9d9fa)\" d=\"M 147.909 218.51 \nL 158.619 218.51 \n\" style=\"fill:none;stroke:#000000;stroke-linecap:round;stroke-width:2;\"/>\n   </g>\n   <g id=\"line2d_23\">\n    <path clip-path=\"url(#p8da1b9d9fa)\" d=\"M 36.219 195.56 \nL 53.202 195.56 \nM 80.436 195.56 \nL 97.419 195.56 \n\" style=\"fill:none;stroke:#000000;stroke-linecap:round;stroke-width:2;\"/>\n   </g>\n   <g id=\"line2d_24\">\n    <path clip-path=\"url(#p8da1b9d9fa)\" d=\"M 53.202 180.26 \nL 73.092 195.56 \nL 53.202 210.86 \nL 53.202 180.26 \n\" style=\"fill:none;stroke:#000000;stroke-linecap:round;stroke-width:2;\"/>\n   </g>\n   <g id=\"line2d_25\">\n    <path clip-path=\"url(#p8da1b9d9fa)\" d=\"M 102.009 210.86 \nL 97.419 210.86 \nL 97.419 195.56 \n\" style=\"fill:none;stroke:#000000;stroke-linecap:round;stroke-width:2;\"/>\n   </g>\n   <g id=\"line2d_26\">\n    <path clip-path=\"url(#p8da1b9d9fa)\" d=\"M 36.219 241.46 \nL 53.202 241.46 \nM 80.436 241.46 \nL 97.419 241.46 \n\" style=\"fill:none;stroke:#000000;stroke-linecap:round;stroke-width:2;\"/>\n   </g>\n   <g id=\"line2d_27\">\n    <path clip-path=\"url(#p8da1b9d9fa)\" d=\"M 53.202 226.16 \nL 73.092 241.46 \nL 53.202 256.76 \nL 53.202 226.16 \n\" style=\"fill:none;stroke:#000000;stroke-linecap:round;stroke-width:2;\"/>\n   </g>\n   <g id=\"line2d_28\">\n    <path clip-path=\"url(#p8da1b9d9fa)\" d=\"M 102.009 226.16 \nL 97.419 226.16 \nL 97.419 241.46 \n\" style=\"fill:none;stroke:#000000;stroke-linecap:round;stroke-width:2;\"/>\n   </g>\n   <g id=\"line2d_29\">\n    <path clip-path=\"url(#p8da1b9d9fa)\" d=\"M 161.679 136.808 \nL 158.619 136.808 \nL 158.619 218.51 \n\" style=\"fill:none;stroke:#000000;stroke-linecap:round;stroke-width:2;\"/>\n   </g>\n   <g id=\"text_1\">\n    <g clip-path=\"url(#p8da1b9d9fa)\">\n     <!-- ${D_3}$ -->\n     <defs>\n      <path d=\"M 16.890625 72.90625 \nL 38.09375 72.90625 \nQ 54.984375 72.90625 63.59375 65.75 \nQ 72.21875 58.59375 72.21875 44.484375 \nQ 72.21875 35.15625 68.9375 26.53125 \nQ 65.671875 17.921875 59.90625 12.015625 \nQ 54.109375 5.953125 45.171875 2.96875 \nQ 36.234375 0 24.03125 0 \nL 2.6875 0 \nz\nM 25.203125 64.796875 \nL 14.203125 8.109375 \nL 27.09375 8.109375 \nQ 43.65625 8.109375 52.734375 17.625 \nQ 61.8125 27.15625 61.8125 44.484375 \nQ 61.8125 54.984375 55.953125 59.890625 \nQ 50.09375 64.796875 37.59375 64.796875 \nz\n\" id=\"DejaVuSans-Oblique-68\"/>\n      <path d=\"M 40.578125 39.3125 \nQ 47.65625 37.796875 51.625 33 \nQ 55.609375 28.21875 55.609375 21.1875 \nQ 55.609375 10.40625 48.1875 4.484375 \nQ 40.765625 -1.421875 27.09375 -1.421875 \nQ 22.515625 -1.421875 17.65625 -0.515625 \nQ 12.796875 0.390625 7.625 2.203125 \nL 7.625 11.71875 \nQ 11.71875 9.328125 16.59375 8.109375 \nQ 21.484375 6.890625 26.8125 6.890625 \nQ 36.078125 6.890625 40.9375 10.546875 \nQ 45.796875 14.203125 45.796875 21.1875 \nQ 45.796875 27.640625 41.28125 31.265625 \nQ 36.765625 34.90625 28.71875 34.90625 \nL 20.21875 34.90625 \nL 20.21875 43.015625 \nL 29.109375 43.015625 \nQ 36.375 43.015625 40.234375 45.921875 \nQ 44.09375 48.828125 44.09375 54.296875 \nQ 44.09375 59.90625 40.109375 62.90625 \nQ 36.140625 65.921875 28.71875 65.921875 \nQ 24.65625 65.921875 20.015625 65.03125 \nQ 15.375 64.15625 9.8125 62.3125 \nL 9.8125 71.09375 \nQ 15.4375 72.65625 20.34375 73.4375 \nQ 25.25 74.21875 29.59375 74.21875 \nQ 40.828125 74.21875 47.359375 69.109375 \nQ 53.90625 64.015625 53.90625 55.328125 \nQ 53.90625 49.265625 50.4375 45.09375 \nQ 46.96875 40.921875 40.578125 39.3125 \nz\n\" id=\"DejaVuSans-51\"/>\n     </defs>\n     <g transform=\"translate(222.879 130.159219)scale(0.125 -0.125)\">\n      <use transform=\"translate(0 0.09375)\" xlink:href=\"#DejaVuSans-Oblique-68\"/>\n      <use transform=\"translate(77.001953 -16.3125)scale(0.7)\" xlink:href=\"#DejaVuSans-51\"/>\n     </g>\n    </g>\n   </g>\n   <g id=\"text_2\">\n    <g clip-path=\"url(#p8da1b9d9fa)\">\n     <!-- Q1 -->\n     <defs>\n      <path d=\"M 39.40625 66.21875 \nQ 28.65625 66.21875 22.328125 58.203125 \nQ 16.015625 50.203125 16.015625 36.375 \nQ 16.015625 22.609375 22.328125 14.59375 \nQ 28.65625 6.59375 39.40625 6.59375 \nQ 50.140625 6.59375 56.421875 14.59375 \nQ 62.703125 22.609375 62.703125 36.375 \nQ 62.703125 50.203125 56.421875 58.203125 \nQ 50.140625 66.21875 39.40625 66.21875 \nz\nM 53.21875 1.3125 \nL 66.21875 -12.890625 \nL 54.296875 -12.890625 \nL 43.5 -1.21875 \nQ 41.890625 -1.3125 41.03125 -1.359375 \nQ 40.1875 -1.421875 39.40625 -1.421875 \nQ 24.03125 -1.421875 14.8125 8.859375 \nQ 5.609375 19.140625 5.609375 36.375 \nQ 5.609375 53.65625 14.8125 63.9375 \nQ 24.03125 74.21875 39.40625 74.21875 \nQ 54.734375 74.21875 63.90625 63.9375 \nQ 73.09375 53.65625 73.09375 36.375 \nQ 73.09375 23.6875 67.984375 14.640625 \nQ 62.890625 5.609375 53.21875 1.3125 \nz\n\" id=\"DejaVuSans-81\"/>\n      <path d=\"M 12.40625 8.296875 \nL 28.515625 8.296875 \nL 28.515625 63.921875 \nL 10.984375 60.40625 \nL 10.984375 69.390625 \nL 28.421875 72.90625 \nL 38.28125 72.90625 \nL 38.28125 8.296875 \nL 54.390625 8.296875 \nL 54.390625 0 \nL 12.40625 0 \nz\n\" id=\"DejaVuSans-49\"/>\n     </defs>\n     <g transform=\"translate(81.156031 30.709219)scale(0.125 -0.125)\">\n      <use xlink:href=\"#DejaVuSans-81\"/>\n      <use x=\"78.710938\" xlink:href=\"#DejaVuSans-49\"/>\n     </g>\n    </g>\n   </g>\n   <g id=\"text_3\">\n    <g clip-path=\"url(#p8da1b9d9fa)\">\n     <!-- Q2 -->\n     <defs>\n      <path d=\"M 19.1875 8.296875 \nL 53.609375 8.296875 \nL 53.609375 0 \nL 7.328125 0 \nL 7.328125 8.296875 \nQ 12.9375 14.109375 22.625 23.890625 \nQ 32.328125 33.6875 34.8125 36.53125 \nQ 39.546875 41.84375 41.421875 45.53125 \nQ 43.3125 49.21875 43.3125 52.78125 \nQ 43.3125 58.59375 39.234375 62.25 \nQ 35.15625 65.921875 28.609375 65.921875 \nQ 23.96875 65.921875 18.8125 64.3125 \nQ 13.671875 62.703125 7.8125 59.421875 \nL 7.8125 69.390625 \nQ 13.765625 71.78125 18.9375 73 \nQ 24.125 74.21875 28.421875 74.21875 \nQ 39.75 74.21875 46.484375 68.546875 \nQ 53.21875 62.890625 53.21875 53.421875 \nQ 53.21875 48.921875 51.53125 44.890625 \nQ 49.859375 40.875 45.40625 35.40625 \nQ 44.1875 33.984375 37.640625 27.21875 \nQ 31.109375 20.453125 19.1875 8.296875 \nz\n\" id=\"DejaVuSans-50\"/>\n     </defs>\n     <g transform=\"translate(81.156031 46.009219)scale(0.125 -0.125)\">\n      <use xlink:href=\"#DejaVuSans-81\"/>\n      <use x=\"78.710938\" xlink:href=\"#DejaVuSans-50\"/>\n     </g>\n    </g>\n   </g>\n   <g id=\"text_4\">\n    <g clip-path=\"url(#p8da1b9d9fa)\">\n     <!-- Q4 -->\n     <defs>\n      <path d=\"M 37.796875 64.3125 \nL 12.890625 25.390625 \nL 37.796875 25.390625 \nz\nM 35.203125 72.90625 \nL 47.609375 72.90625 \nL 47.609375 25.390625 \nL 58.015625 25.390625 \nL 58.015625 17.1875 \nL 47.609375 17.1875 \nL 47.609375 0 \nL 37.796875 0 \nL 37.796875 17.1875 \nL 4.890625 17.1875 \nL 4.890625 26.703125 \nz\n\" id=\"DejaVuSans-52\"/>\n     </defs>\n     <g transform=\"translate(81.156031 122.509219)scale(0.125 -0.125)\">\n      <use xlink:href=\"#DejaVuSans-81\"/>\n      <use x=\"78.710938\" xlink:href=\"#DejaVuSans-52\"/>\n     </g>\n    </g>\n   </g>\n   <g id=\"text_5\">\n    <g clip-path=\"url(#p8da1b9d9fa)\">\n     <!-- Q3 -->\n     <g transform=\"translate(15.366031 153.109219)scale(0.125 -0.125)\">\n      <use xlink:href=\"#DejaVuSans-81\"/>\n      <use x=\"78.710938\" xlink:href=\"#DejaVuSans-51\"/>\n     </g>\n    </g>\n   </g>\n   <g id=\"text_6\">\n    <g clip-path=\"url(#p8da1b9d9fa)\">\n     <!-- Q1 -->\n     <g transform=\"translate(15.366031 199.009219)scale(0.125 -0.125)\">\n      <use xlink:href=\"#DejaVuSans-81\"/>\n      <use x=\"78.710938\" xlink:href=\"#DejaVuSans-49\"/>\n     </g>\n    </g>\n   </g>\n   <g id=\"text_7\">\n    <g clip-path=\"url(#p8da1b9d9fa)\">\n     <!-- Q2 -->\n     <g transform=\"translate(15.366031 244.909219)scale(0.125 -0.125)\">\n      <use xlink:href=\"#DejaVuSans-81\"/>\n      <use x=\"78.710938\" xlink:href=\"#DejaVuSans-50\"/>\n     </g>\n    </g>\n   </g>\n  </g>\n </g>\n <defs>\n  <clipPath id=\"p8da1b9d9fa\">\n   <rect height=\"252.62\" width=\"252.8988\" x=\"7.2\" y=\"7.2\"/>\n  </clipPath>\n </defs>\n</svg>\n"
          },
          "metadata": {},
          "execution_count": 169
        }
      ]
    },
    {
      "cell_type": "markdown",
      "source": [
        "Для триггера Т4 функция на его входе D4"
      ],
      "metadata": {
        "id": "Ap6w2of6iPbR"
      }
    },
    {
      "cell_type": "code",
      "source": [
        "#logicparse('(Q3 & Q4 & ~Q2) | (Q2 & Q3 & ~Q1 & ~Q4) | (Q1 & ~Q2 & ~Q3 & ~Q4)', outlabel='${D_3}$', gateH=1.5)\n",
        "logicparse(str(D4), gateH=1.5, outlabel='${D_4}$')"
      ],
      "metadata": {
        "colab": {
          "base_uri": "https://localhost:8080/"
        },
        "id": "YUkI0uKHDrwW",
        "outputId": "bd20f130-d15a-492e-f8eb-f8e00a2723d1"
      },
      "execution_count": null,
      "outputs": [
        {
          "output_type": "execute_result",
          "data": {
            "image/png": "[encoded data removed]",
            "text/plain": [
              "<schemdraw.schemdraw.Drawing at 0x7fb5e01c0650>"
            ],
            "image/svg+xml": "<?xml version=\"1.0\" encoding=\"utf-8\" standalone=\"no\"?>\n<!DOCTYPE svg PUBLIC \"-//W3C//DTD SVG 1.1//EN\"\n  \"http://www.w3.org/Graphics/SVG/1.1/DTD/svg11.dtd\">\n<!-- Created with matplotlib (https://matplotlib.org/) -->\n<svg height=\"236.42pt\" version=\"1.1\" viewBox=\"0 0 267.2988 236.42\" width=\"267.2988pt\" xmlns=\"http://www.w3.org/2000/svg\" xmlns:xlink=\"http://www.w3.org/1999/xlink\">\n <defs>\n  <style type=\"text/css\">\n*{stroke-linecap:butt;stroke-linejoin:round;}\n  </style>\n </defs>\n <g id=\"figure_1\">\n  <g id=\"patch_1\">\n   <path d=\"M -0 236.42 \nL 267.2988 236.42 \nL 267.2988 0 \nL -0 0 \nz\n\" style=\"fill:#ffffff;\"/>\n  </g>\n  <g id=\"axes_1\">\n   <g id=\"patch_2\">\n    <path clip-path=\"url(#p12964c0bdc)\" d=\"M 76.764 30.932 \nC 77.737826 30.932 78.671897 30.545095 79.360496 29.856496 \nC 80.049095 29.167897 80.436 28.233826 80.436 27.26 \nC 80.436 26.286174 80.049095 25.352103 79.360496 24.663504 \nC 78.671897 23.974905 77.737826 23.588 76.764 23.588 \nC 75.790174 23.588 74.856103 23.974905 74.167504 24.663504 \nC 73.478905 25.352103 73.092 26.286174 73.092 27.26 \nC 73.092 28.233826 73.478905 29.167897 74.167504 29.856496 \nC 74.856103 30.545095 75.790174 30.932 76.764 30.932 \nz\n\" style=\"fill:none;stroke:#000000;stroke-linejoin:miter;stroke-width:2;\"/>\n   </g>\n   <g id=\"patch_3\">\n    <path clip-path=\"url(#p12964c0bdc)\" d=\"M 76.764 76.832 \nC 77.737826 76.832 78.671897 76.445095 79.360496 75.756496 \nC 80.049095 75.067897 80.436 74.133826 80.436 73.16 \nC 80.436 72.186174 80.049095 71.252103 79.360496 70.563504 \nC 78.671897 69.874905 77.737826 69.488 76.764 69.488 \nC 75.790174 69.488 74.856103 69.874905 74.167504 70.563504 \nC 73.478905 71.252103 73.092 72.186174 73.092 73.16 \nC 73.092 74.133826 73.478905 75.067897 74.167504 75.756496 \nC 74.856103 76.445095 75.790174 76.832 76.764 76.832 \nz\n\" style=\"fill:none;stroke:#000000;stroke-linejoin:miter;stroke-width:2;\"/>\n   </g>\n   <g id=\"patch_4\">\n    <path clip-path=\"url(#p12964c0bdc)\" d=\"M 76.764 122.732 \nC 77.737826 122.732 78.671897 122.345095 79.360496 121.656496 \nC 80.049095 120.967897 80.436 120.033826 80.436 119.06 \nC 80.436 118.086174 80.049095 117.152103 79.360496 116.463504 \nC 78.671897 115.774905 77.737826 115.388 76.764 115.388 \nC 75.790174 115.388 74.856103 115.774905 74.167504 116.463504 \nC 73.478905 117.152103 73.092 118.086174 73.092 119.06 \nC 73.092 120.033826 73.478905 120.967897 74.167504 121.656496 \nC 74.856103 122.345095 75.790174 122.732 76.764 122.732 \nz\n\" style=\"fill:none;stroke:#000000;stroke-linejoin:miter;stroke-width:2;\"/>\n   </g>\n   <g id=\"patch_5\">\n    <path clip-path=\"url(#p12964c0bdc)\" d=\"M 76.764 168.632 \nC 77.737826 168.632 78.671897 168.245095 79.360496 167.556496 \nC 80.049095 166.867897 80.436 165.933826 80.436 164.96 \nC 80.436 163.986174 80.049095 163.052103 79.360496 162.363504 \nC 78.671897 161.674905 77.737826 161.288 76.764 161.288 \nC 75.790174 161.288 74.856103 161.674905 74.167504 162.363504 \nC 73.478905 163.052103 73.092 163.986174 73.092 164.96 \nC 73.092 165.933826 73.478905 166.867897 74.167504 167.556496 \nC 74.856103 168.245095 75.790174 168.632 76.764 168.632 \nz\n\" style=\"fill:none;stroke:#000000;stroke-linejoin:miter;stroke-width:2;\"/>\n   </g>\n   <g id=\"patch_6\">\n    <path clip-path=\"url(#p12964c0bdc)\" d=\"M 76.764 214.532 \nC 77.737826 214.532 78.671897 214.145095 79.360496 213.456496 \nC 80.049095 212.767897 80.436 211.833826 80.436 210.86 \nC 80.436 209.886174 80.049095 208.952103 79.360496 208.263504 \nC 78.671897 207.574905 77.737826 207.188 76.764 207.188 \nC 75.790174 207.188 74.856103 207.574905 74.167504 208.263504 \nC 73.478905 208.952103 73.092 209.886174 73.092 210.86 \nC 73.092 211.833826 73.478905 212.767897 74.167504 213.456496 \nC 74.856103 214.145095 75.790174 214.532 76.764 214.532 \nz\n\" style=\"fill:none;stroke:#000000;stroke-linejoin:miter;stroke-width:2;\"/>\n   </g>\n   <g id=\"line2d_1\">\n    <path clip-path=\"url(#p12964c0bdc)\" d=\"M 172.389 122.579 \nL 189.437571 122.479082 \nL 191.186143 122.179327 \nL 192.934714 121.679735 \nL 194.683286 120.980306 \nL 196.431857 120.081041 \nL 198.617571 118.675939 \nL 200.803286 116.958592 \nL 202.989 114.929 \nL 205.174714 112.587163 \nL 207.360429 109.933082 \nL 209.109 107.585 \nL 209.109 107.585 \nL 206.486143 104.137816 \nL 204.300429 101.608633 \nL 202.114714 99.391694 \nL 199.929 97.487 \nL 197.743286 95.894551 \nL 195.557571 94.614347 \nL 193.809 93.815 \nL 192.060429 93.21549 \nL 190.311857 92.815816 \nL 188.563286 92.61598 \nL 187.689 92.591 \nL 172.389 92.591 \nL 172.389 92.591 \nL 174.5922 95.039 \nL 175.98756 96.875 \nL 177.1626 98.711 \nL 178.11732 100.547 \nL 178.85172 102.383 \nL 179.3658 104.219 \nL 179.65956 106.055 \nL 179.733 107.891 \nL 179.58612 109.727 \nL 179.21892 111.563 \nL 178.6314 113.399 \nL 177.82356 115.235 \nL 176.7954 117.071 \nL 175.54692 118.907 \nL 174.07812 120.743 \nL 172.389 122.579 \nL 172.389 122.579 \n\" style=\"fill:none;stroke:#000000;stroke-linecap:round;stroke-width:2;\"/>\n   </g>\n   <g id=\"line2d_2\">\n    <path clip-path=\"url(#p12964c0bdc)\" d=\"M 161.679 115.235 \nL 177.82356 115.235 \n\" style=\"fill:none;stroke:#000000;stroke-linecap:round;stroke-width:2;\"/>\n   </g>\n   <g id=\"line2d_3\">\n    <path clip-path=\"url(#p12964c0bdc)\" d=\"M 161.679 99.935 \nL 177.82356 99.935 \n\" style=\"fill:none;stroke:#000000;stroke-linecap:round;stroke-width:2;\"/>\n   </g>\n   <g id=\"line2d_4\">\n    <path clip-path=\"url(#p12964c0bdc)\" d=\"M 209.109 107.585 \nL 219.819 107.585 \n\" style=\"fill:none;stroke:#000000;stroke-linecap:round;stroke-width:2;\"/>\n   </g>\n   <g id=\"line2d_5\">\n    <path clip-path=\"url(#p12964c0bdc)\" d=\"M 132.609 65.51 \nL 133.589274 65.478565 \nL 134.565521 65.384387 \nL 135.533727 65.227855 \nL 136.489915 65.009611 \nL 137.430156 64.730553 \nL 138.350585 64.391826 \nL 139.247421 63.994824 \nL 140.116979 63.541176 \nL 140.955684 63.032748 \nL 141.760091 62.471628 \nL 142.526894 61.860123 \nL 143.252943 61.200745 \nL 143.935253 60.496204 \nL 144.571022 59.749394 \nL 145.157635 58.963385 \nL 145.692684 58.141406 \nL 146.173969 57.286836 \nL 146.599513 56.403185 \nL 146.967567 55.494085 \nL 147.276618 54.563272 \nL 147.525397 53.61457 \nL 147.712881 52.651878 \nL 147.8383 51.679152 \nL 147.901139 50.700389 \nL 147.901139 49.719611 \nL 147.8383 48.740848 \nL 147.712881 47.768122 \nL 147.525397 46.80543 \nL 147.276618 45.856728 \nL 146.967567 44.925915 \nL 146.599513 44.016815 \nL 146.173969 43.133164 \nL 145.692684 42.278594 \nL 145.157635 41.456615 \nL 144.571022 40.670606 \nL 143.935253 39.923796 \nL 143.252943 39.219255 \nL 142.526894 38.559877 \nL 141.760091 37.948372 \nL 140.955684 37.387252 \nL 140.116979 36.878824 \nL 139.247421 36.425176 \nL 138.350585 36.028174 \nL 137.430156 35.689447 \nL 136.489915 35.410389 \nL 135.533727 35.192145 \nL 134.565521 35.035613 \nL 133.589274 34.941435 \nL 132.609 34.91 \nL 132.609 34.91 \nL 112.719 34.91 \nL 112.719 50.21 \nL 112.719 65.51 \nL 132.609 65.51 \n\" style=\"fill:none;stroke:#000000;stroke-linecap:round;stroke-width:2;\"/>\n   </g>\n   <g id=\"line2d_6\">\n    <path clip-path=\"url(#p12964c0bdc)\" d=\"M 102.009 57.86 \nL 112.719 57.86 \n\" style=\"fill:none;stroke:#000000;stroke-linecap:round;stroke-width:2;\"/>\n   </g>\n   <g id=\"line2d_7\">\n    <path clip-path=\"url(#p12964c0bdc)\" d=\"M 102.009 42.56 \nL 112.719 42.56 \n\" style=\"fill:none;stroke:#000000;stroke-linecap:round;stroke-width:2;\"/>\n   </g>\n   <g id=\"line2d_8\">\n    <path clip-path=\"url(#p12964c0bdc)\" d=\"M 147.909 50.21 \nL 158.619 50.21 \n\" style=\"fill:none;stroke:#000000;stroke-linecap:round;stroke-width:2;\"/>\n   </g>\n   <g id=\"line2d_9\">\n    <path clip-path=\"url(#p12964c0bdc)\" d=\"M 36.219 27.26 \nL 53.202 27.26 \nM 80.436 27.26 \nL 97.419 27.26 \n\" style=\"fill:none;stroke:#000000;stroke-linecap:round;stroke-width:2;\"/>\n   </g>\n   <g id=\"line2d_10\">\n    <path clip-path=\"url(#p12964c0bdc)\" d=\"M 53.202 11.96 \nL 73.092 27.26 \nL 53.202 42.56 \nL 53.202 11.96 \n\" style=\"fill:none;stroke:#000000;stroke-linecap:round;stroke-width:2;\"/>\n   </g>\n   <g id=\"line2d_11\">\n    <path clip-path=\"url(#p12964c0bdc)\" d=\"M 102.009 42.56 \nL 97.419 42.56 \nL 97.419 27.26 \n\" style=\"fill:none;stroke:#000000;stroke-linecap:round;stroke-width:2;\"/>\n   </g>\n   <g id=\"line2d_12\">\n    <path clip-path=\"url(#p12964c0bdc)\" d=\"M 36.219 73.16 \nL 53.202 73.16 \nM 80.436 73.16 \nL 97.419 73.16 \n\" style=\"fill:none;stroke:#000000;stroke-linecap:round;stroke-width:2;\"/>\n   </g>\n   <g id=\"line2d_13\">\n    <path clip-path=\"url(#p12964c0bdc)\" d=\"M 53.202 57.86 \nL 73.092 73.16 \nL 53.202 88.46 \nL 53.202 57.86 \n\" style=\"fill:none;stroke:#000000;stroke-linecap:round;stroke-width:2;\"/>\n   </g>\n   <g id=\"line2d_14\">\n    <path clip-path=\"url(#p12964c0bdc)\" d=\"M 102.009 57.86 \nL 97.419 57.86 \nL 97.419 73.16 \n\" style=\"fill:none;stroke:#000000;stroke-linecap:round;stroke-width:2;\"/>\n   </g>\n   <g id=\"line2d_15\">\n    <path clip-path=\"url(#p12964c0bdc)\" d=\"M 161.679 99.935 \nL 158.619 99.935 \nL 158.619 50.21 \n\" style=\"fill:none;stroke:#000000;stroke-linecap:round;stroke-width:2;\"/>\n   </g>\n   <g id=\"line2d_16\">\n    <path clip-path=\"url(#p12964c0bdc)\" d=\"M 132.609 180.26 \nL 133.589274 180.228565 \nL 134.565521 180.134387 \nL 135.533727 179.977855 \nL 136.489915 179.759611 \nL 137.430156 179.480553 \nL 138.350585 179.141826 \nL 139.247421 178.744824 \nL 140.116979 178.291176 \nL 140.955684 177.782748 \nL 141.760091 177.221628 \nL 142.526894 176.610123 \nL 143.252943 175.950745 \nL 143.935253 175.246204 \nL 144.571022 174.499394 \nL 145.157635 173.713385 \nL 145.692684 172.891406 \nL 146.173969 172.036836 \nL 146.599513 171.153185 \nL 146.967567 170.244085 \nL 147.276618 169.313272 \nL 147.525397 168.36457 \nL 147.712881 167.401878 \nL 147.8383 166.429152 \nL 147.901139 165.450389 \nL 147.901139 164.469611 \nL 147.8383 163.490848 \nL 147.712881 162.518122 \nL 147.525397 161.55543 \nL 147.276618 160.606728 \nL 146.967567 159.675915 \nL 146.599513 158.766815 \nL 146.173969 157.883164 \nL 145.692684 157.028594 \nL 145.157635 156.206615 \nL 144.571022 155.420606 \nL 143.935253 154.673796 \nL 143.252943 153.969255 \nL 142.526894 153.309877 \nL 141.760091 152.698372 \nL 140.955684 152.137252 \nL 140.116979 151.628824 \nL 139.247421 151.175176 \nL 138.350585 150.778174 \nL 137.430156 150.439447 \nL 136.489915 150.160389 \nL 135.533727 149.942145 \nL 134.565521 149.785613 \nL 133.589274 149.691435 \nL 132.609 149.66 \nL 132.609 149.66 \nL 112.719 149.66 \nL 112.719 164.96 \nL 112.719 180.26 \nL 132.609 180.26 \n\" style=\"fill:none;stroke:#000000;stroke-linecap:round;stroke-width:2;\"/>\n   </g>\n   <g id=\"line2d_17\">\n    <path clip-path=\"url(#p12964c0bdc)\" d=\"M 102.009 175.058 \nL 112.719 175.058 \n\" style=\"fill:none;stroke:#000000;stroke-linecap:round;stroke-width:2;\"/>\n   </g>\n   <g id=\"line2d_18\">\n    <path clip-path=\"url(#p12964c0bdc)\" d=\"M 102.009 164.96 \nL 112.719 164.96 \n\" style=\"fill:none;stroke:#000000;stroke-linecap:round;stroke-width:2;\"/>\n   </g>\n   <g id=\"line2d_19\">\n    <path clip-path=\"url(#p12964c0bdc)\" d=\"M 102.009 154.862 \nL 112.719 154.862 \n\" style=\"fill:none;stroke:#000000;stroke-linecap:round;stroke-width:2;\"/>\n   </g>\n   <g id=\"line2d_20\">\n    <path clip-path=\"url(#p12964c0bdc)\" d=\"M 147.909 164.96 \nL 158.619 164.96 \n\" style=\"fill:none;stroke:#000000;stroke-linecap:round;stroke-width:2;\"/>\n   </g>\n   <g id=\"line2d_21\">\n    <path clip-path=\"url(#p12964c0bdc)\" d=\"M 36.219 119.06 \nL 53.202 119.06 \nM 80.436 119.06 \nL 97.419 119.06 \n\" style=\"fill:none;stroke:#000000;stroke-linecap:round;stroke-width:2;\"/>\n   </g>\n   <g id=\"line2d_22\">\n    <path clip-path=\"url(#p12964c0bdc)\" d=\"M 53.202 103.76 \nL 73.092 119.06 \nL 53.202 134.36 \nL 53.202 103.76 \n\" style=\"fill:none;stroke:#000000;stroke-linecap:round;stroke-width:2;\"/>\n   </g>\n   <g id=\"line2d_23\">\n    <path clip-path=\"url(#p12964c0bdc)\" d=\"M 102.009 154.862 \nL 97.419 154.862 \nL 97.419 119.06 \n\" style=\"fill:none;stroke:#000000;stroke-linecap:round;stroke-width:2;\"/>\n   </g>\n   <g id=\"line2d_24\">\n    <path clip-path=\"url(#p12964c0bdc)\" d=\"M 36.219 164.96 \nL 53.202 164.96 \nM 80.436 164.96 \nL 97.419 164.96 \n\" style=\"fill:none;stroke:#000000;stroke-linecap:round;stroke-width:2;\"/>\n   </g>\n   <g id=\"line2d_25\">\n    <path clip-path=\"url(#p12964c0bdc)\" d=\"M 53.202 149.66 \nL 73.092 164.96 \nL 53.202 180.26 \nL 53.202 149.66 \n\" style=\"fill:none;stroke:#000000;stroke-linecap:round;stroke-width:2;\"/>\n   </g>\n   <g id=\"line2d_26\">\n    <path clip-path=\"url(#p12964c0bdc)\" d=\"M 102.009 164.96 \nL 97.419 164.96 \nL 97.419 164.96 \n\" style=\"fill:none;stroke:#000000;stroke-linecap:round;stroke-width:2;\"/>\n   </g>\n   <g id=\"line2d_27\">\n    <path clip-path=\"url(#p12964c0bdc)\" d=\"M 36.219 210.86 \nL 53.202 210.86 \nM 80.436 210.86 \nL 97.419 210.86 \n\" style=\"fill:none;stroke:#000000;stroke-linecap:round;stroke-width:2;\"/>\n   </g>\n   <g id=\"line2d_28\">\n    <path clip-path=\"url(#p12964c0bdc)\" d=\"M 53.202 195.56 \nL 73.092 210.86 \nL 53.202 226.16 \nL 53.202 195.56 \n\" style=\"fill:none;stroke:#000000;stroke-linecap:round;stroke-width:2;\"/>\n   </g>\n   <g id=\"line2d_29\">\n    <path clip-path=\"url(#p12964c0bdc)\" d=\"M 102.009 175.058 \nL 97.419 175.058 \nL 97.419 210.86 \n\" style=\"fill:none;stroke:#000000;stroke-linecap:round;stroke-width:2;\"/>\n   </g>\n   <g id=\"line2d_30\">\n    <path clip-path=\"url(#p12964c0bdc)\" d=\"M 161.679 115.235 \nL 158.619 115.235 \nL 158.619 164.96 \n\" style=\"fill:none;stroke:#000000;stroke-linecap:round;stroke-width:2;\"/>\n   </g>\n   <g id=\"text_1\">\n    <g clip-path=\"url(#p12964c0bdc)\">\n     <!-- ${D_4}$ -->\n     <defs>\n      <path d=\"M 16.890625 72.90625 \nL 38.09375 72.90625 \nQ 54.984375 72.90625 63.59375 65.75 \nQ 72.21875 58.59375 72.21875 44.484375 \nQ 72.21875 35.15625 68.9375 26.53125 \nQ 65.671875 17.921875 59.90625 12.015625 \nQ 54.109375 5.953125 45.171875 2.96875 \nQ 36.234375 0 24.03125 0 \nL 2.6875 0 \nz\nM 25.203125 64.796875 \nL 14.203125 8.109375 \nL 27.09375 8.109375 \nQ 43.65625 8.109375 52.734375 17.625 \nQ 61.8125 27.15625 61.8125 44.484375 \nQ 61.8125 54.984375 55.953125 59.890625 \nQ 50.09375 64.796875 37.59375 64.796875 \nz\n\" id=\"DejaVuSans-Oblique-68\"/>\n      <path d=\"M 37.796875 64.3125 \nL 12.890625 25.390625 \nL 37.796875 25.390625 \nz\nM 35.203125 72.90625 \nL 47.609375 72.90625 \nL 47.609375 25.390625 \nL 58.015625 25.390625 \nL 58.015625 17.1875 \nL 47.609375 17.1875 \nL 47.609375 0 \nL 37.796875 0 \nL 37.796875 17.1875 \nL 4.890625 17.1875 \nL 4.890625 26.703125 \nz\n\" id=\"DejaVuSans-52\"/>\n     </defs>\n     <g transform=\"translate(222.879 111.034219)scale(0.125 -0.125)\">\n      <use transform=\"translate(0 0.09375)\" xlink:href=\"#DejaVuSans-Oblique-68\"/>\n      <use transform=\"translate(77.001953 -16.3125)scale(0.7)\" xlink:href=\"#DejaVuSans-52\"/>\n     </g>\n    </g>\n   </g>\n   <g id=\"text_2\">\n    <g clip-path=\"url(#p12964c0bdc)\">\n     <!-- Q1 -->\n     <defs>\n      <path d=\"M 39.40625 66.21875 \nQ 28.65625 66.21875 22.328125 58.203125 \nQ 16.015625 50.203125 16.015625 36.375 \nQ 16.015625 22.609375 22.328125 14.59375 \nQ 28.65625 6.59375 39.40625 6.59375 \nQ 50.140625 6.59375 56.421875 14.59375 \nQ 62.703125 22.609375 62.703125 36.375 \nQ 62.703125 50.203125 56.421875 58.203125 \nQ 50.140625 66.21875 39.40625 66.21875 \nz\nM 53.21875 1.3125 \nL 66.21875 -12.890625 \nL 54.296875 -12.890625 \nL 43.5 -1.21875 \nQ 41.890625 -1.3125 41.03125 -1.359375 \nQ 40.1875 -1.421875 39.40625 -1.421875 \nQ 24.03125 -1.421875 14.8125 8.859375 \nQ 5.609375 19.140625 5.609375 36.375 \nQ 5.609375 53.65625 14.8125 63.9375 \nQ 24.03125 74.21875 39.40625 74.21875 \nQ 54.734375 74.21875 63.90625 63.9375 \nQ 73.09375 53.65625 73.09375 36.375 \nQ 73.09375 23.6875 67.984375 14.640625 \nQ 62.890625 5.609375 53.21875 1.3125 \nz\n\" id=\"DejaVuSans-81\"/>\n      <path d=\"M 12.40625 8.296875 \nL 28.515625 8.296875 \nL 28.515625 63.921875 \nL 10.984375 60.40625 \nL 10.984375 69.390625 \nL 28.421875 72.90625 \nL 38.28125 72.90625 \nL 38.28125 8.296875 \nL 54.390625 8.296875 \nL 54.390625 0 \nL 12.40625 0 \nz\n\" id=\"DejaVuSans-49\"/>\n     </defs>\n     <g transform=\"translate(15.366031 30.709219)scale(0.125 -0.125)\">\n      <use xlink:href=\"#DejaVuSans-81\"/>\n      <use x=\"78.710938\" xlink:href=\"#DejaVuSans-49\"/>\n     </g>\n    </g>\n   </g>\n   <g id=\"text_3\">\n    <g clip-path=\"url(#p12964c0bdc)\">\n     <!-- Q2 -->\n     <defs>\n      <path d=\"M 19.1875 8.296875 \nL 53.609375 8.296875 \nL 53.609375 0 \nL 7.328125 0 \nL 7.328125 8.296875 \nQ 12.9375 14.109375 22.625 23.890625 \nQ 32.328125 33.6875 34.8125 36.53125 \nQ 39.546875 41.84375 41.421875 45.53125 \nQ 43.3125 49.21875 43.3125 52.78125 \nQ 43.3125 58.59375 39.234375 62.25 \nQ 35.15625 65.921875 28.609375 65.921875 \nQ 23.96875 65.921875 18.8125 64.3125 \nQ 13.671875 62.703125 7.8125 59.421875 \nL 7.8125 69.390625 \nQ 13.765625 71.78125 18.9375 73 \nQ 24.125 74.21875 28.421875 74.21875 \nQ 39.75 74.21875 46.484375 68.546875 \nQ 53.21875 62.890625 53.21875 53.421875 \nQ 53.21875 48.921875 51.53125 44.890625 \nQ 49.859375 40.875 45.40625 35.40625 \nQ 44.1875 33.984375 37.640625 27.21875 \nQ 31.109375 20.453125 19.1875 8.296875 \nz\n\" id=\"DejaVuSans-50\"/>\n     </defs>\n     <g transform=\"translate(15.366031 76.609219)scale(0.125 -0.125)\">\n      <use xlink:href=\"#DejaVuSans-81\"/>\n      <use x=\"78.710938\" xlink:href=\"#DejaVuSans-50\"/>\n     </g>\n    </g>\n   </g>\n   <g id=\"text_4\">\n    <g clip-path=\"url(#p12964c0bdc)\">\n     <!-- Q1 -->\n     <g transform=\"translate(15.366031 122.509219)scale(0.125 -0.125)\">\n      <use xlink:href=\"#DejaVuSans-81\"/>\n      <use x=\"78.710938\" xlink:href=\"#DejaVuSans-49\"/>\n     </g>\n    </g>\n   </g>\n   <g id=\"text_5\">\n    <g clip-path=\"url(#p12964c0bdc)\">\n     <!-- Q3 -->\n     <defs>\n      <path d=\"M 40.578125 39.3125 \nQ 47.65625 37.796875 51.625 33 \nQ 55.609375 28.21875 55.609375 21.1875 \nQ 55.609375 10.40625 48.1875 4.484375 \nQ 40.765625 -1.421875 27.09375 -1.421875 \nQ 22.515625 -1.421875 17.65625 -0.515625 \nQ 12.796875 0.390625 7.625 2.203125 \nL 7.625 11.71875 \nQ 11.71875 9.328125 16.59375 8.109375 \nQ 21.484375 6.890625 26.8125 6.890625 \nQ 36.078125 6.890625 40.9375 10.546875 \nQ 45.796875 14.203125 45.796875 21.1875 \nQ 45.796875 27.640625 41.28125 31.265625 \nQ 36.765625 34.90625 28.71875 34.90625 \nL 20.21875 34.90625 \nL 20.21875 43.015625 \nL 29.109375 43.015625 \nQ 36.375 43.015625 40.234375 45.921875 \nQ 44.09375 48.828125 44.09375 54.296875 \nQ 44.09375 59.90625 40.109375 62.90625 \nQ 36.140625 65.921875 28.71875 65.921875 \nQ 24.65625 65.921875 20.015625 65.03125 \nQ 15.375 64.15625 9.8125 62.3125 \nL 9.8125 71.09375 \nQ 15.4375 72.65625 20.34375 73.4375 \nQ 25.25 74.21875 29.59375 74.21875 \nQ 40.828125 74.21875 47.359375 69.109375 \nQ 53.90625 64.015625 53.90625 55.328125 \nQ 53.90625 49.265625 50.4375 45.09375 \nQ 46.96875 40.921875 40.578125 39.3125 \nz\n\" id=\"DejaVuSans-51\"/>\n     </defs>\n     <g transform=\"translate(15.366031 168.409219)scale(0.125 -0.125)\">\n      <use xlink:href=\"#DejaVuSans-81\"/>\n      <use x=\"78.710938\" xlink:href=\"#DejaVuSans-51\"/>\n     </g>\n    </g>\n   </g>\n   <g id=\"text_6\">\n    <g clip-path=\"url(#p12964c0bdc)\">\n     <!-- Q4 -->\n     <g transform=\"translate(15.366031 214.309219)scale(0.125 -0.125)\">\n      <use xlink:href=\"#DejaVuSans-81\"/>\n      <use x=\"78.710938\" xlink:href=\"#DejaVuSans-52\"/>\n     </g>\n    </g>\n   </g>\n  </g>\n </g>\n <defs>\n  <clipPath id=\"p12964c0bdc\">\n   <rect height=\"222.02\" width=\"252.8988\" x=\"7.2\" y=\"7.2\"/>\n  </clipPath>\n </defs>\n</svg>\n"
          },
          "metadata": {},
          "execution_count": 170
        }
      ]
    },
    {
      "cell_type": "code",
      "source": [
        ""
      ],
      "metadata": {
        "id": "sK2qrzUJD3km"
      },
      "execution_count": null,
      "outputs": []
    },
    {
      "cell_type": "markdown",
      "source": [
        "# Моделирование"
      ],
      "metadata": {
        "id": "BLNrMEVviucz"
      }
    },
    {
      "cell_type": "markdown",
      "source": [
        "![image.png](data:image/png;base64,iVBORw0KGgoAAAANSUhEUgAAA5IAAAJtCAYAAABEwk9qAAAAAXNSR0IArs4c6QAAAARnQU1BAACxjwv8YQUAAAAJcEhZcwAADsMAAA7DAcdvqGQAAFCXSURBVHhe7d3BaxxZvi/4X87+1WJwdS0ub1aWGbtV0MyblUXNg+6GwSoG3J5C0CsvhpHq0Q3SonszmLarnnfVCwna3JZgFl4ViMK3YChp01Vwr5FXM0NDu6xLS7tHL+pdr3r+gJxzMiOkyHRKylBmShmZnw8cKeJEZEpKnYgT34yIk612EgAAADCk/6b4DgAAAEMRJAEAAKhFkAQAAKAWQRIAAIBaBEkAAABqESQBAACoRZAEAACgFkESAACAWgRJAAAAahEkAQAAqEWQBAAAoBZBEgAAgFoESeBC+2sRrValpPmqraXe5Wv7xQIAAGaSIAmcK4fI5fS93T4te2m+J0yuVJYfRbx+GnFcLAIAYPa02kkxDdArpcGlhYhHaS9xr6gqrbUi7qTQuH6zqCgcb0UsvEmBcruoAABg5jgjCZzvbgqGxWTVnVTfY797WevCbsSREAkAMNMESeB8r1IwLCar3qT6HveKS1ufRzxMgXJSt0lW78WsWwAAGA9BEhgsJ6+FVhxEK5b7BtfJ903urBaXtabEuLTVrb8qJ/dj1ixCJQDAeLhHEnjXgKTVitNdxd3NiIP1YibJ90vuFNPZ5oB7J8cl/2rj2GuVf6I9IABAfYIk8K5BQfJJ/roa8eR+Knkc1wl6cv5uaZx7rXEFUwCAeSJIAu8aECRP0lYeVKfIkf1nJq/CuIOfIAkAUJ8gCQxWDZNTtJuYRPATJgEA6jHYDjBYTlZlAQCACkESaLDj2PrjUmy9LWY79mPts7Xux48crkXrs1allOvmx53Wx5P8vXgMAAAXEiSB2XV7O9qP20XZi9VYjFs3imVpbu9kWTuFye38UZgAAAxBkATmwvHLp/H6p7+thMWdWK6cqYx/371X8qwCAMApQRKYA/vxxXeL8eij8sMtb8b6p6dnI9u/Won439Zir3JbaM8tok8kSQCAKkESmHnvno3s1Xr/49j84HX8tedeSwAAziJIAg12M2796FXsHh4X893QuPPh/Upo7D8bmbzdiqUXlaF1/sMXsREr8fHJ/ZMAAJxHkAQa7d6Do1j5fuFkBNaFFBr3HlRi5Ivld89G3rgVi39ZPnlM/C8Re5+up1gKAMAwWu2kmAaYenngm3HutYZ5vhw2OyO7AgDQIUgCZ+qcrbsOT87fLY1jr1WOxDrMcwmSAAC9BEngTNMYoEY5I1n9GI86zyFIAgD0co8kMPNygCwDaFkAALg8QRJonDIYDlsy4REAYHwESaBRqmcV6xQAAMZHkAQAAKAWQRIAAIBaBEkAAABqESQBAACoRZAEAACgFkESAACAWgRJAAAAahEkAQAAqEWQBAAAoBZBEgAAgFoESQAAAGoRJAEAAKhFkAQAAKAWQRIAAIBaBEkAAABqESQBAACoRZAEmDKt1ugFAGCSBEmAKdNud0t1um4RKgGASRIkAWbQoFBZx1oliOaytFUs6LO/FrF1XMwAAHOj1U6KaWBKlSHgqrfW1metaD+2i8ivw0Q9ufg1Hsf/PrejYZ8nB8n7ad17xXwOjMvpe3u7Ox8pPC4tRLxKk5tHEes3u9UAwHwQJKEBygBw1YFSkLx+dcLfMIZ9vv4gmW0tpS/Pe0PjoDoAYPa5tBUaJAeAMlCWoRLqKNvPZdxajHhzVMwAAHNNkIQGEijnxyjBb9z++jrizkIxAwDMNUESGkyg5DLODadFY9qO3hXyPZIbiy5hBQC6BEmYQvmgvQyHZx7wZ3nAk7R8dU+gnF/HsfXHpdh6W8x27MfaZ2vp66njl0ude15zWXp5PDhM9lXcS/Nlm3p6J7WxcqCdrGh7G69SWTh7VFcAYDYJkjBlTkbHLM425pK1Un2PYtTMxdViPinXfycgMNdyiFz4fiWOHrc7gycdfNR7WrEMi4OUbepgvagopac4KJYNXA4AzDRBEqZJCodPdyL2qmd+Cqup/uTz+ooQ+SgdwN8vqqrKMClQks9OfvFdxOYn6zn7nchtI7eTrAyDAADDEiRh2tyNGDSeyZ1U31EJkdWPZuhXhgOBcs69/Wu8jlex8ax7WWunvKhe9FrRnyalSwDgDIIkXMow96XldSoH753Se9/aQK8iBn3Cwpv8ye/J/hfdD4FfLgLi8k7EznLE2jnZQKBsrvw/GznPfbB5cllr+3FqXf+8HKtvimX9ygYz8g8FAGaZIAkTtRp7JwfwuWyffRYxJ4aFVhxEK5b774dMdla7I2be2+491t9L9Xmwne3zTk8m5foC5ay5Gbd+9Cp2D8vrniOOXz6NnQ/vd9vajY9jJXbjm+JNj/y/37x9N+68350HALgMQRImaieWT85G9p/BrOhLdu2dtH4R+MpFPSNmjuCsQFmdplnuPTiKle8XTs58L3y3GHsPyncWbsb6p4/iTXFpazxZiDf/8SDWbxSLAQAuodVOimlgaPmy1YcRn1QPyPOlrV/H/bPOOr7diqVnb+LRoOUDUlwrejfNSW2pJ0G1CJf97CHS65ID2CQ9ufhFHuX/UP0fAwCMgyAJl3KJIDnwMYXzEtx+Wpw/DyS5uzm+j1noDxd53t5gsBwk86XJV22U/0m1Sfm/AgDj5tJWuJQL7kvL8hnI6uiYh1/ERqzEx4MuKew/0q/OF0+Yq8YRInPAKANK9cf0/wpcn+r/qI7ycdX/r/8rADAJgiRc0vn3pSU3bsXiX5ZPlrd2I/Y+7f0svx4TPvLvDxhMr/L/Uw2Gw5TM/xcAuAoubYUGyCHhsltqNWBwOdd1aSsAwLRyRhJmVHmWyhkqAADGTZCEGSRAAgAwSYIkzJDqWUgAAJgUQRJmgMtYAQC4SoIkNJgACQDAdRAkoYEESAAArpMgCQ0iQAJNsb92us/qlDRftbXUu3zruFgwJy56fUp5vXl7bYBmECShIfKBhgAJNEEOP8vpe7nPymUvzZ+EpRSMdhcry9PCjYed6rlw4euTpRdjKe33l3eKeYAp02onxTQAA7Q+a0X7sV0lDCUHoIWIR2mTuVdUldZSMLpzFLF+s6go5cekIPn8IKJ/0cyp+frkM7fxfMBrBnDNnJEEAMbrbkTKSu+4k+oHWcvBah5CZKnm6wMwjQRJAGC8XkUcFZNVb1J9j/3uZfv3B5ydm2nDvj4AU0yQBADGI6fChVYcRCuWq/f7Jfm+wJ3V00s0O4PtfN29P3BuQmSN1wdg2gmSAMDockiqaO+0OlVleXon1W0XC/cjNvLZt53T5bmspfqZlf/AinNfn6wYbCe/ThsLaXqrqAeYEgbbAbiAwXZgCH1BqaM4xMiDyMzd5av9vD7AjHFGEgCYqO29iOUUlnKWcmbtXV4foImckQS4gDOSMKTqWTeHF+/y+gAzxBlJAGA8UjhqPel+ZwCvDzBDBEkAAABqESQBAACoRZAEAACgFkESAACAWgRJAAAAahEkAQDoyJ9QMmoB5oMgCQBAR/5kkvLTScrpukWohPkgSAIAMDaDQmUda5UgmsvSVrGgsLXUu3xtv1gAXKlWOymmARig9Vkr2o/tKmEYtpfz5ddnqjy5+H81jiPFHPiGfZ4cJO+nde8V8/trEcvpe3u7O7+VguX6enc6jlPQfBjx/CDiZlEFXA1BEuACDoxheLaX2VEn/A1j2OfrD5JZPgsZz1OA7EuLxylULrw5DZnA1XFpKwAAE5dDZA6Tl3FrMeLNUTGT7Xefa2E34kiIhGshSAIADCEHl8uWJhol+I3bX19H3FkoZrJ73d+v/TziYfod3SYJV0+QBAAYUie8XKI0PVSOS/laDFS8QNvRu0K+R3JjsbisNSXG/sF3gOshSAIATNigUNl8x7H1x6XYelvMduzH2mdrp2cID9c6982WZe2weA3+u61YOqkvhmGtuJfmy9fp6Z30mPLy1XsRixunr2FrIWLlqPd+SuBqGGwH4AIGD4Hh5e2l0S4YxXScR005CE37Udj5v2MOkg8jPjmI9RtFVSdIfh33H2+ncJenn8adXxXL36bw+OxNPHr821heX4jVT9uxk0Ji/Ie1aP8/O51H93CIClNNkAS4gCAJZOMOfrMfJPPyhdj98VEcfHSzGyS/inj1n27F6pNynew4/aDqDZAFh6gw1VzaCgBwDXJOykFtdt2M9U82I75b6F7C+mw3Vj5Zj/j3f43XH9yJanTc+se7xVRBiISpJ0gCAPCOkc+YFmcgnz9ud67qaD9+Hhv/eSk2/99bsfjDm6h+mke29W/ph+UfKERCIwiSAADXpNlnJW/GrR+9it3D42I+4vjl09j58P7p4Dc/7MY3xWA8rdZRrP63eWoh7nywE18fdqpT4PwmdmMlPj65PBZoAkESAGAolxultGr/Rf/jm+3eg6NY+b64dDWVhe8WY+9BESNvrMfBymJsPOsuiyfLESv5fsruJa+vd4vXqbjkNX+6B9AcBtsBuEA+0DHYDtBqHcfmP15mlNK0rDO9Ea/ibmyWywsXnpF8MsFTlheMUpuNcqRY/m2ONmH2CJIAFxAkgeziIDl4lNLnn5Zn2waNctoNW9N2NDbK71QNxo4yYXa5tBUAYCwGj1J63iWb0xYi8+9zmd+pfFz52LIAs0uQBAAYhwGjlMZXzbonsgx/1WA4TMmER5gvgiQAwFDqjVIacRRvfigmB8gBbBqDVxkI6xZgvrhHEubQ/lrE8k4xk62mg4DtYroqHSstLUQs7kVsnxwlzR/3SAJZN/h174PcOAmIq7HXuT+ykEdt3T3dwa6utGP7dpo4GWyn6+5Pj+LV/3RTAAMaS5CEOdMJkel7NTgOqjsJkSlkxn1BUpCE+VBepnmWcRw1VS8FBWgql7bCPEnh8OlOxF7f2cd7aX411W+VV2sVIfJROshJGRJgfjxpdQLeoDKKHB7LMo7nA7hugiTMm7sRKSO+406q76iEyDk+CQkwFv3hUYAEZoUgCfPmVR7+4V1viht39r/orBLLxcFPvpdyZzlibb+7/KqUB1+XKQCTMmifc17JhEdgFgmSMC/yEc1CKw6iFctrRV0h3yO5sxqxfrN7mWv1nfO9VL96TYPtVH+POqX/IA5gHAbtb4YpALNIkIR50Jeo2jutnrD19E6q67tvssmqB3Dl3wgAwPgYtRXmwYAk1XqSv65GPLmfSh6z9Ro8OX/3M869U34JLvt8Rm2F+WF7BxiOIAnzYNApuXLT30+Lixx5dzPiYL07fd1GCX6DCJLAMGzvAMNxaSvMg/4EVZ2/153NZVpC5CTkv29QngYAoD5BEuZFmRZzAQCAEQiSwNxwVhIAYDwESWBKHcfWH5di620x27Efa5+t5ds6Iw7XOvcynZbedY9fLp0sW3p5XNQCADAOgiTQTLe3OwNidMterMZi3LrRXZRD5ML3K3FULD/46GZ3QSGflTyz9ITTbgEAoJcgCTTe8cun8fqnv83jBiX78cV3EZufrEdvfDxVvV30nXISTnsLAACnBEmg4XJwXIxH5VnHt3+N1/EqNp5Vziq+6FwM2znjmMMiAACjESSBRus9G1n4YPPkstb246PY/K/LsXZYLAMAYGSCJDClbsatH72K3cPTgXJyaNz58H4lNPadjcxufBwrsRvf9AzSczd2/mdnIwEAxqXVToppgKnRvQw1j9y6EBs/FJWxGnuPt0+C5P6LVjx9/+idwXS6o7sux04xt7rSjp07giRwsXw5vPuiAS4mSAJjU3uE0yfn737GsXfKgTSzpwOGIUgCDEeQBMZmnAdgowyMU4bHzB4OqEOQBBiOeySBmZEDZBlAywIAwPgJksDUKoPhsCUTHgEAJk+QBKZS9axinQIAwOQJkgAAANQiSMIMql7qCQAA4yZIwozKl3kKlAAATIIgCTOsvG9QoAQAYJwESZgDAiUAAOMkSMIcESgBABgHQRJmwP7aaTgcFBC3lnqXr+4JlAAAXJ4gCQ2XQ+Ry+l6ebcwla6X6EyuV5UcRr59GHKfqsk6YBMbFG1QA80GQhCZLafDpTsTedjFfsZrqt3JaTNbXu9+z428iXi1G3CzmszJMOvgDxsE+BWD2CZLQdHcjForJqjupvsd+96BuYTfiaEDwrJ6ddPAHjMo+BWC2CZJwJY5j649LsfW2mO3Yj7XP1nK+63H8cilan7U6ZellcUrx7VYsFXWtz/qe51UKhsVk1ZtU3+NecWD3POJhOqjr/7klB3/AONmnAMwmQRKmSA6RC9+vxNHjdrRTOfgoX4CaQuhXG7G40q1rryzGxldb3SOyhVYcRCuWq/dDFnZWI9bzw1NiXEqr1+XgDxgn+xSA2SJIwtTYjy++i9j8ZL3n/sV8vvHND6tx/3Yxe/u30f5PG8VMV3undXJwVh6gtcvLV+9FLKbVT5YvRKwcdaqHctbBX3UamF8XjRp94jhiKS03ajTAbBAkYVq8/Wu8jlex8ay8hDWVF/vd+g/uDLwPcljbRRgsS+dMZU3lY8uDv+p0WeJJqgTmxlCjRmc5RKad2OJqMZ+U63f2HQA0jiAJ0+SDzZPLWtuPj2Lzvy7H2r/disUf3gy8D7Lq5EBurzufD84uc0nrWcqwWD34O/mZlQLMiSFHjS5D5KO0f7hfVFXl/Ua5fwGgOQRJuBI349aPXsXuYXlklY6tXj6NnQ/vn15ieuPjWInd+KZnQJ67cef9hbjzwU58fVhUvf0mlv5xs5gpVBNc8YS56qDysR+X1R8gS9VpYE5dNGp0JUSedzl9uX8RKAGaQ5CEK3LvwVGsfL9wctnqwneLsfegemh1M9Y/fRRvTi5tXYg3//Eg1m+k+k824/VuUf9sN1Y+SQmxPPKaUKI7K0ACTTPMqNF5nXLfk0tl/cO1wfXZBaNG73/RWSWWi/3J8k7EznLE2hnDRpf7G4ESYPq12kkxDcyIMgBeRnnwZs8AsyKHxIcRn+Q3poqqTpD8Ou4/3u6eKcwfMfQvt+KgfHMrh8d/vhNHn0Q8/Cri+afFIGB5vTR/UBnwq7XaPh3cK+nsQ1bTPmTAJa/5nsqv70dsn3d6suI69kc5MOfbCwA4nzOSQEc+YCsDqBAJc+bG+mmIzN6/k69afdeNj3tCZHbuqNEjKvdH1efOqtMAXA9nJGEG5YOsOlt23fWBJhnijGSP3mWdz7f9rrhWNWk/KSYqWtG7A5nU/qQMkGW4fMeT8SRMZyQBLiZIwgwaNhhWD8qAWVUjSOZLWncj9gYGzGw/7TjyB370KXcilcV3N8cz4FfWv68adh8HwOS4tBXmUD4IKw/EHIzBrBti1OhysJ3D+9E+M0TmdZZj6V/6htep7kSKB+Yqo0YDzDZnJGEGnfVufa7PbPUwb3IIXIiNH4rZWO0969g5E7lTzJxaXWnHb9+eXtp696dHcfBRZ9idM521/6nDvgpg+gmSMIP6D+QclAFXZZQgaV8F0BwubYUZlg/KyoM6B2bAtLKvAmgeQRJmlIMyoAnsqwCaSZCEGeSgDJh21bOQADSPIAkAXJlqgBQiAZpLkAQAJk6ABJgtgiQAMDECJMBsEiQBgLETIAFmmyAJAIyVAAkw+1rtpJgGAACACzkjCQAAQC2CJAAAALUIkgAAANQiSAIAAFCLIAkAAEAtgiQAAAC1CJIAAADUIkgCAABQiyAJAABALYIkAAAAtQiSAAAA1CJIAgAAUIsgCQAAQC2CJAAAALUIkgAAANQiSAIAAFCLIAkAAEAtgiQAAAC1CJIAAADUIkgCAABQiyAJAABALYIkAAAAtQiSAAAA1CJIAgAAUIsgCQAAQC2CJAAAALUIkgAAANQiSAIAAFCLIAkAAEAtgiQAAAC1CJIAAADUIkgCAABQiyAJAABALYIkAAAAtQiSAAAA1CJIAgAAUIsgCQAAQC2CJAAAALUIkgAAANQiSAIAAFCLIAnXoNXqFgAAaCJBEq5Juy1QAgDQTIIkXKMcJgVKAACaRpCEKSBQAgDQJIIkTBGBEgCAJhAk4Qrsr52Gw/MCYl5v61igBABgugmSMGE5HC6n72U4zCVrpfoTKTwupcC4vFPMF6qBEgAApoUgCZOUAuLTFA73tov5itVUn88+dtyMOEiBcfNuMd+nDJMCJQAA00CQhElL4XChmKy6c0ZoPEv17KRACQDAdRIkoeM4tv64FFtvi9mO/Vj7bC19fdf+i751D9ei9VnrpKwdFvXZq4ijYrLqTaq/DIESAIDrJkhCHW+3YikFxeW/FPMdKXDuvo7NX7Wj/TiVX23G691idJ2FVhxEWr96P2RhZzVi/WYxcwkCJQAA10WQhDpurMfB46PY/KCY71iIOx+8it3D8obHiIMnvaPmtHdaJ4GvDH3t6n2TxWA7G69SWUjTW0X9EM4KlNVpAAAYJ0ESRnYz1j/ZjPhuoXtp67Pdor6GYrCdMhQerBf1NfQHyup0tQAAwKgESRhVvtz1q4jn+bLWTnleLOhVBr32Xnc+h7o6Zx4vUgbFaqA8+ZlFiSeSJAAAoxMkoeNm3PpR7+Wpxy+fxs6H9+NeMX+uH3bjm5PBd45i7UnfkKydFFconjBXXebMY7/+AFmqTgMAwDi12kkxDXMuj9y6EBs/FLOxGnuPt3uDZD77+GwjD8TacfenR3Hw0c3uqK27p/dFrq60Y/t2MTNAGfxGkZ8jq/M8+dLbfNYUAABGIUjCNRglSF4mQJYESQAAxsGlrdAQOUCWAdTbPwAAXCdBEhpAgAQAYJoIkjDFqmchAQBgWgiSMIVcxgoAwDQTJGGKCJAAADSBIAlTQIAEAKBJBEm4RgIkAABNJEjCNREgAQBoKkESroEACQBAkwmSAAAA1CJIAgAAUIsgCQAAQC2CJAAAALUIkgAAANQiSAIAAFCLIAkAAEAtgiRwrVqtyxcAAK6HIAlcu3b7ckWoBAC4HoIk0FiDQiXQTPtrvW8OtdJ81dZS7/K1/WIBANei1U6KaWDGtT5LR1/X4cn5u5lx7oXyAaa9GjRLDpHL6Xt7uzuf9ddtbUWsr3en4zhi6WHE84OIm0UVAFdLkASu1biDnyAJDZND4ULEo7Td3iuqSmtpe75zlAJkX1o8TqFy4U1v8ATgarm0FZgpOUTmMAk0yN0UDIvJqjupvsd+d/te2I04EiIBrpUgCQBcr1cpGBaTVW9SfY973TeL2s8jHqZA2dTbJHMYvmwBmBaCJDBznJWEhsgb6kIrDqIVy32D6+R7JHdWi8taU2Jc2urWz4pOIL5EESqBaSFIAtfsOLb+uBRbb4vZjv1Y+2yte7bhcK0zSNBpKdY9qx5ohr4k1N5J23ElJD29k+rKy1fvRSxunC5rLUSsHL17T+U8GBQqAa6DwXaAa9VqHcfmPz6M+OQg1m8UlZ0g+XXcf7zdd6A4fP1FB1f2fHDNBmykrSf562rEk/up5DFbG8xo1cCMEySBa1UnSB6/XIqH8TwOPuodwnFQ/XkHVvkMZvuxXR9cq0Hv9pQbbR5Up8iRdzcjDsqP/ZgR4w5+giRwHVzaCjTEfnzx3WI86guRg+odVEED9G+k1fl73dlcZi1ETkJ+nQblcoBJEiSBRjh++TRe//S3fZe0nl0PNECZFnMBoFEESeCa3YxbP3oVu4fHxXw3HO58eL8SDp2NBDiPs5LAVRMkgWt378FRrHy/cDIC60IKh3sPKjHyxfLAs45n1QNMtwtGq876RqZeO8yV+XGndaf1AFfPYDswR/JBx7W4gtELy3fih3mu/DoYbAe4LhcPMpann8adXxXL327F0rM38ejx/fjry4VYL6/CyPVfRTz/dD1yzYVnJJ9M1ylL+2FoNkES5sg0BqhRLkWtHjTVeQ5BErhOFwfJfOZxIXZ/fNQdjbovMJbyiNUL//Yo2sUVHKPsT6+a/TA0n0tbgcbJB0vlAVNZAGbHzVj/ZDPiu+KS/2e7sfJJJUQWl70ufL8SRw0MkcBsECSBa1cGw2FL5oAJmFnlGcjH7c5Zu/bj5xFfVe6pvL3drf8k4mH1vkqAKyRIAteqelaxTgForiFGq/5hN745GYznKN78kL4drsXSy9PHlJZb9ovA1RMkAQCu2LmjVd9Yj4OVxdh4Vo7OuhyxchDrH92PxfJy11zyJa+/2u4+BuCKGWwH5kg+8DC4gdcBOFveP4zFlI1WPW3sh6H5BEmYIzruLq8DcJar2D/kAHjZo68yPGZNPoKzH4bmc2krAMCUKwcby+GxLADXSZAEALhiZTActmTCIzBNBEkAgCtUPatYpwBME0ESAACAWgRJAAAAahEkAQAAqEWQBAAAoBZBEgAAgFoESQAAAGoRJAEAAKhFkIRrUP2AaQAAaBpBEq5J/nBpgRIAgCYSJOEa5TApUAIA0DSCJEwBgRIAgCYRJGGKCJQAADSBIAlXYH/tNBwOCohbS73LN48ESgAAppcgCROWQ+Ry+l6ebcwla6X6juOI3cXK8r2IjYed6pM6YRKYN95IA5hugiRMUkqDT3ci9raL+YrVVL+V0+LNiIPq8oWIu8VkqQyTDqqAeWLfBzC9BEmYtJQKUzZ8x53+tFhYSys/Oujkyx7Vs5MOqoB5Yd8HMJ0ESeg4jq0/LsXW22K2Yz/WPltLX9+1/6J/3cLbrVj6rBVrh8V89iriqJisepPqe6QflA+S7qcDpntF1SAOqoB5ZN8328r/6ygFuFqCJNRRBMXlvxTzVXnZszex+GExn3u1hVYcRFq/vB+yYmc1Yr047dgZbOfr7kHSeSGyykEVMI/s+2ZT+X+tTtctZZvQLuBqCJJQx431OHh8FJsfFPOlIkQ+erwd99Ps9p3eXqy903qng2uX90XuR2zks5M7vZ3g2qBToQP0d6Cl6jTAtLtodOsTxxFLafnq3uB9H139r+fJAG998nqd+/VnQNkfXrZdrFVfr1SWtooF/Yo2OGw/DbNKkIRRVULksGcTe6QHVTu/smzXfLLycWUHWJ0uSzxJlQBT5sLRrUv5AH4hYnG1mE/K9Tv7ODoGvZ4pd/e+nkUYWt4p5q9a6o/6+6jyf1idvqzLtou9ymv26E16/BBtEOaVIAkj2v+XjXgVO7H8WStaZ132mpQdU/54jyx3bme+23kJZcdb/pzqdLUATJV0YH7h6NZZcQD/KO3H8pUf/fL+rdwPzrUzXs97ab7n9cwjhqfXbPOMgd8mrb9vqpZy+Tjk57lsm8iv2ebr4dsgzBtBEjpuxq0fvYrdw7K3SP3Fy6ex8+H9C88y3nvQjvbj07L3YcTam74esNojFk+Yqw7Wu9OjKA+c8vNVf0x1GmCqXTS6deUA/rx9crkfnPtAWXO08FlXtonLuLUY8SaPmDdkG4R5IkhC4d6Do1j5fqFzVjGXhe8WY+9BX3fRGWxnITZ+eBUbz1qx9PI0eL6jPKLJZQLOCpAAk1FvdOtycLLuKNb5sd19a7f0Pc8Fo1vvf9FZJZaL/V6+HHNn+ex71Mr9YrmfnDsXvJ7TrvzfTYO/vk4BPAXIum0Q5oEgCSduxvqn1bOLA+557Ay2c7rOwUf9n/bYPUO5fbuYmYDywEiABKZW/yjWb7+J3R/tne5fVxZj46ut7s5siNGt8yWG5T4vl71Unwfbuehe8nL9cr858855PfN9k9XRwptlmDcx+t+syCUv79bHk9P6no/oyooGsp1et6r8mm0sjtYGYZYJktAQ5YFQ2YkBTKW+Uaw78ptw1Ss83r8T7f+0Ucx0nTu69YjK/Wb1ubPqdOP1/TH9r+fTO32vZ75UM9XnUcM3FtL0GO/Zvz6rsVd5s7f7hvBRxI+PTuri/9yM1/+8lf/8rr7X7V6aP/M1A3q02kkxDVyR3EHV2fLqrs/58jvSnQMKoIZ8ZudhxCcHsX6jqOqcFfo67pdXcPSNYr3/ohVf3+6/SqP7mO0nO8X8qbRlFlNdk9rv5X1qVobLfo3c3w74Q1pP8tfViCcp0j/J47hOkSFHEe/+L4Zoe5118q0nnZnkbmz+qrp+V+veUsT//ijif+0+qt13FrJDhwtDESThGgwbDKsHO4yPIAmXcfHBfA6Og0auXl0pwuThWrR2I/by+ucluP20nRa55+7meAYmy/r3qcPuixvhGl7PSer93wwTJPv0vanRbXs7ER9sxtGn63nQ2q7zXjfgXC5thSmU+7WyE9WfAdPh4tGtB41i3Q2ROQi0onV4P9UXB/b9O7fqfPGEucro1kPq/2Oq8+n1LP/2JoTIsbjxcax88Dr+Wt5XeXu7cxa0/UnEw+q9lee9bsC5BEmYIgIkMM2GGt16kMMvupcc/mX55LG5dD4qaYI7vLnbp5Z/aMP/2PJ/dmqIj+jKZyBfVIZQzW0uVuLjf1uLPML6u89ZMSOvG1w1l7bCNejv0PJ8Zmu8GvkA1qWtMN3OPfC/gH1qsw3+3/ffA5kH1qle1povdV2O0ztvy+X7aZ9fvT908L2TQH2CJFyDspN0sHM9BEmYfpcJkvaps+Ey//uzjPO5gF4ubYVrUnZuOjiA0dmnNkv+f51VyuWjKJ9Le4DJESThGjjYARgPgaGhnrRO+sJqyarTdZRtoWwPl3kOYHiCJADQOALDbKn+P+soH1dtC9oDXA1BEgBojP7QwGwo/5fVYDhMybQFuB6CJAAw9crgIDTMrvJ/W7cA10OQBACmlgAJMJ0ESQBgKgmQANNLkAQApo4ACTDdBEkAAABqESQBAACoRZAEAACgFkESAACAWgRJAAAAahEkAQAAqEWQBAAAoBZBEgAAgFoESQAAAGoRJAEAAKhFkAQAAKAWQRIAAIBaBEkAAABqESQBAACoRZAEAACgFkESAACAWgRJAAAAahEkAQAAqEWQBAAAoBZBEgAAgFoESQAAAGoRJAEAAKhFkAQAAKAWQRIAAIBaBEkAAABqESQBAACoRZAEAACgFkESAACAWgRJGINWq1sAAGAeCJIwJu22QAkAwHwQJGGMcpgUKAEAmHWCJEyAQAkAwCwTJGGCBEoAAGaRIAmXsL92Gg4HBcStpd7lq3sCJQAAs0OQhJpyiFxO38uzjblkrVR/YqWy/Cji9dOI41Rd1gmTAAA0mSAJdaQ0+HQnYm+7mK9YTfVbOS0m6+vd79nxNxGvFiNuFvNZGSYFSgAAmkiQhLruRiwUk1V3Un2P/W5QXNiNOBoQPKtnJwVKAACaRJBkRh3H1h+XYuttMduxH2ufreV89479F/3rpmd4uRStz1qdsvSyONWYvUrBsJisepPqe9wrwuLziIcpKA76uZlACQBA0wiSzLe3W7GUguLyX4r5Qg6RC9+vxNHjdrRTOfjoZnF6sRUHkdav3g9Z2FmNWM/Xr6bEuLTVratDoAQAoCkESebbjfU4eHwUmx8U8x378cV3EZufrJ/e19iX7No7rZPAVy5ql5ev3otY3Dhd1lqIWDnqVA/lrEBZnQYAgOvUaifFNMyQfGnrw4hPDmL9RlHVubT167j/eLsv1PWtm89SPtvIV7CeaD8pJipa0bvpTGpLKgNkGS7f8eR6EmY+U9tU+XLlJv/+0ETVfRnYD0PzCZLMqBGD5FcRzz8tz0gepy1lwPA65aaTB9XJnweS3N2MOKiM2DqK/oOuPD8tW2vTDwAcwMDVK/dhAiWZ/TA0n0tbmVE349aPXsXu4ekgOccvn8bOh/cvvsT0xsexErvxTWXwna1/7BuStXoEVDxhrhpHiMwHWeUBV/XHOOgCZkG5byv3dQA0kyDJzLr34ChWvl/ovOuZy8J3i7H3oC9GdgbbWYiNH17FxrNydNabsf7po3iT5ruPXYg3//Hg9OhnQonurAAJMIvKfZ1ACdBMLm2FMSgD4GWUB1BN2hKbfkmSS6rg6l20n2zivpDLsx+G5nNGEq5JPmgqD6wcOAGzZn/tdD9XhsSqraXe5ZtH3X3hWesDMF0ESbgG+SBJgARmVQ6ReQyycj9X7uta5WfwHkfsLlaW70VsPOxUn9QJkwDTTZCEK1S+014eVAHMnJQGn+5E7JWfrVuxmuq3ureix0F1+UJE35BmJ2FSoASYToIkXIFqgBQigZmXUuGAD02KO/1psbCWVn500MmXPcp9pkAJMH0ESZggAZKrULazUQrzKH+G7lJsVT7qqPt5u2v543ELeZ1yBOuyVJenR7zof47kVcRRMVn1JtX3yJ/Dm9rf/bR/PO+jmZoaKMvf9zIFYNoJkjAB5YGAAMlVqLazcrpucQDL2VZj73G7M8Jmt2x3Q1/n45NasfyXzkpduQEttOIgUn15P2TFzmrEenHasTPYztfd9nfh5/sW+ttrE5S/c91S/o1N+TuB+SNIwhiVnX55IABNMegAto614jFlWdoqFhT6R+js3CdHQ+zE8snZyMrZxxvrcfD4KDY/KObzP7aivZPWr/zPO3XlfZH7ERv57OTO6fJc1qqnOs9xVlutTjfdqNskwKT5HEkYg7KDn5etqemf/5V//0Z7cvFrP462mNv1sM+Tg2T18sSTUTtzcEihcemLyuAq+XLGpxFHA+6J4yrly1YfRnxyEOs3iqr0z1n77Ou4X5517JfPQj57E49Ollee4/13t6u0pyimuia1j6zugwcGrieDKsfkgu1xnH9znW1y2jW9HwHSdixIAnU5AJhe4z7QHPb5+oNkls9CxvPTSxlP5GCZssdzQfKaXSJIvvOY84PkSePJbx7kdxaSu5sRB+vd6VFVA2Q2bUHrurbHJtCPQPO5tBWAM+WD1vJgva5bixFvBoy4ctYInVy1m3HrR69i9/D0OuPjl09j58P7pyEyn4F8Ubne9PCL2IiV+PgkeFb0J5zqfPGEuWocITK3yTJUVX9M/68wa/Lfd9ntEWDcBElgrMoDvMsURjdNB5p/fR1xp/oZEPmsVPrdLhqhk6tz78FRrHy/0Dk7lMvCd4ux96Dy37lxKxb/snyyvLUbsffpevdNgM5gOwux8cOr2HjWiqWXKZCWyW5Cia7cV0zwRwAwJJe2ArWdd0lSeZB3GdUAZM90eaP8D85y5nNW/mn7aYUygvTcI5nky1w3Fk/nmT/j2Dc0bb8wiW0xm9TzXqXz+hGgGZyRBKZGPjAqSz5QKg8eGad8T9s5nx14uHZ69qlTuut2/if/Y3VZMQxrxb00X/7fnt5JjxnTCJ3Mr7KtlPuF5rlge8v6trm1w1yZH3da1zNaLsCUcEYSxiAf6GTzsjWVf+9Zxvk6lAeRDO/816x/sJTsrAFWKvVvt6L1nyOOttbzxwRG/PutaP+Xje5qVf5ZnKHutjwL236rdRyb/3je9pann8adXxXLy1Fxf3Unnv7LrTgoLzPOYfOf78RRcVnxRfvgiY5SO0bOSEKzCZIwBuUBT9m5z/NWNe6Dv1k4mLxq579mwwfJ45dL8TCex8FHN6P1323F3f8j4nl5f1x6nmhVb4As+GdxhmG35Vnaj14cJPP2uBC7Pz7qbGedIPlVdTsr9NXbLwLTwKWtMEa5Y88ld/LlwRCjKV9Prtp+fPHdYjzKB7fZf1mP5z/ejYWTS+0WovXkbndZyZEtIyj3m+V+dD7cjPVPNiO+KwY8erYbK5/0hcgcPPNZSiESmDKCJExAeSBUHhjBVRnXQWb+GIjXP/1t5wxl+Zw3PzroXIrWLXuxGoudAXZOGjxcQrmfnMtmVJ5pPNmunkd8VbkfsnP/5KDLzgGunyAJE1QeGJUHSlxO+RoyDkN8dmDlbGR5gN8rX463fBI04TLK/WK5n5xNQ2xvP+zGNycD6RzFmx/y92KwncP7KVyehsjB2yPA9XCPJFxC56MNdoqZwsAtKR07LC1ELO5FbKcjgTIMzfJWd+E9Qfkd9t3qi3c3NsuBJvqWra60Y/t2d9oB1HCGe52692VtdA5Ys9XYqxys7r9oxdP3j+LV/3Sz57nyPZML3+XhV9N/7afFPV0wpLJtzsN+sNT9m8/f3gbu96J/P1n4v9rR/r+LaYBrJkhCTf2fj5d1DoxWe+tOQmSqj/vdIFka7mC/mS4eXKKqWp+nB4xeWDymPPg8U0NGKRyLJxc3nlHa1zwd6HN1rqtd5XsPJ+qC7XEcf69tEphGgiTUUYTDR2mrqQai3MnnvHjnKGI9n6SprBcpeH7dFySzWT0wqBMkq6OC5hftvNEL8+tlb3W+UV6jsj1mXmdmSQ6S1/UxE7ZJYJa5RxLquhsx4EMP4k45gOUZYbNfPjDIJR8sVA8Y5kffqKApLp41euEoB2PzoGxDdV+j8nHlY8sCXB/bJNAUgiQzKp/dqox815HPiq2lr+/af9E/Sl75EQe59D3PqzwcwrvedG8di/0vOqvEcnEwkO+l3FmOWBv0g5PyQKE8eJgX1VFBOy4avZAzlQeaZRsatmQOVGGyBm1755XMNgk0gSDJfMvhJYXF5b8U89nt7SLI5NL9iINb+RLN3MMvtOIg0vpr3VWrdla7l7Xe2z49OM9lL9WvFoPtnKdcv3ow0Uz1RgXtMWD0wo3/ofu6cL6y/dQtwOQM2uaGKQBNIEgy326sx8Hjo9j8oJjvc3LWrC/ZtXdaJ4GvXNQz0M4IygOJ6nNn1elpd+/BUax8X1yimspCCo17Dyox8sWAj47I/4uVxdh4Vp4JXo5YOYj4L8VyAACmhsF2mFH50tZhRw4dtG5WWX9AimtF76YzqS3pJKgW4fId1zFaqVEKgYbIb0xd12A7ALNMkGRGjR4ke0YUHZTgyk1nPy3OnweS3N2MOFjvTo+qP0jl+SZsraP8ntWX2Z4JGAdBEmAyXNrKjBrmPr3z9N3D159qqvPFE+aqcYTIHKbKMFb9Mf2/wizp/5tn+W8FAJgFzkgyw/KZxoXY+KGYjdXY6z8b2fnQ+43OKKvZ3Z92P8Nw/0Urnr5ffJ7hEMoQNIr8HFnTt8jy76jLngiYBGckASZDkIQxGCVIzkqABJhGgiTAZLi0Fa5JDpBlABUiAa7H/trp/rhTBny8U8dxxFJaftZnAgPMG0ESroEACXD9cojMY6WV++Nc9tL8O2Eyh8iFiMXVYh4AQRKuUvmOtwAJcM1SOHy6k4Jj32cA30vzq6l+qxyrrQiRj9J++35RBYAgCVeiGiCFSIApcTciZcR33En1HZUQOdyI3wDzQ5CECRIgAabYq4ijYrLqTTGU9/4XnVViudiXL+9E7Cy7TxIgM2orjEEZFkt5PrN1AVyvgaO2ljvppLXajnbl8taT+yb7LnnN8rKv70dsOz0J4IwkjFM+NilDpRAJMIUqITJr77RO9t25PL0zOEQC0MsZSRiD8rjE1gQwXfIZyar2k2KiotWpW414cj+VZZ87CTAEQRIAmB99ZyQ7ykOh/bQ4X9ea3N2MOFjvTgPwLkESAJgv1TDpMAjgUgRJAAAAajHYDgAAALUIkgAAANQiSAIAAFCLIAkAAEAtgiQAAAC1CJIAAADUIkgCAABQiyAJAABALYIkAAAAtQiSAAAA1CJIAgAAUIsgCQAAQC2CJAAAALUIkgAAANQiSAIAAFCLIAkAAEAtgiQAAAC1CJIAAADUIkgCAABQiyAJAABALYIkAAAAtQiSAAAA1CJIAgAAUIsgCQAAQC2CJAAAALUIkgAAANQiSAIAAFCLIAkAAEAtgiQAAAC1CJIAAADUIkgCAABQiyAJAABALYIkAAAAtQiSAAAA1CJIAgAAUIsgCQAAQC2CJAAAALUIkgAAANQiSAIAAFCLIAkAAEAtgiQAAAC1CJIAAADUIkgCAABQiyAJAABALYIkAAAAtQiSAAAA1CJIAgAAUIsgCQAAQC2CJAAAALUIkgAAANQiSAIAAFCLIAkAAEAtgiQAAAC1CJIAAADUIkgCAABQiyAJAABALYIkAAAAtQiSAAAA1CJIAgAAUIsgCQAAQC2CJAAAALUIkgAAANQiSAIAAFCLIAkAAEAtgiQAAAC1CJIAAADUIkgCAABQiyAJAABALa12Ukw3XqtVTEyB2XlVAQAAes1MkMwhclr+kjLQCpMAAMAsmokgOWyIPOuMZfnY6vLq8102GA77ewEAADTJ3N0jmYNdtfQ7K/idVQ8AADBvGh8kp+msX/5dqmc1YaCyoWgsXIb2wyi0HwDGxKitY1Ltk8vpHHD11fTobxAaCHVoP4xC+wFgjBp/j2TuB4f9CwatW60rp/vXG+Zn5HUu7ckoD6ZJ2k+KiYrWgDoYRPthFNoP86b9+IKDN2AkgmSlrpzuX2/Yn5HXy/qfD06UjaRKI2FY2g+j0H6YI63PWoIkTFjjL23NfeCgvvE65N9Fn8y5+huIBkMd2g+j0H4AGKOZvkcyB8xqOcug5cM8Di4lHbx1LidzEMdlaD+MQvsBYExmIkjm/nBQ4Mv1/aXfoOX9dWX9sMoAWvdxAAAATTAzZyRzaJuGs4dlgBQiAQCAWdX4wXb6TUOYzARJzuOMNaPQfhiF9sM80M5h8mbuHsm805iGApdy+0H3++e3I957ryhp+kF1PpUH3w5YL5X8+Gpd+XyR1s/PUzzsnceVz0ezaT+MQvthHmjnMDYzPdgONEfqYG6njuZvh8V88pu/R/w9lz9E/OlfI37+T8V8Koe/OO2sTtbL9S9669JD4/bnqUP7dcQ/pOlnlY6s53GV56OBtB9Gof0wD7RzGDdBEqbFYepocif0joOI/y99+0kq36Ze6NvUYf0trfizzsIk1xWl9OfcqaXyLHWYv/xdxJep7jB3lM+6yzvKx/U/H42k/TAK7Yd5oJ3DWAmSMBUG9C6/vx1xO5c/R/ziv0+dVuronv06Tafe6p8q76jm+oOiVPq4E1+m5/hb+v55Wv4Pf0rfu9VnPh8NpP0wCu2HeaCdw7jN3GA70ARnDgKQO7TD1Nnkeysiff9dt7pn/tsHEb/+SZpNM/3rZT11qcdr/Tzis9SxLeX5Z93H/jJ1aoOej0bQfhiF9sM80M5h8mbzjOTxVtqo14qZimr9Vtra816mv+x3F3fXHVAP1+1n+f6M36eOrDt7+o5qKg+KyrLuvdS5xb9LHdnP0uNyKR77585aXf3Px2zTfhiF9sM80M5hKLN5RjKHwIU3Ee3toqJwVn22nwLm0zsRB+t5Jr0yTyOODiJuptnO43ZP52FE+b2JGdzyuCLaD6PQfpgH2jlMnnskO1JwXH4d8TyHyDz7dcTqo9PQeDPVr75KQbKYBwAAmGOCZLb1tDc43tuO2L5XzGQpaO7cjVgoZgEAAOaYIJlD4kb69ttqcKw6jlhajth87rJWxqK83CZ/h7q0H0ah/TAPtHO4GoJkvoz17soZITHfK7kQsXIUsS5FMh5l55a/z6p8y3H+G0/KgLGvsrze1nExw1Bmqf1c1E76x0TTVkY3z+1nLXXpzId5aucn8nkP7ZwrNptB8uat9OV1Z6N6x907xUTh650UFD8uZio6o7YuR+ylvZAQOXd6dtoTKFf1M65D7vTSltPpwMuyl+Z7Or+iw1tOm98sGvT/GGe5qp8xSRe2k9RGdhcry9PCjYeDd+uzZtD/Y5zlqn7GJA21n1mpLD9KRwVP56P9NMWgdjPOclU/Y5KGaudZ7lMXIhZXi3m4IrP7OZJreQtPm9vJvY7FVtZzdjHXpSOT532jsXZGad1ID08vzVlXvDLTcgfR5C3j2n7/YjN7NGDTyZvknb6T+/mMQTyfvfdqtJ8L1GwnHWfsrmeR9nOBS7Sf8wZt53po5xcYtp1X1osUML++3zfMB0zQ7F7aup23qOXult4paSt75xLVNP+qmKz6Zrf7fbl8bFFcLgAXO2NcqjupHk7UbCdr+UDJJzBRGrb95DtUUvfd+QQvIZKmuaidnxM24SrM9j2SOUzmt4vK8s5b3Gmzaw84MllPddXHlcVWChc745Ny3gx604b5NWw7KYLAfbtgqoZtP7mbz13484iH3g+maS5o5/tfdM+HlOc98u0iO8vhPkmujMF2YBi3HxQTyee3Uymmr1r/7/Hee93y4Nui8hp13vZvxUG0Yrnv/o18n8fO6oD3cuaF9nOqRjvpDJbytffxtJ+KYdtPOpBe2urW0xDa+akh23n+tLrq+Y69VL9avasLJkyQhHOljuN26kD+dljMX5e+3yN3bl/+MuLvf++W+MX1hsnc6VW0d1qdqrI8vZPqqpeV5ctxUv3Gq1QWZvmAT/vpUaedpCCQ20fsnC7PZb7eadd+euQGUHFu+0kH0osbp8vKu1scX08j7bxHbrAVF/ancI1md7AdplLrs94d5LV7cnbz724ZudP4WepcUodyWOlcIk3/rjt7Nfp+j9zZ/SF1bKmq6/OI9/6cOrsXnbm+fqjXk/H/D9pPiomKVqduNf28+6nkcecGaz8efhek/VzWdLSfUdrJWbSfq6D9NIl2flnaOdQlSHKlcgfXhB1a7iB6toxr7+AKNTq4K92yB/Wo5S+wnxYX/d7dzYiD9e70ZWg/I7ru9nNF7eQs2s+I5rz9NIV2PiLtHIbm0lYYyt8iHlTum7huv/yHiGf53dPk89S5ff5lxM9/1Z2/Dv29aXW+HOwilfnt9LSfDu3kkrSfDu1nxmnnHdo5DSJIwlBShxJ/6r5T+fs0mT//8Dr97jDi8Bfd3+fL9As9Th3wT4pl16Xs3aqdHgXt54R2cgnazwntZ4Zp5ye0cxrCpa1cqcZectME334b8bPuNTiN/P2HoP1MkPYzNbQfRqGdT5B2Dj2ckYRZUXRucCnaD6PQfpgH2jn0ECQBAACoRZAEAACgFkESAACAWgRJAAAAahEkAQAAqEWQhBl3/HIpWn/ciuNiPtt/0Yqll7nmOLb+2OoMF98tS7H1trsOZOe3n4q3W7GU2tDaYTEPybDtZ/9F/76nf9+Uy1rsF0thmly6nR+u9bVxfTDNIkjCjLv50UEc/Xg3HhYdWu7wnr5/FAcf3UwH/9/E7o/2Op851ikri7HxVW9nyHw7t/2Ucoh89iYWPyzmoXBh+ynegFj+S3e212rslfumTtmOe8USmCaXbue3tyvtey+1+MW4daNYBg0gSMIZ8ocNz4qbHz2Ple8XYu3lVjz8fiWel53bjfU4eFA5NHv/TtwtJhnNXLSfrAiRj9JB/v2iitHNTfvJ+6DHR7H5QTHfYyeWnamZadr5qeOXT+P1T3/rzRIaRZCEM7Tbs9TJ3Yz1T/civtuNlU/W09wg+7GWA8GnZy2njrloP5UQ6eBnvOZv/9MvP6ZyNvJXK7H7zKWts0Y7L+3HF98txqNq+IQGECThHLPTyeX7jZ7GnZV0MDbo0tXOfRpfx32BYKxmvf3s/8tGvKqcNcqXbe3suk9yXOZm/zOMGx/Hygev46/OSs4c7dzZSJpLkIQLnNvJ3X7Q/f55+v7ee93y+bdF3e1UupMnqnXfpon3isdP2PHLh7H74+exfns9nv94NxZelO/rFwNaHN4P9x9Nxiy3n3sPKmeMUtn7MGJ1pR3b6ddkPGZ7/3OOfLa7ut7hF7ERK/Gx+8dm0ty28w5nI2kuQRIqzurI3u3kUid2O3VmfztMk6mT+vInEX//e7d8+YvO4nPlzu0XX6b1XxQVk5Nv+l/4t0cnN/3nQQH2Yjk6o8nlg7MfUuVflov7kLrFGaXLmbv2w1jNZfvpDEKykPZDr2LjWWWUyxu3YrG6X9qN2HPZ/UzQzntHc91/sexsJI3VaifFNIxN7vgb4Ulv8692ZIO2jLysW597sJ+lTu52KmnyV6mjS7M98ruikep/153tyHV//mXEn3LnlpZNyOnv2UzaT6L9XJr2k2g/M087T7RzuFaCJBORO7h8qVu/s+qnRdkxDOogBnYal+ngfp/Kz/+UZv4p4kX/g8aj6R2c9pNoP5em/STaz8zTzhPtHK6VS1uh4qxO4dwO4yepPKtcY/Mg379RTA/ymxepY/t76vuGuDSHRtF+GIX2wzzQzmF2CJJwgQvfdfzdYbez6rxrmjq3w9+cvjua3xXt1D94tzPL6/0iLWOmaT+MQvthHmjn0EwubWUimnrJTans1C7s3KZUU3/vkvZzvbSf66X9MAzt/Hpp5+CMJJxJJ8EotB9Gof0wD7RzaDZBkqmQO5NcponOrTm0H0ah/TAPtHNg3ARJpkbuUKaxo6MZtB9Gof0wD7RzYJwESaZK7uR0dFyW9sMotB/mgXYOjIsgyVTS0TEK7YdRaD/MA+0cGJUgyVTT0TEK7YdRaD/MA+0cuCxBkkbQ0TEK7YdRaD/MA+0cqEuQpFGqHR3Upf0wCu2HeaCdA8MSJGmkspPT0XEZ2g+j0H6YB9o5cBFBksbKnZyOjsvSfhiF9sM80M6B8wiSNJ6OjlFoP4xC+2EeaOfAIIIkVyf1Pu0n3e+TMNGO7vaDiM9vp1LMf5sm3kt1l5Gfq5Sf8733uuXBt+/Wnayblr2X6otVetapPvY85Qszodd/4tLvrf0k19V+mk776dJ+Zpt23qWdw5UQJLka/T3OhDq57KyO7nI/MnUct1MH8rfDYj7Jndsvvoz4+4uiYlh9z5U7qS9/mZ7n790SvzjtqH5T1P0hTd9OP+/zX0f8Q5p+VunIynVyOUyP7evjev7e/j/+ci/G9bnC31/76ZrgS3z1+v+YCf5x2k/XBF9iztL/ok/wn6Cdd03wJYZGaLWTYhrGpvVZK9qPK01rwN42rVFMdU2qJZY/uuz0htX9fXKv8bPUyaTOKPVF8ef05U+5c6t0eEOrPNdhenzu7P6QOqdU1ZU6svf+nDqutCz/nJ+kqj+nn/WTNP9lfkzq7d57ln526lhz55h7v6X8uIOiwz39nTp/55P05Un3RW2nV7tfK79rXdHz/7pm2s8gV9t+zvx7c7u6BnXap/YziPYza7TzQbRzuEqCJBMxTAdX7dHKHfI4lT+yfN46P+OddcsO7vfp+8//lCb+KeLFSc9UT90OLvdbf0vlN6nuy9+n3yM9JtJz5HUiLe/8Ommlyq/T/7efVFSN+wUfI+3nHNfRfhpG+zmH9jMztPNzaOdwJVzaytXo39NOcM+bd+5lB1X9MWP5kb95kTq21MEMuMSltl/+w+klNJ+nzu3z1Fn9/Ffd+Z/8LuJ3qbz4Q8S//mv6ufld0aXUIf489Wlp3XKdF6lj+6fU2f26qKvo+Xv7//ixvBhX6Ap/f+2na4Iv8dXr/2Mm+MdpP10TfIk5S/+LPsF/gnbeNcGXGBpBkOTqpD1u53LKCe15z+rYJuLwNxG/SB3LKH6XOqfcUeZ3TvM7oI//ljqtYll+RzbXv5c6tPh3ad2fRfwsl9TBRlr3z521usq6d/u4XuULM/EXZ0LS7639VFx1+2k67aeX9jObtPNe2jlMlEtbmYh3LrkpnFlfdEyXkR+bjbMlj/L7jOTbb7sd2Yiu7fcfE+3nkrSfDu3nkrSfRtHOL0k7h7FxRpLGyjvxckc+MzvzMXRuDEf7YRTaD/NAOwfOI0jSSFfRsZUdaBML58uvkfZzduF8+TXSfs4uzIb8v9TOzy6AIEnDlDvwSXZsWdl5TqKUz19+n1ThXdrP8IV3aT/DF5pLOx++wLwTJGmEasfW9J13/v2vopPmlPbDKLQf5oF2DtQlSDLVZqlj4+ppP4xC+2EeaOfAZQmSTCUdG6PQfhiF9sM80M6BUQmSTJXzOrbjl0vR+uNWHBfz2f6LViy9rNbkuqXYelvMNM3tB8VE8nmafu+9bvm8/EDl272fY5Xny3VyeVBZr6w7ec607L1UX6xy5mMb7PLt5zi2/tjqDJtflrXD7jqNov2MZDL7n/62NcX7J+1nLkymnXd1Hl+09f7HTA3tHMZGkGRqnNWxlW5+dBBHP96Nh0XnlDusp+8fxcFHNzvz8XYrllLntfyX7myzpM7ldupk/lakl29Tp/TlTyL+/vdu+fIXpx1Tv98U6+SSP3i5XK+s/0Oavp16xc9/HfEPafpZ5YnOemwDjdZ+jiJ+fNT57LVO+dVmvP7n3oOp6ab9jGpi+5+338Tuj/ZO29bKYmx8NW1tS/uZF5PsZ/O6C9+vxFHR1k8eMzW0cxg3QZKpcF7HVnXzo+ex8v1CrL3cioepw3pe7ahurMfB46PY/KCYb5rD1MnkDih7ljq6P/yumEnysjM/+ir1SvkDlr9Nndjf0hOU6/05d2qp5Of6ZXquL1PdYert/vSsu7zjjMc2zOjt516sV9rS8eFuvPrRrZi2w6BzaT+XNtH9T65/cK+YSd6/E3eLyami/cy8ibbz2I8vvovY/GR9uveb2jmMlSBJw9yM9U/3Ir7bjZVp77BqGaFn+fNB6sR+HfGL1IP9U+rMBvnydurA0vfP07r/8Kf0vVs91GNnygXt53Ctc0lW51316sH/1NN+rsao+5/9WHv2Jh59Om37Lu2Hqku087d/jdfxKjaeVS7jfrFfLJwW2jmMmyBJw+T7jZ7GnZWV2J26y8PG6CepVC+NefDeaafU7ye/i3iROqd/Sp3Yrysr5frf5WV/iPjXf434Tfq+tBTxh5+nDq9Y76zHzqwL2s/t7e7lh59EPPxsLR32N5T2MyEj7H86b1J8Hfcfb8fUv0Wh/cy5S7bzDzZPLmtt57OW/3V5uu81185hZIIkjXL88mHs/vh5rN9ej+c/3o2FqXvHc0x+lzqdfC/F7dTx5Hs6Dn+T6oplv891uTyI+HNRl/3sRfry+9OOsFzvvdShxb9Lj/9ZWieXYr3zHjujzmw/6SB/ageGuAztZyIut/8pBts5vJ8OrhsQIjPtZ65dqp3f+DhS7IxvegbguRt33i8mp5F2DiNrtZNiGsYmX9aS35Xsd1b9MDo38v/bo2hXLjnMo8mdDASQBwF4thGvimV3f1oZIGDKlAMeMNjVt5+jWPtsOXaK+nwAtPmrg1i/UcxOGe3nfFO1/8lnIndPW1ZpdaUd2+n48zpoP7Nhqtp5x37PfvQ623imncPkzVSQzDuNaTHvO69JdHCzRAd3Pu3nfNrP+bSf82k/s0E7P592DpM3M5e2ljuMaSjl7wNneqKBMALth1FoP8wD7RwmbiaC5LDvOuX1BpXSoLpsUN15ykBZ5zEAAABNMXeD7ZQhryz9BtVlZ9UDAADMm8YHyXzWb1pCXt0zl8yp1EjaT7rfoTbth1FoPwCMiY//GJNqn1xO54Crr6ZHf4PQQKhD+2EU2g8AY9T4UVtzPzjsXzBo3WpdOd2/3jA/I69zaW4InxudMwF9WgPqYBDth1FoP8wbo9fCZAmSlbpyun+9YX9GXi/rf755ZFjyM5SNpGpeG8k5tJ8zaD9D0X7OoP3MFO0cuG6Nv7Q194GD+sbrkH8XfTLn6m8gGgx1aD+MQvsBYIxm+h7JHDCr5SyDlg/zOLiUfPBWFqhL+2EU2g8AYzITQTL3h4MCX7W/LEu/Qcv768r6YZUBtO7jAAAAmmBmzkjm0DYNZw/LAClEwiSsxlrxRk1ZlraKRYWtpd7lW8fFAgAAxmamLm0tw+R1lqz8DkzGXvFmTS6P3qRtbq1YkELj7uLpsvZexMbDTjUAAGM0c/dInhxAXnMBrsa97YjN18WZx5sRB2n+xELE3WISAIDxmenBdoD5cGsx4s1RMVOxloLko4NOvgQAYIwESaDx/vo64k4KjSf2u5eY329H3CuqAAAYH0ESaIaUDNtPdmI7em9C3l+L2FiMWC9OO3YG2/m6e4m5EAkAMBmCJFfs4lE3SzkgGHGTjtxQKu6l+bL9PL2TQmN5X+R+CpWv0ved3ja2lurhMuqOEqytMc+G7d/zCGhLthdovNkMksdpz3UyjGNFtb6/9y9LuVPLKeakfsBzMZIzR93Mig5mOYUBOEvZfg7Wi4rs3ml9tWw7NckIzt1frVTa2lHE66dGCWa+nbu9ZLmPX4hYXC3mgcaa3zOS6weV3j+VvbRHu7vZvRYuB87l9L1cloeE9LbZxPSMupnlkTfzy264TWDK9O+v1itvZBx/E/Fq0eBOUHqnfy9C5KPUx98vqoDmcmlrRwqJy2lP97w4IriZvp9cK5d8vBKx83UxwyScNeomdOQ3dKr65+EKvbO/Sl1IvnhlYTfiqNJ1AJXtpRIiXSQCs0GQzLaeRqw+Ovtt5G/S0cGq984m6Z1RN6FfeYWAEMk1e2d/VV5S/TziYeUOCeB0e9n/IiLfwr5c3DWUb1/ZWXbBFzSZINkZnSN9++2A98c691Smvd1Zy6knvZbDjLoJcO0698e3zt9fpe7jzMFEYJ4Msb3ky1yr7wfmO4pW99zDDk0mSO5/HXF3ZfDZyM4lrnmP9yhiYalzWQaXlDuZijNH3czy5S+pPo++ubHgQA24YsPur9IB8OJGt75T0v5q5ahTDfMjN/6Kc/t3YKa02kkxPUPyDStPI44OegNiPsP4MH2vDvOYx6q+k3r+i06H5fV8uvnQWp+1ov240rT6OpqOWWx6jMU77QdqOKv95PphtJ8UE1X2V0yZUdv5uNheYH7NaJBMcvCL6jUTxV3e+e3ik9CY61KyfN4XOPO1GPlttJPAeUYw5UzvdHCCJDWcdYAEwxi5/dhf0QBTs5+0vcDcmt1LW7fzTmy5u4PrlP4QmaX5fOd3v3wh/8pu5bFC5Mj6OxWdDDCt7K9geLYXmFuzfY9kDpN5h1aWdy5fvZfqzwiIPZ8zKUSORfV/ATDN7K9geLYXmEsG2wEAAKAWQbKBtpZOr7r18UsAAMBVm6kgeXJL4xSUScpX3a6m73ttg8gCAABXb2aCZA5v1Uv0r7OUv89VyoPULpVnKteKSgAAgAmYiSBZhshpUQbKqw6TK8+7P3d1xyWvAADA5Mz0PZKds3N9pd+g5f11Zf20u2VkWQAA4Ao0PkjmkHfW2cjyzGBZzjJo+TCP6zfx0Fn+gIn+kDFIv1/7Sfc71Kb9MArtBwCuxEyfkbxK1WOWcjqH0LEdy/Q90Xa0YjlVTd0lrP1/8NheAOaC9sMotB8AuDKtdlJMN1I+Thj2Lxi0brWunO5fb5ifkde5tCcXP7jzDnuf1oC669aU35PppP0wCu2HedN+fMHBCcAECZKVunK6f71hf0ZeL+t/vrEon7xqbE8+Rk35PZlO2g+j0H4A4Mo0/tLWfIww6NjhOuTfZWLHLP1PPK0HR035PZlO2g+j0H4A4Mq4R7JJ8kFRWaZZU35PppP2wyi0HwC4EjMRJPPxwrBnJfN61dLvrOc5q36Q8rkdxwAAALOo8fdIVk1DeBMgAQCAWTdTQTKrc+ZwkoRJAABgVs1ckAQAAGCyDLYDAABALYIkAAAAtQiSAAAA1CJIAgAAUIsgCQAAQC2CJAAAALUIkgAAANQiSAIAAFCLIAkAAEAtgiQAAAC1CJIAAADUIkgCAABQS3OD5NutWHqxX8x07b9Yiq23Eccvl6L1WeukLL087q6QH/PHrSjmAAAAuISZPCN586ODaD9ud8reh6vx6KObqfY4tr7aiFfdVQAAALik2b609XAtnr7/27iXJo9fPozdH2/GancJAAAAlzTTQXL/MLpnI99uxcPvV+L5R7eKJQAAAFzW7AbJFB6fxv3u2cjD3Xj1w0YsfLYcO+n7w/KeSQAAAGprbpC8cSsW//J1nA63sx9f/2Uxbt0oZv/tTcT7C53J03sm92L1g8143rlnEgAAgMto8BnJe7G9ErF8MjrrcsTKducMZHb89nUs3hAYAQAAxq3VToppAAAAuNBsj9oKAADA2AmSAAAA1CJIAgAAUIsgCQAAQC2CJAAAALUIkgAAANQiSAIAAFCLIAkAAEAtgiQAAAA1RPz/g31qFDNegsUAAAAASUVORK5CYII=)"
      ],
      "metadata": {
        "id": "j4BA51diixXW"
      }
    },
    {
      "cell_type": "markdown",
      "source": [
        "Результаты временного анализа"
      ],
      "metadata": {
        "id": "m66gLOfMjEvy"
      }
    },
    {
      "cell_type": "markdown",
      "source": [
        "![image.png](data:image/png;base64,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)"
      ],
      "metadata": {
        "id": "9ggopQ48i9IZ"
      }
    },
    {
      "cell_type": "code",
      "source": [
        ""
      ],
      "metadata": {
        "id": "g47bfQl9iwg2"
      },
      "execution_count": null,
      "outputs": []
    }
  ]
}