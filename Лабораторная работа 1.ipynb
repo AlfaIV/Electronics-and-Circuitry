{
 "cells": [
  {
   "cell_type": "markdown",
   "metadata": {},
   "source": [
    "#### Шаповалов Иван РЛ1-43\n",
    "## Отчет по лаборатораной работе №2 ОТЦ Вынужденные колебания в связанных контурах\n",
    "*Цель работы:* исследование воздействия гармонического колебания на систему связанных контуров; измерение резонансных кривых и  определение параметров контуров при различной степени связи.\n",
    "\n",
    "\n",
    "*Описание лабораторной установки:*\n",
    "В состав лабораторной установки входят лабораторный макет «Колебательные контуры» (рис. 1), осциллограф АСК-1022, генератор сигналов низкочастотный Г3-112 и источник питания. \n",
    "В данной работе проводится исследование системы из двух связанных контуров. Первый контур образован соединением катушки индуктивности L1 и конденсатора С2, второй - соединением катушки индуктивности L2 и конденсатора С6. Номинальное значение индуктивностей  L1 = L2 = 1700 мкГн, сопротивление потерь обоих катушек в диапазоне частот 100-300 кГц равно 130 Ом. Конденсаторы С2 и С6 являются переменными (С2 = 30…1000 пФ), что позволяет  настроить оба контура на заданную резонансную частоту. В обоих контурах  можно вводить дополнительные потери с помощью потенциометров R4 и R6. Связь между контурами магнитная и определяется расстоянием между катушками контуров. Катушки обоих контуров расположены соосно. Катушка первого контура неподвижна, а катушка второго контура находится на ходовом винте и перемещается при его вращении (ручка на правой боковой панели макета). Расстояние между катушками определяется по указателю в верхней части макета. Первый колебательный контур является параллельным, поэтому гармонический сигнал с выхода генератора Г3-112 подается на вход усилителя – генератора тока, а первый контур подключается к его выходу (см. работу 1).  Напряжения  питания усилителя подаются на макет по кабелю от источника питания. Использование двухканального осциллографа АСК-1022 позволяет измерять резонансные характеристики обоих контуров одновременно.\n",
    "\n",
    "<img src=\"Лабы/1/1.png\" alt=\"drawing\" width=\"500\"/>"
   ]
  },
  {
   "cell_type": "code",
   "execution_count": 2,
   "metadata": {},
   "outputs": [],
   "source": [
    "import pandas as pd\n",
    "#from pathlib import Path\n",
    "#path_1 = Path(r'C:\\Users\\Asus\\Documents\\ВУЗ\\4 семестр\\ОТЦ\\Лабы\\1\\much less Kkr without generator.txt') # absolute path\n",
    "#csvframe = pd.read_csv('C:\\Users\\Asus\\Documents\\ВУЗ\\4 семестр\\ОТЦ\\Лабы\\1\\much less Kkr without generator.txt')\n",
    "\n",
    "much_less_Kkr_without_generator = pd.read_csv('Лабы/1/much_less_Kkr_without_generator_ispr.txt',sep = ' ',names = [\"f, кГц\",\"U, В\"])\n",
    "much_less_Kkr = pd.read_csv('Лабы/1/much less Kkr.txt',sep = ' ',names = [\"f, кГц\",\"U, В\"])\n",
    "Kravno2_42Kkr = pd.read_csv('Лабы/1/Kravno2_42Kkr.txt',sep = ' ',names = [\"f, кГц\",\"U, В\"])\n",
    "Kravno2_42Kkr_Bezpitania = pd.read_csv('Лабы/1/Kravno2_42Kkr_Bezpitania.txt',sep = ' ',names = [\"f, кГц\",\"U, В\"])\n",
    "equal_Kkr_Bezpitania = pd.read_csv('Лабы/1/equal Kkr_Bezpitania.txt',sep = ' ',names = [\"f, кГц\",\"U, В\"])\n",
    "eqaul_Kkr = pd.read_csv('Лабы/1/eqaul Kkr.txt',sep = ' ',names = [\"f, кГц\",\"U, В\"])\n",
    "\n",
    "Final = pd.MultiIndex(levels=[['K << Kkr','K = Kkr',\"K = 2.42 Kkr\"],[\"f, кГц\",\"U, В\"]],\n",
    "               codes=[[0,0,1,1,2,2],\n",
    "                      [0,1,0,1,0,1]])\n",
    "without_generator = pd.concat([much_less_Kkr_without_generator, equal_Kkr_Bezpitania, Kravno2_42Kkr_Bezpitania], axis=1)\n",
    "without_generator.columns = Final\n",
    "with_generator = pd.concat([much_less_Kkr, eqaul_Kkr, Kravno2_42Kkr], axis=1)\n",
    "with_generator.columns = Final\n"
   ]
  },
  {
   "cell_type": "markdown",
   "metadata": {},
   "source": [
    "Рассмотрим сначала даннные относящие к **первичному контуру**. В ходе экперимента были полученны следующие данные:<br>"
   ]
  },
  {
   "cell_type": "code",
   "execution_count": 3,
   "metadata": {},
   "outputs": [
    {
     "data": {
      "text/html": [
       "<div>\n",
       "<style scoped>\n",
       "    .dataframe tbody tr th:only-of-type {\n",
       "        vertical-align: middle;\n",
       "    }\n",
       "\n",
       "    .dataframe tbody tr th {\n",
       "        vertical-align: top;\n",
       "    }\n",
       "\n",
       "    .dataframe thead tr th {\n",
       "        text-align: left;\n",
       "    }\n",
       "</style>\n",
       "<table border=\"1\" class=\"dataframe\">\n",
       "  <thead>\n",
       "    <tr>\n",
       "      <th></th>\n",
       "      <th colspan=\"2\" halign=\"left\">K &lt;&lt; Kkr</th>\n",
       "      <th colspan=\"2\" halign=\"left\">K = Kkr</th>\n",
       "      <th colspan=\"2\" halign=\"left\">K = 2.42 Kkr</th>\n",
       "    </tr>\n",
       "    <tr>\n",
       "      <th></th>\n",
       "      <th>f, кГц</th>\n",
       "      <th>U, В</th>\n",
       "      <th>f, кГц</th>\n",
       "      <th>U, В</th>\n",
       "      <th>f, кГц</th>\n",
       "      <th>U, В</th>\n",
       "    </tr>\n",
       "  </thead>\n",
       "  <tbody>\n",
       "    <tr>\n",
       "      <th>0</th>\n",
       "      <td>190.0</td>\n",
       "      <td>0.6</td>\n",
       "      <td>210.0</td>\n",
       "      <td>0.96</td>\n",
       "      <td>225.0</td>\n",
       "      <td>2.20</td>\n",
       "    </tr>\n",
       "    <tr>\n",
       "      <th>1</th>\n",
       "      <td>215.0</td>\n",
       "      <td>1.1</td>\n",
       "      <td>230.0</td>\n",
       "      <td>2.90</td>\n",
       "      <td>230.0</td>\n",
       "      <td>2.70</td>\n",
       "    </tr>\n",
       "    <tr>\n",
       "      <th>2</th>\n",
       "      <td>230.0</td>\n",
       "      <td>1.6</td>\n",
       "      <td>240.0</td>\n",
       "      <td>3.50</td>\n",
       "      <td>235.0</td>\n",
       "      <td>3.60</td>\n",
       "    </tr>\n",
       "    <tr>\n",
       "      <th>3</th>\n",
       "      <td>235.0</td>\n",
       "      <td>2.4</td>\n",
       "      <td>245.0</td>\n",
       "      <td>4.10</td>\n",
       "      <td>240.0</td>\n",
       "      <td>3.20</td>\n",
       "    </tr>\n",
       "    <tr>\n",
       "      <th>4</th>\n",
       "      <td>240.0</td>\n",
       "      <td>3.0</td>\n",
       "      <td>250.0</td>\n",
       "      <td>3.20</td>\n",
       "      <td>245.0</td>\n",
       "      <td>1.80</td>\n",
       "    </tr>\n",
       "    <tr>\n",
       "      <th>5</th>\n",
       "      <td>242.5</td>\n",
       "      <td>3.4</td>\n",
       "      <td>255.0</td>\n",
       "      <td>3.50</td>\n",
       "      <td>250.0</td>\n",
       "      <td>0.90</td>\n",
       "    </tr>\n",
       "    <tr>\n",
       "      <th>6</th>\n",
       "      <td>245.0</td>\n",
       "      <td>4.0</td>\n",
       "      <td>260.0</td>\n",
       "      <td>3.90</td>\n",
       "      <td>255.0</td>\n",
       "      <td>0.96</td>\n",
       "    </tr>\n",
       "    <tr>\n",
       "      <th>7</th>\n",
       "      <td>247.5</td>\n",
       "      <td>4.8</td>\n",
       "      <td>265.0</td>\n",
       "      <td>3.00</td>\n",
       "      <td>260.0</td>\n",
       "      <td>1.30</td>\n",
       "    </tr>\n",
       "    <tr>\n",
       "      <th>8</th>\n",
       "      <td>250.0</td>\n",
       "      <td>5.3</td>\n",
       "      <td>275.0</td>\n",
       "      <td>2.30</td>\n",
       "      <td>265.0</td>\n",
       "      <td>2.80</td>\n",
       "    </tr>\n",
       "    <tr>\n",
       "      <th>9</th>\n",
       "      <td>255.0</td>\n",
       "      <td>5.0</td>\n",
       "      <td>290.0</td>\n",
       "      <td>1.15</td>\n",
       "      <td>270.0</td>\n",
       "      <td>3.60</td>\n",
       "    </tr>\n",
       "    <tr>\n",
       "      <th>10</th>\n",
       "      <td>260.0</td>\n",
       "      <td>3.6</td>\n",
       "      <td>NaN</td>\n",
       "      <td>NaN</td>\n",
       "      <td>275.0</td>\n",
       "      <td>2.80</td>\n",
       "    </tr>\n",
       "    <tr>\n",
       "      <th>11</th>\n",
       "      <td>265.0</td>\n",
       "      <td>2.7</td>\n",
       "      <td>NaN</td>\n",
       "      <td>NaN</td>\n",
       "      <td>280.0</td>\n",
       "      <td>2.20</td>\n",
       "    </tr>\n",
       "    <tr>\n",
       "      <th>12</th>\n",
       "      <td>270.0</td>\n",
       "      <td>2.2</td>\n",
       "      <td>NaN</td>\n",
       "      <td>NaN</td>\n",
       "      <td>285.0</td>\n",
       "      <td>1.80</td>\n",
       "    </tr>\n",
       "    <tr>\n",
       "      <th>13</th>\n",
       "      <td>280.0</td>\n",
       "      <td>1.4</td>\n",
       "      <td>NaN</td>\n",
       "      <td>NaN</td>\n",
       "      <td>NaN</td>\n",
       "      <td>NaN</td>\n",
       "    </tr>\n",
       "    <tr>\n",
       "      <th>14</th>\n",
       "      <td>320.0</td>\n",
       "      <td>0.6</td>\n",
       "      <td>NaN</td>\n",
       "      <td>NaN</td>\n",
       "      <td>NaN</td>\n",
       "      <td>NaN</td>\n",
       "    </tr>\n",
       "  </tbody>\n",
       "</table>\n",
       "</div>"
      ],
      "text/plain": [
       "   K << Kkr      K = Kkr       K = 2.42 Kkr      \n",
       "     f, кГц U, В  f, кГц  U, В       f, кГц  U, В\n",
       "0     190.0  0.6   210.0  0.96        225.0  2.20\n",
       "1     215.0  1.1   230.0  2.90        230.0  2.70\n",
       "2     230.0  1.6   240.0  3.50        235.0  3.60\n",
       "3     235.0  2.4   245.0  4.10        240.0  3.20\n",
       "4     240.0  3.0   250.0  3.20        245.0  1.80\n",
       "5     242.5  3.4   255.0  3.50        250.0  0.90\n",
       "6     245.0  4.0   260.0  3.90        255.0  0.96\n",
       "7     247.5  4.8   265.0  3.00        260.0  1.30\n",
       "8     250.0  5.3   275.0  2.30        265.0  2.80\n",
       "9     255.0  5.0   290.0  1.15        270.0  3.60\n",
       "10    260.0  3.6     NaN   NaN        275.0  2.80\n",
       "11    265.0  2.7     NaN   NaN        280.0  2.20\n",
       "12    270.0  2.2     NaN   NaN        285.0  1.80\n",
       "13    280.0  1.4     NaN   NaN          NaN   NaN\n",
       "14    320.0  0.6     NaN   NaN          NaN   NaN"
      ]
     },
     "execution_count": 3,
     "metadata": {},
     "output_type": "execute_result"
    }
   ],
   "source": [
    "with_generator"
   ]
  },
  {
   "cell_type": "markdown",
   "metadata": {},
   "source": [
    "По экперемантальным данным построим график АЧХ"
   ]
  },
  {
   "cell_type": "code",
   "execution_count": 4,
   "metadata": {},
   "outputs": [
    {
     "data": {
      "image/png": "[encoded data removed]",
      "text/plain": [
       "<Figure size 432x288 with 1 Axes>"
      ]
     },
     "metadata": {
      "needs_background": "light"
     },
     "output_type": "display_data"
    }
   ],
   "source": [
    "import matplotlib.pyplot as plt\n",
    "import scipy.constants as const\n",
    "from math import log10\n",
    "db_conv = lambda x: 20*log10(x)\n",
    "\n",
    "plt.grid()\n",
    "plt.plot(with_generator['K << Kkr', \"f, кГц\"].to_numpy()*const.kilo,\n",
    "         with_generator['K << Kkr', \"U, В\"].to_numpy(),\n",
    "        label = \"K << Kkr\"\n",
    "        )\n",
    "plt.plot(with_generator['K = Kkr', \"f, кГц\"].to_numpy()*const.kilo,\n",
    "         with_generator['K = Kkr', \"U, В\"].to_numpy(),\n",
    "        label = \"K = Kkr\"\n",
    "        )\n",
    "plt.plot(with_generator['K = 2.42 Kkr', \"f, кГц\"].to_numpy()*const.kilo,\n",
    "         with_generator['K = 2.42 Kkr', \"U, В\"].to_numpy(),\n",
    "        label = \"K = 2.42 Kkr\"\n",
    "        )\n",
    "#plt.hlines(5.3*(1/(2**(1/2))),min(with_generator['K = 2.42 Kkr', \"f, кГц\"].to_numpy()*const.kilo),\n",
    "#          max(with_generator['K = 2.42 Kkr', \"f, кГц\"].to_numpy()*const.kilo))\n",
    "\n",
    "plt.legend()\n",
    "plt.title(\"АЧХ первичного контура\")\n",
    "plt.xlabel(\"f, [Гц]\")\n",
    "plt.ylabel(\"Амплитуда, [В]\")\n",
    "plt.show()"
   ]
  },
  {
   "cell_type": "code",
   "execution_count": 5,
   "metadata": {},
   "outputs": [
    {
     "data": {
      "image/png": "[encoded data removed]",
      "text/plain": [
       "<Figure size 432x288 with 1 Axes>"
      ]
     },
     "metadata": {
      "needs_background": "light"
     },
     "output_type": "display_data"
    }
   ],
   "source": [
    "import matplotlib.pyplot as plt\n",
    "import scipy.constants as const\n",
    "\n",
    "plt.grid()\n",
    "plt.plot([log10(i) for i in with_generator['K << Kkr', \"f, кГц\"].to_numpy()*const.kilo],\n",
    "         [db_conv(i) for i in with_generator['K << Kkr', \"U, В\"].to_numpy()],\n",
    "        label = \"K << Kkr\"\n",
    "        )\n",
    "plt.plot([log10(i) for i in with_generator['K = Kkr', \"f, кГц\"].to_numpy()*const.kilo],\n",
    "         [db_conv(i) for i in with_generator['K = Kkr', \"U, В\"].to_numpy()],\n",
    "        label = \"K = Kkr\"\n",
    "        )\n",
    "plt.plot([log10(i) for i in with_generator['K = 2.42 Kkr', \"f, кГц\"].to_numpy()*const.kilo],\n",
    "         [db_conv(i) for i in with_generator['K = 2.42 Kkr', \"U, В\"].to_numpy()],\n",
    "        label = \"K = 2.42 Kkr\"\n",
    "        )\n",
    "\n",
    "plt.legend()\n",
    "plt.title(\"АЧХ первичного контура\")\n",
    "plt.xlabel(\"f, [Дек]\")\n",
    "plt.ylabel(\"Амплитуда, [дБ]\")\n",
    "plt.show()"
   ]
  },
  {
   "cell_type": "markdown",
   "metadata": {},
   "source": [
    "Частоты соответсвующие экстеремальным значения при соответсвтующих типах всязи равны:<br>\n",
    "\n",
    "Тип связи    | Частоты экстремумов $f_0$ кГц\n",
    "-------------| -------------\n",
    "K<<Kkr       | 250\n",
    "K=Kkr        | 230, 255, 270\n",
    "K = 2.42 Kkr | 245, 250, 260\n"
   ]
  },
  {
   "cell_type": "markdown",
   "metadata": {},
   "source": [
    "Теперь рассмотрим даннные относящие к **вторичному контуру**. В ходе экперимента были полученны следующие данные:<br>"
   ]
  },
  {
   "cell_type": "code",
   "execution_count": 6,
   "metadata": {},
   "outputs": [
    {
     "data": {
      "text/html": [
       "<div>\n",
       "<style scoped>\n",
       "    .dataframe tbody tr th:only-of-type {\n",
       "        vertical-align: middle;\n",
       "    }\n",
       "\n",
       "    .dataframe tbody tr th {\n",
       "        vertical-align: top;\n",
       "    }\n",
       "\n",
       "    .dataframe thead tr th {\n",
       "        text-align: left;\n",
       "    }\n",
       "</style>\n",
       "<table border=\"1\" class=\"dataframe\">\n",
       "  <thead>\n",
       "    <tr>\n",
       "      <th></th>\n",
       "      <th colspan=\"2\" halign=\"left\">K &lt;&lt; Kkr</th>\n",
       "      <th colspan=\"2\" halign=\"left\">K = Kkr</th>\n",
       "      <th colspan=\"2\" halign=\"left\">K = 2.42 Kkr</th>\n",
       "    </tr>\n",
       "    <tr>\n",
       "      <th></th>\n",
       "      <th>f, кГц</th>\n",
       "      <th>U, В</th>\n",
       "      <th>f, кГц</th>\n",
       "      <th>U, В</th>\n",
       "      <th>f, кГц</th>\n",
       "      <th>U, В</th>\n",
       "    </tr>\n",
       "  </thead>\n",
       "  <tbody>\n",
       "    <tr>\n",
       "      <th>0</th>\n",
       "      <td>190.0</td>\n",
       "      <td>0.026</td>\n",
       "      <td>225.0</td>\n",
       "      <td>0.30</td>\n",
       "      <td>225</td>\n",
       "      <td>0.90</td>\n",
       "    </tr>\n",
       "    <tr>\n",
       "      <th>1</th>\n",
       "      <td>215.0</td>\n",
       "      <td>0.042</td>\n",
       "      <td>235.0</td>\n",
       "      <td>0.70</td>\n",
       "      <td>230</td>\n",
       "      <td>1.30</td>\n",
       "    </tr>\n",
       "    <tr>\n",
       "      <th>2</th>\n",
       "      <td>230.0</td>\n",
       "      <td>0.076</td>\n",
       "      <td>240.0</td>\n",
       "      <td>1.15</td>\n",
       "      <td>235</td>\n",
       "      <td>2.10</td>\n",
       "    </tr>\n",
       "    <tr>\n",
       "      <th>3</th>\n",
       "      <td>240.0</td>\n",
       "      <td>0.185</td>\n",
       "      <td>245.0</td>\n",
       "      <td>2.20</td>\n",
       "      <td>240</td>\n",
       "      <td>2.40</td>\n",
       "    </tr>\n",
       "    <tr>\n",
       "      <th>4</th>\n",
       "      <td>245.0</td>\n",
       "      <td>0.350</td>\n",
       "      <td>250.0</td>\n",
       "      <td>2.80</td>\n",
       "      <td>245</td>\n",
       "      <td>2.10</td>\n",
       "    </tr>\n",
       "    <tr>\n",
       "      <th>5</th>\n",
       "      <td>247.5</td>\n",
       "      <td>0.520</td>\n",
       "      <td>255.0</td>\n",
       "      <td>2.60</td>\n",
       "      <td>250</td>\n",
       "      <td>1.75</td>\n",
       "    </tr>\n",
       "    <tr>\n",
       "      <th>6</th>\n",
       "      <td>250.0</td>\n",
       "      <td>0.640</td>\n",
       "      <td>260.0</td>\n",
       "      <td>1.70</td>\n",
       "      <td>255</td>\n",
       "      <td>1.80</td>\n",
       "    </tr>\n",
       "    <tr>\n",
       "      <th>7</th>\n",
       "      <td>252.5</td>\n",
       "      <td>0.620</td>\n",
       "      <td>265.0</td>\n",
       "      <td>1.00</td>\n",
       "      <td>260</td>\n",
       "      <td>1.95</td>\n",
       "    </tr>\n",
       "    <tr>\n",
       "      <th>8</th>\n",
       "      <td>255.0</td>\n",
       "      <td>0.540</td>\n",
       "      <td>275.0</td>\n",
       "      <td>0.31</td>\n",
       "      <td>265</td>\n",
       "      <td>2.15</td>\n",
       "    </tr>\n",
       "    <tr>\n",
       "      <th>9</th>\n",
       "      <td>260.0</td>\n",
       "      <td>0.260</td>\n",
       "      <td>NaN</td>\n",
       "      <td>NaN</td>\n",
       "      <td>270</td>\n",
       "      <td>1.95</td>\n",
       "    </tr>\n",
       "    <tr>\n",
       "      <th>10</th>\n",
       "      <td>270.0</td>\n",
       "      <td>0.074</td>\n",
       "      <td>NaN</td>\n",
       "      <td>NaN</td>\n",
       "      <td>275</td>\n",
       "      <td>1.25</td>\n",
       "    </tr>\n",
       "    <tr>\n",
       "      <th>11</th>\n",
       "      <td>NaN</td>\n",
       "      <td>NaN</td>\n",
       "      <td>NaN</td>\n",
       "      <td>NaN</td>\n",
       "      <td>280</td>\n",
       "      <td>0.90</td>\n",
       "    </tr>\n",
       "    <tr>\n",
       "      <th>12</th>\n",
       "      <td>NaN</td>\n",
       "      <td>NaN</td>\n",
       "      <td>NaN</td>\n",
       "      <td>NaN</td>\n",
       "      <td>285</td>\n",
       "      <td>0.61</td>\n",
       "    </tr>\n",
       "  </tbody>\n",
       "</table>\n",
       "</div>"
      ],
      "text/plain": [
       "   K << Kkr        K = Kkr       K = 2.42 Kkr      \n",
       "     f, кГц   U, В  f, кГц  U, В       f, кГц  U, В\n",
       "0     190.0  0.026   225.0  0.30          225  0.90\n",
       "1     215.0  0.042   235.0  0.70          230  1.30\n",
       "2     230.0  0.076   240.0  1.15          235  2.10\n",
       "3     240.0  0.185   245.0  2.20          240  2.40\n",
       "4     245.0  0.350   250.0  2.80          245  2.10\n",
       "5     247.5  0.520   255.0  2.60          250  1.75\n",
       "6     250.0  0.640   260.0  1.70          255  1.80\n",
       "7     252.5  0.620   265.0  1.00          260  1.95\n",
       "8     255.0  0.540   275.0  0.31          265  2.15\n",
       "9     260.0  0.260     NaN   NaN          270  1.95\n",
       "10    270.0  0.074     NaN   NaN          275  1.25\n",
       "11      NaN    NaN     NaN   NaN          280  0.90\n",
       "12      NaN    NaN     NaN   NaN          285  0.61"
      ]
     },
     "execution_count": 6,
     "metadata": {},
     "output_type": "execute_result"
    }
   ],
   "source": [
    "without_generator"
   ]
  },
  {
   "cell_type": "code",
   "execution_count": 7,
   "metadata": {},
   "outputs": [
    {
     "data": {
      "image/png": "[encoded data removed]",
      "text/plain": [
       "<Figure size 432x288 with 1 Axes>"
      ]
     },
     "metadata": {
      "needs_background": "light"
     },
     "output_type": "display_data"
    }
   ],
   "source": [
    "import matplotlib.pyplot as plt\n",
    "import scipy.constants as const\n",
    "from math import log10\n",
    "db_conv = lambda x: 20*log10(x)\n",
    "\n",
    "plt.grid()\n",
    "plt.plot(without_generator['K << Kkr', \"f, кГц\"].to_numpy()*const.kilo,\n",
    "         without_generator['K << Kkr', \"U, В\"].to_numpy(),\n",
    "        label = \"K << Kkr\"\n",
    "        )\n",
    "plt.plot(without_generator['K = Kkr', \"f, кГц\"].to_numpy()*const.kilo,\n",
    "         without_generator['K = Kkr', \"U, В\"].to_numpy(),\n",
    "        label = \"K = Kkr\"\n",
    "        )\n",
    "plt.plot(without_generator['K = 2.42 Kkr', \"f, кГц\"].to_numpy()*const.kilo,\n",
    "         without_generator['K = 2.42 Kkr', \"U, В\"].to_numpy(),\n",
    "        label = \"K = 2.42 Kkr\"\n",
    "        )\n",
    "#plt.hlines(5.3*(1/(2**(1/2))),min(with_generator['K = 2.42 Kkr', \"f, кГц\"].to_numpy()*const.kilo),\n",
    "#          max(with_generator['K = 2.42 Kkr', \"f, кГц\"].to_numpy()*const.kilo))\n",
    "\n",
    "plt.legend()\n",
    "plt.title(\"АЧХ вторичного контура\")\n",
    "plt.xlabel(\"f, [Гц]\")\n",
    "plt.ylabel(\"Амплитуда, [В]\")\n",
    "plt.show()"
   ]
  },
  {
   "cell_type": "code",
   "execution_count": 8,
   "metadata": {},
   "outputs": [
    {
     "data": {
      "image/png": "[encoded data removed]",
      "text/plain": [
       "<Figure size 432x288 with 1 Axes>"
      ]
     },
     "metadata": {
      "needs_background": "light"
     },
     "output_type": "display_data"
    }
   ],
   "source": [
    "import matplotlib.pyplot as plt\n",
    "import scipy.constants as const\n",
    "\n",
    "plt.grid()\n",
    "plt.plot([log10(i) for i in without_generator['K << Kkr', \"f, кГц\"].to_numpy()*const.kilo],\n",
    "         [db_conv(i) for i in without_generator['K << Kkr', \"U, В\"].to_numpy()],\n",
    "        label = \"K << Kkr\"\n",
    "        )\n",
    "plt.plot([log10(i) for i in without_generator['K = Kkr', \"f, кГц\"].to_numpy()*const.kilo],\n",
    "         [db_conv(i) for i in without_generator['K = Kkr', \"U, В\"].to_numpy()],\n",
    "        label = \"K = Kkr\"\n",
    "        )\n",
    "plt.plot([log10(i) for i in without_generator['K = 2.42 Kkr', \"f, кГц\"].to_numpy()*const.kilo],\n",
    "         [db_conv(i) for i in without_generator['K = 2.42 Kkr', \"U, В\"].to_numpy()],\n",
    "        label = \"K = 2.42 Kkr\"\n",
    "        )\n",
    "\n",
    "plt.legend()\n",
    "plt.title(\"АЧХ вторичного контура\")\n",
    "plt.xlabel(\"f, [Дек]\")\n",
    "plt.ylabel(\"Амплитуда, [дБ]\")\n",
    "plt.show()"
   ]
  },
  {
   "cell_type": "code",
   "execution_count": 9,
   "metadata": {},
   "outputs": [
    {
     "data": {
      "image/png": "[encoded data removed]",
      "text/plain": [
       "<Figure size 432x288 with 1 Axes>"
      ]
     },
     "metadata": {
      "needs_background": "light"
     },
     "output_type": "display_data"
    }
   ],
   "source": [
    "import matplotlib.pyplot as plt\n",
    "import scipy.constants as const\n",
    "\n",
    "plt.grid()\n",
    "plt.plot([log10(i)/max(without_generator['K << Kkr', \"f, кГц\"].to_numpy()*const.kilo) for i in without_generator['K << Kkr', \"f, кГц\"].to_numpy()*const.kilo],\n",
    "         [db_conv(i)/max(without_generator['K << Kkr', \"U, В\"]) for i in without_generator['K << Kkr', \"U, В\"].to_numpy()],\n",
    "        label = \"K << Kkr\"\n",
    "        )\n",
    "plt.plot([log10(i)/max(without_generator['K = Kkr', \"f, кГц\"].to_numpy()*const.kilo) for i in without_generator['K = Kkr', \"f, кГц\"].to_numpy()*const.kilo],\n",
    "         [db_conv(i)/max(without_generator['K = Kkr', \"U, В\"]) for i in without_generator['K = Kkr', \"U, В\"].to_numpy()],\n",
    "        label = \"K = Kkr\"\n",
    "        )\n",
    "plt.plot([log10(i)/max(without_generator['K = 2.42 Kkr', \"f, кГц\"].to_numpy()*const.kilo) for i in without_generator['K = 2.42 Kkr', \"f, кГц\"].to_numpy()*const.kilo],\n",
    "         [db_conv(i)/max(without_generator['K = 2.42 Kkr', \"U, В\"]) for i in without_generator['K = 2.42 Kkr', \"U, В\"].to_numpy()],\n",
    "        label = \"K = 2.42 Kkr\"\n",
    "        )\n",
    "\n",
    "plt.legend()\n",
    "plt.title(\"АЧХ вторичного контура\")\n",
    "plt.xlabel(\"f, [Дек]\")\n",
    "plt.ylabel(\"Амплитуда, [дБ]\")\n",
    "plt.show()"
   ]
  },
  {
   "cell_type": "markdown",
   "metadata": {},
   "source": [
    "Аналогично частоты соответсвующие экстеремальным значения при соответсвтующих типах всязи равны:<br>\n",
    "\n",
    "Тип связи    | Частоты экстремумов $f_0$ кГц\n",
    "-------------| -------------\n",
    "K<<Kkr       | 250\n",
    "K=Kkr        | 250\n",
    "K = 2.42 Kkr | 240, 255, 265\n"
   ]
  },
  {
   "cell_type": "markdown",
   "metadata": {},
   "source": [
    "Теперь перейдем к анализу связанного колебательного контура. Найдем полосу пропускания. Для этого вычислим значение частот, по постороенным выше графикам, на которых амплитуда сигнала падает на 3 дБ.<br> "
   ]
  },
  {
   "cell_type": "code",
   "execution_count": 47,
   "metadata": {},
   "outputs": [],
   "source": [
    "from scipy.interpolate import interp1d\n",
    "from scipy.optimize import fsolve\n",
    "from scipy.optimize import minimize\n",
    "from math import sqrt\n",
    "import numpy as np\n",
    "\n",
    "\n",
    "\n",
    "#интерполирование -------------------------\n",
    "U_less_Kkr = interp1d(without_generator['K << Kkr', \"f, кГц\"][without_generator['K << Kkr', \"f, кГц\"].notnull()]*const.kilo,\n",
    "                      without_generator['K << Kkr', \"U, В\"][without_generator['K << Kkr', \"U, В\"].notnull()],\n",
    "                      fill_value = \"extrapolate\")\n",
    "U_eq_Kkr = interp1d(without_generator['K = Kkr', \"f, кГц\"][without_generator['K = Kkr', \"f, кГц\"].notnull()]*const.kilo, \n",
    "                    without_generator['K = Kkr', \"U, В\"][without_generator['K = Kkr', \"U, В\"].notnull()],\n",
    "                    kind = 'linear',\n",
    "                    fill_value = \"extrapolate\")\n",
    "U_242_Kkr = interp1d(without_generator['K = 2.42 Kkr', \"f, кГц\"]*const.kilo, without_generator['K = 2.42 Kkr', \"U, В\"], fill_value = \"extrapolate\")\n",
    "\n",
    "\n",
    "#интерполирование -------------------------\n",
    "\n",
    "def Test(x):\n",
    "    return x**2-1\n",
    "\n",
    "def extrap1d(interpolator):\n",
    "    xs = interpolator.x\n",
    "    ys = interpolator.y\n",
    "\n",
    "    def pointwise(x):\n",
    "        if x < xs[0]:\n",
    "            return ys[0]+(x-xs[0])*(ys[1]-ys[0])/(xs[1]-xs[0])\n",
    "        elif x > xs[-1]:\n",
    "            return ys[-1]+(x-xs[-1])*(ys[-1]-ys[-2])/(xs[-1]-xs[-2])\n",
    "        else:\n",
    "            return interpolator(x)\n",
    "\n",
    "    def ufunclike(xs):\n",
    "        return array(map(pointwise, array(xs)))\n",
    "\n",
    "    return ufunclike\n",
    "\n",
    "#print(U_less_Kkr(250e3))\n",
    "def detect(what, accuracy, start, stop, f):\n",
    "    i = (start + stop)/2\n",
    "    #print(abs(f(i) - what))\n",
    "    #for i in range(1,10):\n",
    "    while abs(f(i) - what) > accuracy:\n",
    "        i = (start + stop)/2\n",
    "        #print(start, stop)\n",
    "        #print(f(i) - what)\n",
    "        if f(start) - f(stop) <= 0:\n",
    "            if f(i)-what > 0:\n",
    "                stop = i\n",
    "            else:\n",
    "                start = i\n",
    "        else:\n",
    "            if f(i)-what > 0:\n",
    "                start = i\n",
    "            else:\n",
    "                stop = i\n",
    "    return i\n",
    "\n",
    "\n",
    "def detectup(what, accuracy, start, stop, f):\n",
    "    i = (start + stop)/2\n",
    "    #print(abs(f(i) - what))\n",
    "    #for i in range(1,10):\n",
    "    while abs(f(i) - what) > accuracy:\n",
    "        i = (start + stop)/2\n",
    "        #print(start, stop)\n",
    "        #print(f(i) - what)\n",
    "        if f(i)-what > 0:\n",
    "            stop = i\n",
    "        else:\n",
    "            start = i\n",
    "    return i\n",
    " \n",
    "def detectdown(what, accuracy, start, stop, f):\n",
    "    i = (start + stop)/2\n",
    "    #print(abs(f(i) - what))\n",
    "    #for i in range(1,10):\n",
    "    while abs(f(i) - what) > accuracy:\n",
    "        i = (start + stop)/2\n",
    "        #print(start, stop)\n",
    "        #print(f(i) - what)\n",
    "        if f(i)-what > 0:\n",
    "            start = i\n",
    "        else:\n",
    "            stop = i\n",
    "    return i    \n",
    "            \n",
    "#print(detect(max(without_generator['K << Kkr', \"U, В\"]) * 1/sqrt(2), 0.1, min(without_generator['K << Kkr', \"f, кГц\"])*const.kilo, 249e3, U_less_Kkr))\n",
    "#print(detect(max(without_generator['K << Kkr', \"U, В\"]) * 1/sqrt(2), 249e3, max(without_generator['K << Kkr', \"f, кГц\"])*const.kilo, 249e3, U_less_Kkr))\n",
    "\n",
    "def bandwidth(func, aim, interval):\n",
    "    accuracy = 1/1e5\n",
    "    \n",
    "    w_down_3 = detect(aim,\n",
    "                      accuracy,\n",
    "                      interval[2],\n",
    "                      interval[3],\n",
    "                      func)\n",
    "    w_up_3 = detect(aim,\n",
    "                    accuracy,\n",
    "                    interval[0],\n",
    "                    interval[1],\n",
    "                    func) \n",
    "    P = w_down_3 - w_up_3\n",
    "    #print(P)\n",
    "    return [w_up_3, w_down_3, P]\n",
    "\n",
    "\n",
    "def squareness_factor(func, aim, interval):\n",
    "    accuracy = 1/1e5\n",
    "    \n",
    "    w_3 = detect(aim*(1/sqrt(2)),\n",
    "                  accuracy,\n",
    "                  interval[0],\n",
    "                  interval[1],\n",
    "                  func)\n",
    "    #print(w_3)\n",
    "    w_20 = detect(aim/1e1,\n",
    "                    accuracy,\n",
    "                    interval[2],\n",
    "                    interval[3],\n",
    "                    func)\n",
    "    #print(w_20)\n",
    "    K = w_20/w_3\n",
    "    \n",
    "    return [w_3, w_20, K]\n",
    "\n",
    "#print(\"fsolve:\",fsolve(Test,[-10,10]))\n",
    "\n",
    "#func = lambda x: U_less_Kkr(x) - max(without_generator['K << Kkr', \"U, В\"])\n",
    "\n",
    "#print(\"sol_eq:\",fsolve(func,[210e3,2400e3],xtol=1e-01))\n",
    "#print(\"min:\",minimize(func,[200e3,2500e3],method='powell'))\n",
    "#print(U_less_Kkr(190e3))\n",
    "\n",
    "\n",
    "#print(detect(max(without_generator['K << Kkr', \"U, В\"])* 1/sqrt(2), 0.1, 249e3, max(without_generator['K << Kkr', \"f, кГц\"])*const.kilo, U_less_Kkr))\n",
    "#print(detectdown(max(without_generator['K << Kkr', \"U, В\"])* 1/sqrt(2), 0.1, 249e3, max(without_generator['K << Kkr', \"f, кГц\"])*const.kilo, U_less_Kkr))\n",
    "#print(U_less_Kkr(min(without_generator['K << Kkr', \"f, кГц\"])*const.kilo))\n",
    "#print(max(without_generator['K << Kkr', \"f, кГц\"])*const.kilo)\n",
    "\n",
    "#w_down_3 = detect(max(without_generator['K << Kkr', \"U, В\"]) * 1/sqrt(2),\n",
    "#                  1/1e10,\n",
    "#                  249e3,\n",
    "#                  max(without_generator['K << Kkr', \"f, кГц\"])*const.kilo,\n",
    "#                 U_less_Kkr)\n",
    "#w_up_3 = detect(max(without_generator['K << Kkr', \"U, В\"]) * 1/sqrt(2),\n",
    "#                1/1e10,\n",
    "#                min(without_generator['K << Kkr', \"f, кГц\"])*const.kilo,\n",
    "#                249e3,\n",
    "#                U_less_Kkr) \n",
    "#P_lessKkr = w_down_3 - w_up_3\n",
    "#print(P_lessKkr)\n",
    "\n",
    "\n",
    "#расчеты требуемых парамеров -----------------------------------------\n",
    "\n",
    "P_less_Kkr_3 = (bandwidth(U_less_Kkr,\n",
    "                max(without_generator['K << Kkr', \"U, В\"]) * 1/sqrt(2),\n",
    "                [min(without_generator['K << Kkr', \"f, кГц\"])*const.kilo,\n",
    "                 249e3,\n",
    "                 249e3,\n",
    "                 max(without_generator['K << Kkr', \"f, кГц\"])*const.kilo,\n",
    "                 ]))\n",
    "\n",
    "#print(U_less_Kkr(290e3))\n",
    "#U_less_Kkr_extra = extrap1d(U_less_Kkr)\n",
    "#U_less_Kkr_extra([290e3])\n",
    "\n",
    "\n",
    "#w_40 = detect( max(without_generator['K << Kkr', \"U, В\"])/1e3,\n",
    "#                1,\n",
    "#               min(without_generator['K << Kkr', \"f, кГц\"])*const.kilo,\n",
    "#               249e3,\n",
    "#                U_less_Kkr\n",
    "#               ) \n",
    "#print(w_40)\n",
    "\n",
    "P_less_Kkr_20 = bandwidth(U_less_Kkr,\n",
    "                max(without_generator['K << Kkr', \"U, В\"])*0.1,\n",
    "               [min(without_generator['K << Kkr', \"f, кГц\"])*const.kilo,\n",
    "                 249e3,\n",
    "                249e3,\n",
    "                 280e3\n",
    "                ])\n",
    "\n",
    "\n",
    "\n",
    "P_eq_Kkr_3 = (bandwidth(U_eq_Kkr,\n",
    "                max(without_generator['K = Kkr', \"U, В\"]) * 1/sqrt(2),\n",
    "                [min(without_generator['K = Kkr', \"f, кГц\"])*const.kilo,\n",
    "                 249e3,\n",
    "                 249e3,\n",
    "                 max(without_generator['K = Kkr', \"f, кГц\"])*const.kilo,\n",
    "                 ]))\n",
    "\n",
    "P_eq_Kkr_20 = bandwidth(U_eq_Kkr,\n",
    "                max(without_generator['K = Kkr', \"U, В\"])*0.1,\n",
    "                [220e3,\n",
    "                 249e3,\n",
    "                 249e3,\n",
    "                 280e3\n",
    "                ])\n",
    "\n",
    "#w_40 = detect(max(without_generator['K = Kkr', \"U, В\"])*0.1,\n",
    "#                1,\n",
    "#              220e3,\n",
    "#                249e3,\n",
    "#                U_eq_Kkr\n",
    "#               ) \n",
    "#print(w_40)\n",
    "#print(U_eq_Kkr(300e3))\n",
    "\n",
    "P_242_Kkr_3 = (bandwidth(U_242_Kkr,\n",
    "                max(without_generator['K = 2.42 Kkr', \"U, В\"]) * 1/sqrt(2),\n",
    "                [min(without_generator['K = 2.42 Kkr', \"f, кГц\"])*const.kilo,\n",
    "                 249e3,\n",
    "                 249e3,\n",
    "                 max(without_generator['K = 2.42 Kkr', \"f, кГц\"])*const.kilo,\n",
    "                 ]))\n",
    "\n",
    "P_242_Kkr_20 = bandwidth(U_242_Kkr,\n",
    "                max(without_generator['K = 2.42 Kkr', \"U, В\"])*0.1,\n",
    "                [210*const.kilo,\n",
    "                249e3,\n",
    "                 249e3,\n",
    "                 300e3\n",
    "                ])\n",
    "\n",
    "#расчеты требуемых парамеров -----------------------------------------\n",
    "\n",
    "\n",
    "\n",
    "\n",
    "#print(max(without_generator['K << Kkr', \"U, В\"]) * 1/sqrt(2)*const.kilo)\n",
    "#print(fsolve(U_less_Kkr,[200e3,220e3],xtol=1e-1))\n",
    "\n",
    "#(min(without_generator['K << Kkr', \"f, кГц\"]),max(without_generator['K << Kkr', \"f, кГц\"]), 1*const.kilo)\n",
    "\n",
    "#plt.grid()\n",
    "#plt.plot(without_generator['K << Kkr', \"f, кГц\"].to_numpy()*const.kilo,\n",
    "#         without_generator['K << Kkr', \"U, В\"].to_numpy(),\n",
    "#        label = \"K << Kkr\"\n",
    "#        )\n",
    "\n",
    "#print(P_less_Kkr_3[2],P_less_Kkr_20[2])\n",
    "#print(P_eq_Kkr_3[2],P_eq_Kkr_20[2])\n",
    "#print(P_242_Kkr_3[2],P_242_Kkr_20[2])"
   ]
  },
  {
   "cell_type": "code",
   "execution_count": 49,
   "metadata": {},
   "outputs": [
    {
     "data": {
      "image/png": "[encoded data removed]",
      "text/plain": [
       "<Figure size 432x288 with 1 Axes>"
      ]
     },
     "metadata": {
      "needs_background": "light"
     },
     "output_type": "display_data"
    }
   ],
   "source": [
    "\n",
    "#расчеты требуемых парамеров -----------------------------------------\n",
    "\n",
    "\n",
    "\n",
    "\n",
    "#print(max(without_generator['K << Kkr', \"U, В\"]) * 1/sqrt(2)*const.kilo)\n",
    "#print(fsolve(U_less_Kkr,[200e3,220e3],xtol=1e-1))\n",
    "\n",
    "#(min(without_generator['K << Kkr', \"f, кГц\"]),max(without_generator['K << Kkr', \"f, кГц\"]), 1*const.kilo)\n",
    "\n",
    "#plt.grid()\n",
    "#plt.plot(without_generator['K << Kkr', \"f, кГц\"].to_numpy()*const.kilo,\n",
    "#         without_generator['K << Kkr', \"U, В\"].to_numpy(),\n",
    "#        label = \"K << Kkr\"\n",
    "#        )\n",
    "\n",
    "\n",
    "##Построение графиков---------------------------------------\n",
    "plt.grid()\n",
    "plot_x = np.linspace(min(without_generator['K << Kkr', \"f, кГц\"]*const.kilo),\n",
    "                     280*const.kilo,\n",
    "                     1000)\n",
    "\n",
    "plt.plot(plot_x,\n",
    "         U_less_Kkr(plot_x),\n",
    "        label = \"K << Kkr, П ={:.1F} кГц\".format(P_less_Kkr_3[2]/1e3),\n",
    "        )\n",
    "\n",
    "plt.vlines(P_less_Kkr_3[0],0,U_less_Kkr(P_less_Kkr_3[0]),\n",
    "            linestyle = '-.',\n",
    "            linewidth = 1,\n",
    "            color = 'gray')\n",
    "plt.vlines(P_less_Kkr_3[1],0,U_less_Kkr(P_less_Kkr_3[1]),\n",
    "            linestyle = '-.',\n",
    "            linewidth = 1,\n",
    "            color = 'gray')\n",
    "plt.hlines(U_less_Kkr(P_less_Kkr_3[0]),P_less_Kkr_3[0],P_less_Kkr_3[1],\n",
    "            linestyle = '-.',\n",
    "            linewidth = 1,\n",
    "            color = 'gray')\n",
    "#plt.hlines(max(without_generator['K << Kkr', \"U, В\"])/1e1,\n",
    "#          min(without_generator['K << Kkr', \"f, кГц\"]*const.kilo),\n",
    "#          max(without_generator['K << Kkr', \"f, кГц\"]*const.kilo),\n",
    "#          linestyle = '-.',\n",
    "#          linewidth = 1,\n",
    "#          color = 'gray')\n",
    "\n",
    "\n",
    "plot_x = np.linspace(220*const.kilo,\n",
    "                     280*const.kilo,\n",
    "                     1000)\n",
    "\n",
    "plt.plot(plot_x,\n",
    "         U_eq_Kkr(plot_x),\n",
    "        label = \"K = Kkr, П ={:.1F} кГц\".format(P_eq_Kkr_3[2]/1e3)\n",
    "        )\n",
    "plt.vlines(P_eq_Kkr_3[0],0,U_eq_Kkr(P_eq_Kkr_3[0]),\n",
    "            linestyle = '-.',\n",
    "            linewidth = 1,\n",
    "            color = 'gray')\n",
    "plt.vlines(P_eq_Kkr_3[1],0,U_eq_Kkr(P_eq_Kkr_3[1]),\n",
    "            linestyle = '-.',\n",
    "            linewidth = 1,\n",
    "            color = 'gray')\n",
    "plt.hlines(U_eq_Kkr(P_eq_Kkr_3[0]),P_eq_Kkr_3[0],P_eq_Kkr_3[1],\n",
    "            linestyle = '-.',\n",
    "            linewidth = 1,\n",
    "            color = 'gray')\n",
    "#plt.hlines(max(without_generator['K = Kkr', \"U, В\"])/1e1,\n",
    "#           min(without_generator['K = Kkr', \"f, кГц\"]*const.kilo),\n",
    "#           max(without_generator['K = Kkr', \"f, кГц\"]*const.kilo),\n",
    "#           linestyle = '-.',\n",
    "#           linewidth = 1,\n",
    "#           color = 'gray')\n",
    "\n",
    "\n",
    "\n",
    "plot_x = np.linspace(210*const.kilo,\n",
    "                     300*const.kilo,\n",
    "                     1000)\n",
    "\n",
    "plt.plot(plot_x,\n",
    "         U_242_Kkr(plot_x),\n",
    "        label = \"K = 2.42 Kkr, П ={:.1F} кГц\".format(P_242_Kkr_3[2]/1e3)\n",
    "        )\n",
    "plt.vlines(P_242_Kkr_3[0],0,U_242_Kkr(P_242_Kkr_3[0]),\n",
    "            linestyle = '-.',\n",
    "            linewidth = 1,\n",
    "            color = 'gray')\n",
    "plt.vlines(P_242_Kkr_3[1],0,U_242_Kkr(P_242_Kkr_3[1]),\n",
    "            linestyle = '-.',\n",
    "            linewidth = 1,\n",
    "            color = 'gray')\n",
    "plt.hlines(U_242_Kkr(P_242_Kkr_3[0]),P_242_Kkr_3[0],P_242_Kkr_3[1],\n",
    "            linestyle = '-.',\n",
    "            linewidth = 1,\n",
    "            color = 'gray')\n",
    "\n",
    "#plt.hlines(max(without_generator['K = 2.42 Kkr', \"U, В\"])/1e1,\n",
    "#           min(without_generator['K = 2.42 Kkr', \"f, кГц\"]*const.kilo),\n",
    "#           max(without_generator['K = 2.42 Kkr', \"f, кГц\"]*const.kilo),\n",
    "#           linestyle = '-.',\n",
    "#           linewidth = 1,\n",
    "#           color = 'gray')\n",
    "\n",
    "plt.legend()\n",
    "plt.title(\"АЧХ вторичного контура\")\n",
    "plt.xlabel(\"f, [Гц]\")\n",
    "plt.ylabel(\"Амплитуда, [В]\")\n",
    "plt.show()\n",
    "##Построение графиков---------------------------------------\n",
    "#print(U_less_Kkr(w_down_3))"
   ]
  },
  {
   "cell_type": "markdown",
   "metadata": {},
   "source": [
    "По графику определим значение частоты соответсвующей изменению амплитуды колебаний на 3 дБ\n",
    "<font color=\"RoyalBlue\">Сначала для случая К = 0.01Kr:</font>\n",
    "<font color=\"Black\">Переходим к вычислениям.</font>"
   ]
  },
  {
   "cell_type": "code",
   "execution_count": null,
   "metadata": {},
   "outputs": [],
   "source": [
    "import handcalcs.render"
   ]
  },
  {
   "cell_type": "code",
   "execution_count": 50,
   "metadata": {},
   "outputs": [
    {
     "data": {
      "text/latex": [
       "\\[\n",
       "\\begin{aligned}\n",
       "w_{down} &= 246508.057 \\; \\;\\textrm{(Гц)}\n",
       "\\\\[10pt]\n",
       "w_{up} &= 256561.615 \\; \\;\\textrm{(Гц)}\n",
       "\\end{aligned}\n",
       "\\]"
      ],
      "text/plain": [
       "<IPython.core.display.Latex object>"
      ]
     },
     "metadata": {},
     "output_type": "display_data"
    }
   ],
   "source": [
    "%%render\n",
    "w_down = P_less_Kkr_3[0] #Гц\n",
    "w_up = P_less_Kkr_3[1] #Гц"
   ]
  },
  {
   "cell_type": "markdown",
   "metadata": {},
   "source": [
    "Теперь получим полосу пропускания P на 3 дБ"
   ]
  },
  {
   "cell_type": "code",
   "execution_count": 55,
   "metadata": {},
   "outputs": [
    {
     "data": {
      "text/latex": [
       "\\[\n",
       "\\begin{aligned}\n",
       "P_{3} &= \\frac{ w_{up} - w_{down} }{ 1 \\times 10 ^ {3 } }  = \\frac{ 270537.659 - 224707.153 }{ 1 \\times 10 ^ {3 } } &= 45.831 \\; \\;\\textrm{(кГц)}\n",
       "\\end{aligned}\n",
       "\\]"
      ],
      "text/plain": [
       "<IPython.core.display.Latex object>"
      ]
     },
     "metadata": {},
     "output_type": "display_data"
    }
   ],
   "source": [
    "%%render\n",
    "P_3 = (w_up - w_down)/1e3 # кГц"
   ]
  },
  {
   "cell_type": "markdown",
   "metadata": {},
   "source": [
    "По графику определим значение частоты соответсвующей изменению амплитуды колебаний на 20 дБ"
   ]
  },
  {
   "cell_type": "code",
   "execution_count": 53,
   "metadata": {},
   "outputs": [
    {
     "data": {
      "text/latex": [
       "\\[\n",
       "\\begin{aligned}\n",
       "w_{down} &= 224707.153 \\; \\;\\textrm{(Гц)}\n",
       "\\\\[10pt]\n",
       "w_{up} &= 270537.659 \\; \\;\\textrm{(Гц)}\n",
       "\\end{aligned}\n",
       "\\]"
      ],
      "text/plain": [
       "<IPython.core.display.Latex object>"
      ]
     },
     "metadata": {},
     "output_type": "display_data"
    }
   ],
   "source": [
    "%%render\n",
    "w_down = P_less_Kkr_20[0] #Гц\n",
    "w_up = P_less_Kkr_20[1] #Гц"
   ]
  },
  {
   "cell_type": "markdown",
   "metadata": {},
   "source": [
    "Теперь получим полосу пропускания P на 20 дБ"
   ]
  },
  {
   "cell_type": "code",
   "execution_count": 57,
   "metadata": {},
   "outputs": [
    {
     "data": {
      "text/latex": [
       "\\[\n",
       "\\begin{aligned}\n",
       "P_{20} &= \\frac{ w_{up} - w_{down} }{ 1 \\times 10 ^ {3 } }  = \\frac{ 270537.659 - 224707.153 }{ 1 \\times 10 ^ {3 } } &= 45.831 \\; \\;\\textrm{(кГц)}\n",
       "\\end{aligned}\n",
       "\\]"
      ],
      "text/plain": [
       "<IPython.core.display.Latex object>"
      ]
     },
     "metadata": {},
     "output_type": "display_data"
    }
   ],
   "source": [
    "%%render\n",
    "P_20 = (w_up - w_down)/1e3 # кГц"
   ]
  },
  {
   "cell_type": "markdown",
   "metadata": {},
   "source": [
    "Найдем коэффициент прямоугольности, характеризующий избирательные свойства цепи.</br>"
   ]
  },
  {
   "cell_type": "code",
   "execution_count": 59,
   "metadata": {},
   "outputs": [
    {
     "data": {
      "text/latex": [
       "\\[\n",
       "\\begin{aligned}\n",
       "K &= \\frac{ P_{20} }{ P_{3} }  = \\frac{ 45.831 }{ 45.831 } &= 4.559  \n",
       "\\\\[10pt]\n",
       "K &= 4.559 \\; \\;\\textrm{(Искомый коэффициент прямоугольности)}\n",
       "\\end{aligned}\n",
       "\\]"
      ],
      "text/plain": [
       "<IPython.core.display.Latex object>"
      ]
     },
     "metadata": {},
     "output_type": "display_data"
    }
   ],
   "source": [
    "%%render\n",
    "K = (P_20)/(P_3)\n",
    "K = (P_less_Kkr_20[2])/(P_less_Kkr_3[2]) #Искомый коэффициент прямоугольности"
   ]
  },
  {
   "cell_type": "markdown",
   "metadata": {},
   "source": [
    "Повторим аналогичные действия <font color=\"Goldenrod\"> для случая К=Kr:</font>"
   ]
  },
  {
   "cell_type": "code",
   "execution_count": 65,
   "metadata": {},
   "outputs": [
    {
     "data": {
      "text/latex": [
       "\\[\n",
       "\\begin{aligned}\n",
       "w_{down} &= 243951.874 \\; \\;\\textrm{(Гц, нижшняя граница для 3 дБ)}\n",
       "\\\\[10pt]\n",
       "w_{up} &= 258445.015 \\; \\;\\textrm{(Гц, верхняя граница для 3 дБ)}\n",
       "\\\\[10pt]\n",
       "P_{3} &= \\frac{ w_{up} - w_{down} }{ 1 \\times 10 ^ {3 } }  = \\frac{ 258445.015 - 243951.874 }{ 1 \\times 10 ^ {3 } } &= 14.493 \\; \\;\\textrm{(кГц, коэфициент пропускания)}\n",
       "\\end{aligned}\n",
       "\\]"
      ],
      "text/plain": [
       "<IPython.core.display.Latex object>"
      ]
     },
     "metadata": {},
     "output_type": "display_data"
    }
   ],
   "source": [
    "%%render\n",
    "w_down = P_eq_Kkr_3[0] #Гц, нижшняя граница для 3 дБ\n",
    "w_up = P_eq_Kkr_3[1] #Гц, верхняя граница для 3 дБ\n",
    "P_3 = (w_up - w_down)/1e3 # кГц, коэфициент пропускания"
   ]
  },
  {
   "cell_type": "code",
   "execution_count": 66,
   "metadata": {},
   "outputs": [
    {
     "data": {
      "text/latex": [
       "\\[\n",
       "\\begin{aligned}\n",
       "w_{down} &= 224499.832 \\; \\;\\textrm{(Гц, нижшняя граница для 20 дБ)}\n",
       "\\\\[10pt]\n",
       "w_{up} &= 275434.86 \\; \\;\\textrm{(Гц, верхняя граница для 20 дБ)}\n",
       "\\\\[10pt]\n",
       "P_{20} &= \\frac{ w_{up} - w_{down} }{ 1 \\times 10 ^ {3 } }  = \\frac{ 275434.86 - 224499.832 }{ 1 \\times 10 ^ {3 } } &= 50.935 \\; \\;\\textrm{(кГц)}\n",
       "\\\\[10pt]\n",
       "K &= \\frac{ P_{20} }{ P_{3} }  = \\frac{ 50.935 }{ 14.493 } &= 3.514  \n",
       "\\\\[10pt]\n",
       "K &= 3.514 \\; \n",
       "\\end{aligned}\n",
       "\\]"
      ],
      "text/plain": [
       "<IPython.core.display.Latex object>"
      ]
     },
     "metadata": {},
     "output_type": "display_data"
    }
   ],
   "source": [
    "%%render\n",
    "w_down = P_eq_Kkr_20[0] #Гц, нижшняя граница для 20 дБ\n",
    "w_up = P_eq_Kkr_20[1] #Гц, верхняя граница для 20 дБ\n",
    "P_20 = (w_up - w_down)/1e3 # кГц\n",
    "K = (P_20)/(P_3)\n",
    "K = (P_eq_Kkr_20[2])/(P_eq_Kkr_3[2])"
   ]
  },
  {
   "cell_type": "markdown",
   "metadata": {},
   "source": [
    "Повторим аналогичные действия <font color=\"green\"> для случая К=2.42Kr:</font>"
   ]
  },
  {
   "cell_type": "code",
   "execution_count": 67,
   "metadata": {},
   "outputs": [
    {
     "data": {
      "text/latex": [
       "\\[\n",
       "\\begin{aligned}\n",
       "w_{down} &= 232481.598 \\; \\;\\textrm{(Гц, нижшняя граница для 3 дБ)}\n",
       "\\\\[10pt]\n",
       "w_{up} &= 271806.793 \\; \\;\\textrm{(Гц, верхняя граница для 3 дБ)}\n",
       "\\\\[10pt]\n",
       "P_{3} &= \\frac{ w_{up} - w_{down} }{ 1 \\times 10 ^ {3 } }  = \\frac{ 271806.793 - 232481.598 }{ 1 \\times 10 ^ {3 } } &= 39.325 \\; \\;\\textrm{(кГц, коэфициент пропускания)}\n",
       "\\end{aligned}\n",
       "\\]"
      ],
      "text/plain": [
       "<IPython.core.display.Latex object>"
      ]
     },
     "metadata": {},
     "output_type": "display_data"
    }
   ],
   "source": [
    "%%render\n",
    "w_down = P_242_Kkr_3[0] #Гц, нижшняя граница для 3 дБ\n",
    "w_up = P_242_Kkr_3[1] #Гц, верхняя граница для 3 дБ\n",
    "P_3 = (w_up - w_down)/1e3 # кГц, коэфициент пропускания"
   ]
  },
  {
   "cell_type": "code",
   "execution_count": 70,
   "metadata": {},
   "outputs": [
    {
     "data": {
      "text/latex": [
       "\\[\n",
       "\\begin{aligned}\n",
       "w_{down} &= 216749.989 \\; \\;\\textrm{(Гц, нижшняя граница для 20 дБ)}\n",
       "\\\\[10pt]\n",
       "w_{up} &= 291379.314 \\; \\;\\textrm{(Гц, верхняя граница для 20 дБ)}\n",
       "\\\\[10pt]\n",
       "P_{20} &= \\frac{ w_{up} - w_{down} }{ 1 \\times 10 ^ {3 } }  = \\frac{ 291379.314 - 216749.989 }{ 1 \\times 10 ^ {3 } } &= 74.629 \\; \\;\\textrm{(кГц)}\n",
       "\\\\[10pt]\n",
       "K &= \\frac{ P_{20} }{ P_{3} }  = \\frac{ 74.629 }{ 39.325 } &= 1.898  \n",
       "\\\\[10pt]\n",
       "K &= 1.898 \\; \n",
       "\\end{aligned}\n",
       "\\]"
      ],
      "text/plain": [
       "<IPython.core.display.Latex object>"
      ]
     },
     "metadata": {},
     "output_type": "display_data"
    }
   ],
   "source": [
    "%%render\n",
    "w_down = P_242_Kkr_20[0] #Гц, нижшняя граница для 20 дБ\n",
    "w_up = P_242_Kkr_20[1] #Гц, верхняя граница для 20 дБ\n",
    "P_20 = (w_up - w_down)/1e3 # кГц\n",
    "K = (P_20)/(P_3)\n",
    "K = (P_242_Kkr_20[2])/(P_242_Kkr_3[2])"
   ]
  },
  {
   "cell_type": "markdown",
   "metadata": {},
   "source": [
    "#### Вывод\n",
    "\n",
    "Полоса пропускания связанных колебательных контуров изменяется в зависимости от параметра связи.\n",
    "Если K=k*Q<<1, то полоса пропускания связанного контура уже одиночного.\n",
    "При K=1, полоса пропускания равна sqrt(2) от полосы одиночного контура.\n",
    "Если K≈2.41, то полоса, наоборот сильно шире, примерно в 3 раза.\n",
    "Форму резонансной кривой при K>Kкр, можно объяснить тем, что на каких-то частотах, отличных от резонанса, мнимые составляющие собственного и вносимого сопротивления скомпенсируются. При этом, из-за того, что сопротивление будет чисто резистивным, токи контуров достигнут максимально возможного значения. При критическом параметре связи, достигается условие передачи максимальной мощности.\n",
    "Избирательность связанных контуров лучше, чем избирательность одиночного колебательного контура. Наилучшие показатели достигаются при K=2.42Kкр, так как коэффициент прямоугольности в этом случае меньше, чем при других параметрах связи."
   ]
  },
  {
   "cell_type": "code",
   "execution_count": null,
   "metadata": {},
   "outputs": [],
   "source": []
  }
 ],
 "metadata": {
  "kernelspec": {
   "display_name": "Python 3",
   "language": "python",
   "name": "python3"
  },
  "language_info": {
   "codemirror_mode": {
    "name": "ipython",
    "version": 3
   },
   "file_extension": ".py",
   "mimetype": "text/x-python",
   "name": "python",
   "nbconvert_exporter": "python",
   "pygments_lexer": "ipython3",
   "version": "3.8.10"
  }
 },
 "nbformat": 4,
 "nbformat_minor": 4
}
